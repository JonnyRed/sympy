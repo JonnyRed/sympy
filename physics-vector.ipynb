{
 "cells": [
  {
   "cell_type": "code",
   "execution_count": 1,
   "metadata": {
    "collapsed": true,
    "jupyter": {
     "outputs_hidden": true
    }
   },
   "outputs": [],
   "source": [
    "from IPython.utils.text import columnize\n",
    "import sympy as sp\n",
    "import sympy.physics.vector as spv\n",
    "\n",
    "import IPython.display as ipd\n",
    "\n",
    "spv.init_vprinting()\n",
    "%matplotlib inline"
   ]
  },
  {
   "cell_type": "code",
   "execution_count": 2,
   "metadata": {
    "collapsed": true,
    "jupyter": {
     "outputs_hidden": true
    }
   },
   "outputs": [],
   "source": [
    "def directory(obj):\n",
    "    return [\n",
    "        str for str in dir(obj) if callable(getattr(obj, str) ) # & ~str.startswith(\"_\")\n",
    "    ]"
   ]
  },
  {
   "cell_type": "code",
   "execution_count": 3,
   "metadata": {
    "collapsed": true,
    "jupyter": {
     "outputs_hidden": true
    }
   },
   "outputs": [
    {
     "name": "stdout",
     "output_type": "stream",
     "text": [
      "Audio          JSON               Video               display_markdown      \n",
      "Code           Javascript         VimeoVideo          display_pdf           \n",
      "DisplayHandle  Latex              YouTubeVideo        display_png           \n",
      "DisplayObject  Markdown           clear_output        display_pretty        \n",
      "FileLink       Math               display             display_svg           \n",
      "FileLinks      Pretty             display_html        publish_display_data  \n",
      "GeoJSON        ProgressBar        display_javascript  set_matplotlib_close  \n",
      "HTML           SVG                display_jpeg        set_matplotlib_formats\n",
      "IFrame         ScribdDocument     display_json        update_display        \n",
      "Image          TextDisplayObject  display_latex     \n",
      "\n"
     ]
    }
   ],
   "source": [
    "print(columnize(directory(ipd)))"
   ]
  },
  {
   "cell_type": "code",
   "execution_count": 4,
   "metadata": {
    "collapsed": true,
    "jupyter": {
     "outputs_hidden": true
    }
   },
   "outputs": [
    {
     "name": "stdout",
     "output_type": "stream",
     "text": [
      "Catalan           Naturals            __dir__            __ne__             \n",
      "ComplexInfinity   Naturals0           __doc__            __new__            \n",
      "Complexes         NegativeInfinity    __eq__             __reduce__         \n",
      "EmptySequence     NegativeOne         __format__         __reduce_ex__      \n",
      "EmptySet          One                 __ge__             __repr__           \n",
      "EulerGamma        Pi                  __getattr__        __setattr__        \n",
      "Exp1              Rationals           __getattribute__   __sizeof__         \n",
      "GoldenRatio       Reals               __gt__             __slots__          \n",
      "Half              TribonacciConstant  __hash__           __str__            \n",
      "IdentityFunction  UniversalSet        __init__           __subclasshook__   \n",
      "ImaginaryUnit     Zero                __init_subclass__  _classes_to_install\n",
      "Infinity          __call__            __le__             false              \n",
      "Integers          __class__           __lt__             register           \n",
      "NaN               __delattr__         __module__         true               \n",
      "\n"
     ]
    }
   ],
   "source": [
    "print(columnize(dir(sp.S)))"
   ]
  },
  {
   "cell_type": "code",
   "execution_count": 5,
   "metadata": {},
   "outputs": [],
   "source": [
    "HALF = sp.S.Half\n",
    "PI = sp.pi\n",
    "E = sp.exp\n",
    "POSITIVEINFINITY = sp.S.Infinity"
   ]
  },
  {
   "cell_type": "markdown",
   "metadata": {},
   "source": [
    "# Support Functions"
   ]
  },
  {
   "cell_type": "code",
   "execution_count": 6,
   "metadata": {},
   "outputs": [],
   "source": [
    "def reference_frame(\n",
    "    frame: str, x=r\"\\imath\", y=r\"\\jmath\", z=r\"\\mathbf k\"\n",
    ") -> spv.ReferenceFrame:\n",
    "    return spv.ReferenceFrame(\n",
    "        frame,\n",
    "        latexs=(\n",
    "            rf\"\\; {{}}^\\mathcal {frame} \\hat {x}\",\n",
    "            rf\"\\;{{}}^\\mathcal {frame} \\hat {y}\",\n",
    "            rf\"\\: {{}}^\\mathcal {frame} \\hat {{z}}\",\n",
    "        ),\n",
    "    )\n",
    "\n",
    "\n",
    "def RAOreference_frame(frame: str, x=r\"e_1\", y=\"e_2\", z=r\"e_3\") -> spv.ReferenceFrame:\n",
    "    return spv.ReferenceFrame(\n",
    "        frame,\n",
    "        latexs=(\n",
    "            rf\"\\; {{}}^{frame} \\hat {x}\",\n",
    "            rf\"\\;{{}}^{frame} \\hat {y}\",\n",
    "            rf\"\\: {{}}^{frame} \\hat {z}\",\n",
    "        ),\n",
    "    )\n",
    "\n",
    "\n",
    "def vector(F: spv.ReferenceFrame, rx, ry, rz=0) -> spv.Vector:\n",
    "    return rx * F.x + ry * F.y + rz * F.z\n",
    "\n",
    "\n",
    "def vector_cos(\n",
    "    F: spv.ReferenceFrame, magnitude, angle_x, angle_y, angle_z=sp.pi / 2\n",
    ") -> spv.Vector:\n",
    "    return magnitude * (\n",
    "        sp.cos(angle_x) * F.x + sp.cos(angle_y) * F.y + sp.cos(angle_z) * F.z\n",
    "    )\n",
    "\n",
    "\n",
    "def vector_line(start: spv.Vector, finish: spv.Vector) -> spv.Vector:\n",
    "    return finish - start\n",
    "\n",
    "\n",
    "def vector_line_eqn(\n",
    "    F: spv.ReferenceFrame, start: spv.Vector, finish: spv.Vector, kappa\n",
    ") -> spv.Vector:\n",
    "    return start + vector_line(start, finish).normalize() * kappa\n",
    "\n",
    "\n",
    "def angle_between_vectors(a: spv.Vector, b: spv.Vector):\n",
    "    return sp.acos(a.dot(b) / a.magnitude() / b.magnitude())\n",
    "\n",
    "\n",
    "def make_2D_symbols(symbol_list):\n",
    "    return [sp.symbols(f\"{ch}_x:y\", real=True) for ch in symbol_list]\n",
    "\n",
    "\n",
    "F, E = make_2D_symbols([\"F\", \"E\"])\n",
    "assert str(F) == \"(F_x, F_y)\"\n",
    "assert str(E) == \"(E_x, E_y)\""
   ]
  },
  {
   "cell_type": "code",
   "execution_count": 7,
   "metadata": {},
   "outputs": [
    {
     "data": {
      "image/png": "[encoded data removed]",
      "text/latex": [
       "$\\displaystyle \\left( \\; {}^E \\hat E_1, \\  \\;{}^E \\hat E_2, \\  \\: {}^E \\hat E_3\\right)$"
      ],
      "text/plain": [
       "(e_x, e_y, e_z)"
      ]
     },
     "execution_count": 7,
     "metadata": {},
     "output_type": "execute_result"
    }
   ],
   "source": [
    "E = RAOreference_frame(\"E\", \"E_1\", \"E_2\", \"E_3\")\n",
    "E.x, E.y, E.z"
   ]
  },
  {
   "cell_type": "code",
   "execution_count": 8,
   "metadata": {},
   "outputs": [
    {
     "data": {
      "image/png": "[encoded data removed]",
      "text/latex": [
       "$\\displaystyle \\left( \\; {}^A \\hat e_1, \\  \\;{}^A \\hat e_2, \\  \\: {}^A \\hat e_3\\right)$"
      ],
      "text/plain": [
       "(a_x, a_y, a_z)"
      ]
     },
     "execution_count": 8,
     "metadata": {},
     "output_type": "execute_result"
    }
   ],
   "source": [
    "A = RAOreference_frame(\"A\")\n",
    "\n",
    "A.x, A.y, A.z"
   ]
  },
  {
   "cell_type": "code",
   "execution_count": 9,
   "metadata": {},
   "outputs": [
    {
     "data": {
      "image/png": "[encoded data removed]",
      "text/latex": [
       "$\\displaystyle \\left( c_{{1}{1}}, \\  c_{{1}{2}}, \\  c_{{1}{3}}, \\  c_{{2}{1}}, \\  c_{{2}{2}}, \\  c_{{2}{3}}, \\  c_{{3}{1}}, \\  c_{{3}{2}}, \\  c_{{3}{3}}\\right)$"
      ],
      "text/plain": [
       "(c_{{1}{1}}, c_{{1}{2}}, c_{{1}{3}}, c_{{2}{1}}, c_{{2}{2}}, c_{{2}{3}}, c_{{3\n",
       "}{1}}, c_{{3}{2}}, c_{{3}{3}})"
      ]
     },
     "execution_count": 9,
     "metadata": {},
     "output_type": "execute_result"
    }
   ],
   "source": [
    "c = sp.symbols(\"c_{{1:4}{1:4}}\")\n",
    "c"
   ]
  },
  {
   "attachments": {},
   "cell_type": "markdown",
   "metadata": {},
   "source": [
    "# DCM\n",
    "The orientation of a specific frame relative to its parent"
   ]
  },
  {
   "cell_type": "code",
   "execution_count": 10,
   "metadata": {},
   "outputs": [
    {
     "data": {
      "text/latex": [
       "$\\displaystyle \\left[\\begin{matrix}c_{{1}{1}} & c_{{1}{2}} & c_{{1}{3}}\\\\c_{{2}{1}} & c_{{2}{2}} & c_{{2}{3}}\\\\c_{{3}{1}} & c_{{3}{2}} & c_{{3}{3}}\\end{matrix}\\right]$"
      ],
      "text/plain": [
       "⎡c_{{1}{1}}  c_{{1}{2}}  c_{{1}{3}}⎤\n",
       "⎢                                  ⎥\n",
       "⎢c_{{2}{1}}  c_{{2}{2}}  c_{{2}{3}}⎥\n",
       "⎢                                  ⎥\n",
       "⎣c_{{3}{1}}  c_{{3}{2}}  c_{{3}{3}}⎦"
      ]
     },
     "execution_count": 10,
     "metadata": {},
     "output_type": "execute_result"
    }
   ],
   "source": [
    "A_DCM_E = sp.Matrix(3, 3, c)\n",
    "A_DCM_E"
   ]
  },
  {
   "attachments": {},
   "cell_type": "markdown",
   "metadata": {},
   "source": [
    "__Orient Explicit__\n",
    "\n",
    "Sets the orientation of this reference frame relative to a \n",
    "parent reference frame by explicitly setting the direction \n",
    "cosine matrix."
   ]
  },
  {
   "cell_type": "code",
   "execution_count": 11,
   "metadata": {},
   "outputs": [],
   "source": [
    "A.orient_explicit(E, A_DCM_E)"
   ]
  },
  {
   "attachments": {},
   "cell_type": "markdown",
   "metadata": {},
   "source": [
    "__Returns the direction cosine matrix__\n",
    "\n",
    "The returned A matrix can be used A to express the orthogonal unit vectors \n",
    "of this frame in terms of the orthogonal unit vectors of otherframe.\n",
    "\n",
    "Notice that for ${}^{\\mathcal E} \\mathbf {e}_2$ is represents in the second row of E.dcm(A)"
   ]
  },
  {
   "cell_type": "code",
   "execution_count": 12,
   "metadata": {},
   "outputs": [
    {
     "data": {
      "text/latex": [
       "$\\displaystyle \\left( \\left[\\begin{matrix}c_{{1}{1}} & c_{{1}{2}} & c_{{1}{3}}\\\\c_{{2}{1}} & c_{{2}{2}} & c_{{2}{3}}\\\\c_{{3}{1}} & c_{{3}{2}} & c_{{3}{3}}\\end{matrix}\\right], \\  c_{{2}{1}}\\; {}^A \\hat e_1 + c_{{2}{2}}\\;{}^A \\hat e_2 + c_{{2}{3}}\\: {}^A \\hat e_3\\right)$"
      ],
      "text/plain": [
       "⎛⎡c_{{1}{1}}  c_{{1}{2}}  c_{{1}{3}}⎤, c_{{2}{1}} a_x + c_{{2}{2}} a_y + c_{{2\n",
       "⎜⎢                                  ⎥                                         \n",
       "⎜⎢c_{{2}{1}}  c_{{2}{2}}  c_{{2}{3}}⎥                                         \n",
       "⎜⎢                                  ⎥                                         \n",
       "⎝⎣c_{{3}{1}}  c_{{3}{2}}  c_{{3}{3}}⎦                                         \n",
       "\n",
       "}{3}} a_z⎞\n",
       "         ⎟\n",
       "         ⎟\n",
       "         ⎟\n",
       "         ⎠"
      ]
     },
     "execution_count": 12,
     "metadata": {},
     "output_type": "execute_result"
    }
   ],
   "source": [
    "E.dcm(A), E.y.express(A)"
   ]
  },
  {
   "cell_type": "code",
   "execution_count": 13,
   "metadata": {},
   "outputs": [
    {
     "data": {
      "image/png": "[encoded data removed]",
      "text/latex": [
       "$\\displaystyle \\left( \\left( a_{1}, \\  a_{2}, \\  a_{3}\\right), \\  \\left( b_{1}, \\  b_{2}, \\  b_{3}\\right)\\right)$"
      ],
      "text/plain": [
       "((a₁, a₂, a₃), (b₁, b₂, b₃))"
      ]
     },
     "execution_count": 13,
     "metadata": {},
     "output_type": "execute_result"
    }
   ],
   "source": [
    "a, b = [sp.symbols(f\"{ch}_1:4\") for ch in [\"a\", \"b\"]]\n",
    "a, b"
   ]
  },
  {
   "cell_type": "code",
   "execution_count": 14,
   "metadata": {},
   "outputs": [
    {
     "data": {
      "text/latex": [
       "$\\displaystyle \\left[\\begin{matrix}c_{{1}{1}} & c_{{1}{2}} & c_{{1}{3}}\\\\c_{{2}{1}} & c_{{2}{2}} & c_{{2}{3}}\\\\c_{{3}{1}} & c_{{3}{2}} & c_{{3}{3}}\\end{matrix}\\right]$"
      ],
      "text/plain": [
       "⎡c_{{1}{1}}  c_{{1}{2}}  c_{{1}{3}}⎤\n",
       "⎢                                  ⎥\n",
       "⎢c_{{2}{1}}  c_{{2}{2}}  c_{{2}{3}}⎥\n",
       "⎢                                  ⎥\n",
       "⎣c_{{3}{1}}  c_{{3}{2}}  c_{{3}{3}}⎦"
      ]
     },
     "execution_count": 14,
     "metadata": {},
     "output_type": "execute_result"
    }
   ],
   "source": [
    "E.dcm(A)  # represent E unit in term of A"
   ]
  },
  {
   "cell_type": "code",
   "execution_count": 15,
   "metadata": {},
   "outputs": [
    {
     "data": {
      "text/latex": [
       "$\\displaystyle \\left[\\begin{matrix}a_{1} c_{{1}{1}} + a_{2} c_{{1}{2}} + a_{3} c_{{1}{3}}\\\\a_{1} c_{{2}{1}} + a_{2} c_{{2}{2}} + a_{3} c_{{2}{3}}\\\\a_{1} c_{{3}{1}} + a_{2} c_{{3}{2}} + a_{3} c_{{3}{3}}\\end{matrix}\\right]$"
      ],
      "text/plain": [
       "⎡a₁⋅c_{{1}{1}} + a₂⋅c_{{1}{2}} + a₃⋅c_{{1}{3}}⎤\n",
       "⎢                                             ⎥\n",
       "⎢a₁⋅c_{{2}{1}} + a₂⋅c_{{2}{2}} + a₃⋅c_{{2}{3}}⎥\n",
       "⎢                                             ⎥\n",
       "⎣a₁⋅c_{{3}{1}} + a₂⋅c_{{3}{2}} + a₃⋅c_{{3}{3}}⎦"
      ]
     },
     "execution_count": 15,
     "metadata": {},
     "output_type": "execute_result"
    }
   ],
   "source": [
    "E.dcm(A) * sp.Matrix(3, 1, a)"
   ]
  },
  {
   "cell_type": "code",
   "execution_count": 16,
   "metadata": {},
   "outputs": [
    {
     "data": {
      "image/png": "[encoded data removed]",
      "text/latex": [
       "$\\displaystyle (a_{1} c_{{1}{1}} + a_{2} c_{{1}{2}} + a_{3} c_{{1}{3}})\\; {}^E \\hat E_1 + (a_{1} c_{{2}{1}} + a_{2} c_{{2}{2}} + a_{3} c_{{2}{3}})\\;{}^E \\hat E_2 + (a_{1} c_{{3}{1}} + a_{2} c_{{3}{2}} + a_{3} c_{{3}{3}})\\: {}^E \\hat E_3$"
      ],
      "text/plain": [
       "(a₁⋅c_{{1}{1}} + a₂⋅c_{{1}{2}} + a₃⋅c_{{1}{3}}) e_x + (a₁⋅c_{{2}{1}} + a₂⋅c_{{\n",
       "2}{2}} + a₃⋅c_{{2}{3}}) e_y + (a₁⋅c_{{3}{1}} + a₂⋅c_{{3}{2}} + a₃⋅c_{{3}{3}})\n",
       "e_z"
      ]
     },
     "execution_count": 16,
     "metadata": {},
     "output_type": "execute_result"
    }
   ],
   "source": [
    "(a[0] * A.x + a[1] * A.y + a[2] * A.z).express(E)"
   ]
  },
  {
   "attachments": {},
   "cell_type": "markdown",
   "metadata": {},
   "source": [
    "# Frame differentiation DCM\n",
    "\n",
    "![](./images/Example02-01.png)"
   ]
  },
  {
   "cell_type": "code",
   "execution_count": 17,
   "metadata": {},
   "outputs": [],
   "source": [
    "R, omega, t = sp.symbols(\"R, omega, t\", real=True, positive=True)\n",
    "F = RAOreference_frame(\"F\")\n",
    "A = RAOreference_frame(\"A\")\n",
    "A.orient_axis(F, F.z, omega * t)\n",
    "vecR_in_A = R * A.x"
   ]
  },
  {
   "cell_type": "code",
   "execution_count": 18,
   "metadata": {},
   "outputs": [
    {
     "data": {
      "image/png": "[encoded data removed]",
      "text/latex": [
       "$\\displaystyle \\left( -  R \\omega \\sin{\\left(\\omega t \\right)}\\; {}^F \\hat e_1 + R \\omega \\cos{\\left(\\omega t \\right)}\\;{}^F \\hat e_2, \\  0\\right)$"
      ],
      "text/plain": [
       "(-R⋅ω⋅sin(ω⋅t) f_x + R⋅ω⋅cos(ω⋅t) f_y, 0)"
      ]
     },
     "execution_count": 18,
     "metadata": {},
     "output_type": "execute_result"
    }
   ],
   "source": [
    "vecR_in_A.diff(t, F).express(F).simplify(), vecR_in_A.diff(t, A)"
   ]
  },
  {
   "attachments": {},
   "cell_type": "markdown",
   "metadata": {},
   "source": [
    "## Unit vectors in another frame\n",
    "\n",
    "The following __rows__ gives the unit vectors of $\\mathcal A$ expressed in\n",
    "$\\mathcal F$."
   ]
  },
  {
   "cell_type": "code",
   "execution_count": 19,
   "metadata": {},
   "outputs": [
    {
     "data": {
      "text/latex": [
       "$\\displaystyle \\left[\\begin{matrix}\\cos{\\left(\\omega t \\right)} & \\sin{\\left(\\omega t \\right)} & 0\\\\- \\sin{\\left(\\omega t \\right)} & \\cos{\\left(\\omega t \\right)} & 0\\\\0 & 0 & 1\\end{matrix}\\right]$"
      ],
      "text/plain": [
       "⎡cos(ω⋅t)   sin(ω⋅t)  0⎤\n",
       "⎢                      ⎥\n",
       "⎢-sin(ω⋅t)  cos(ω⋅t)  0⎥\n",
       "⎢                      ⎥\n",
       "⎣    0         0      1⎦"
      ]
     },
     "execution_count": 19,
     "metadata": {},
     "output_type": "execute_result"
    }
   ],
   "source": [
    "A.dcm(F)"
   ]
  },
  {
   "cell_type": "code",
   "execution_count": 20,
   "metadata": {},
   "outputs": [
    {
     "data": {
      "image/png": "[encoded data removed]",
      "text/latex": [
       "$\\displaystyle \\left\\{ A_{x} : F_{x} \\cos{\\left(\\omega t \\right)} + F_{y} \\sin{\\left(\\omega t \\right)}, \\  A_{y} : - F_{x} \\sin{\\left(\\omega t \\right)} + F_{y} \\cos{\\left(\\omega t \\right)}, \\  A_{z} : F_{z}\\right\\}$"
      ],
      "text/plain": [
       "{Aₓ: Fₓ⋅cos(ω⋅t) + F_y⋅sin(ω⋅t), A_y: -Fₓ⋅sin(ω⋅t) + F_y⋅cos(ω⋅t), A_z: F_z}"
      ]
     },
     "execution_count": 20,
     "metadata": {},
     "output_type": "execute_result"
    }
   ],
   "source": [
    "A.variable_map(F)"
   ]
  },
  {
   "cell_type": "code",
   "execution_count": 21,
   "metadata": {},
   "outputs": [
    {
     "data": {
      "text/latex": [
       "$\\displaystyle \\left( R \\cos{\\left(\\omega t \\right)}\\; {}^F \\hat e_1 + R \\sin{\\left(\\omega t \\right)}\\;{}^F \\hat e_2, \\  \\left[\\begin{matrix}R \\cos{\\left(\\omega t \\right)}\\\\- R \\sin{\\left(\\omega t \\right)}\\\\0\\end{matrix}\\right]\\right)$"
      ],
      "text/plain": [
       "⎛R⋅cos(ω⋅t) f_x + R⋅sin(ω⋅t) f_y, ⎡R⋅cos(ω⋅t) ⎤⎞\n",
       "⎜                                 ⎢           ⎥⎟\n",
       "⎜                                 ⎢-R⋅sin(ω⋅t)⎥⎟\n",
       "⎜                                 ⎢           ⎥⎟\n",
       "⎝                                 ⎣     0     ⎦⎠"
      ]
     },
     "execution_count": 21,
     "metadata": {},
     "output_type": "execute_result"
    }
   ],
   "source": [
    "vecR_in_A.express(F), (A.dcm(F)) * sp.Matrix([R, 0, 0])"
   ]
  },
  {
   "attachments": {},
   "cell_type": "markdown",
   "metadata": {},
   "source": [
    "# Dynamic variables\n",
    "\n",
    "![](./images/Example02-02.jpg/)"
   ]
  },
  {
   "attachments": {},
   "cell_type": "markdown",
   "metadata": {},
   "source": [
    "__With dynamic symbols__"
   ]
  },
  {
   "cell_type": "code",
   "execution_count": 22,
   "metadata": {},
   "outputs": [
    {
     "data": {
      "image/png": "[encoded data removed]",
      "text/latex": [
       "$\\displaystyle \\dot{\\theta}$"
      ],
      "text/plain": [
       "θ̇"
      ]
     },
     "execution_count": 22,
     "metadata": {},
     "output_type": "execute_result"
    }
   ],
   "source": [
    "omega, t = sp.symbols(\"Omega t\", real=True, positive=True)\n",
    "x, y, theta = spv.dynamicsymbols(\"x, y, theta\", level=0)\n",
    "theta.diff()"
   ]
  },
  {
   "cell_type": "code",
   "execution_count": 23,
   "metadata": {},
   "outputs": [],
   "source": [
    "F = RAOreference_frame(\"F\", x=r\"E_x\", y=r\"E_y\", z=r\"E_z\")\n",
    "A = RAOreference_frame(\"A\", x=r\"e_x\", y=r\"e_y\", z=r\"e_z\")\n",
    "A.orient_axis(F, F.z, theta)"
   ]
  },
  {
   "cell_type": "code",
   "execution_count": 24,
   "metadata": {},
   "outputs": [],
   "source": [
    "vecP = x * A.x + y * A.y\n",
    "dvecP_A, dvecP_F = vecP.dt(A), vecP.dt(F)\n",
    "ddvecP_A, ddvecP_F = (dvecP_A.diff(sp.Symbol(\"t\"), A), dvecP_F.diff(sp.Symbol(\"t\"), F))\n"
   ]
  },
  {
   "cell_type": "code",
   "execution_count": 25,
   "metadata": {},
   "outputs": [
    {
     "data": {
      "image/png": "[encoded data removed]",
      "text/latex": [
       "$\\displaystyle (- \\Omega y + \\dot{x})\\; {}^A \\hat e_x + (\\Omega x + \\dot{y})\\;{}^A \\hat e_y$"
      ],
      "text/plain": [
       "(-Ω⋅y + ẋ) a_x + (Ω⋅x + ẏ) a_y"
      ]
     },
     "execution_count": 25,
     "metadata": {},
     "output_type": "execute_result"
    }
   ],
   "source": [
    "dvecP_F.subs(theta.diff(), omega)"
   ]
  },
  {
   "cell_type": "code",
   "execution_count": 26,
   "metadata": {},
   "outputs": [
    {
     "data": {
      "image/png": "[encoded data removed]",
      "text/latex": [
       "$\\displaystyle (- \\Omega \\left(\\Omega x + \\dot{y}\\right) \\cos{\\left(\\theta \\right)} + \\Omega \\left(\\Omega y - \\dot{x}\\right) \\sin{\\left(\\theta \\right)} - \\left(\\Omega \\dot{x} + \\ddot{y}\\right) \\sin{\\left(\\theta \\right)} - \\left(\\Omega \\dot{y} - \\ddot{x}\\right) \\cos{\\left(\\theta \\right)})\\; {}^F \\hat E_x + (- \\Omega \\left(\\Omega x + \\dot{y}\\right) \\sin{\\left(\\theta \\right)} - \\Omega \\left(\\Omega y - \\dot{x}\\right) \\cos{\\left(\\theta \\right)} + \\left(\\Omega \\dot{x} + \\ddot{y}\\right) \\cos{\\left(\\theta \\right)} - \\left(\\Omega \\dot{y} - \\ddot{x}\\right) \\sin{\\left(\\theta \\right)})\\;{}^F \\hat E_y$"
      ],
      "text/plain": [
       "(-Ω⋅(Ω⋅x + ẏ)⋅cos(θ) + Ω⋅(Ω⋅y - ẋ)⋅sin(θ) - (Ω⋅ẋ + ÿ)⋅sin(θ) - (Ω⋅ẏ - ẍ)\n",
       "⋅cos(θ)) f_x + (-Ω⋅(Ω⋅x + ẏ)⋅sin(θ) - Ω⋅(Ω⋅y - ẋ)⋅cos(θ) + (Ω⋅ẋ + ÿ)⋅cos(θ\n",
       ") - (Ω⋅ẏ - ẍ)⋅sin(θ)) f_y"
      ]
     },
     "execution_count": 26,
     "metadata": {},
     "output_type": "execute_result"
    }
   ],
   "source": [
    "(ddvecP_F.subs(theta.diff().diff(), 0).subs(theta.diff(), omega).simplify())"
   ]
  },
  {
   "cell_type": "code",
   "execution_count": 27,
   "metadata": {},
   "outputs": [
    {
     "data": {
      "image/png": "[encoded data removed]",
      "text/latex": [
       "$\\displaystyle \\left( x, \\  y, \\  \\theta, \\  \\dot{\\theta}\\right)$"
      ],
      "text/plain": [
       "(x, y, θ, θ̇)"
      ]
     },
     "execution_count": 27,
     "metadata": {},
     "output_type": "execute_result"
    }
   ],
   "source": [
    "t = sp.symbols(\"Omega t\", real=True, positive=True)\n",
    "x, y, theta = spv.dynamicsymbols(\"x, y, theta\", level=0)\n",
    "Omega = theta.diff()\n",
    "x, y, theta, Omega"
   ]
  },
  {
   "cell_type": "code",
   "execution_count": 28,
   "metadata": {},
   "outputs": [],
   "source": [
    "F = RAOreference_frame(\"F\", x=r\"E_x\", y=r\"E_y\", z=r\"E_z\")\n",
    "A = RAOreference_frame(\"A\", x=r\"e_x\", y=r\"e_y\", z=r\"e_z\")\n",
    "A.orient_axis(F, F.z, theta)"
   ]
  },
  {
   "cell_type": "code",
   "execution_count": 29,
   "metadata": {},
   "outputs": [
    {
     "data": {
      "image/png": "[encoded data removed]",
      "text/latex": [
       "$\\displaystyle \\left( \\dot{x}\\; {}^A \\hat e_x + \\dot{y}\\;{}^A \\hat e_y, \\  (- y \\dot{\\theta} + \\dot{x})\\; {}^A \\hat e_x + (x \\dot{\\theta} + \\dot{y})\\;{}^A \\hat e_y, \\  (- \\Omega y + \\dot{x})\\; {}^A \\hat e_x + (\\Omega x + \\dot{y})\\;{}^A \\hat e_y\\right)$"
      ],
      "text/plain": [
       "(ẋ a_x + ẏ a_y, (-y⋅θ̇ + ẋ) a_x + (x⋅θ̇ + ẏ) a_y, (-Ω⋅y + ẋ) a_x + (Ω⋅x +\n",
       " ẏ) a_y)"
      ]
     },
     "execution_count": 29,
     "metadata": {},
     "output_type": "execute_result"
    }
   ],
   "source": [
    "vecP = x * A.x + y * A.y\n",
    "vecP.dt(A), vecP.dt(F), vecP.dt(F).subs(theta.diff(), omega)"
   ]
  },
  {
   "cell_type": "code",
   "execution_count": 30,
   "metadata": {},
   "outputs": [
    {
     "data": {
      "image/png": "[encoded data removed]",
      "text/latex": [
       "$\\displaystyle (- \\Omega^{2} x \\cos{\\left(\\theta \\right)} + \\Omega^{2} y \\sin{\\left(\\theta \\right)} - 2 \\Omega \\sin{\\left(\\theta \\right)} \\dot{x} - 2 \\Omega \\cos{\\left(\\theta \\right)} \\dot{y} - \\sin{\\left(\\theta \\right)} \\ddot{y} + \\cos{\\left(\\theta \\right)} \\ddot{x})\\; {}^F \\hat E_x + (- \\Omega^{2} x \\sin{\\left(\\theta \\right)} - \\Omega^{2} y \\cos{\\left(\\theta \\right)} - 2 \\Omega \\sin{\\left(\\theta \\right)} \\dot{y} + 2 \\Omega \\cos{\\left(\\theta \\right)} \\dot{x} + \\sin{\\left(\\theta \\right)} \\ddot{x} + \\cos{\\left(\\theta \\right)} \\ddot{y})\\;{}^F \\hat E_y$"
      ],
      "text/plain": [
       "⎛   2             2\n",
       "⎝- Ω ⋅x⋅cos(θ) + Ω ⋅y⋅sin(θ) - 2⋅Ω⋅sin(θ)⋅ẋ - 2⋅Ω⋅cos(θ)⋅ẏ - sin(θ)⋅ÿ + cos\n",
       "\n",
       "  ⎞       ⎛   2             2\n",
       "(θ)⋅ẍ⎠ f_x + ⎝- Ω ⋅x⋅sin(θ) - Ω ⋅y⋅cos(θ) - 2⋅Ω⋅sin(θ)⋅ẏ + 2⋅Ω⋅cos(θ)⋅ẋ + s\n",
       "\n",
       "            ⎞\n",
       "in(θ)⋅ẍ + cos(θ)⋅ÿ⎠ f_y"
      ]
     },
     "execution_count": 30,
     "metadata": {},
     "output_type": "execute_result"
    }
   ],
   "source": [
    "dvecP = vecP.diff(sp.symbols(\"t\"), F) \n",
    "ddvecP = dvecP.diff(sp.symbols(\"t\"), F) \n",
    "(\n",
    "    ddvecP.subs(theta.diff().diff(), 0)\n",
    "    .subs(theta.diff(), omega)\n",
    "    .simplify()\n",
    ")"
   ]
  },
  {
   "cell_type": "code",
   "execution_count": 31,
   "metadata": {},
   "outputs": [],
   "source": [
    "F = RAOreference_frame(\"F\", x=r\"E_x\", y=r\"E_y\", z=r\"E_z\")\n",
    "A = RAOreference_frame(\"A\", x=r\"e_x\", y=r\"e_y\", z=r\"e_z\")\n",
    "A.orient_axis(F, F.z, theta)"
   ]
  },
  {
   "cell_type": "code",
   "execution_count": 32,
   "metadata": {},
   "outputs": [
    {
     "data": {
      "image/png": "[encoded data removed]",
      "text/latex": [
       "$\\displaystyle (- \\Omega x \\sin{\\left(\\theta \\right)} - \\Omega y \\cos{\\left(\\theta \\right)} - \\sin{\\left(\\theta \\right)} \\dot{y} + \\cos{\\left(\\theta \\right)} \\dot{x})\\; {}^F \\hat E_x + (\\Omega x \\cos{\\left(\\theta \\right)} - \\Omega y \\sin{\\left(\\theta \\right)} + \\sin{\\left(\\theta \\right)} \\dot{x} + \\cos{\\left(\\theta \\right)} \\dot{y})\\;{}^F \\hat E_y$"
      ],
      "text/plain": [
       "(-Ω⋅x⋅sin(θ) - Ω⋅y⋅cos(θ) - sin(θ)⋅ẏ + cos(θ)⋅ẋ) f_x + (Ω⋅x⋅cos(θ) - Ω⋅y⋅sin\n",
       "(θ) + sin(θ)⋅ẋ + cos(θ)⋅ẏ) f_y"
      ]
     },
     "execution_count": 32,
     "metadata": {},
     "output_type": "execute_result"
    }
   ],
   "source": [
    "vecP = x * A.x + y * A.y\n",
    "dvecP = vecP.diff(sp.Symbol(\"t\"), F) \n",
    "ddvecP = dvecP.diff(sp.Symbol(\"t\"), F)\n",
    "dvecP.subs(theta.diff(), omega)"
   ]
  },
  {
   "cell_type": "code",
   "execution_count": 33,
   "metadata": {},
   "outputs": [
    {
     "data": {
      "image/png": "[encoded data removed]",
      "text/latex": [
       "$\\displaystyle (- \\Omega^{2} x \\cos{\\left(\\theta \\right)} + \\Omega^{2} y \\sin{\\left(\\theta \\right)} - 2 \\Omega \\sin{\\left(\\theta \\right)} \\dot{x} - 2 \\Omega \\cos{\\left(\\theta \\right)} \\dot{y} - \\sin{\\left(\\theta \\right)} \\ddot{y} + \\cos{\\left(\\theta \\right)} \\ddot{x})\\; {}^F \\hat E_x + (- \\Omega^{2} x \\sin{\\left(\\theta \\right)} - \\Omega^{2} y \\cos{\\left(\\theta \\right)} - 2 \\Omega \\sin{\\left(\\theta \\right)} \\dot{y} + 2 \\Omega \\cos{\\left(\\theta \\right)} \\dot{x} + \\sin{\\left(\\theta \\right)} \\ddot{x} + \\cos{\\left(\\theta \\right)} \\ddot{y})\\;{}^F \\hat E_y$"
      ],
      "text/plain": [
       "⎛   2             2\n",
       "⎝- Ω ⋅x⋅cos(θ) + Ω ⋅y⋅sin(θ) - 2⋅Ω⋅sin(θ)⋅ẋ - 2⋅Ω⋅cos(θ)⋅ẏ - sin(θ)⋅ÿ + cos\n",
       "\n",
       "  ⎞       ⎛   2             2\n",
       "(θ)⋅ẍ⎠ f_x + ⎝- Ω ⋅x⋅sin(θ) - Ω ⋅y⋅cos(θ) - 2⋅Ω⋅sin(θ)⋅ẏ + 2⋅Ω⋅cos(θ)⋅ẋ + s\n",
       "\n",
       "            ⎞\n",
       "in(θ)⋅ẍ + cos(θ)⋅ÿ⎠ f_y"
      ]
     },
     "execution_count": 33,
     "metadata": {},
     "output_type": "execute_result"
    }
   ],
   "source": [
    "(ddvecP.subs(theta.diff().diff(), 0).subs(theta.diff(), omega).simplify())"
   ]
  },
  {
   "attachments": {},
   "cell_type": "markdown",
   "metadata": {},
   "source": [
    "__With Functions of time__"
   ]
  },
  {
   "cell_type": "code",
   "execution_count": 34,
   "metadata": {},
   "outputs": [
    {
     "data": {
      "text/plain": [
       "(x, y, theta, x(t), y(t), theta(t))"
      ]
     },
     "execution_count": 34,
     "metadata": {},
     "output_type": "execute_result"
    }
   ],
   "source": [
    "omega, t = sp.symbols(\"Omega t\", real=True, positive=True)\n",
    "x, y, theta = sp.symbols(\"x, y, theta\", cls=sp.Function)\n",
    "x, y, theta, x(t), y(t), theta(t)"
   ]
  },
  {
   "cell_type": "code",
   "execution_count": 35,
   "metadata": {},
   "outputs": [],
   "source": [
    "F = RAOreference_frame(\"F\", x=r\"E_x\", y=r\"E_y\", z=r\"E_z\")\n",
    "A = RAOreference_frame(\"A\", x=r\"e_x\", y=r\"e_y\", z=r\"e_z\")\n",
    "A.orient_axis(F, F.z, theta(t))"
   ]
  },
  {
   "cell_type": "code",
   "execution_count": 36,
   "metadata": {},
   "outputs": [
    {
     "data": {
      "image/png": "[encoded data removed]",
      "text/latex": [
       "$\\displaystyle x{\\left(t \\right)}\\; {}^A \\hat e_x + y{\\left(t \\right)}\\;{}^A \\hat e_y$"
      ],
      "text/plain": [
       "x(t) a_x + y(t) a_y"
      ]
     },
     "execution_count": 36,
     "metadata": {},
     "output_type": "execute_result"
    }
   ],
   "source": [
    "vecP = x(t) * A.x + y(t) * A.y\n",
    "vecP"
   ]
  },
  {
   "cell_type": "code",
   "execution_count": 37,
   "metadata": {},
   "outputs": [
    {
     "data": {
      "image/png": "[encoded data removed]",
      "text/latex": [
       "$\\displaystyle (- \\Omega x{\\left(t \\right)} \\sin{\\left(\\theta{\\left(t \\right)} \\right)} - \\Omega y{\\left(t \\right)} \\cos{\\left(\\theta{\\left(t \\right)} \\right)} - \\sin{\\left(\\theta{\\left(t \\right)} \\right)} \\frac{d}{d t} y{\\left(t \\right)} + \\cos{\\left(\\theta{\\left(t \\right)} \\right)} \\frac{d}{d t} x{\\left(t \\right)})\\; {}^F \\hat E_x + (\\Omega x{\\left(t \\right)} \\cos{\\left(\\theta{\\left(t \\right)} \\right)} - \\Omega y{\\left(t \\right)} \\sin{\\left(\\theta{\\left(t \\right)} \\right)} + \\sin{\\left(\\theta{\\left(t \\right)} \\right)} \\frac{d}{d t} x{\\left(t \\right)} + \\cos{\\left(\\theta{\\left(t \\right)} \\right)} \\frac{d}{d t} y{\\left(t \\right)})\\;{}^F \\hat E_y$"
      ],
      "text/plain": [
       "⎛                                                 d                    d\n",
       "⎜-Ω⋅x(t)⋅sin(θ(t)) - Ω⋅y(t)⋅cos(θ(t)) - sin(θ(t))⋅──(y(t)) + cos(θ(t))⋅──(x(t)\n",
       "⎝                                                 dt                   dt\n",
       "\n",
       " ⎞       ⎛                                                d\n",
       ")⎟ f_x + ⎜Ω⋅x(t)⋅cos(θ(t)) - Ω⋅y(t)⋅sin(θ(t)) + sin(θ(t))⋅──(x(t)) + cos(θ(t))\n",
       " ⎠       ⎝                                                dt\n",
       "\n",
       " d       ⎞\n",
       "⋅──(y(t))⎟ f_y\n",
       " dt      ⎠"
      ]
     },
     "execution_count": 37,
     "metadata": {},
     "output_type": "execute_result"
    }
   ],
   "source": [
    "(vecP.diff(t, F).simplify().subs(theta(t).diff(t), omega))"
   ]
  },
  {
   "cell_type": "code",
   "execution_count": 38,
   "metadata": {},
   "outputs": [
    {
     "data": {
      "image/png": "[encoded data removed]",
      "text/latex": [
       "$\\displaystyle (- \\Omega^{2} x{\\left(t \\right)} \\cos{\\left(\\theta{\\left(t \\right)} \\right)} + \\Omega^{2} y{\\left(t \\right)} \\sin{\\left(\\theta{\\left(t \\right)} \\right)} - 2 \\Omega \\sin{\\left(\\theta{\\left(t \\right)} \\right)} \\frac{d}{d t} x{\\left(t \\right)} - 2 \\Omega \\cos{\\left(\\theta{\\left(t \\right)} \\right)} \\frac{d}{d t} y{\\left(t \\right)} - \\sin{\\left(\\theta{\\left(t \\right)} \\right)} \\frac{d^{2}}{d t^{2}} y{\\left(t \\right)} + \\cos{\\left(\\theta{\\left(t \\right)} \\right)} \\frac{d^{2}}{d t^{2}} x{\\left(t \\right)})\\; {}^F \\hat E_x + (- \\Omega^{2} x{\\left(t \\right)} \\sin{\\left(\\theta{\\left(t \\right)} \\right)} - \\Omega^{2} y{\\left(t \\right)} \\cos{\\left(\\theta{\\left(t \\right)} \\right)} - 2 \\Omega \\sin{\\left(\\theta{\\left(t \\right)} \\right)} \\frac{d}{d t} y{\\left(t \\right)} + 2 \\Omega \\cos{\\left(\\theta{\\left(t \\right)} \\right)} \\frac{d}{d t} x{\\left(t \\right)} + \\sin{\\left(\\theta{\\left(t \\right)} \\right)} \\frac{d^{2}}{d t^{2}} x{\\left(t \\right)} + \\cos{\\left(\\theta{\\left(t \\right)} \\right)} \\frac{d^{2}}{d t^{2}} y{\\left(t \\right)})\\;{}^F \\hat E_y$"
      ],
      "text/plain": [
       "⎛\n",
       "⎜   2                   2                                d\n",
       "⎜- Ω ⋅x(t)⋅cos(θ(t)) + Ω ⋅y(t)⋅sin(θ(t)) - 2⋅Ω⋅sin(θ(t))⋅──(x(t)) - 2⋅Ω⋅cos(θ(\n",
       "⎜                                                        dt\n",
       "⎝\n",
       "\n",
       "                           2                     2      ⎞       ⎛\n",
       "    d                     d                     d       ⎟       ⎜   2\n",
       "t))⋅──(y(t)) - sin(θ(t))⋅───(y(t)) + cos(θ(t))⋅───(x(t))⎟ f_x + ⎜- Ω ⋅x(t)⋅sin\n",
       "    dt                     2                     2      ⎟       ⎜\n",
       "                         dt                    dt       ⎠       ⎝\n",
       "\n",
       "\n",
       "          2                                d                        d\n",
       "(θ(t)) - Ω ⋅y(t)⋅cos(θ(t)) - 2⋅Ω⋅sin(θ(t))⋅──(y(t)) + 2⋅Ω⋅cos(θ(t))⋅──(x(t)) +\n",
       "                                           dt                       dt\n",
       "\n",
       "\n",
       "             2                     2      ⎞\n",
       "            d                     d       ⎟\n",
       " sin(θ(t))⋅───(x(t)) + cos(θ(t))⋅───(y(t))⎟ f_y\n",
       "             2                     2      ⎟\n",
       "           dt                    dt       ⎠"
      ]
     },
     "execution_count": 38,
     "metadata": {},
     "output_type": "execute_result"
    }
   ],
   "source": [
    "(\n",
    "    vecP.diff(t, F)\n",
    "    .diff(t, F)\n",
    "    .simplify()\n",
    "    .subs(theta(t).diff(t).diff(t), 0)\n",
    "    .subs(theta(t).diff(t), omega)\n",
    ")"
   ]
  },
  {
   "attachments": {},
   "cell_type": "markdown",
   "metadata": {},
   "source": [
    "# Rotation Formulae\n",
    "\n",
    "$$\n",
    "{}^{\\mathcal A} \\mathbf v = \n",
    "        {}^{\\mathcal A}\\frac{d \\mathbf r}{d t} =\n",
    "            {}^{\\mathcal B}\\frac{d \\mathbf r}{d t} +\n",
    "                {}^A{\\mathbf \\omega^B} \\times \\mathbf r \n",
    "$$\n",
    "\n",
    "$$\n",
    "{}^{\\mathcal A} \\mathbf v = \n",
    "    {}^{\\mathcal B} \\mathbf v +\n",
    "        {}^A{\\mathbf \\omega^B} \\times \\mathbf r\n",
    "$$\n",
    "\n",
    "\n",
    "$$\n",
    "{}^{\\mathcal A} \\mathbf a = \n",
    "    {}^{\\mathcal B} \\mathbf a \n",
    "        + {}^A \\alpha^\\mathcal{B} \\times \\mathbf r \n",
    "        + { 2 \\cdot {}^A{\\mathbf \\omega^B} } \\times {}^{\\mathcal B} \\mathbf v\n",
    "        + x {}^A{\\mathbf \\omega^B} \\times ({}^A{\\mathbf \\omega^B} \\times \\mathbf r²)\n",
    "$$\n"
   ]
  },
  {
   "cell_type": "code",
   "execution_count": 39,
   "metadata": {},
   "outputs": [
    {
     "data": {
      "text/plain": [
       "(x, y, theta, x(t), y(t), theta(t))"
      ]
     },
     "execution_count": 39,
     "metadata": {},
     "output_type": "execute_result"
    }
   ],
   "source": [
    "omega, t = sp.symbols(\"Omega t\", real=True, positive=True)\n",
    "x, y, theta = sp.symbols(\"x, y, theta\", cls=sp.Function)\n",
    "x, y, theta, x(t), y(t), theta(t)"
   ]
  },
  {
   "cell_type": "code",
   "execution_count": 40,
   "metadata": {},
   "outputs": [
    {
     "data": {
      "image/png": "[encoded data removed]",
      "text/latex": [
       "$\\displaystyle x{\\left(t \\right)}\\; {}^A \\hat e_x + y{\\left(t \\right)}\\;{}^A \\hat e_y$"
      ],
      "text/plain": [
       "x(t) a_x + y(t) a_y"
      ]
     },
     "execution_count": 40,
     "metadata": {},
     "output_type": "execute_result"
    }
   ],
   "source": [
    "vecP = x(t) * A.x + y(t) * A.y\n",
    "vecP"
   ]
  },
  {
   "cell_type": "code",
   "execution_count": 41,
   "metadata": {},
   "outputs": [
    {
     "data": {
      "image/png": "[encoded data removed]",
      "text/latex": [
       "$\\displaystyle \\frac{d}{d t} x{\\left(t \\right)}\\; {}^A \\hat e_x + \\frac{d}{d t} y{\\left(t \\right)}\\;{}^A \\hat e_y$"
      ],
      "text/plain": [
       "d              d\n",
       "──(x(t)) a_x + ──(y(t)) a_y\n",
       "dt             dt"
      ]
     },
     "execution_count": 41,
     "metadata": {},
     "output_type": "execute_result"
    }
   ],
   "source": [
    "vecP.diff(t, A)"
   ]
  },
  {
   "cell_type": "code",
   "execution_count": 42,
   "metadata": {},
   "outputs": [
    {
     "data": {
      "image/png": "[encoded data removed]",
      "text/latex": [
       "$\\displaystyle (- y{\\left(t \\right)} \\frac{d}{d t} \\theta{\\left(t \\right)} + \\frac{d}{d t} x{\\left(t \\right)})\\; {}^A \\hat e_x + (x{\\left(t \\right)} \\frac{d}{d t} \\theta{\\left(t \\right)} + \\frac{d}{d t} y{\\left(t \\right)})\\;{}^A \\hat e_y$"
      ],
      "text/plain": [
       "⎛       d          d       ⎞       ⎛     d          d       ⎞\n",
       "⎜- y(t)⋅──(θ(t)) + ──(x(t))⎟ a_x + ⎜x(t)⋅──(θ(t)) + ──(y(t))⎟ a_y\n",
       "⎝       dt         dt      ⎠       ⎝     dt         dt      ⎠"
      ]
     },
     "execution_count": 42,
     "metadata": {},
     "output_type": "execute_result"
    }
   ],
   "source": [
    "(vecP.diff(t, A) + spv.cross(theta(t).diff(t) * F.z, vecP)).express(A)  # .simplify()"
   ]
  },
  {
   "attachments": {},
   "cell_type": "markdown",
   "metadata": {},
   "source": [
    "# Translation\n",
    "\n",
    "\\begin{split}\n",
    "    \\mathbf{r}^{OP} \\textrm{, the position vector from } O\\textrm{ to }P\\\\\n",
    "    ^{\\mathbf{N}}\\mathbf{v}^P \\textrm{, the velocity of } P\n",
    "        \\textrm{ in the reference frame } \\mathbf{N}\\\\\n",
    "    ^{\\mathbf{N}}\\mathbf{a}^P \\textrm{, the acceleration of } P\n",
    "        \\textrm{ in the reference frame } \\mathbf{N}\\\\\n",
    "\\end{split}"
   ]
  },
  {
   "cell_type": "code",
   "execution_count": 43,
   "metadata": {},
   "outputs": [],
   "source": [
    "N = RAOreference_frame(\"N\", x=r\"n_x\", y=r\"n_y\", z=r\"n_z\")"
   ]
  },
  {
   "cell_type": "code",
   "execution_count": 44,
   "metadata": {},
   "outputs": [],
   "source": [
    "q_x, q_y = spv.dynamicsymbols(\"q_x, q_y\", level=0)"
   ]
  },
  {
   "cell_type": "code",
   "execution_count": 45,
   "metadata": {},
   "outputs": [
    {
     "data": {
      "text/latex": [
       "$\\displaystyle  q_{x}\\; {}^N \\hat n_x + q_{y}\\;{}^N \\hat n_y\\quad   \\dot{q}_{x}\\; {}^N \\hat n_x + \\dot{q}_{y}\\;{}^N \\hat n_y\\quad   \\ddot{q}_{x}\\; {}^N \\hat n_x + \\ddot{q}_{y}\\;{}^N \\hat n_y\\quad $"
      ],
      "text/plain": [
       "<IPython.core.display.Math object>"
      ]
     },
     "metadata": {},
     "output_type": "display_data"
    }
   ],
   "source": [
    "r_OP = q_x * N.x + q_y * N.y\n",
    "v_NP = r_OP.dt(N)\n",
    "a_NP = v_NP.diff(sp.Symbol('t'), N)\n",
    "\n",
    "ipd.display(\n",
    "    ipd.Math( # type: ignore\n",
    "        rf\"$ {spv.vlatex(r_OP)}\\quad \"\n",
    "        rf\"  {spv.vlatex(v_NP)}\\quad \"\n",
    "        rf\"  {spv.vlatex(a_NP)}\\quad $\"\n",
    "    )\n",
    ")"
   ]
  },
  {
   "attachments": {},
   "cell_type": "markdown",
   "metadata": {},
   "source": [
    "__Translating, rotating disc__\n",
    "\n",
    "![](./images/kin_1.png)\n",
    "\n",
    "__Solution to rotating disc using Vectors directly and not using \n",
    "point theory__\n",
    "\n",
    "see example in [this document](https://docs.sympy.org/latest/modules/physics/vector/kinematics.html)"
   ]
  },
  {
   "cell_type": "code",
   "execution_count": 46,
   "metadata": {},
   "outputs": [],
   "source": [
    "u_1, u_2, u_3 = spv.dynamicsymbols(\"u_1, u_2, u_3\", level=0)\n",
    "o_1, o_2, o_3 = spv.dynamicsymbols(\"o_1, o_2, o_3\", level=0)\n",
    "R = sp.symbols(\"R\", real=True, positive=True)"
   ]
  },
  {
   "cell_type": "code",
   "execution_count": 47,
   "metadata": {},
   "outputs": [],
   "source": [
    "N = reference_frame(\"N\", x=r\"x\", y=r\"y\", z=r\"z\")\n",
    "B = reference_frame(\"B\", x=r\"x\", y=r\"y\", z=r\"z\")\n",
    "B.set_ang_vel(N, u_3 * B.z)"
   ]
  },
  {
   "cell_type": "code",
   "execution_count": 48,
   "metadata": {},
   "outputs": [
    {
     "data": {
      "text/latex": [
       "$\\displaystyle o_{1}\\; {}^\\mathcal N \\hat x + o_{2}\\;{}^\\mathcal N \\hat y + o_{3}\\: {}^\\mathcal N \\hat {z}$"
      ],
      "text/plain": [
       "o₁ n_x + o₂ n_y + o₃ n_z"
      ]
     },
     "execution_count": 48,
     "metadata": {},
     "output_type": "execute_result"
    }
   ],
   "source": [
    "r_O = o_1 * N.x + o_2 * N.y + o_3 * N.z\n",
    "r_O"
   ]
  },
  {
   "cell_type": "code",
   "execution_count": 49,
   "metadata": {},
   "outputs": [
    {
     "data": {
      "text/latex": [
       "$\\displaystyle o_{1}\\; {}^\\mathcal N \\hat x + o_{2}\\;{}^\\mathcal N \\hat y + o_{3}\\: {}^\\mathcal N \\hat {z} + R\\; {}^\\mathcal B \\hat x$"
      ],
      "text/plain": [
       "o₁ n_x + o₂ n_y + o₃ n_z + R b_x"
      ]
     },
     "execution_count": 49,
     "metadata": {},
     "output_type": "execute_result"
    }
   ],
   "source": [
    "r_P = r_O + R * B.x\n",
    "r_P"
   ]
  },
  {
   "cell_type": "code",
   "execution_count": 50,
   "metadata": {},
   "outputs": [
    {
     "data": {
      "text/latex": [
       "$\\displaystyle u_{1}\\; {}^\\mathcal N \\hat x + u_{2}\\;{}^\\mathcal N \\hat y + R u_{3}\\;{}^\\mathcal B \\hat y$"
      ],
      "text/plain": [
       "u₁ n_x + u₂ n_y + R⋅u₃ b_y"
      ]
     },
     "execution_count": 50,
     "metadata": {},
     "output_type": "execute_result"
    }
   ],
   "source": [
    "(r_P.dt(N).subs(o_1.diff(), u_1).subs(o_2.diff(), u_2).subs(o_3.diff(), 0))"
   ]
  },
  {
   "cell_type": "code",
   "execution_count": 51,
   "metadata": {},
   "outputs": [
    {
     "data": {
      "text/latex": [
       "$\\displaystyle \\dot{u}_{1}\\; {}^\\mathcal N \\hat x + \\dot{u}_{2}\\;{}^\\mathcal N \\hat y -  R u_{3}^{2}\\; {}^\\mathcal B \\hat x + R \\dot{u}_{3}\\;{}^\\mathcal B \\hat y$"
      ],
      "text/plain": [
       "                       2\n",
       "u₁̇ n_x + u₂̇ n_y + -R⋅u₃  b_x + R⋅u₃̇ b_y"
      ]
     },
     "execution_count": 51,
     "metadata": {},
     "output_type": "execute_result"
    }
   ],
   "source": [
    "(\n",
    "    r_P.dt(N)\n",
    "    .dt(N)\n",
    "    .subs(o_1.diff().diff(), u_1.diff())\n",
    "    .subs(o_2.diff().diff(), u_2.diff())\n",
    "    .subs(o_3.diff().diff(), 0)\n",
    ")"
   ]
  },
  {
   "cell_type": "markdown",
   "metadata": {},
   "source": [
    "# Intrinsic coordinates"
   ]
  },
  {
   "cell_type": "code",
   "execution_count": 52,
   "metadata": {},
   "outputs": [],
   "source": [
    "F = RAOreference_frame(\"F\", x=r\"E_x\", y=r\"E_y\", z=r\"E_z\")\n",
    "m, g, R = sp.symbols(\"m, g, R\", real=True, positive=True)\n",
    "r = spv.dynamicsymbols(\"r\", real=True, level=0)\n",
    "y = r**2 / 2 / R\n",
    "P = r * F.x + y * F.y\n",
    "vtP = P.dt(F)"
   ]
  },
  {
   "cell_type": "code",
   "execution_count": 53,
   "metadata": {},
   "outputs": [],
   "source": [
    "hat_vtP = vtP.normalize()\n",
    "hat_vnP = F.z.cross(hat_vtP)\n",
    "assert hat_vtP.magnitude().simplify() == 1\n",
    "assert hat_vnP.magnitude().simplify() == 1  # Unit vector\n",
    "assert hat_vtP.dot(hat_vnP) == 0  # Orthogonal"
   ]
  }
 ],
 "metadata": {
  "kernelspec": {
   "display_name": "3.9",
   "language": "python",
   "name": "python3"
  },
  "language_info": {
   "codemirror_mode": {
    "name": "ipython",
    "version": 3
   },
   "file_extension": ".py",
   "mimetype": "text/x-python",
   "name": "python",
   "nbconvert_exporter": "python",
   "pygments_lexer": "ipython3",
   "version": "3.10.10"
  },
  "orig_nbformat": 4,
  "vscode": {
   "interpreter": {
    "hash": "439944bd8008f2f069e15c63249790d203ae4a03debaae97ad3c7d6c011f8ad2"
   }
  }
 },
 "nbformat": 4,
 "nbformat_minor": 2
}
