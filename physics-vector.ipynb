{
 "cells": [
  {
   "cell_type": "code",
   "execution_count": 39,
   "metadata": {
    "collapsed": true,
    "jupyter": {
     "outputs_hidden": true
    }
   },
   "outputs": [],
   "source": [
    "import sys\n",
    "import math\n",
    "import string\n",
    "import operator\n",
    "import random\n",
    "import collections\n",
    "import datetime\n",
    "import itertools\n",
    "import functools\n",
    "\n",
    "import numpy as np\n",
    "import pandas as pd\n",
    "\n",
    "import matplotlib\n",
    "import matplotlib.dates as mdates\n",
    "import matplotlib.colors as mcolors\n",
    "import matplotlib.pyplot as plt\n",
    "from mpl_toolkits.mplot3d import Axes3D\n",
    "import seaborn as sns\n",
    "\n",
    "import IPython\n",
    "import sympy as sp\n",
    "import sympy.plotting as splt\n",
    "import sympy.physics.vector as spv\n",
    "import sympy.physics.mechanics as spm\n",
    "\n",
    "import IPython.display as ipd\n",
    "spv.init_vprinting()\n",
    "%matplotlib inline\n"
   ]
  },
  {
   "cell_type": "code",
   "execution_count": 40,
   "metadata": {
    "collapsed": true,
    "jupyter": {
     "outputs_hidden": true
    }
   },
   "outputs": [
    {
     "name": "stdout",
     "output_type": "stream",
     "text": [
      "\n",
      "    Python version 3.10.10 | packaged by conda-forge | (main, Mar 24 2023, 20:00:38) [MSC v.1934 64 bit (AMD64)]\n",
      "    IPython version 8.13.2\n",
      "    Numpy version 1.24.3\n",
      "    mathplotlib version 3.7.1\n",
      "    Pandas version 2.0.1\n",
      "    Seaborn version 0.12.2\n",
      "    \n"
     ]
    }
   ],
   "source": [
    "print(f\"\"\"\n",
    "    Python version {sys.version}\n",
    "    IPython version {IPython.__version__}\n",
    "    Numpy version {np.__version__}\n",
    "    mathplotlib version {matplotlib.__version__}\n",
    "    Pandas version {pd.__version__}\n",
    "    Seaborn version {sns.__version__}\n",
    "    \"\"\"\n",
    "      )\n"
   ]
  },
  {
   "cell_type": "code",
   "execution_count": 41,
   "metadata": {
    "collapsed": true,
    "jupyter": {
     "outputs_hidden": true
    }
   },
   "outputs": [],
   "source": [
    "def directory(obj):\n",
    "    return [\n",
    "        str for str in dir(obj)\n",
    "        if callable(getattr(obj, str)) & ~str.startswith('_')\n",
    "    ]\n"
   ]
  },
  {
   "cell_type": "code",
   "execution_count": 42,
   "metadata": {
    "collapsed": true,
    "jupyter": {
     "outputs_hidden": true
    }
   },
   "outputs": [
    {
     "name": "stdout",
     "output_type": "stream",
     "text": [
      "Audio          JSON               Video               display_markdown      \n",
      "Code           Javascript         VimeoVideo          display_pdf           \n",
      "DisplayHandle  Latex              YouTubeVideo        display_png           \n",
      "DisplayObject  Markdown           clear_output        display_pretty        \n",
      "FileLink       Math               display             display_svg           \n",
      "FileLinks      Pretty             display_html        publish_display_data  \n",
      "GeoJSON        ProgressBar        display_javascript  set_matplotlib_close  \n",
      "HTML           SVG                display_jpeg        set_matplotlib_formats\n",
      "IFrame         ScribdDocument     display_json        update_display        \n",
      "Image          TextDisplayObject  display_latex     \n",
      "\n"
     ]
    }
   ],
   "source": [
    "print(IPython.utils.text.columnize(directory(ipd)))\n"
   ]
  },
  {
   "cell_type": "code",
   "execution_count": 43,
   "metadata": {
    "collapsed": true,
    "jupyter": {
     "outputs_hidden": true
    }
   },
   "outputs": [
    {
     "name": "stdout",
     "output_type": "stream",
     "text": [
      "Catalan           Naturals            __dir__            __ne__             \n",
      "ComplexInfinity   Naturals0           __doc__            __new__            \n",
      "Complexes         NegativeInfinity    __eq__             __reduce__         \n",
      "EmptySequence     NegativeOne         __format__         __reduce_ex__      \n",
      "EmptySet          One                 __ge__             __repr__           \n",
      "EulerGamma        Pi                  __getattr__        __setattr__        \n",
      "Exp1              Rationals           __getattribute__   __sizeof__         \n",
      "GoldenRatio       Reals               __gt__             __slots__          \n",
      "Half              TribonacciConstant  __hash__           __str__            \n",
      "IdentityFunction  UniversalSet        __init__           __subclasshook__   \n",
      "ImaginaryUnit     Zero                __init_subclass__  _classes_to_install\n",
      "Infinity          __call__            __le__             false              \n",
      "Integers          __class__           __lt__             register           \n",
      "NaN               __delattr__         __module__         true               \n",
      "\n"
     ]
    }
   ],
   "source": [
    "print(IPython.utils.text.columnize(dir(sp.S)))\n"
   ]
  },
  {
   "cell_type": "code",
   "execution_count": 44,
   "metadata": {},
   "outputs": [],
   "source": [
    "HALF = sp.S.Half\n",
    "PI = sp.pi\n",
    "E = sp.exp\n",
    "POSITIVEINFINITY = sp.S.Infinity\n"
   ]
  },
  {
   "cell_type": "markdown",
   "metadata": {},
   "source": [
    "# Support Functions"
   ]
  },
  {
   "cell_type": "code",
   "execution_count": 45,
   "metadata": {},
   "outputs": [],
   "source": [
    "def reference_frame(\n",
    "    frame: str,\n",
    "    x=r'\\imath', y=r'\\jmath', z=r'\\mathbf k'\n",
    ") -> spv.ReferenceFrame:\n",
    "    return spv.ReferenceFrame(\n",
    "        frame, latexs=(\n",
    "            fr'\\; {{}}^\\mathcal {frame} \\hat {x}',\n",
    "            fr'\\;{{}}^\\mathcal {frame} \\hat {y}',\n",
    "            fr'\\: {{}}^\\mathcal {frame} \\hat {{z}}'\n",
    "        )\n",
    "    )\n",
    "\n",
    "\n",
    "def RAOreference_frame(\n",
    "    frame: str,\n",
    "    x=r'e_1', y='e_2', z=r'e_3'\n",
    ") -> spv.ReferenceFrame:\n",
    "    return spv.ReferenceFrame(\n",
    "        frame, latexs=(\n",
    "            fr'\\; {{}}^{frame} \\hat {x}',\n",
    "            fr'\\;{{}}^{frame} \\hat {y}',\n",
    "            fr'\\: {{}}^{frame} \\hat {z}'\n",
    "        )\n",
    "    )\n",
    "\n",
    "\n",
    "def vector(F: spv.ReferenceFrame, rx, ry, rz=0) -> spv.Vector:\n",
    "    return rx*F.x + ry*F.y + rz*F.z\n",
    "\n",
    "\n",
    "def vector_cos(\n",
    "    F: spv.ReferenceFrame, magnitude,\n",
    "    anglex, angley, anglez=sp.pi/2\n",
    ") -> spv.Vector:\n",
    "    return (magnitude *\n",
    "            (sp.cos(anglex)*F.x\n",
    "             + sp.cos(angley)*F.y\n",
    "             + sp.cos(anglez)*F.z\n",
    "             )\n",
    "            )\n",
    "\n",
    "\n",
    "def vector_line(\n",
    "    start: spv.Vector, finish: spv.Vector\n",
    ") -> spv.Vector:\n",
    "    return finish - start\n",
    "\n",
    "\n",
    "def vector_line_eqn(\n",
    "    F: spv.ReferenceFrame, start: spv.Vector, finish: spv.Vector, kappa\n",
    ") -> spv.Vector:\n",
    "    return start + vector_line(start, finish).normalize()*kappa\n",
    "\n",
    "\n",
    "def angle_between_vectors(a: spv.Vector, b: spv.Vector):\n",
    "    return sp.acos(a.dot(b)/a.magnitude()/b.magnitude())\n",
    "\n",
    "\n",
    "def make2Dsymbols(symbol_list):\n",
    "    return [\n",
    "        sp.symbols(f\"{ch}_x:y\", real=True)\n",
    "        for ch in symbol_list\n",
    "    ]\n",
    "\n",
    "\n",
    "F, E = make2Dsymbols(['F', 'E'])\n",
    "assert str(F) == '(F_x, F_y)'\n",
    "assert str(E) == '(E_x, E_y)'\n"
   ]
  },
  {
   "cell_type": "code",
   "execution_count": 46,
   "metadata": {},
   "outputs": [
    {
     "data": {
      "image/png": "[encoded data removed]",
      "text/latex": [
       "$\\displaystyle \\left( \\; {}^E \\hat E_1, \\  \\;{}^E \\hat E_2, \\  \\: {}^E \\hat E_3\\right)$"
      ],
      "text/plain": [
       "(e_x, e_y, e_z)"
      ]
     },
     "execution_count": 46,
     "metadata": {},
     "output_type": "execute_result"
    }
   ],
   "source": [
    "E = RAOreference_frame(\"E\", \"E_1\", \"E_2\", \"E_3\")\n",
    "E.x, E.y, E.z\n"
   ]
  },
  {
   "cell_type": "code",
   "execution_count": 47,
   "metadata": {},
   "outputs": [
    {
     "data": {
      "image/png": "[encoded data removed]",
      "text/latex": [
       "$\\displaystyle \\left( \\; {}^A \\hat e_1, \\  \\;{}^A \\hat e_2, \\  \\: {}^A \\hat e_3\\right)$"
      ],
      "text/plain": [
       "(a_x, a_y, a_z)"
      ]
     },
     "execution_count": 47,
     "metadata": {},
     "output_type": "execute_result"
    }
   ],
   "source": [
    "A = RAOreference_frame(\"A\")\n",
    "\n",
    "A.x, A.y, A.z\n"
   ]
  },
  {
   "cell_type": "code",
   "execution_count": 48,
   "metadata": {},
   "outputs": [
    {
     "data": {
      "image/png": "[encoded data removed]",
      "text/latex": [
       "$\\displaystyle \\left( c_{{1}{1}}, \\  c_{{1}{2}}, \\  c_{{1}{3}}, \\  c_{{2}{1}}, \\  c_{{2}{2}}, \\  c_{{2}{3}}, \\  c_{{3}{1}}, \\  c_{{3}{2}}, \\  c_{{3}{3}}\\right)$"
      ],
      "text/plain": [
       "(c_{{1}{1}}, c_{{1}{2}}, c_{{1}{3}}, c_{{2}{1}}, c_{{2}{2}}, c_{{2}{3}}, c_{{3\n",
       "}{1}}, c_{{3}{2}}, c_{{3}{3}})"
      ]
     },
     "execution_count": 48,
     "metadata": {},
     "output_type": "execute_result"
    }
   ],
   "source": [
    "c = sp.symbols(\"c_{{1:4}{1:4}}\")\n",
    "c\n"
   ]
  },
  {
   "attachments": {},
   "cell_type": "markdown",
   "metadata": {},
   "source": [
    "# DCM\n",
    "The orientation of a specific frame relative to its parent"
   ]
  },
  {
   "cell_type": "code",
   "execution_count": 49,
   "metadata": {},
   "outputs": [
    {
     "data": {
      "text/latex": [
       "$\\displaystyle \\left[\\begin{matrix}c_{{1}{1}} & c_{{1}{2}} & c_{{1}{3}}\\\\c_{{2}{1}} & c_{{2}{2}} & c_{{2}{3}}\\\\c_{{3}{1}} & c_{{3}{2}} & c_{{3}{3}}\\end{matrix}\\right]$"
      ],
      "text/plain": [
       "⎡c_{{1}{1}}  c_{{1}{2}}  c_{{1}{3}}⎤\n",
       "⎢                                  ⎥\n",
       "⎢c_{{2}{1}}  c_{{2}{2}}  c_{{2}{3}}⎥\n",
       "⎢                                  ⎥\n",
       "⎣c_{{3}{1}}  c_{{3}{2}}  c_{{3}{3}}⎦"
      ]
     },
     "execution_count": 49,
     "metadata": {},
     "output_type": "execute_result"
    }
   ],
   "source": [
    "A_DCM_E = sp.Matrix(3, 3, c)\n",
    "A_DCM_E\n"
   ]
  },
  {
   "attachments": {},
   "cell_type": "markdown",
   "metadata": {},
   "source": [
    "__Orient Explicit__\n",
    "\n",
    "Sets the orientation of this reference frame relative to a \n",
    "parent reference frame by explicitly setting the direction \n",
    "cosine matrix."
   ]
  },
  {
   "cell_type": "code",
   "execution_count": 50,
   "metadata": {},
   "outputs": [],
   "source": [
    "A.orient_explicit(E, A_DCM_E)\n"
   ]
  },
  {
   "attachments": {},
   "cell_type": "markdown",
   "metadata": {},
   "source": [
    "__Returns the direction cosine matrix__\n",
    "\n",
    "The returned A matrix can be used A to express the orthogonal unit vectors \n",
    "of this frame in terms of the orthogonal unit vectors of otherframe.\n",
    "\n",
    "Notice that for ${}^{\\mathcal E} \\mathbf {e}_2$ is represents in the second row of E.dcm(A)"
   ]
  },
  {
   "cell_type": "code",
   "execution_count": 51,
   "metadata": {},
   "outputs": [
    {
     "data": {
      "text/latex": [
       "$\\displaystyle \\left( \\left[\\begin{matrix}c_{{1}{1}} & c_{{1}{2}} & c_{{1}{3}}\\\\c_{{2}{1}} & c_{{2}{2}} & c_{{2}{3}}\\\\c_{{3}{1}} & c_{{3}{2}} & c_{{3}{3}}\\end{matrix}\\right], \\  c_{{2}{1}}\\; {}^A \\hat e_1 + c_{{2}{2}}\\;{}^A \\hat e_2 + c_{{2}{3}}\\: {}^A \\hat e_3\\right)$"
      ],
      "text/plain": [
       "⎛⎡c_{{1}{1}}  c_{{1}{2}}  c_{{1}{3}}⎤, c_{{2}{1}} a_x + c_{{2}{2}} a_y + c_{{2\n",
       "⎜⎢                                  ⎥                                         \n",
       "⎜⎢c_{{2}{1}}  c_{{2}{2}}  c_{{2}{3}}⎥                                         \n",
       "⎜⎢                                  ⎥                                         \n",
       "⎝⎣c_{{3}{1}}  c_{{3}{2}}  c_{{3}{3}}⎦                                         \n",
       "\n",
       "}{3}} a_z⎞\n",
       "         ⎟\n",
       "         ⎟\n",
       "         ⎟\n",
       "         ⎠"
      ]
     },
     "execution_count": 51,
     "metadata": {},
     "output_type": "execute_result"
    }
   ],
   "source": [
    "E.dcm(A), E.y.express(A)\n"
   ]
  },
  {
   "cell_type": "code",
   "execution_count": 52,
   "metadata": {},
   "outputs": [
    {
     "data": {
      "image/png": "[encoded data removed]",
      "text/latex": [
       "$\\displaystyle \\left( \\left( a_{1}, \\  a_{2}, \\  a_{3}\\right), \\  \\left( b_{1}, \\  b_{2}, \\  b_{3}\\right)\\right)$"
      ],
      "text/plain": [
       "((a₁, a₂, a₃), (b₁, b₂, b₃))"
      ]
     },
     "execution_count": 52,
     "metadata": {},
     "output_type": "execute_result"
    }
   ],
   "source": [
    "a, b = [sp.symbols(f'{ch}_1:4') for ch in ['a', 'b']]\n",
    "a, b\n"
   ]
  },
  {
   "cell_type": "code",
   "execution_count": 53,
   "metadata": {},
   "outputs": [
    {
     "data": {
      "text/latex": [
       "$\\displaystyle \\left[\\begin{matrix}c_{{1}{1}} & c_{{1}{2}} & c_{{1}{3}}\\\\c_{{2}{1}} & c_{{2}{2}} & c_{{2}{3}}\\\\c_{{3}{1}} & c_{{3}{2}} & c_{{3}{3}}\\end{matrix}\\right]$"
      ],
      "text/plain": [
       "⎡c_{{1}{1}}  c_{{1}{2}}  c_{{1}{3}}⎤\n",
       "⎢                                  ⎥\n",
       "⎢c_{{2}{1}}  c_{{2}{2}}  c_{{2}{3}}⎥\n",
       "⎢                                  ⎥\n",
       "⎣c_{{3}{1}}  c_{{3}{2}}  c_{{3}{3}}⎦"
      ]
     },
     "execution_count": 53,
     "metadata": {},
     "output_type": "execute_result"
    }
   ],
   "source": [
    "E.dcm(A)  # represent E unit in term of A\n"
   ]
  },
  {
   "cell_type": "code",
   "execution_count": 54,
   "metadata": {},
   "outputs": [
    {
     "data": {
      "text/latex": [
       "$\\displaystyle \\left[\\begin{matrix}a_{1} c_{{1}{1}} + a_{2} c_{{1}{2}} + a_{3} c_{{1}{3}}\\\\a_{1} c_{{2}{1}} + a_{2} c_{{2}{2}} + a_{3} c_{{2}{3}}\\\\a_{1} c_{{3}{1}} + a_{2} c_{{3}{2}} + a_{3} c_{{3}{3}}\\end{matrix}\\right]$"
      ],
      "text/plain": [
       "⎡a₁⋅c_{{1}{1}} + a₂⋅c_{{1}{2}} + a₃⋅c_{{1}{3}}⎤\n",
       "⎢                                             ⎥\n",
       "⎢a₁⋅c_{{2}{1}} + a₂⋅c_{{2}{2}} + a₃⋅c_{{2}{3}}⎥\n",
       "⎢                                             ⎥\n",
       "⎣a₁⋅c_{{3}{1}} + a₂⋅c_{{3}{2}} + a₃⋅c_{{3}{3}}⎦"
      ]
     },
     "execution_count": 54,
     "metadata": {},
     "output_type": "execute_result"
    }
   ],
   "source": [
    "E.dcm(A)*sp.Matrix(3, 1, a)\n"
   ]
  },
  {
   "cell_type": "code",
   "execution_count": 55,
   "metadata": {},
   "outputs": [
    {
     "data": {
      "image/png": "[encoded data removed]",
      "text/latex": [
       "$\\displaystyle (a_{1} c_{{1}{1}} + a_{2} c_{{1}{2}} + a_{3} c_{{1}{3}})\\; {}^E \\hat E_1 + (a_{1} c_{{2}{1}} + a_{2} c_{{2}{2}} + a_{3} c_{{2}{3}})\\;{}^E \\hat E_2 + (a_{1} c_{{3}{1}} + a_{2} c_{{3}{2}} + a_{3} c_{{3}{3}})\\: {}^E \\hat E_3$"
      ],
      "text/plain": [
       "(a₁⋅c_{{1}{1}} + a₂⋅c_{{1}{2}} + a₃⋅c_{{1}{3}}) e_x + (a₁⋅c_{{2}{1}} + a₂⋅c_{{\n",
       "2}{2}} + a₃⋅c_{{2}{3}}) e_y + (a₁⋅c_{{3}{1}} + a₂⋅c_{{3}{2}} + a₃⋅c_{{3}{3}})\n",
       "e_z"
      ]
     },
     "execution_count": 55,
     "metadata": {},
     "output_type": "execute_result"
    }
   ],
   "source": [
    "(a[0]*A.x + a[1]*A.y + a[2]*A.z).express(E)\n"
   ]
  },
  {
   "attachments": {},
   "cell_type": "markdown",
   "metadata": {},
   "source": [
    "# Frame differentiation DCM\n",
    "\n",
    "![](./images/Example02-01.png)"
   ]
  },
  {
   "cell_type": "code",
   "execution_count": 56,
   "metadata": {},
   "outputs": [],
   "source": [
    "R, omega, t = sp.symbols(\"R, omega, t\", real=True, positive=True)\n",
    "F = RAOreference_frame(\"F\")\n",
    "A = RAOreference_frame(\"A\")\n",
    "A.orient_axis(F, F.z, omega*t)\n",
    "vecR_in_A = R*A.x"
   ]
  },
  {
   "cell_type": "code",
   "execution_count": 57,
   "metadata": {},
   "outputs": [
    {
     "data": {
      "image/png": "[encoded data removed]",
      "text/latex": [
       "$\\displaystyle \\left( -  R \\omega \\sin{\\left(\\omega t \\right)}\\; {}^F \\hat e_1 + R \\omega \\cos{\\left(\\omega t \\right)}\\;{}^F \\hat e_2, \\  0\\right)$"
      ],
      "text/plain": [
       "(-R⋅ω⋅sin(ω⋅t) f_x + R⋅ω⋅cos(ω⋅t) f_y, 0)"
      ]
     },
     "execution_count": 57,
     "metadata": {},
     "output_type": "execute_result"
    }
   ],
   "source": [
    "vecR_in_A.diff(t, F).express(F).simplify(), vecR_in_A.diff(t, A)\n"
   ]
  },
  {
   "attachments": {},
   "cell_type": "markdown",
   "metadata": {},
   "source": [
    "## Unit vectors in another frame\n",
    "\n",
    "The following __rows__ gives the unit vectors of $\\mathcal A$ expressed in\n",
    "$\\mathcal F$."
   ]
  },
  {
   "cell_type": "code",
   "execution_count": 58,
   "metadata": {},
   "outputs": [
    {
     "data": {
      "text/latex": [
       "$\\displaystyle \\left[\\begin{matrix}\\cos{\\left(\\omega t \\right)} & \\sin{\\left(\\omega t \\right)} & 0\\\\- \\sin{\\left(\\omega t \\right)} & \\cos{\\left(\\omega t \\right)} & 0\\\\0 & 0 & 1\\end{matrix}\\right]$"
      ],
      "text/plain": [
       "⎡cos(ω⋅t)   sin(ω⋅t)  0⎤\n",
       "⎢                      ⎥\n",
       "⎢-sin(ω⋅t)  cos(ω⋅t)  0⎥\n",
       "⎢                      ⎥\n",
       "⎣    0         0      1⎦"
      ]
     },
     "execution_count": 58,
     "metadata": {},
     "output_type": "execute_result"
    }
   ],
   "source": [
    "A.dcm(F)"
   ]
  },
  {
   "cell_type": "code",
   "execution_count": 59,
   "metadata": {},
   "outputs": [
    {
     "data": {
      "image/png": "[encoded data removed]",
      "text/latex": [
       "$\\displaystyle \\left\\{ A_{x} : F_{x} \\cos{\\left(\\omega t \\right)} + F_{y} \\sin{\\left(\\omega t \\right)}, \\  A_{y} : - F_{x} \\sin{\\left(\\omega t \\right)} + F_{y} \\cos{\\left(\\omega t \\right)}, \\  A_{z} : F_{z}\\right\\}$"
      ],
      "text/plain": [
       "{Aₓ: Fₓ⋅cos(ω⋅t) + F_y⋅sin(ω⋅t), A_y: -Fₓ⋅sin(ω⋅t) + F_y⋅cos(ω⋅t), A_z: F_z}"
      ]
     },
     "execution_count": 59,
     "metadata": {},
     "output_type": "execute_result"
    }
   ],
   "source": [
    "A.variable_map(F)"
   ]
  },
  {
   "cell_type": "code",
   "execution_count": 60,
   "metadata": {},
   "outputs": [
    {
     "data": {
      "text/latex": [
       "$\\displaystyle \\left( R \\cos{\\left(\\omega t \\right)}\\; {}^F \\hat e_1 + R \\sin{\\left(\\omega t \\right)}\\;{}^F \\hat e_2, \\  \\left[\\begin{matrix}R \\cos{\\left(\\omega t \\right)}\\\\- R \\sin{\\left(\\omega t \\right)}\\\\0\\end{matrix}\\right]\\right)$"
      ],
      "text/plain": [
       "⎛R⋅cos(ω⋅t) f_x + R⋅sin(ω⋅t) f_y, ⎡R⋅cos(ω⋅t) ⎤⎞\n",
       "⎜                                 ⎢           ⎥⎟\n",
       "⎜                                 ⎢-R⋅sin(ω⋅t)⎥⎟\n",
       "⎜                                 ⎢           ⎥⎟\n",
       "⎝                                 ⎣     0     ⎦⎠"
      ]
     },
     "execution_count": 60,
     "metadata": {},
     "output_type": "execute_result"
    }
   ],
   "source": [
    "vecR_in_A.express(F), (A.dcm(F))*sp.Matrix([R, 0, 0])"
   ]
  },
  {
   "attachments": {},
   "cell_type": "markdown",
   "metadata": {},
   "source": [
    "# Dynamic variables\n",
    "\n",
    "![](./images/Example02-02.jpg/)"
   ]
  },
  {
   "attachments": {},
   "cell_type": "markdown",
   "metadata": {},
   "source": [
    "__With dynamic symbols__"
   ]
  },
  {
   "cell_type": "code",
   "execution_count": 61,
   "metadata": {},
   "outputs": [
    {
     "data": {
      "image/png": "[encoded data removed]",
      "text/latex": [
       "$\\displaystyle \\dot{\\theta}$"
      ],
      "text/plain": [
       "θ̇"
      ]
     },
     "execution_count": 61,
     "metadata": {},
     "output_type": "execute_result"
    }
   ],
   "source": [
    "omega, t = sp.symbols(\"Omega t\", real=True, positive=True)\n",
    "x, y, theta = spv.dynamicsymbols(\"x, y, theta\", level=0)\n",
    "theta.diff()"
   ]
  },
  {
   "cell_type": "code",
   "execution_count": 62,
   "metadata": {},
   "outputs": [],
   "source": [
    "F = RAOreference_frame(\"F\", x=r\"E_x\", y=r\"E_y\", z=r\"E_z\")\n",
    "A = RAOreference_frame(\"A\", x=r\"e_x\", y=r\"e_y\", z=r\"e_z\")\n",
    "A.orient_axis(F, F.z, theta)"
   ]
  },
  {
   "cell_type": "code",
   "execution_count": 63,
   "metadata": {},
   "outputs": [
    {
     "data": {
      "image/png": "[encoded data removed]",
      "text/latex": [
       "$\\displaystyle \\left( \\dot{x}\\; {}^A \\hat e_x + \\dot{y}\\;{}^A \\hat e_y, \\  (- y \\dot{\\theta} + \\dot{x})\\; {}^A \\hat e_x + (x \\dot{\\theta} + \\dot{y})\\;{}^A \\hat e_y\\right)$"
      ],
      "text/plain": [
       "(ẋ a_x + ẏ a_y, (-y⋅θ̇ + ẋ) a_x + (x⋅θ̇ + ẏ) a_y)"
      ]
     },
     "execution_count": 63,
     "metadata": {},
     "output_type": "execute_result"
    }
   ],
   "source": [
    "vecP = x*A.x + y*A.y\n",
    "vecP.dt(A), vecP.dt(F)"
   ]
  },
  {
   "cell_type": "code",
   "execution_count": 64,
   "metadata": {},
   "outputs": [
    {
     "data": {
      "image/png": "[encoded data removed]",
      "text/latex": [
       "$\\displaystyle (- \\Omega y + \\dot{x})\\; {}^A \\hat e_x + (\\Omega x + \\dot{y})\\;{}^A \\hat e_y$"
      ],
      "text/plain": [
       "(-Ω⋅y + ẋ) a_x + (Ω⋅x + ẏ) a_y"
      ]
     },
     "execution_count": 64,
     "metadata": {},
     "output_type": "execute_result"
    }
   ],
   "source": [
    "vecP.dt(F).subs(theta.diff(), omega)"
   ]
  },
  {
   "cell_type": "code",
   "execution_count": 65,
   "metadata": {},
   "outputs": [
    {
     "data": {
      "image/png": "[encoded data removed]",
      "text/latex": [
       "$\\displaystyle (- \\Omega^{2} x - 2 \\Omega \\dot{y} + \\ddot{x})\\; {}^A \\hat e_x + (- \\Omega^{2} y + 2 \\Omega \\dot{x} + \\ddot{y})\\;{}^A \\hat e_y$"
      ],
      "text/plain": [
       "⎛   2              ⎞       ⎛   2              ⎞\n",
       "⎝- Ω ⋅x - 2⋅Ω⋅ẏ + ẍ⎠ a_x + ⎝- Ω ⋅y + 2⋅Ω⋅ẋ + ÿ⎠ a_y"
      ]
     },
     "execution_count": 65,
     "metadata": {},
     "output_type": "execute_result"
    }
   ],
   "source": [
    "(vecP.dt(F)\n",
    " .dt(F)\n",
    " .subs(theta.diff().diff(), 0)\n",
    " .subs(theta.diff(), omega)\n",
    " .simplify()\n",
    " )"
   ]
  },
  {
   "cell_type": "code",
   "execution_count": 66,
   "metadata": {},
   "outputs": [
    {
     "data": {
      "image/png": "[encoded data removed]",
      "text/latex": [
       "$\\displaystyle \\left( x, \\  y, \\  \\theta, \\  \\dot{\\theta}\\right)$"
      ],
      "text/plain": [
       "(x, y, θ, θ̇)"
      ]
     },
     "execution_count": 66,
     "metadata": {},
     "output_type": "execute_result"
    }
   ],
   "source": [
    "t = sp.symbols(\"Omega t\", real=True, positive=True)\n",
    "x, y, theta = spv.dynamicsymbols(\"x, y, theta\", level=0)\n",
    "Omega = theta.diff()\n",
    "x, y, theta, Omega"
   ]
  },
  {
   "cell_type": "code",
   "execution_count": 67,
   "metadata": {},
   "outputs": [],
   "source": [
    "F = RAOreference_frame(\"F\", x=r\"E_x\", y=r\"E_y\", z=r\"E_z\")\n",
    "A = RAOreference_frame(\"A\", x=r\"e_x\", y=r\"e_y\", z=r\"e_z\")\n",
    "A.orient_axis(F, F.z, theta)"
   ]
  },
  {
   "cell_type": "code",
   "execution_count": 68,
   "metadata": {},
   "outputs": [
    {
     "data": {
      "image/png": "[encoded data removed]",
      "text/latex": [
       "$\\displaystyle \\left( \\dot{x}\\; {}^A \\hat e_x + \\dot{y}\\;{}^A \\hat e_y, \\  (- y \\dot{\\theta} + \\dot{x})\\; {}^A \\hat e_x + (x \\dot{\\theta} + \\dot{y})\\;{}^A \\hat e_y, \\  (- \\Omega y + \\dot{x})\\; {}^A \\hat e_x + (\\Omega x + \\dot{y})\\;{}^A \\hat e_y\\right)$"
      ],
      "text/plain": [
       "(ẋ a_x + ẏ a_y, (-y⋅θ̇ + ẋ) a_x + (x⋅θ̇ + ẏ) a_y, (-Ω⋅y + ẋ) a_x + (Ω⋅x +\n",
       " ẏ) a_y)"
      ]
     },
     "execution_count": 68,
     "metadata": {},
     "output_type": "execute_result"
    }
   ],
   "source": [
    "vecP = x*A.x + y*A.y\n",
    "vecP.dt(A), vecP.dt(F), vecP.dt(F).subs(theta.diff(), omega)"
   ]
  },
  {
   "cell_type": "code",
   "execution_count": 69,
   "metadata": {},
   "outputs": [
    {
     "data": {
      "image/png": "[encoded data removed]",
      "text/latex": [
       "$\\displaystyle (- \\Omega^{2} x - 2 \\Omega \\dot{y} + \\ddot{x})\\; {}^A \\hat e_x + (- \\Omega^{2} y + 2 \\Omega \\dot{x} + \\ddot{y})\\;{}^A \\hat e_y$"
      ],
      "text/plain": [
       "⎛   2              ⎞       ⎛   2              ⎞\n",
       "⎝- Ω ⋅x - 2⋅Ω⋅ẏ + ẍ⎠ a_x + ⎝- Ω ⋅y + 2⋅Ω⋅ẋ + ÿ⎠ a_y"
      ]
     },
     "execution_count": 69,
     "metadata": {},
     "output_type": "execute_result"
    }
   ],
   "source": [
    "(vecP.dt(F)\n",
    " .dt(F)\n",
    " .subs(theta.diff().diff(), 0)\n",
    " .subs(theta.diff(), omega)\n",
    " .simplify()\n",
    " )"
   ]
  },
  {
   "cell_type": "code",
   "execution_count": 70,
   "metadata": {},
   "outputs": [],
   "source": [
    "F = RAOreference_frame(\"F\", x=r\"E_x\", y=r\"E_y\", z=r\"E_z\")\n",
    "A = RAOreference_frame(\"A\", x=r\"e_x\", y=r\"e_y\", z=r\"e_z\")\n",
    "A.orient_axis(F, F.z, theta)"
   ]
  },
  {
   "cell_type": "code",
   "execution_count": 71,
   "metadata": {},
   "outputs": [
    {
     "data": {
      "image/png": "[encoded data removed]",
      "text/latex": [
       "$\\displaystyle \\left( \\dot{x}\\; {}^A \\hat e_x + \\dot{y}\\;{}^A \\hat e_y, \\  (- y \\dot{\\theta} + \\dot{x})\\; {}^A \\hat e_x + (x \\dot{\\theta} + \\dot{y})\\;{}^A \\hat e_y\\right)$"
      ],
      "text/plain": [
       "(ẋ a_x + ẏ a_y, (-y⋅θ̇ + ẋ) a_x + (x⋅θ̇ + ẏ) a_y)"
      ]
     },
     "execution_count": 71,
     "metadata": {},
     "output_type": "execute_result"
    }
   ],
   "source": [
    "vecP = x*A.x + y*A.y\n",
    "vecP.dt(A), vecP.dt(F)"
   ]
  },
  {
   "cell_type": "code",
   "execution_count": 72,
   "metadata": {},
   "outputs": [
    {
     "data": {
      "image/png": "[encoded data removed]",
      "text/latex": [
       "$\\displaystyle (- \\Omega y + \\dot{x})\\; {}^A \\hat e_x + (\\Omega x + \\dot{y})\\;{}^A \\hat e_y$"
      ],
      "text/plain": [
       "(-Ω⋅y + ẋ) a_x + (Ω⋅x + ẏ) a_y"
      ]
     },
     "execution_count": 72,
     "metadata": {},
     "output_type": "execute_result"
    }
   ],
   "source": [
    "vecP.dt(F).subs(theta.diff(), omega)"
   ]
  },
  {
   "cell_type": "code",
   "execution_count": 73,
   "metadata": {},
   "outputs": [
    {
     "data": {
      "image/png": "[encoded data removed]",
      "text/latex": [
       "$\\displaystyle (- \\Omega^{2} x - 2 \\Omega \\dot{y} + \\ddot{x})\\; {}^A \\hat e_x + (- \\Omega^{2} y + 2 \\Omega \\dot{x} + \\ddot{y})\\;{}^A \\hat e_y$"
      ],
      "text/plain": [
       "⎛   2              ⎞       ⎛   2              ⎞\n",
       "⎝- Ω ⋅x - 2⋅Ω⋅ẏ + ẍ⎠ a_x + ⎝- Ω ⋅y + 2⋅Ω⋅ẋ + ÿ⎠ a_y"
      ]
     },
     "execution_count": 73,
     "metadata": {},
     "output_type": "execute_result"
    }
   ],
   "source": [
    "(vecP.dt(F)\n",
    " .dt(F)\n",
    " .subs(theta.diff().diff(), 0)\n",
    " .subs(theta.diff(), omega)\n",
    " .simplify()\n",
    " )"
   ]
  },
  {
   "attachments": {},
   "cell_type": "markdown",
   "metadata": {},
   "source": [
    "__With Functions of time__"
   ]
  },
  {
   "cell_type": "code",
   "execution_count": 74,
   "metadata": {},
   "outputs": [
    {
     "data": {
      "text/plain": [
       "(x, y, theta, x(t), y(t), theta(t))"
      ]
     },
     "execution_count": 74,
     "metadata": {},
     "output_type": "execute_result"
    }
   ],
   "source": [
    "omega, t = sp.symbols(\"Omega t\", real=True, positive=True)\n",
    "x, y, theta = sp.symbols(\"x, y, theta\", cls=sp.Function)\n",
    "x, y, theta, x(t), y(t), theta(t)"
   ]
  },
  {
   "cell_type": "code",
   "execution_count": 75,
   "metadata": {},
   "outputs": [],
   "source": [
    "F = RAOreference_frame(\"F\", x=r\"E_x\", y=r\"E_y\", z=r\"E_z\")\n",
    "A = RAOreference_frame(\"A\", x=r\"e_x\", y=r\"e_y\", z=r\"e_z\")\n",
    "A.orient_axis(F, F.z, theta(t))"
   ]
  },
  {
   "cell_type": "code",
   "execution_count": 76,
   "metadata": {},
   "outputs": [
    {
     "data": {
      "image/png": "[encoded data removed]",
      "text/latex": [
       "$\\displaystyle x{\\left(t \\right)}\\; {}^A \\hat e_x + y{\\left(t \\right)}\\;{}^A \\hat e_y$"
      ],
      "text/plain": [
       "x(t) a_x + y(t) a_y"
      ]
     },
     "execution_count": 76,
     "metadata": {},
     "output_type": "execute_result"
    }
   ],
   "source": [
    "vecP = x(t)*A.x + y(t)*A.y\n",
    "vecP"
   ]
  },
  {
   "cell_type": "code",
   "execution_count": 79,
   "metadata": {},
   "outputs": [
    {
     "data": {
      "image/png": "[encoded data removed]",
      "text/latex": [
       "$\\displaystyle (- \\Omega x{\\left(t \\right)} \\sin{\\left(\\theta{\\left(t \\right)} \\right)} - \\Omega y{\\left(t \\right)} \\cos{\\left(\\theta{\\left(t \\right)} \\right)} - \\sin{\\left(\\theta{\\left(t \\right)} \\right)} \\frac{d}{d t} y{\\left(t \\right)} + \\cos{\\left(\\theta{\\left(t \\right)} \\right)} \\frac{d}{d t} x{\\left(t \\right)})\\; {}^F \\hat E_x + (\\Omega x{\\left(t \\right)} \\cos{\\left(\\theta{\\left(t \\right)} \\right)} - \\Omega y{\\left(t \\right)} \\sin{\\left(\\theta{\\left(t \\right)} \\right)} + \\sin{\\left(\\theta{\\left(t \\right)} \\right)} \\frac{d}{d t} x{\\left(t \\right)} + \\cos{\\left(\\theta{\\left(t \\right)} \\right)} \\frac{d}{d t} y{\\left(t \\right)})\\;{}^F \\hat E_y$"
      ],
      "text/plain": [
       "⎛                                                 d                    d\n",
       "⎜-Ω⋅x(t)⋅sin(θ(t)) - Ω⋅y(t)⋅cos(θ(t)) - sin(θ(t))⋅──(y(t)) + cos(θ(t))⋅──(x(t)\n",
       "⎝                                                 dt                   dt\n",
       "\n",
       " ⎞       ⎛                                                d\n",
       ")⎟ f_x + ⎜Ω⋅x(t)⋅cos(θ(t)) - Ω⋅y(t)⋅sin(θ(t)) + sin(θ(t))⋅──(x(t)) + cos(θ(t))\n",
       " ⎠       ⎝                                                dt\n",
       "\n",
       " d       ⎞\n",
       "⋅──(y(t))⎟ f_y\n",
       " dt      ⎠"
      ]
     },
     "execution_count": 79,
     "metadata": {},
     "output_type": "execute_result"
    }
   ],
   "source": [
    "(vecP.diff(t, F)\n",
    " .simplify()\n",
    " .subs(theta(t).diff(t), omega)\n",
    ")"
   ]
  },
  {
   "cell_type": "code",
   "execution_count": 40,
   "metadata": {},
   "outputs": [
    {
     "data": {
      "image/png": "[encoded data removed]",
      "text/latex": [
       "$\\displaystyle (- \\Omega^{2} x{\\left(t \\right)} \\cos{\\left(\\theta{\\left(t \\right)} \\right)} + \\Omega^{2} y{\\left(t \\right)} \\sin{\\left(\\theta{\\left(t \\right)} \\right)} - 2 \\Omega \\sin{\\left(\\theta{\\left(t \\right)} \\right)} \\frac{d}{d t} x{\\left(t \\right)} - 2 \\Omega \\cos{\\left(\\theta{\\left(t \\right)} \\right)} \\frac{d}{d t} y{\\left(t \\right)} - \\sin{\\left(\\theta{\\left(t \\right)} \\right)} \\frac{d^{2}}{d t^{2}} y{\\left(t \\right)} + \\cos{\\left(\\theta{\\left(t \\right)} \\right)} \\frac{d^{2}}{d t^{2}} x{\\left(t \\right)})\\; {}^F \\hat E_x + (- \\Omega^{2} x{\\left(t \\right)} \\sin{\\left(\\theta{\\left(t \\right)} \\right)} - \\Omega^{2} y{\\left(t \\right)} \\cos{\\left(\\theta{\\left(t \\right)} \\right)} - 2 \\Omega \\sin{\\left(\\theta{\\left(t \\right)} \\right)} \\frac{d}{d t} y{\\left(t \\right)} + 2 \\Omega \\cos{\\left(\\theta{\\left(t \\right)} \\right)} \\frac{d}{d t} x{\\left(t \\right)} + \\sin{\\left(\\theta{\\left(t \\right)} \\right)} \\frac{d^{2}}{d t^{2}} x{\\left(t \\right)} + \\cos{\\left(\\theta{\\left(t \\right)} \\right)} \\frac{d^{2}}{d t^{2}} y{\\left(t \\right)})\\;{}^F \\hat E_y$"
      ],
      "text/plain": [
       "⎛\n",
       "⎜   2                   2                                d\n",
       "⎜- Ω ⋅x(t)⋅cos(θ(t)) + Ω ⋅y(t)⋅sin(θ(t)) - 2⋅Ω⋅sin(θ(t))⋅──(x(t)) - 2⋅Ω⋅cos(θ(\n",
       "⎜                                                        dt\n",
       "⎝\n",
       "\n",
       "                           2                     2      ⎞       ⎛\n",
       "    d                     d                     d       ⎟       ⎜   2\n",
       "t))⋅──(y(t)) - sin(θ(t))⋅───(y(t)) + cos(θ(t))⋅───(x(t))⎟ f_x + ⎜- Ω ⋅x(t)⋅sin\n",
       "    dt                     2                     2      ⎟       ⎜\n",
       "                         dt                    dt       ⎠       ⎝\n",
       "\n",
       "\n",
       "          2                                d                        d\n",
       "(θ(t)) - Ω ⋅y(t)⋅cos(θ(t)) - 2⋅Ω⋅sin(θ(t))⋅──(y(t)) + 2⋅Ω⋅cos(θ(t))⋅──(x(t)) +\n",
       "                                           dt                       dt\n",
       "\n",
       "\n",
       "             2                     2      ⎞\n",
       "            d                     d       ⎟\n",
       " sin(θ(t))⋅───(x(t)) + cos(θ(t))⋅───(y(t))⎟ f_y\n",
       "             2                     2      ⎟\n",
       "           dt                    dt       ⎠"
      ]
     },
     "execution_count": 40,
     "metadata": {},
     "output_type": "execute_result"
    }
   ],
   "source": [
    "\n",
    "(vecP.diff(t, F).diff(t, F)\n",
    " .simplify()\n",
    " .subs(theta(t).diff(t).diff(t), 0)\n",
    " .subs(theta(t).diff(t), omega)\n",
    ")"
   ]
  },
  {
   "attachments": {},
   "cell_type": "markdown",
   "metadata": {},
   "source": [
    "# Rotation Formulae\n",
    "\n",
    "$$\n",
    "{}^{\\mathcal A}\\frac{d \\mathbf v}{d t} = \n",
    "        {}^{\\mathcal A}\\frac{d \\mathbf r}{d t} =\n",
    "            {}^{\\mathcal B}\\frac{d \\mathbf r}{d t} +\n",
    "                {}^A{\\mathbf \\omega^B} \\times \\mathbf r \n",
    "$$\n",
    "\n",
    "$$\n",
    "{}^{\\mathcal A} \\mathbf v = \n",
    "    {}^{\\mathcal B} \\mathbf v +\n",
    "        {}^A{\\mathbf \\omega^B} \\times \\mathbf r\n",
    "$$\n",
    "\n",
    "\n",
    "$$\n",
    "{}^{\\mathcal A} \\mathbf a = \n",
    "    {}^{\\mathcal B} \\mathbf a \n",
    "        + {}^A \\alpha^\\mathcal{B} \\times \\mathbf r \n",
    "        + { 2 \\cdot {}^A{\\mathbf \\omega^B} } \\times {}^{\\mathcal B} \\mathbf v\n",
    "        + x {}^A{\\mathbf \\omega^B} \\times ({}^A{\\mathbf \\omega^B} \\times \\mathbf r²)\n",
    "$$\n"
   ]
  },
  {
   "cell_type": "code",
   "execution_count": 41,
   "metadata": {},
   "outputs": [
    {
     "data": {
      "text/plain": [
       "(x, y, theta, x(t), y(t), theta(t))"
      ]
     },
     "execution_count": 41,
     "metadata": {},
     "output_type": "execute_result"
    }
   ],
   "source": [
    "omega, t = sp.symbols(\"Omega t\", real=True, positive=True)\n",
    "x, y, theta = sp.symbols(\"x, y, theta\", cls=sp.Function)\n",
    "x, y, theta, x(t), y(t), theta(t)"
   ]
  },
  {
   "cell_type": "code",
   "execution_count": 42,
   "metadata": {},
   "outputs": [
    {
     "data": {
      "image/png": "[encoded data removed]",
      "text/latex": [
       "$\\displaystyle x{\\left(t \\right)}\\; {}^A \\hat e_x + y{\\left(t \\right)}\\;{}^A \\hat e_y$"
      ],
      "text/plain": [
       "x(t) a_x + y(t) a_y"
      ]
     },
     "execution_count": 42,
     "metadata": {},
     "output_type": "execute_result"
    }
   ],
   "source": [
    "vecP = x(t)*A.x + y(t)*A.y\n",
    "vecP"
   ]
  },
  {
   "cell_type": "code",
   "execution_count": 43,
   "metadata": {},
   "outputs": [
    {
     "data": {
      "image/png": "[encoded data removed]",
      "text/latex": [
       "$\\displaystyle \\frac{d}{d t} x{\\left(t \\right)}\\; {}^A \\hat e_x + \\frac{d}{d t} y{\\left(t \\right)}\\;{}^A \\hat e_y$"
      ],
      "text/plain": [
       "d              d\n",
       "──(x(t)) a_x + ──(y(t)) a_y\n",
       "dt             dt"
      ]
     },
     "execution_count": 43,
     "metadata": {},
     "output_type": "execute_result"
    }
   ],
   "source": [
    "vecP.diff(t, A)"
   ]
  },
  {
   "cell_type": "code",
   "execution_count": 44,
   "metadata": {},
   "outputs": [
    {
     "data": {
      "image/png": "[encoded data removed]",
      "text/latex": [
       "$\\displaystyle (- y{\\left(t \\right)} \\frac{d}{d t} \\theta{\\left(t \\right)} + \\frac{d}{d t} x{\\left(t \\right)})\\; {}^A \\hat e_x + (x{\\left(t \\right)} \\frac{d}{d t} \\theta{\\left(t \\right)} + \\frac{d}{d t} y{\\left(t \\right)})\\;{}^A \\hat e_y$"
      ],
      "text/plain": [
       "⎛       d          d       ⎞       ⎛     d          d       ⎞\n",
       "⎜- y(t)⋅──(θ(t)) + ──(x(t))⎟ a_x + ⎜x(t)⋅──(θ(t)) + ──(y(t))⎟ a_y\n",
       "⎝       dt         dt      ⎠       ⎝     dt         dt      ⎠"
      ]
     },
     "execution_count": 44,
     "metadata": {},
     "output_type": "execute_result"
    }
   ],
   "source": [
    "(vecP.diff(t, A) + spv.cross(theta(t).diff(t)*F.z, vecP)).express(A)  # .simplify()"
   ]
  },
  {
   "attachments": {},
   "cell_type": "markdown",
   "metadata": {},
   "source": [
    "# Translation\n",
    "\n",
    "\\begin{split}\n",
    "    \\mathbf{r}^{OP} \\textrm{, the position vector from } O\\textrm{ to }P\\\\\n",
    "    ^{\\mathbf{N}}\\mathbf{v}^P \\textrm{, the velocity of } P\n",
    "        \\textrm{ in the reference frame } \\mathbf{N}\\\\\n",
    "    ^{\\mathbf{N}}\\mathbf{a}^P \\textrm{, the acceleration of } P\n",
    "        \\textrm{ in the reference frame } \\mathbf{N}\\\\\n",
    "\\end{split}"
   ]
  },
  {
   "cell_type": "code",
   "execution_count": 45,
   "metadata": {},
   "outputs": [],
   "source": [
    "N = RAOreference_frame(\"N\", x=r\"n_x\", y=r\"n_y\", z=r\"n_z\")"
   ]
  },
  {
   "cell_type": "code",
   "execution_count": 46,
   "metadata": {},
   "outputs": [],
   "source": [
    "q_x, q_y = spv.dynamicsymbols(\"q_x, q_y\", level=0)"
   ]
  },
  {
   "cell_type": "code",
   "execution_count": 47,
   "metadata": {},
   "outputs": [
    {
     "data": {
      "text/latex": [
       "$\\displaystyle  q_{x}\\; {}^N \\hat n_x + q_{y}\\;{}^N \\hat n_y\\quad   \\dot{q}_{x}\\; {}^N \\hat n_x + \\dot{q}_{y}\\;{}^N \\hat n_y\\quad   \\ddot{q}_{x}\\; {}^N \\hat n_x + \\ddot{q}_{y}\\;{}^N \\hat n_y\\quad $"
      ],
      "text/plain": [
       "<IPython.core.display.Math object>"
      ]
     },
     "metadata": {},
     "output_type": "display_data"
    }
   ],
   "source": [
    "r_OP = q_x*N.x + q_y*N.y\n",
    "v_NP = r_OP.dt(N)\n",
    "a_NP = v_NP.dt(N)\n",
    "\n",
    "ipd.display(\n",
    "    ipd.Math(\n",
    "        rf'$ {spv.vlatex(r_OP)}\\quad '\n",
    "        rf'  {spv.vlatex(v_NP)}\\quad '\n",
    "        rf'  {spv.vlatex(a_NP)}\\quad $'\n",
    "    )\n",
    ")"
   ]
  },
  {
   "attachments": {},
   "cell_type": "markdown",
   "metadata": {},
   "source": [
    "__Translating, rotating disc__\n",
    "\n",
    "![](./images/kin_1.png)\n",
    "\n",
    "__Solution to rotating disc using Vectors directly and not using \n",
    "point theory__\n",
    "\n",
    "see example in [this document](https://docs.sympy.org/latest/modules/physics/vector/kinematics.html)"
   ]
  },
  {
   "cell_type": "code",
   "execution_count": 48,
   "metadata": {},
   "outputs": [],
   "source": [
    "u_1, u_2, u_3 = spv.dynamicsymbols(\"u_1, u_2, u_3\", level=0)\n",
    "o_1, o_2, o_3 = spv.dynamicsymbols(\"o_1, o_2, o_3\", level=0)\n",
    "R = sp.symbols(\"R\", real=True, positive=True)"
   ]
  },
  {
   "cell_type": "code",
   "execution_count": 49,
   "metadata": {},
   "outputs": [],
   "source": [
    "N = reference_frame('N', x=r'x', y=r'y', z=r'z')\n",
    "B = reference_frame('B', x=r'x', y=r'y', z=r'z')\n",
    "B.set_ang_vel(N, u_3*B.z)"
   ]
  },
  {
   "cell_type": "code",
   "execution_count": 50,
   "metadata": {},
   "outputs": [
    {
     "data": {
      "text/latex": [
       "$\\displaystyle o_{1}\\; {}^\\mathcal N \\hat x + o_{2}\\;{}^\\mathcal N \\hat y + o_{3}\\: {}^\\mathcal N \\hat {z}$"
      ],
      "text/plain": [
       "o₁ n_x + o₂ n_y + o₃ n_z"
      ]
     },
     "execution_count": 50,
     "metadata": {},
     "output_type": "execute_result"
    }
   ],
   "source": [
    "r_O = o_1*N.x + o_2*N.y + o_3*N.z\n",
    "r_O"
   ]
  },
  {
   "cell_type": "code",
   "execution_count": 51,
   "metadata": {},
   "outputs": [
    {
     "data": {
      "text/latex": [
       "$\\displaystyle o_{1}\\; {}^\\mathcal N \\hat x + o_{2}\\;{}^\\mathcal N \\hat y + o_{3}\\: {}^\\mathcal N \\hat {z} + R\\; {}^\\mathcal B \\hat x$"
      ],
      "text/plain": [
       "o₁ n_x + o₂ n_y + o₃ n_z + R b_x"
      ]
     },
     "execution_count": 51,
     "metadata": {},
     "output_type": "execute_result"
    }
   ],
   "source": [
    "r_P = r_O + R*B.x\n",
    "r_P"
   ]
  },
  {
   "cell_type": "code",
   "execution_count": 52,
   "metadata": {},
   "outputs": [
    {
     "data": {
      "text/latex": [
       "$\\displaystyle u_{1}\\; {}^\\mathcal N \\hat x + u_{2}\\;{}^\\mathcal N \\hat y + R u_{3}\\;{}^\\mathcal B \\hat y$"
      ],
      "text/plain": [
       "u₁ n_x + u₂ n_y + R⋅u₃ b_y"
      ]
     },
     "execution_count": 52,
     "metadata": {},
     "output_type": "execute_result"
    }
   ],
   "source": [
    "(\n",
    "    r_P.dt(N)\n",
    "    .subs(o_1.diff(), u_1)\n",
    "    .subs(o_2.diff(), u_2)\n",
    "    .subs(o_3.diff(), 0)\n",
    ")"
   ]
  },
  {
   "cell_type": "code",
   "execution_count": 53,
   "metadata": {},
   "outputs": [
    {
     "data": {
      "text/latex": [
       "$\\displaystyle \\dot{u}_{1}\\; {}^\\mathcal N \\hat x + \\dot{u}_{2}\\;{}^\\mathcal N \\hat y -  R u_{3}^{2}\\; {}^\\mathcal B \\hat x + R \\dot{u}_{3}\\;{}^\\mathcal B \\hat y$"
      ],
      "text/plain": [
       "                       2\n",
       "u₁̇ n_x + u₂̇ n_y + -R⋅u₃  b_x + R⋅u₃̇ b_y"
      ]
     },
     "execution_count": 53,
     "metadata": {},
     "output_type": "execute_result"
    }
   ],
   "source": [
    "(\n",
    "    r_P.dt(N).dt(N)\n",
    "    .subs(o_1.diff().diff(), u_1.diff())\n",
    "    .subs(o_2.diff().diff(), u_2.diff())\n",
    "    .subs(o_3.diff().diff(), 0)\n",
    ")\n"
   ]
  },
  {
   "cell_type": "markdown",
   "metadata": {},
   "source": [
    "# Intrinsic coordinates"
   ]
  },
  {
   "cell_type": "code",
   "execution_count": 54,
   "metadata": {},
   "outputs": [],
   "source": [
    "F = RAOreference_frame(\"F\", x=r\"E_x\", y=r\"E_y\", z=r\"E_z\")\n",
    "m, g, R = sp.symbols(\"m, g, R\", real=True, positive=True)\n",
    "r = spv.dynamicsymbols(\"r\", real=True, level=0)\n",
    "y = r**2/2/R\n",
    "P = r*F.x + y*F.y\n",
    "vtP = P.dt(F)"
   ]
  },
  {
   "cell_type": "code",
   "execution_count": 55,
   "metadata": {},
   "outputs": [],
   "source": [
    "hat_vtP = vtP.normalize()\n",
    "hat_vnP = F.z.cross(hat_vtP)\n",
    "assert hat_vtP.magnitude().simplify() == 1\n",
    "assert hat_vnP.magnitude().simplify() == 1 # Unit vector\n",
    "assert hat_vtP.dot(hat_vnP) == 0           # Orthoganal"
   ]
  }
 ],
 "metadata": {
  "kernelspec": {
   "display_name": "3.9",
   "language": "python",
   "name": "python3"
  },
  "language_info": {
   "codemirror_mode": {
    "name": "ipython",
    "version": 3
   },
   "file_extension": ".py",
   "mimetype": "text/x-python",
   "name": "python",
   "nbconvert_exporter": "python",
   "pygments_lexer": "ipython3",
   "version": "3.10.10"
  },
  "orig_nbformat": 4,
  "vscode": {
   "interpreter": {
    "hash": "439944bd8008f2f069e15c63249790d203ae4a03debaae97ad3c7d6c011f8ad2"
   }
  }
 },
 "nbformat": 4,
 "nbformat_minor": 2
}
