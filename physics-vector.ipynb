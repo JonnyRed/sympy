{
 "cells": [
  {
   "cell_type": "code",
   "execution_count": 2,
   "metadata": {
    "collapsed": true,
    "jupyter": {
     "outputs_hidden": true
    }
   },
   "outputs": [],
   "source": [
    "import sys\n",
    "import math\n",
    "import string\n",
    "import operator\n",
    "import random\n",
    "import collections\n",
    "import datetime\n",
    "import itertools\n",
    "import functools\n",
    "\n",
    "import numpy as np\n",
    "import pandas as pd\n",
    "\n",
    "import matplotlib\n",
    "import matplotlib.dates as mdates\n",
    "import matplotlib.colors as mcolors\n",
    "import matplotlib.pyplot as plt\n",
    "from mpl_toolkits.mplot3d import Axes3D\n",
    "import seaborn as sns\n",
    "\n",
    "import IPython\n",
    "import sympy as sp\n",
    "import sympy.plotting as splt\n",
    "import sympy.physics.vector as spv\n",
    "import sympy.physics.mechanics as spm\n",
    "import scipy.constants as spc\n",
    "\n",
    "import IPython.display as ipd\n",
    "spv.init_vprinting()\n",
    "%matplotlib inline\n"
   ]
  },
  {
   "cell_type": "code",
   "execution_count": 3,
   "metadata": {
    "collapsed": true,
    "jupyter": {
     "outputs_hidden": true
    }
   },
   "outputs": [
    {
     "name": "stdout",
     "output_type": "stream",
     "text": [
      "\n",
      "    Python version 3.9.13 (main, Oct 13 2022, 21:23:06) [MSC v.1916 64 bit (AMD64)]\n",
      "    IPython version 8.4.0\n",
      "    Numpy version 1.23.3\n",
      "    mathplotlib version 3.5.2\n",
      "    Pandas version 1.4.4\n",
      "    Seaborn version 0.12.0\n",
      "    \n"
     ]
    }
   ],
   "source": [
    "print(f\"\"\"\n",
    "    Python version {sys.version}\n",
    "    IPython version {IPython.__version__}\n",
    "    Numpy version {np.__version__}\n",
    "    mathplotlib version {matplotlib.__version__}\n",
    "    Pandas version {pd.__version__}\n",
    "    Seaborn version {sns.__version__}\n",
    "    \"\"\"\n",
    "      )\n"
   ]
  },
  {
   "cell_type": "code",
   "execution_count": 4,
   "metadata": {
    "collapsed": true,
    "jupyter": {
     "outputs_hidden": true
    }
   },
   "outputs": [],
   "source": [
    "def directory(obj):\n",
    "    return [\n",
    "        str for str in dir(obj)\n",
    "        if callable(getattr(obj, str)) & ~str.startswith('_')\n",
    "    ]\n"
   ]
  },
  {
   "cell_type": "code",
   "execution_count": 5,
   "metadata": {
    "collapsed": true,
    "jupyter": {
     "outputs_hidden": true
    }
   },
   "outputs": [
    {
     "name": "stdout",
     "output_type": "stream",
     "text": [
      "Audio          JSON               Video               display_markdown      \n",
      "Code           Javascript         VimeoVideo          display_pdf           \n",
      "DisplayHandle  Latex              YouTubeVideo        display_png           \n",
      "DisplayObject  Markdown           clear_output        display_pretty        \n",
      "FileLink       Math               display             display_svg           \n",
      "FileLinks      Pretty             display_html        publish_display_data  \n",
      "GeoJSON        ProgressBar        display_javascript  set_matplotlib_close  \n",
      "HTML           SVG                display_jpeg        set_matplotlib_formats\n",
      "IFrame         ScribdDocument     display_json        update_display        \n",
      "Image          TextDisplayObject  display_latex     \n",
      "\n"
     ]
    }
   ],
   "source": [
    "print(IPython.utils.text.columnize(directory(ipd)))\n"
   ]
  },
  {
   "cell_type": "code",
   "execution_count": 6,
   "metadata": {
    "collapsed": true,
    "jupyter": {
     "outputs_hidden": true
    }
   },
   "outputs": [
    {
     "name": "stdout",
     "output_type": "stream",
     "text": [
      "Catalan           Naturals            __dir__            __ne__             \n",
      "ComplexInfinity   Naturals0           __doc__            __new__            \n",
      "Complexes         NegativeInfinity    __eq__             __reduce__         \n",
      "EmptySequence     NegativeOne         __format__         __reduce_ex__      \n",
      "EmptySet          One                 __ge__             __repr__           \n",
      "EulerGamma        Pi                  __getattr__        __setattr__        \n",
      "Exp1              Rationals           __getattribute__   __sizeof__         \n",
      "GoldenRatio       Reals               __gt__             __slots__          \n",
      "Half              TribonacciConstant  __hash__           __str__            \n",
      "IdentityFunction  UniversalSet        __init__           __subclasshook__   \n",
      "ImaginaryUnit     Zero                __init_subclass__  _classes_to_install\n",
      "Infinity          __call__            __le__             false              \n",
      "Integers          __class__           __lt__             register           \n",
      "NaN               __delattr__         __module__         true               \n",
      "\n"
     ]
    }
   ],
   "source": [
    "print(IPython.utils.text.columnize(dir(sp.S)))\n"
   ]
  },
  {
   "cell_type": "code",
   "execution_count": 7,
   "metadata": {},
   "outputs": [],
   "source": [
    "HALF = sp.S.Half\n",
    "PI = sp.pi\n",
    "E = sp.exp\n",
    "POSITIVEINFINITY = sp.S.Infinity\n"
   ]
  },
  {
   "cell_type": "markdown",
   "metadata": {},
   "source": [
    "# Support Functions"
   ]
  },
  {
   "cell_type": "code",
   "execution_count": 8,
   "metadata": {},
   "outputs": [],
   "source": [
    "def reference_frame(\n",
    "    frame: str,\n",
    "    x=r'\\imath', y=r'\\jmath', z=r'\\mathbf k'\n",
    ") -> spv.ReferenceFrame:\n",
    "    return spv.RAOreference_frame(\n",
    "        frame, latexs=(\n",
    "            fr'\\; {{}}^\\mathcal {frame} \\hat {x}',\n",
    "            fr'\\;{{}}^\\mathcal {frame} \\hat {y}',\n",
    "            fr'\\: {{}}^\\mathcal {frame} \\hat {{z}}'\n",
    "        )\n",
    "    )\n",
    "\n",
    "\n",
    "def RAOreference_frame(\n",
    "    frame: str,\n",
    "    x=r'e_1', y='e_2', z=r'e_3'\n",
    ") -> spv.ReferenceFrame:\n",
    "    return spv.ReferenceFrame(\n",
    "        frame, latexs=(\n",
    "            fr'\\; {{}}^{frame} \\hat {x}',\n",
    "            fr'\\;{{}}^{frame} \\hat {y}',\n",
    "            fr'\\: {{}}^{frame} \\hat {z}'\n",
    "        )\n",
    "    )\n",
    "\n",
    "\n",
    "def vector(F: spv.ReferenceFrame, rx, ry, rz=0) -> spv.Vector:\n",
    "    return rx*F.x + ry*F.y + rz*F.z\n",
    "\n",
    "\n",
    "def vector_cos(\n",
    "    F: spv.ReferenceFrame, magnitude,\n",
    "    anglex, angley, anglez=sp.pi/2\n",
    ") -> spv.Vector:\n",
    "    return (magnitude *\n",
    "            (sp.cos(anglex)*F.x\n",
    "             + sp.cos(angley)*F.y\n",
    "             + sp.cos(anglez)*F.z\n",
    "             )\n",
    "            )\n",
    "\n",
    "\n",
    "def vector_line(\n",
    "    start: spv.Vector, finish: spv.Vector\n",
    ") -> spv.Vector:\n",
    "    return finish - start\n",
    "\n",
    "\n",
    "def vector_line_eqn(\n",
    "    F: spv.ReferenceFrame, start: spv.Vector, finish: spv.Vector, kappa\n",
    ") -> spv.Vector:\n",
    "    return start + vector_line(start, finish).normalize()*kappa\n",
    "\n",
    "\n",
    "def angle_between_vectors(a: spv.Vector, b: spv.Vector):\n",
    "    return sp.acos(a.dot(b)/a.magnitude()/b.magnitude())\n",
    "\n",
    "\n",
    "def make2Dsymbols(symbol_list):\n",
    "    return [\n",
    "        sp.symbols(f\"{ch}_x:y\", real=True)\n",
    "        for ch in symbol_list\n",
    "    ]\n",
    "\n",
    "\n",
    "F, E = make2Dsymbols(['F', 'E'])\n",
    "assert str(F) == '(F_x, F_y)'\n",
    "assert str(E) == '(E_x, E_y)'\n"
   ]
  },
  {
   "attachments": {},
   "cell_type": "markdown",
   "metadata": {},
   "source": [
    "# Physics Vector"
   ]
  },
  {
   "cell_type": "code",
   "execution_count": 9,
   "metadata": {},
   "outputs": [
    {
     "data": {
      "image/png": "[encoded data removed]",
      "text/latex": [
       "$\\displaystyle \\left( \\; {}^E \\hat E_1, \\  \\;{}^E \\hat E_2, \\  \\: {}^E \\hat E_3\\right)$"
      ],
      "text/plain": [
       "(e_x, e_y, e_z)"
      ]
     },
     "execution_count": 9,
     "metadata": {},
     "output_type": "execute_result"
    }
   ],
   "source": [
    "E = RAOreference_frame(\"E\", \"E_1\", \"E_2\",\"E_3\")\n",
    "E.x, E.y, E.z"
   ]
  },
  {
   "cell_type": "code",
   "execution_count": 10,
   "metadata": {},
   "outputs": [
    {
     "data": {
      "image/png": "[encoded data removed]",
      "text/latex": [
       "$\\displaystyle \\left( \\; {}^A \\hat e_1, \\  \\;{}^A \\hat e_2, \\  \\: {}^A \\hat e_3\\right)$"
      ],
      "text/plain": [
       "(a_x, a_y, a_z)"
      ]
     },
     "execution_count": 10,
     "metadata": {},
     "output_type": "execute_result"
    }
   ],
   "source": [
    "A = RAOreference_frame(\"A\" )\n",
    "\n",
    "A.x, A.y, A.z"
   ]
  },
  {
   "cell_type": "code",
   "execution_count": 11,
   "metadata": {},
   "outputs": [
    {
     "data": {
      "image/png": "[encoded data removed]",
      "text/latex": [
       "$\\displaystyle \\left( c_{{1}{1}}, \\  c_{{1}{2}}, \\  c_{{1}{3}}, \\  c_{{2}{1}}, \\  c_{{2}{2}}, \\  c_{{2}{3}}, \\  c_{{3}{1}}, \\  c_{{3}{2}}, \\  c_{{3}{3}}\\right)$"
      ],
      "text/plain": [
       "(c_{{1}{1}}, c_{{1}{2}}, c_{{1}{3}}, c_{{2}{1}}, c_{{2}{2}}, c_{{2}{3}}, c_{{3\n",
       "}{1}}, c_{{3}{2}}, c_{{3}{3}})"
      ]
     },
     "execution_count": 11,
     "metadata": {},
     "output_type": "execute_result"
    }
   ],
   "source": [
    "c = sp.symbols(\"c_{{1:4}{1:4}}\")\n",
    "c"
   ]
  },
  {
   "attachments": {},
   "cell_type": "markdown",
   "metadata": {},
   "source": [
    "## DCM\n",
    "\n",
    "The orientation of a specific frame relative to its parent"
   ]
  },
  {
   "cell_type": "code",
   "execution_count": 12,
   "metadata": {},
   "outputs": [
    {
     "data": {
      "text/latex": [
       "$\\displaystyle \\left[\\begin{matrix}c_{{1}{1}} & c_{{1}{2}} & c_{{1}{3}}\\\\c_{{2}{1}} & c_{{2}{2}} & c_{{2}{3}}\\\\c_{{3}{1}} & c_{{3}{2}} & c_{{3}{3}}\\end{matrix}\\right]$"
      ],
      "text/plain": [
       "⎡c_{{1}{1}}  c_{{1}{2}}  c_{{1}{3}}⎤\n",
       "⎢                                  ⎥\n",
       "⎢c_{{2}{1}}  c_{{2}{2}}  c_{{2}{3}}⎥\n",
       "⎢                                  ⎥\n",
       "⎣c_{{3}{1}}  c_{{3}{2}}  c_{{3}{3}}⎦"
      ]
     },
     "execution_count": 12,
     "metadata": {},
     "output_type": "execute_result"
    }
   ],
   "source": [
    "A_DCM_E = sp.Matrix(3,3, c)\n",
    "A_DCM_E"
   ]
  },
  {
   "attachments": {},
   "cell_type": "markdown",
   "metadata": {},
   "source": [
    "__Orient Explicit__\n",
    "\n",
    "Sets the orientation of this reference frame relative to a \n",
    "parent reference frame by explicitly setting the direction \n",
    "cosine matrix."
   ]
  },
  {
   "cell_type": "code",
   "execution_count": 13,
   "metadata": {},
   "outputs": [],
   "source": [
    "A.orient_explicit(E, A_DCM_E)"
   ]
  },
  {
   "attachments": {},
   "cell_type": "markdown",
   "metadata": {},
   "source": [
    "__Returns the direction cosine matrix__\n",
    "\n",
    "The returned A matrix can be used A to express the orthogonal unit vectors \n",
    "of this frame in terms of the orthogonal unit vectors of otherframe.\n",
    "\n",
    "Notice that for ${}^{\\mathcal E} \\mathbf {e}_2$ is represents in the second row of E.dcm(E')"
   ]
  },
  {
   "cell_type": "code",
   "execution_count": 14,
   "metadata": {},
   "outputs": [
    {
     "data": {
      "text/latex": [
       "$\\displaystyle \\left( \\left[\\begin{matrix}c_{{1}{1}} & c_{{1}{2}} & c_{{1}{3}}\\\\c_{{2}{1}} & c_{{2}{2}} & c_{{2}{3}}\\\\c_{{3}{1}} & c_{{3}{2}} & c_{{3}{3}}\\end{matrix}\\right], \\  c_{{2}{1}}\\; {}^A \\hat e_1 + c_{{2}{2}}\\;{}^A \\hat e_2 + c_{{2}{3}}\\: {}^A \\hat e_3\\right)$"
      ],
      "text/plain": [
       "⎛⎡c_{{1}{1}}  c_{{1}{2}}  c_{{1}{3}}⎤, c_{{2}{1}} a_x + c_{{2}{2}} a_y + c_{{2\n",
       "⎜⎢                                  ⎥                                         \n",
       "⎜⎢c_{{2}{1}}  c_{{2}{2}}  c_{{2}{3}}⎥                                         \n",
       "⎜⎢                                  ⎥                                         \n",
       "⎝⎣c_{{3}{1}}  c_{{3}{2}}  c_{{3}{3}}⎦                                         \n",
       "\n",
       "}{3}} a_z⎞\n",
       "         ⎟\n",
       "         ⎟\n",
       "         ⎟\n",
       "         ⎠"
      ]
     },
     "execution_count": 14,
     "metadata": {},
     "output_type": "execute_result"
    }
   ],
   "source": [
    "E.dcm(A), E.y.express(A)"
   ]
  },
  {
   "cell_type": "code",
   "execution_count": 15,
   "metadata": {},
   "outputs": [
    {
     "data": {
      "image/png": "[encoded data removed]",
      "text/latex": [
       "$\\displaystyle \\left( \\left( a_{1}, \\  a_{2}, \\  a_{3}\\right), \\  \\left( b_{1}, \\  b_{2}, \\  b_{3}\\right)\\right)$"
      ],
      "text/plain": [
       "((a₁, a₂, a₃), (b₁, b₂, b₃))"
      ]
     },
     "execution_count": 15,
     "metadata": {},
     "output_type": "execute_result"
    }
   ],
   "source": [
    "a, b = [sp.symbols(f'{_}_1:4') for _ in ['a', 'b']]\n",
    "a, b "
   ]
  },
  {
   "cell_type": "code",
   "execution_count": 16,
   "metadata": {},
   "outputs": [
    {
     "data": {
      "text/latex": [
       "$\\displaystyle \\left[\\begin{matrix}c_{{1}{1}} & c_{{1}{2}} & c_{{1}{3}}\\\\c_{{2}{1}} & c_{{2}{2}} & c_{{2}{3}}\\\\c_{{3}{1}} & c_{{3}{2}} & c_{{3}{3}}\\end{matrix}\\right]$"
      ],
      "text/plain": [
       "⎡c_{{1}{1}}  c_{{1}{2}}  c_{{1}{3}}⎤\n",
       "⎢                                  ⎥\n",
       "⎢c_{{2}{1}}  c_{{2}{2}}  c_{{2}{3}}⎥\n",
       "⎢                                  ⎥\n",
       "⎣c_{{3}{1}}  c_{{3}{2}}  c_{{3}{3}}⎦"
      ]
     },
     "execution_count": 16,
     "metadata": {},
     "output_type": "execute_result"
    }
   ],
   "source": [
    "E.dcm(A) # represent E unit in term of E'"
   ]
  },
  {
   "cell_type": "code",
   "execution_count": 17,
   "metadata": {},
   "outputs": [
    {
     "data": {
      "text/latex": [
       "$\\displaystyle \\left[\\begin{matrix}a_{1} c_{{1}{1}} + a_{2} c_{{1}{2}} + a_{3} c_{{1}{3}}\\\\a_{1} c_{{2}{1}} + a_{2} c_{{2}{2}} + a_{3} c_{{2}{3}}\\\\a_{1} c_{{3}{1}} + a_{2} c_{{3}{2}} + a_{3} c_{{3}{3}}\\end{matrix}\\right]$"
      ],
      "text/plain": [
       "⎡a₁⋅c_{{1}{1}} + a₂⋅c_{{1}{2}} + a₃⋅c_{{1}{3}}⎤\n",
       "⎢                                             ⎥\n",
       "⎢a₁⋅c_{{2}{1}} + a₂⋅c_{{2}{2}} + a₃⋅c_{{2}{3}}⎥\n",
       "⎢                                             ⎥\n",
       "⎣a₁⋅c_{{3}{1}} + a₂⋅c_{{3}{2}} + a₃⋅c_{{3}{3}}⎦"
      ]
     },
     "execution_count": 17,
     "metadata": {},
     "output_type": "execute_result"
    }
   ],
   "source": [
    "E.dcm(A)*sp.Matrix(3,1,a)"
   ]
  },
  {
   "cell_type": "code",
   "execution_count": 18,
   "metadata": {},
   "outputs": [
    {
     "data": {
      "image/png": "[encoded data removed]",
      "text/latex": [
       "$\\displaystyle (a_{1} c_{{1}{1}} + a_{2} c_{{1}{2}} + a_{3} c_{{1}{3}})\\; {}^E \\hat E_1 + (a_{1} c_{{2}{1}} + a_{2} c_{{2}{2}} + a_{3} c_{{2}{3}})\\;{}^E \\hat E_2 + (a_{1} c_{{3}{1}} + a_{2} c_{{3}{2}} + a_{3} c_{{3}{3}})\\: {}^E \\hat E_3$"
      ],
      "text/plain": [
       "(a₁⋅c_{{1}{1}} + a₂⋅c_{{1}{2}} + a₃⋅c_{{1}{3}}) e_x + (a₁⋅c_{{2}{1}} + a₂⋅c_{{\n",
       "2}{2}} + a₃⋅c_{{2}{3}}) e_y + (a₁⋅c_{{3}{1}} + a₂⋅c_{{3}{2}} + a₃⋅c_{{3}{3}})\n",
       "e_z"
      ]
     },
     "execution_count": 18,
     "metadata": {},
     "output_type": "execute_result"
    }
   ],
   "source": [
    "(a[0]*A.x + a[1]*A.y + a[2]*A.z).express(E)"
   ]
  },
  {
   "attachments": {},
   "cell_type": "markdown",
   "metadata": {},
   "source": [
    "## Frames differentition DCM\n",
    "\n",
    "![](./images/Example02-01.png)"
   ]
  },
  {
   "cell_type": "code",
   "execution_count": 19,
   "metadata": {},
   "outputs": [],
   "source": [
    "R, omega, t = sp.symbols(\"R, omega, t\", real=True, positive=True)\n",
    "F = RAOreference_frame(\"F\")\n",
    "A = RAOreference_frame(\"A\")\n",
    "A.orient_axis(F, F.z, omega*t)"
   ]
  },
  {
   "cell_type": "code",
   "execution_count": 20,
   "metadata": {},
   "outputs": [],
   "source": [
    "vecR_in_A = R*A.x"
   ]
  },
  {
   "cell_type": "code",
   "execution_count": 21,
   "metadata": {},
   "outputs": [
    {
     "data": {
      "image/png": "[encoded data removed]",
      "text/latex": [
       "$\\displaystyle -  R \\omega \\sin{\\left(\\omega t \\right)}\\; {}^F \\hat e_1 + R \\omega \\cos{\\left(\\omega t \\right)}\\;{}^F \\hat e_2$"
      ],
      "text/plain": [
       "-R⋅ω⋅sin(ω⋅t) f_x + R⋅ω⋅cos(ω⋅t) f_y"
      ]
     },
     "execution_count": 21,
     "metadata": {},
     "output_type": "execute_result"
    }
   ],
   "source": [
    "vecR_in_A.diff(t, F).express(F).simplify()"
   ]
  },
  {
   "cell_type": "code",
   "execution_count": 22,
   "metadata": {},
   "outputs": [
    {
     "data": {
      "image/png": "[encoded data removed]",
      "text/latex": [
       "$\\displaystyle 0$"
      ],
      "text/plain": [
       "0"
      ]
     },
     "execution_count": 22,
     "metadata": {},
     "output_type": "execute_result"
    }
   ],
   "source": [
    "vecR_in_A.diff(t, A)"
   ]
  },
  {
   "attachments": {},
   "cell_type": "markdown",
   "metadata": {},
   "source": [
    "### Unit vectors in another frame\n",
    "\n",
    "The following rows gives the unit vectors of $\\mathcal A$ expressed in\n",
    "$\\mathcal F$"
   ]
  },
  {
   "cell_type": "code",
   "execution_count": 23,
   "metadata": {},
   "outputs": [
    {
     "data": {
      "text/latex": [
       "$\\displaystyle \\left[\\begin{matrix}\\cos{\\left(\\omega t \\right)} & \\sin{\\left(\\omega t \\right)} & 0\\\\- \\sin{\\left(\\omega t \\right)} & \\cos{\\left(\\omega t \\right)} & 0\\\\0 & 0 & 1\\end{matrix}\\right]$"
      ],
      "text/plain": [
       "⎡cos(ω⋅t)   sin(ω⋅t)  0⎤\n",
       "⎢                      ⎥\n",
       "⎢-sin(ω⋅t)  cos(ω⋅t)  0⎥\n",
       "⎢                      ⎥\n",
       "⎣    0         0      1⎦"
      ]
     },
     "execution_count": 23,
     "metadata": {},
     "output_type": "execute_result"
    }
   ],
   "source": [
    "A.dcm(F)"
   ]
  },
  {
   "cell_type": "code",
   "execution_count": 24,
   "metadata": {},
   "outputs": [
    {
     "data": {
      "text/latex": [
       "$\\displaystyle \\left( R \\cos{\\left(\\omega t \\right)}\\; {}^F \\hat e_1 + R \\sin{\\left(\\omega t \\right)}\\;{}^F \\hat e_2, \\  \\left[\\begin{matrix}R \\cos{\\left(\\omega t \\right)}\\\\- R \\sin{\\left(\\omega t \\right)}\\\\0\\end{matrix}\\right]\\right)$"
      ],
      "text/plain": [
       "⎛R⋅cos(ω⋅t) f_x + R⋅sin(ω⋅t) f_y, ⎡R⋅cos(ω⋅t) ⎤⎞\n",
       "⎜                                 ⎢           ⎥⎟\n",
       "⎜                                 ⎢-R⋅sin(ω⋅t)⎥⎟\n",
       "⎜                                 ⎢           ⎥⎟\n",
       "⎝                                 ⎣     0     ⎦⎠"
      ]
     },
     "execution_count": 24,
     "metadata": {},
     "output_type": "execute_result"
    }
   ],
   "source": [
    "vecR_in_A.express(F), (A.dcm(F))*sp.Matrix([R, 0, 0])"
   ]
  },
  {
   "attachments": {},
   "cell_type": "markdown",
   "metadata": {},
   "source": [
    "## Dynamic variables\n",
    "\n",
    "![](./images/Example02-02.jpg/)"
   ]
  },
  {
   "attachments": {},
   "cell_type": "markdown",
   "metadata": {},
   "source": [
    "__With dynamic symbols__"
   ]
  },
  {
   "cell_type": "code",
   "execution_count": 25,
   "metadata": {},
   "outputs": [],
   "source": [
    "omega, t = sp.symbols(\"Omega t\", real=True, positive=True)\n",
    "x, y, theta = spv.dynamicsymbols(\"x, y, theta\", level=0)\n"
   ]
  },
  {
   "cell_type": "code",
   "execution_count": 26,
   "metadata": {},
   "outputs": [
    {
     "data": {
      "image/png": "[encoded data removed]",
      "text/latex": [
       "$\\displaystyle \\dot{\\theta}$"
      ],
      "text/plain": [
       "θ̇"
      ]
     },
     "execution_count": 26,
     "metadata": {},
     "output_type": "execute_result"
    }
   ],
   "source": [
    "theta.diff()"
   ]
  },
  {
   "cell_type": "code",
   "execution_count": 27,
   "metadata": {},
   "outputs": [],
   "source": [
    "F = RAOreference_frame(\"F\", x=r\"E_x\", y=r\"E_y\", z=r\"E_z\")\n",
    "A = RAOreference_frame(\"A\", x=r\"e_x\", y=r\"e_y\", z=r\"e_z\")\n",
    "A.orient_axis(F, F.z, theta)"
   ]
  },
  {
   "cell_type": "code",
   "execution_count": 28,
   "metadata": {},
   "outputs": [],
   "source": [
    "vecP = x*A.x + y*A.y"
   ]
  },
  {
   "cell_type": "code",
   "execution_count": 29,
   "metadata": {},
   "outputs": [
    {
     "data": {
      "image/png": "[encoded data removed]",
      "text/latex": [
       "$\\displaystyle \\left( \\dot{x}\\; {}^A \\hat e_x + \\dot{y}\\;{}^A \\hat e_y, \\  (- y \\dot{\\theta} + \\dot{x})\\; {}^A \\hat e_x + (x \\dot{\\theta} + \\dot{y})\\;{}^A \\hat e_y\\right)$"
      ],
      "text/plain": [
       "(ẋ a_x + ẏ a_y, (-y⋅θ̇ + ẋ) a_x + (x⋅θ̇ + ẏ) a_y)"
      ]
     },
     "execution_count": 29,
     "metadata": {},
     "output_type": "execute_result"
    }
   ],
   "source": [
    "vecP.dt(A), vecP.dt(F)\n"
   ]
  },
  {
   "cell_type": "code",
   "execution_count": 30,
   "metadata": {},
   "outputs": [
    {
     "data": {
      "image/png": "[encoded data removed]",
      "text/latex": [
       "$\\displaystyle (- \\Omega y + \\dot{x})\\; {}^A \\hat e_x + (\\Omega x + \\dot{y})\\;{}^A \\hat e_y$"
      ],
      "text/plain": [
       "(-Ω⋅y + ẋ) a_x + (Ω⋅x + ẏ) a_y"
      ]
     },
     "execution_count": 30,
     "metadata": {},
     "output_type": "execute_result"
    }
   ],
   "source": [
    "vecP.dt(F).subs(theta.diff(), omega)\n"
   ]
  },
  {
   "cell_type": "code",
   "execution_count": 31,
   "metadata": {},
   "outputs": [
    {
     "data": {
      "image/png": "[encoded data removed]",
      "text/latex": [
       "$\\displaystyle (- \\Omega^{2} x - 2 \\Omega \\dot{y} + \\ddot{x})\\; {}^A \\hat e_x + (- \\Omega^{2} y + 2 \\Omega \\dot{x} + \\ddot{y})\\;{}^A \\hat e_y$"
      ],
      "text/plain": [
       "⎛   2              ⎞       ⎛   2              ⎞\n",
       "⎝- Ω ⋅x - 2⋅Ω⋅ẏ + ẍ⎠ a_x + ⎝- Ω ⋅y + 2⋅Ω⋅ẋ + ÿ⎠ a_y"
      ]
     },
     "execution_count": 31,
     "metadata": {},
     "output_type": "execute_result"
    }
   ],
   "source": [
    "(vecP.dt(F)\n",
    " .dt(F)\n",
    " .subs(theta.diff().diff(), 0)\n",
    " .subs(theta.diff(), omega)\n",
    " .simplify()\n",
    ")\n"
   ]
  },
  {
   "attachments": {},
   "cell_type": "markdown",
   "metadata": {},
   "source": [
    "----"
   ]
  },
  {
   "cell_type": "code",
   "execution_count": 33,
   "metadata": {},
   "outputs": [
    {
     "data": {
      "image/png": "[encoded data removed]",
      "text/latex": [
       "$\\displaystyle \\left( x, \\  y, \\  \\theta, \\  \\dot{\\theta}\\right)$"
      ],
      "text/plain": [
       "(x, y, θ, θ̇)"
      ]
     },
     "execution_count": 33,
     "metadata": {},
     "output_type": "execute_result"
    }
   ],
   "source": [
    "t = sp.symbols(\"Omega t\", real=True, positive=True)\n",
    "x, y, theta = spv.dynamicsymbols(\"x, y, theta\", level=0)\n",
    "Omega = theta.diff()\n",
    "x, y, theta, Omega"
   ]
  },
  {
   "cell_type": "code",
   "execution_count": null,
   "metadata": {},
   "outputs": [],
   "source": [
    "F = RAOreference_frame(\"F\", x=r\"E_x\", y=r\"E_y\", z=r\"E_z\")\n",
    "A = RAOreference_frame(\"A\", x=r\"e_x\", y=r\"e_y\", z=r\"e_z\")\n",
    "A.orient_axis(F, F.z, theta)"
   ]
  },
  {
   "cell_type": "code",
   "execution_count": null,
   "metadata": {},
   "outputs": [],
   "source": [
    "vecP = x*A.x + y*A.y"
   ]
  },
  {
   "cell_type": "code",
   "execution_count": null,
   "metadata": {},
   "outputs": [
    {
     "data": {
      "image/png": "[encoded data removed]",
      "text/latex": [
       "$\\displaystyle \\left( \\dot{x}\\; {}^A \\hat e_x + \\dot{y}\\;{}^A \\hat e_y, \\  (- y \\dot{\\theta} + \\dot{x})\\; {}^A \\hat e_x + (x \\dot{\\theta} + \\dot{y})\\;{}^A \\hat e_y\\right)$"
      ],
      "text/plain": [
       "(ẋ a_x + ẏ a_y, (-y⋅θ̇ + ẋ) a_x + (x⋅θ̇ + ẏ) a_y)"
      ]
     },
     "metadata": {},
     "output_type": "display_data"
    }
   ],
   "source": [
    "vecP.dt(A), vecP.dt(F)\n"
   ]
  },
  {
   "cell_type": "code",
   "execution_count": null,
   "metadata": {},
   "outputs": [
    {
     "data": {
      "image/png": "[encoded data removed]",
      "text/latex": [
       "$\\displaystyle (- \\Omega y + \\dot{x})\\; {}^A \\hat e_x + (\\Omega x + \\dot{y})\\;{}^A \\hat e_y$"
      ],
      "text/plain": [
       "(-Ω⋅y + ẋ) a_x + (Ω⋅x + ẏ) a_y"
      ]
     },
     "metadata": {},
     "output_type": "display_data"
    }
   ],
   "source": [
    "vecP.dt(F).subs(theta.diff(), omega)\n"
   ]
  },
  {
   "cell_type": "code",
   "execution_count": null,
   "metadata": {},
   "outputs": [
    {
     "data": {
      "image/png": "[encoded data removed]",
      "text/latex": [
       "$\\displaystyle (- \\Omega^{2} x - 2 \\Omega \\dot{y} + \\ddot{x})\\; {}^A \\hat e_x + (- \\Omega^{2} y + 2 \\Omega \\dot{x} + \\ddot{y})\\;{}^A \\hat e_y$"
      ],
      "text/plain": [
       "⎛   2              ⎞       ⎛   2              ⎞\n",
       "⎝- Ω ⋅x - 2⋅Ω⋅ẏ + ẍ⎠ a_x + ⎝- Ω ⋅y + 2⋅Ω⋅ẋ + ÿ⎠ a_y"
      ]
     },
     "metadata": {},
     "output_type": "display_data"
    }
   ],
   "source": [
    "(vecP.dt(F)\n",
    " .dt(F)\n",
    " .subs(theta.diff().diff(), 0)\n",
    " .subs(theta.diff(), omega)\n",
    " .simplify()\n",
    ")\n"
   ]
  },
  {
   "attachments": {},
   "cell_type": "markdown",
   "metadata": {},
   "source": [
    "----"
   ]
  },
  {
   "cell_type": "code",
   "execution_count": null,
   "metadata": {},
   "outputs": [],
   "source": [
    "F = RAOreference_frame(\"F\", x=r\"E_x\", y=r\"E_y\", z=r\"E_z\")\n",
    "A = RAOreference_frame(\"A\", x=r\"e_x\", y=r\"e_y\", z=r\"e_z\")\n",
    "A.orient_axis(F, F.z, theta)"
   ]
  },
  {
   "cell_type": "code",
   "execution_count": null,
   "metadata": {},
   "outputs": [],
   "source": [
    "vecP = x*A.x + y*A.y"
   ]
  },
  {
   "cell_type": "code",
   "execution_count": null,
   "metadata": {},
   "outputs": [
    {
     "data": {
      "image/png": "[encoded data removed]",
      "text/latex": [
       "$\\displaystyle \\left( \\dot{x}\\; {}^A \\hat e_x + \\dot{y}\\;{}^A \\hat e_y, \\  (- y \\dot{\\theta} + \\dot{x})\\; {}^A \\hat e_x + (x \\dot{\\theta} + \\dot{y})\\;{}^A \\hat e_y\\right)$"
      ],
      "text/plain": [
       "(ẋ a_x + ẏ a_y, (-y⋅θ̇ + ẋ) a_x + (x⋅θ̇ + ẏ) a_y)"
      ]
     },
     "metadata": {},
     "output_type": "display_data"
    }
   ],
   "source": [
    "vecP.dt(A), vecP.dt(F)\n"
   ]
  },
  {
   "cell_type": "code",
   "execution_count": null,
   "metadata": {},
   "outputs": [
    {
     "data": {
      "image/png": "[encoded data removed]",
      "text/latex": [
       "$\\displaystyle (- \\Omega y + \\dot{x})\\; {}^A \\hat e_x + (\\Omega x + \\dot{y})\\;{}^A \\hat e_y$"
      ],
      "text/plain": [
       "(-Ω⋅y + ẋ) a_x + (Ω⋅x + ẏ) a_y"
      ]
     },
     "metadata": {},
     "output_type": "display_data"
    }
   ],
   "source": [
    "vecP.dt(F).subs(theta.diff(), omega)\n"
   ]
  },
  {
   "cell_type": "code",
   "execution_count": null,
   "metadata": {},
   "outputs": [
    {
     "data": {
      "image/png": "[encoded data removed]",
      "text/latex": [
       "$\\displaystyle (- \\Omega^{2} x - 2 \\Omega \\dot{y} + \\ddot{x})\\; {}^A \\hat e_x + (- \\Omega^{2} y + 2 \\Omega \\dot{x} + \\ddot{y})\\;{}^A \\hat e_y$"
      ],
      "text/plain": [
       "⎛   2              ⎞       ⎛   2              ⎞\n",
       "⎝- Ω ⋅x - 2⋅Ω⋅ẏ + ẍ⎠ a_x + ⎝- Ω ⋅y + 2⋅Ω⋅ẋ + ÿ⎠ a_y"
      ]
     },
     "metadata": {},
     "output_type": "display_data"
    }
   ],
   "source": [
    "(vecP.dt(F)\n",
    " .dt(F)\n",
    " .subs(theta.diff().diff(), 0)\n",
    " .subs(theta.diff(), omega)\n",
    " .simplify()\n",
    ")\n"
   ]
  },
  {
   "attachments": {},
   "cell_type": "markdown",
   "metadata": {},
   "source": [
    "__With Functions of time__"
   ]
  },
  {
   "attachments": {},
   "cell_type": "markdown",
   "metadata": {},
   "source": [
    "__With Functions of time__"
   ]
  },
  {
   "cell_type": "code",
   "execution_count": null,
   "metadata": {},
   "outputs": [
    {
     "data": {
      "text/plain": [
       "(x, y, theta, x(t), y(t), theta(t))"
      ]
     },
     "execution_count": 80,
     "metadata": {},
     "output_type": "execute_result"
    }
   ],
   "source": [
    "omega, t = sp.symbols(\"Omega t\", real=True, positive=True)\n",
    "x, y, theta = sp.symbols(\"x, y, theta\", cls=sp.Function)\n",
    "x, y, theta, x(t), y(t), theta(t)\n"
   ]
  },
  {
   "cell_type": "code",
   "execution_count": null,
   "metadata": {},
   "outputs": [],
   "source": [
    "F = RAOreference_frame(\"F\", x=r\"E_x\", y=r\"E_y\", z=r\"E_z\")\n",
    "A = RAOreference_frame(\"A\", x=r\"e_x\", y=r\"e_y\", z=r\"e_z\")\n",
    "A.orient_axis(F, F.z, theta(t))"
   ]
  },
  {
   "cell_type": "code",
   "execution_count": null,
   "metadata": {},
   "outputs": [
    {
     "data": {
      "image/png": "[encoded data removed]",
      "text/latex": [
       "$\\displaystyle x{\\left(t \\right)}\\; {}^A \\hat e_x + y{\\left(t \\right)}\\;{}^A \\hat e_y$"
      ],
      "text/plain": [
       "x(t) a_x + y(t) a_y"
      ]
     },
     "execution_count": 82,
     "metadata": {},
     "output_type": "execute_result"
    }
   ],
   "source": [
    "vecP = x(t)*A.x + y(t)*A.y\n",
    "vecP"
   ]
  },
  {
   "cell_type": "code",
   "execution_count": null,
   "metadata": {},
   "outputs": [
    {
     "data": {
      "image/png": "[encoded data removed]",
      "text/latex": [
       "$\\displaystyle (- \\Omega y{\\left(t \\right)} + \\frac{d}{d t} x{\\left(t \\right)})\\; {}^A \\hat e_x + (\\Omega x{\\left(t \\right)} + \\frac{d}{d t} y{\\left(t \\right)})\\;{}^A \\hat e_y$"
      ],
      "text/plain": [
       "⎛          d       ⎞       ⎛         d       ⎞\n",
       "⎜-Ω⋅y(t) + ──(x(t))⎟ a_x + ⎜Ω⋅x(t) + ──(y(t))⎟ a_y\n",
       "⎝          dt      ⎠       ⎝         dt      ⎠"
      ]
     },
     "execution_count": 83,
     "metadata": {},
     "output_type": "execute_result"
    }
   ],
   "source": [
    "(vecP.diff(t, F)\n",
    " .simplify()\n",
    " .subs(theta(t).diff(t), omega)\n",
    ")"
   ]
  },
  {
   "cell_type": "code",
   "execution_count": null,
   "metadata": {},
   "outputs": [
    {
     "data": {
      "image/png": "[encoded data removed]",
      "text/latex": [
       "$\\displaystyle (- \\Omega^{2} x{\\left(t \\right)} - 2 \\Omega \\frac{d}{d t} y{\\left(t \\right)} + \\frac{d^{2}}{d t^{2}} x{\\left(t \\right)})\\; {}^A \\hat e_x + (- \\Omega^{2} y{\\left(t \\right)} + 2 \\Omega \\frac{d}{d t} x{\\left(t \\right)} + \\frac{d^{2}}{d t^{2}} y{\\left(t \\right)})\\;{}^A \\hat e_y$"
      ],
      "text/plain": [
       "⎛                             2      ⎞       ⎛                             2\n",
       "⎜   2            d           d       ⎟       ⎜   2            d           d\n",
       "⎜- Ω ⋅x(t) - 2⋅Ω⋅──(y(t)) + ───(x(t))⎟ a_x + ⎜- Ω ⋅y(t) + 2⋅Ω⋅──(x(t)) + ───(y\n",
       "⎜                dt           2      ⎟       ⎜                dt           2\n",
       "⎝                           dt       ⎠       ⎝                           dt\n",
       "\n",
       "    ⎞\n",
       "    ⎟\n",
       "(t))⎟ a_y\n",
       "    ⎟\n",
       "    ⎠"
      ]
     },
     "execution_count": 84,
     "metadata": {},
     "output_type": "execute_result"
    }
   ],
   "source": [
    "\n",
    "(vecP.diff(t, F).diff(t, F)\n",
    " .simplify()\n",
    " .subs(theta(t).diff(t).diff(t), 0)\n",
    " .subs(theta(t).diff(t), omega)\n",
    " )\n"
   ]
  },
  {
   "cell_type": "markdown",
   "metadata": {},
   "source": [
    "__Rotation Formulae__\n",
    "\n",
    "$$\n",
    "{}^{\\mathcal A}\\frac{d \\mathbf v}{d t} = \n",
    "        {}^{\\mathcal A}\\frac{d \\mathbf r}{d t} =\n",
    "            {}^{\\mathcal B}\\frac{d \\mathbf r}{d t} +\n",
    "                {}^A{\\mathbf \\omega^B} \\times \\mathbf r \n",
    "$$\n",
    "\n",
    "$$\n",
    "{}^{\\mathcal A} \\mathbf v = \n",
    "    {}^{\\mathcal B} \\mathbf v +\n",
    "        {}^A{\\mathbf \\omega^B} \\times \\mathbf r\n",
    "$$\n",
    "\n",
    "\n",
    "$$\n",
    "{}^{\\mathcal A} \\mathbf a = \n",
    "    {}^{\\mathcal B} \\mathbf a \n",
    "        + {}^A \\alpha^\\mathcal{B} \\times \\mathbf r \n",
    "        + { 2 \\cdot {}^A{\\mathbf \\omega^B} } \\times {}^{\\mathcal B} \\mathbf v\n",
    "        + x {}^A{\\mathbf \\omega^B} \\times ({}^A{\\mathbf \\omega^B} \\times \\mathbf r²)\n",
    "$$\n"
   ]
  },
  {
   "cell_type": "code",
   "execution_count": null,
   "metadata": {},
   "outputs": [
    {
     "data": {
      "text/plain": [
       "(x, y, theta, x(t), y(t), theta(t))"
      ]
     },
     "execution_count": 85,
     "metadata": {},
     "output_type": "execute_result"
    }
   ],
   "source": [
    "omega, t = sp.symbols(\"Omega t\", real=True, positive=True)\n",
    "x, y, theta = sp.symbols(\"x, y, theta\", cls=sp.Function)\n",
    "x, y, theta, x(t), y(t), theta(t)\n"
   ]
  },
  {
   "cell_type": "code",
   "execution_count": null,
   "metadata": {},
   "outputs": [
    {
     "data": {
      "image/png": "[encoded data removed]",
      "text/latex": [
       "$\\displaystyle x{\\left(t \\right)}\\; {}^A \\hat e_x + y{\\left(t \\right)}\\;{}^A \\hat e_y$"
      ],
      "text/plain": [
       "x(t) a_x + y(t) a_y"
      ]
     },
     "execution_count": 86,
     "metadata": {},
     "output_type": "execute_result"
    }
   ],
   "source": [
    "vecP = x(t)*A.x + y(t)*A.y\n",
    "vecP"
   ]
  },
  {
   "cell_type": "code",
   "execution_count": null,
   "metadata": {},
   "outputs": [
    {
     "data": {
      "image/png": "[encoded data removed]",
      "text/latex": [
       "$\\displaystyle \\frac{d}{d t} x{\\left(t \\right)}\\; {}^A \\hat e_x + \\frac{d}{d t} y{\\left(t \\right)}\\;{}^A \\hat e_y$"
      ],
      "text/plain": [
       "d              d\n",
       "──(x(t)) a_x + ──(y(t)) a_y\n",
       "dt             dt"
      ]
     },
     "execution_count": 87,
     "metadata": {},
     "output_type": "execute_result"
    }
   ],
   "source": [
    "vecP.diff(t, A)\n"
   ]
  },
  {
   "cell_type": "code",
   "execution_count": null,
   "metadata": {},
   "outputs": [
    {
     "data": {
      "image/png": "[encoded data removed]",
      "text/latex": [
       "$\\displaystyle (- y{\\left(t \\right)} \\frac{d}{d t} \\theta{\\left(t \\right)} + \\frac{d}{d t} x{\\left(t \\right)})\\; {}^A \\hat e_x + (x{\\left(t \\right)} \\frac{d}{d t} \\theta{\\left(t \\right)} + \\frac{d}{d t} y{\\left(t \\right)})\\;{}^A \\hat e_y$"
      ],
      "text/plain": [
       "⎛       d          d       ⎞       ⎛     d          d       ⎞\n",
       "⎜- y(t)⋅──(θ(t)) + ──(x(t))⎟ a_x + ⎜x(t)⋅──(θ(t)) + ──(y(t))⎟ a_y\n",
       "⎝       dt         dt      ⎠       ⎝     dt         dt      ⎠"
      ]
     },
     "execution_count": 88,
     "metadata": {},
     "output_type": "execute_result"
    }
   ],
   "source": [
    "(vecP.diff(t,A) + spv.cross(theta(t).diff(t)*F.z, vecP)).express(A) #.simplify()"
   ]
  }
 ],
 "metadata": {
  "kernelspec": {
   "display_name": "3.9",
   "language": "python",
   "name": "python3"
  },
  "language_info": {
   "codemirror_mode": {
    "name": "ipython",
    "version": 3
   },
   "file_extension": ".py",
   "mimetype": "text/x-python",
   "name": "python",
   "nbconvert_exporter": "python",
   "pygments_lexer": "ipython3",
   "version": "3.9.13"
  },
  "orig_nbformat": 4,
  "vscode": {
   "interpreter": {
    "hash": "439944bd8008f2f069e15c63249790d203ae4a03debaae97ad3c7d6c011f8ad2"
   }
  }
 },
 "nbformat": 4,
 "nbformat_minor": 2
}
