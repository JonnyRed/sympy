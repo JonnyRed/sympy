{
 "cells": [
  {
   "cell_type": "code",
   "execution_count": 2,
   "metadata": {},
   "outputs": [],
   "source": [
    "import multivar_analysis.critical_points_2d as sycp\n",
    "\n",
    "\n",
    "\"\"\"\n",
    "    >>> import sympy as sp\n",
    "    >>> x, y = sp.symbols('x y')\n",
    "    >>> f =  x**3/3 + y**2 +2*x*y -6*x - 3*y + 4\n",
    "    >>> sycp.analyse_critical_points(f, x, y)\n",
    "    [((-1, 5/2), 'SADDLEPOINT'), ((3, -3/2), 'LOCAL_MINIMUM')]\n",
    "\n",
    "\"\"\"\n",
    "\n",
    "if __name__ == \"__main__\":\n",
    "    import doctest\n",
    "    \n",
    "    doctest.testmod(sycp, verbose=False)\n",
    "    doctest.testmod(verbose=False)\n"
   ]
  }
 ],
 "metadata": {
  "kernelspec": {
   "display_name": "sympy",
   "language": "python",
   "name": "python3"
  },
  "language_info": {
   "codemirror_mode": {
    "name": "ipython",
    "version": 3
   },
   "file_extension": ".py",
   "mimetype": "text/x-python",
   "name": "python",
   "nbconvert_exporter": "python",
   "pygments_lexer": "ipython3",
   "version": "3.10.10"
  }
 },
 "nbformat": 4,
 "nbformat_minor": 2
}
