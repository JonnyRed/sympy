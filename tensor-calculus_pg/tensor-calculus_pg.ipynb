{
 "cells": [
  {
   "cell_type": "code",
   "execution_count": 1,
   "metadata": {},
   "outputs": [],
   "source": [
    "from IPython.display import display, Math\n",
    "from sympy import S\n",
    "from sympy import init_printing\n",
    "from sympy import latex\n",
    "from sympy import E, sqrt, cos, sin, acos, atan2, Matrix\n",
    "from sympy import symbols, simplify\n",
    "import IPython.display as ipd\n",
    "\n",
    "init_printing()"
   ]
  },
  {
   "cell_type": "code",
   "execution_count": 2,
   "metadata": {},
   "outputs": [],
   "source": [
    "def print_aligned_latex_equations(*args: str) -> None:\n",
    "    \"\"\"\n",
    "    Print a series of LaTeX equations aligned at the &= sign.\n",
    "\n",
    "    This function takes a variable number of LaTeX equation strings as input,\n",
    "    and displays them in a single output cell, aligned at the &= sign.\n",
    "\n",
    "    Args:\n",
    "        *args (str): LaTeX equation strings to be aligned and displayed.\n",
    "\n",
    "    Returns:\n",
    "        None\n",
    "\n",
    "    Examples:\n",
    "        print_aligned_latex_equations(\n",
    "            r\"x &= 2 + 3\",\n",
    "            r\"y &= 4 - 5\",\n",
    "            r\"z &= 6 * 7\"\n",
    "        )\n",
    "\n",
    "    \"\"\"\n",
    "\n",
    "    result = r\"\\\\\".join(\n",
    "        [\n",
    "            r\"\\begin{equation}\",\n",
    "            r\"\\begin{split}\",\n",
    "            *args,\n",
    "            r\"\\nonumber\" r\"\\end{split}\",\n",
    "            r\"\\end{equation}\",\n",
    "        ]\n",
    "    )\n",
    "\n",
    "    ipd.display(ipd.Math(rf\"{result}\"))  # type: ignore\n"
   ]
  },
  {
   "cell_type": "markdown",
   "metadata": {},
   "source": [
    "# Introduction to Tensor Analysis"
   ]
  },
  {
   "cell_type": "markdown",
   "metadata": {},
   "source": [
    "## Why Tensor Calculus\n",
    "\n",
    "Different results different coordinate systems"
   ]
  },
  {
   "cell_type": "markdown",
   "metadata": {},
   "source": [
    "### The Gradient\n",
    "\n",
    "#### Exercise 1. \n",
    "\n",
    "Suppose that the temperature field $T$ is given by the function\n",
    "$F(x,y) = x^2 e^y$ in coordinates $x, y$. \n",
    "Determine the function $F^\\prime(x^\\prime, y^\\prime)$. which gives the \n",
    "temperature field T in coordinates $x^\\prime, y^\\prime$.\n",
    "\n",
    "Notice that \n",
    "\n",
    "$$ \n",
    "    F^\\prime(x^\\prime, y^\\prime)  = F(2 x^\\prime, 2 y^\\prime)\n",
    "$$\n",
    "\n",
    "where $F^\\prime$ is now $F$ with the arguments changed"
   ]
  },
  {
   "cell_type": "code",
   "execution_count": 3,
   "metadata": {},
   "outputs": [
    {
     "data": {
      "text/latex": [
       "$\\displaystyle \\begin{equation}\\\\\\begin{split}\\\\\\textrm{function } F^\\prime(x^\\prime, y^\\prime) \\textrm { which gives the temperature field } T &= 4 \\left({x}^\\prime\\right)^{2} e^{2 y^{\\prime}}\\\\\\nonumber\\end{split}\\\\\\end{equation}$"
      ],
      "text/plain": [
       "<IPython.core.display.Math object>"
      ]
     },
     "metadata": {},
     "output_type": "display_data"
    }
   ],
   "source": [
    "x,y = symbols(\"x,y\", real=True)\n",
    "x_prime, y_prime = symbols(r\"{x}^\\prime, y^{\\prime}\", real=True)\n",
    "\n",
    "F = x**2 * E**(y)\n",
    "F_prime = x_prime**2 * E**(y_prime)\n",
    "\n",
    "#* Careful here looks a strange substitution until its thought about.\n",
    "T_in_F_prime_field =  F.subs({x:2*x_prime, y:2*y_prime})\n",
    "\n",
    "print_aligned_latex_equations(\n",
    "    r\"\\textrm{function } F^\\prime(x^\\prime, y^\\prime)\" \n",
    "    r\" \\textrm { which gives the temperature field } T &= \"\n",
    "    rf\"{latex(T_in_F_prime_field)}\"\n",
    ")\n",
    "\n"
   ]
  }
 ],
 "metadata": {
  "kernelspec": {
   "display_name": "sympy",
   "language": "python",
   "name": "python3"
  },
  "language_info": {
   "codemirror_mode": {
    "name": "ipython",
    "version": 3
   },
   "file_extension": ".py",
   "mimetype": "text/x-python",
   "name": "python",
   "nbconvert_exporter": "python",
   "pygments_lexer": "ipython3",
   "version": "3.10.10"
  }
 },
 "nbformat": 4,
 "nbformat_minor": 2
}
