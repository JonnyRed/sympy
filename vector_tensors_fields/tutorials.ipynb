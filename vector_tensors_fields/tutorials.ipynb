{
 "cells": [
  {
   "cell_type": "code",
   "execution_count": 1,
   "metadata": {},
   "outputs": [],
   "source": [
    "import sympy as sp\n",
    "import sympy.vector as sv\n",
    "import sympy.physics.vector as spv\n",
    "\n",
    "spv.init_vprinting()\n",
    "\n",
    "from sympy import symbols, Symbol, Matrix, zeros, Eq, solve, simplify, expand, cos, sin\n",
    "\n",
    "v_zero = sv.Vector.zero\n",
    "N = sv.CoordSys3D(\"N\", vector_names=(\"e_1\", \"e_2\", \"e_3\"))\n",
    "\n",
    "\n",
    "# TODO move to sv_util and refactor sv_utils\n",
    "def create_vector(frame: sv.CoordSys3D, *args):\n",
    "    basis = N.base_vectors()\n",
    "    return basis[0] * args[0] + basis[1] * args[1] + basis[2] * args[2]"
   ]
  },
  {
   "cell_type": "markdown",
   "metadata": {},
   "source": [
    "# Problem Sheet 1"
   ]
  },
  {
   "cell_type": "markdown",
   "metadata": {},
   "source": [
    "## Question 1.1\n",
    "\n",
    "Consider the vectors a = (1, 2, 4). and b = (1, 1, 3). in an orthonormal, \n",
    "right-handed basis.\n",
    "\n",
    "i. construct unit vectors ˆa parallel to a and ˆb parallel to b ;\n",
    "\n",
    "ii. use the scalar product to determine the component of a in the \n",
    "direction of b ;\n",
    "\n",
    "iii. hence express a as a sum of vectors parallel and perpendicular to b ;\n",
    "\n",
    "iv. construct a vector c orthogonal to both a and b by requiring that \n",
    "c·a = c·b = 0;\n",
    "\n",
    "v. Verify that ˆc is proportional to ±aˆ ×ˆb . What is the coefficient of proportionality, and what determines the sign?"
   ]
  },
  {
   "cell_type": "code",
   "execution_count": 2,
   "metadata": {},
   "outputs": [
    {
     "data": {
      "text/plain": [
       "'i.'"
      ]
     },
     "metadata": {},
     "output_type": "display_data"
    },
    {
     "data": {
      "image/png": "[encoded data removed]",
      "text/latex": [
       "$\\displaystyle \\left(\\frac{\\sqrt{21}}{21}\\right)\\mathbf{\\hat{e_1}_{N}} + \\left(\\frac{2 \\sqrt{21}}{21}\\right)\\mathbf{\\hat{e_2}_{N}} + \\left(\\frac{4 \\sqrt{21}}{21}\\right)\\mathbf{\\hat{e_3}_{N}}$"
      ],
      "text/plain": [
       "⎛√21⎞         ⎛2⋅√21⎞         ⎛4⋅√21⎞      \n",
       "⎜───⎟ e_1_N + ⎜─────⎟ e_2_N + ⎜─────⎟ e_3_N\n",
       "⎝ 21⎠         ⎝  21 ⎠         ⎝  21 ⎠      "
      ]
     },
     "metadata": {},
     "output_type": "display_data"
    },
    {
     "data": {
      "image/png": "[encoded data removed]",
      "text/latex": [
       "$\\displaystyle \\left(\\frac{\\sqrt{11}}{11}\\right)\\mathbf{\\hat{e_1}_{N}} + \\left(\\frac{\\sqrt{11}}{11}\\right)\\mathbf{\\hat{e_2}_{N}} + \\left(\\frac{3 \\sqrt{11}}{11}\\right)\\mathbf{\\hat{e_3}_{N}}$"
      ],
      "text/plain": [
       "⎛√11⎞         ⎛√11⎞         ⎛3⋅√11⎞      \n",
       "⎜───⎟ e_1_N + ⎜───⎟ e_2_N + ⎜─────⎟ e_3_N\n",
       "⎝ 11⎠         ⎝ 11⎠         ⎝  11 ⎠      "
      ]
     },
     "metadata": {},
     "output_type": "display_data"
    },
    {
     "data": {
      "text/plain": [
       "'ii.'"
      ]
     },
     "metadata": {},
     "output_type": "display_data"
    },
    {
     "data": {
      "image/png": "[encoded data removed]",
      "text/latex": [
       "$\\displaystyle \\left(\\frac{15}{11}\\right)\\mathbf{\\hat{e_1}_{N}} + \\left(\\frac{15}{11}\\right)\\mathbf{\\hat{e_2}_{N}} + \\left(\\frac{45}{11}\\right)\\mathbf{\\hat{e_3}_{N}}$"
      ],
      "text/plain": [
       "⎛15⎞         ⎛15⎞         ⎛45⎞      \n",
       "⎜──⎟ e_1_N + ⎜──⎟ e_2_N + ⎜──⎟ e_3_N\n",
       "⎝11⎠         ⎝11⎠         ⎝11⎠      "
      ]
     },
     "metadata": {},
     "output_type": "display_data"
    },
    {
     "data": {
      "text/plain": [
       "'iii.'"
      ]
     },
     "metadata": {},
     "output_type": "display_data"
    },
    {
     "data": {
      "image/png": "[encoded data removed]",
      "text/latex": [
       "$\\displaystyle \\left(- \\frac{4}{11}\\right)\\mathbf{\\hat{e_1}_{N}} + \\left(\\frac{7}{11}\\right)\\mathbf{\\hat{e_2}_{N}} + \\left(- \\frac{1}{11}\\right)\\mathbf{\\hat{e_3}_{N}}$"
      ],
      "text/plain": [
       "(-4/11) e_1_N + (7/11) e_2_N + (-1/11) e_3_N"
      ]
     },
     "metadata": {},
     "output_type": "display_data"
    },
    {
     "data": {
      "text/plain": [
       "'iv'"
      ]
     },
     "metadata": {},
     "output_type": "display_data"
    },
    {
     "data": {
      "image/png": "[encoded data removed]",
      "text/latex": [
       "$\\displaystyle \\left(- 2 c_{3}\\right)\\mathbf{\\hat{e_1}_{N}} + \\left(- c_{3}\\right)\\mathbf{\\hat{e_2}_{N}} + \\left(c_{3}\\right)\\mathbf{\\hat{e_3}_{N}}$"
      ],
      "text/plain": [
       "(-2⋅c₃) e_1_N + (-c₃) e_2_N + (c₃) e_3_N"
      ]
     },
     "metadata": {},
     "output_type": "display_data"
    },
    {
     "data": {
      "text/plain": [
       "'v'"
      ]
     },
     "metadata": {},
     "output_type": "display_data"
    },
    {
     "data": {
      "image/png": "[encoded data removed]",
      "text/latex": [
       "$\\displaystyle \\left(2\\right)\\mathbf{\\hat{e_1}_{N}} + \\mathbf{\\hat{e_2}_{N}} - \\mathbf{\\hat{e_3}_{N}}$"
      ],
      "text/plain": [
       "(2) e_1_N + e_2_N + (-1) e_3_N"
      ]
     },
     "metadata": {},
     "output_type": "display_data"
    }
   ],
   "source": [
    "a = N.e_1 + 2 * N.e_2 + 4 * N.e_3\n",
    "b = N.e_1 + N.e_2 + 3 * N.e_3\n",
    "\n",
    "# i.\n",
    "a_hat = a.normalize()\n",
    "b_hat = b.normalize()\n",
    "display(\"i.\", a_hat, b_hat)\n",
    "\n",
    "# ii.\n",
    "a_proj_b = a.dot(b.normalize()) * b_hat\n",
    "display(\"ii.\", a_proj_b)\n",
    "\n",
    "# iii.\n",
    "a_perp_b = a - a_proj_b\n",
    "display(\"iii.\", a_perp_b)\n",
    "assert a_perp_b.dot(a_proj_b) == 0\n",
    "assert (a_proj_b + a_perp_b) == a\n",
    "\n",
    "# iv.\n",
    "c_i = symbols(\"c_1:4\")\n",
    "c = c_i[0] * N.e_1 + c_i[1] * N.e_2 + c_i[2] * N.e_3\n",
    "\n",
    "eqn1, eqn2 = Eq(c.dot(a), 0), Eq(c.dot(b), 0)\n",
    "result1 = solve([eqn1, eqn2])\n",
    "result_c = c.subs(result1)\n",
    "display(\"iv\", result_c)\n",
    "\n",
    "# v.\n",
    "display(\"v\", a.cross(b))"
   ]
  },
  {
   "cell_type": "code",
   "execution_count": 3,
   "metadata": {},
   "outputs": [
    {
     "data": {
      "image/png": "[encoded data removed]",
      "text/latex": [
       "$\\displaystyle \\left(2\\right)\\mathbf{\\hat{e_1}_{N}} + \\mathbf{\\hat{e_2}_{N}} - \\mathbf{\\hat{e_3}_{N}}$"
      ],
      "text/plain": [
       "(2) e_1_N + e_2_N + (-1) e_3_N"
      ]
     },
     "execution_count": 3,
     "metadata": {},
     "output_type": "execute_result"
    }
   ],
   "source": [
    "a.cross(b)"
   ]
  },
  {
   "cell_type": "markdown",
   "metadata": {},
   "source": [
    "## Question 1.2\n",
    "\n",
    "Find the general vector that is orthogonal to $a$ and coplanar with \n",
    "$a$ and $b$where $a =(8, 2, −1)$ and $b = (3, −1, −3)$ in an orthonormal basis.\n",
    "\n"
   ]
  },
  {
   "cell_type": "code",
   "execution_count": 4,
   "metadata": {},
   "outputs": [
    {
     "data": {
      "image/png": "[encoded data removed]",
      "text/latex": [
       "$\\displaystyle \\left\\{ c_{2} : \\frac{- a_{1}^{2} b_{2} c_{1} + a_{1} a_{2} b_{1} c_{1} + a_{2} a_{3} b_{3} c_{1} - a_{3}^{2} b_{2} c_{1}}{a_{1} a_{2} b_{2} + a_{1} a_{3} b_{3} - a_{2}^{2} b_{1} - a_{3}^{2} b_{1}}, \\  c_{3} : \\frac{- a_{1}^{2} b_{3} c_{1} + a_{1} a_{3} b_{1} c_{1} - a_{2}^{2} b_{3} c_{1} + a_{2} a_{3} b_{2} c_{1}}{a_{1} a_{2} b_{2} + a_{1} a_{3} b_{3} - a_{2}^{2} b_{1} - a_{3}^{2} b_{1}}\\right\\}$"
      ],
      "text/plain": [
       "⎧        2                                       2                2           \n",
       "⎪    - a₁ ⋅b₂⋅c₁ + a₁⋅a₂⋅b₁⋅c₁ + a₂⋅a₃⋅b₃⋅c₁ - a₃ ⋅b₂⋅c₁      - a₁ ⋅b₃⋅c₁ + a₁\n",
       "⎨c₂: ───────────────────────────────────────────────────, c₃: ────────────────\n",
       "⎪                                   2        2                                \n",
       "⎩           a₁⋅a₂⋅b₂ + a₁⋅a₃⋅b₃ - a₂ ⋅b₁ - a₃ ⋅b₁                    a₁⋅a₂⋅b₂ \n",
       "\n",
       "              2                    ⎫\n",
       "⋅a₃⋅b₁⋅c₁ - a₂ ⋅b₃⋅c₁ + a₂⋅a₃⋅b₂⋅c₁⎪\n",
       "───────────────────────────────────⎬\n",
       "               2        2          ⎪\n",
       "+ a₁⋅a₃⋅b₃ - a₂ ⋅b₁ - a₃ ⋅b₁       ⎭"
      ]
     },
     "metadata": {},
     "output_type": "display_data"
    },
    {
     "data": {
      "image/png": "[encoded data removed]",
      "text/latex": [
       "$\\displaystyle \\left(c_{1}\\right)\\mathbf{\\hat{e_1}_{N}} + \\left(\\frac{- a_{1}^{2} b_{2} c_{1} + a_{1} a_{2} b_{1} c_{1} + a_{2} a_{3} b_{3} c_{1} - a_{3}^{2} b_{2} c_{1}}{a_{1} a_{2} b_{2} + a_{1} a_{3} b_{3} - a_{2}^{2} b_{1} - a_{3}^{2} b_{1}}\\right)\\mathbf{\\hat{e_2}_{N}} + \\left(\\frac{- a_{1}^{2} b_{3} c_{1} + a_{1} a_{3} b_{1} c_{1} - a_{2}^{2} b_{3} c_{1} + a_{2} a_{3} b_{2} c_{1}}{a_{1} a_{2} b_{2} + a_{1} a_{3} b_{3} - a_{2}^{2} b_{1} - a_{3}^{2} b_{1}}\\right)\\mathbf{\\hat{e_3}_{N}}$"
      ],
      "text/plain": [
       "             ⎛    2                                       2      ⎞         ⎛  \n",
       "(c₁) e_1_N + ⎜- a₁ ⋅b₂⋅c₁ + a₁⋅a₂⋅b₁⋅c₁ + a₂⋅a₃⋅b₃⋅c₁ - a₃ ⋅b₂⋅c₁⎟ e_2_N + ⎜- \n",
       "             ⎜───────────────────────────────────────────────────⎟         ⎜──\n",
       "             ⎜                               2        2          ⎟         ⎜  \n",
       "             ⎝       a₁⋅a₂⋅b₂ + a₁⋅a₃⋅b₃ - a₂ ⋅b₁ - a₃ ⋅b₁       ⎠         ⎝  \n",
       "\n",
       "  2                         2                    ⎞      \n",
       "a₁ ⋅b₃⋅c₁ + a₁⋅a₃⋅b₁⋅c₁ - a₂ ⋅b₃⋅c₁ + a₂⋅a₃⋅b₂⋅c₁⎟ e_3_N\n",
       "─────────────────────────────────────────────────⎟      \n",
       "                             2        2          ⎟      \n",
       "     a₁⋅a₂⋅b₂ + a₁⋅a₃⋅b₃ - a₂ ⋅b₁ - a₃ ⋅b₁       ⎠      "
      ]
     },
     "metadata": {},
     "output_type": "display_data"
    },
    {
     "data": {
      "image/png": "[encoded data removed]",
      "text/latex": [
       "$\\displaystyle \\left(c_{1}\\right)\\mathbf{\\hat{e_1}_{N}} + \\left(- 17 c_{1}\\right)\\mathbf{\\hat{e_2}_{N}} + \\left(- 26 c_{1}\\right)\\mathbf{\\hat{e_3}_{N}}$"
      ],
      "text/plain": [
       "(c₁) e_1_N + (-17⋅c₁) e_2_N + (-26⋅c₁) e_3_N"
      ]
     },
     "metadata": {},
     "output_type": "display_data"
    }
   ],
   "source": [
    "ai = symbols(\"a1:4\", real=True)\n",
    "bi = symbols(\"b1:4\", real=True)\n",
    "ci = symbols(\"c1:4\", real=True)\n",
    "\n",
    "values = {\n",
    "    ai[0]: 8,\n",
    "    ai[1]: 2,\n",
    "    ai[2]: -1,\n",
    "    bi[0]: 3,\n",
    "    bi[1]: -1,\n",
    "    bi[2]: -3,\n",
    "}\n",
    "\n",
    "a = create_vector(N, *ai)\n",
    "b = create_vector(N, *bi)\n",
    "c = create_vector(N, *ci)\n",
    "\n",
    "eqn1 = Eq(a.dot(c), 0)  # Orthogonal\n",
    "eqn2 = Eq(c.dot(a.cross(b)), 0)  # Coplanar\n",
    "\n",
    "result1 = solve([eqn1, eqn2], ci[1:3])\n",
    "display(result1)  # general solution\n",
    "display(c.subs(result1))  # specific solution\n",
    "\n",
    "vec_a = a.subs(values)\n",
    "vec_b = b.subs(values)\n",
    "vec_c = c.subs(result1).subs(values)\n",
    "\n",
    "# All vectors satisfying condition with c_1 free variable\n",
    "display(vec_c)\n",
    "\n",
    "assert vec_c.dot(vec_a) == 0, \"c and a not orthogonal\"\n",
    "assert vec_c.dot(vec_a.cross(vec_b)) == 0, \"c, a and b not coplanar\""
   ]
  },
  {
   "cell_type": "markdown",
   "metadata": {},
   "source": [
    "## Question 1.3\n",
    "\n",
    "A (plane) triangle is formed by the three vectors $A$, $B$ and $C$, \n",
    "such that $A + B + C = 0$ ,and the angles at the vertices are $\\alpha$ \n",
    "(between B and C), $\\beta$ (between C and A) and $\\gamma$ \n",
    ".\n",
    "Show that $A \\times B = B \\times C = C \\times A$, and hence establish \n",
    "\n",
    "the ‘sine rule’ that:–\n",
    "$$\n",
    "\\frac{\\sin \\alpha} {|A|} = \\frac{\\sin \\beta} {|B|} = \\frac{\\sin \\gamma} {|C|}\n",
    "$$"
   ]
  },
  {
   "cell_type": "code",
   "execution_count": 5,
   "metadata": {},
   "outputs": [
    {
     "data": {
      "image/png": "[encoded data removed]",
      "text/latex": [
       "$\\displaystyle \\sqrt{b_{1}^{2} + b_{2}^{2} + b_{3}^{2}} \\sqrt{c_{1}^{2} + c_{2}^{2} + c_{3}^{2}} \\sin{\\left(\\alpha \\right)} = \\sqrt{a_{1}^{2} + a_{2}^{2} + a_{3}^{2}} \\sqrt{c_{1}^{2} + c_{2}^{2} + c_{3}^{2}} \\sin{\\left(\\beta \\right)}$"
      ],
      "text/plain": [
       "   _________________    _________________             _________________    ___\n",
       "  ╱   2     2     2    ╱   2     2     2             ╱   2     2     2    ╱   \n",
       "╲╱  b₁  + b₂  + b₃  ⋅╲╱  c₁  + c₂  + c₃  ⋅sin(α) = ╲╱  a₁  + a₂  + a₃  ⋅╲╱  c₁\n",
       "\n",
       "______________       \n",
       "2     2     2        \n",
       "  + c₂  + c₃  ⋅sin(β)"
      ]
     },
     "metadata": {},
     "output_type": "display_data"
    },
    {
     "data": {
      "image/png": "[encoded data removed]",
      "text/latex": [
       "$\\displaystyle \\sqrt{b_{1}^{2} + b_{2}^{2} + b_{3}^{2}} \\sin{\\left(\\alpha \\right)} = \\sqrt{a_{1}^{2} + a_{2}^{2} + a_{3}^{2}} \\sin{\\left(\\beta \\right)}$"
      ],
      "text/plain": [
       "   _________________             _________________       \n",
       "  ╱   2     2     2             ╱   2     2     2        \n",
       "╲╱  b₁  + b₂  + b₃  ⋅sin(α) = ╲╱  a₁  + a₂  + a₃  ⋅sin(β)"
      ]
     },
     "execution_count": 5,
     "metadata": {},
     "output_type": "execute_result"
    }
   ],
   "source": [
    "ai = symbols(\"a1:4\", real=True)\n",
    "bi = symbols(\"b1:4\", real=True)\n",
    "ci = symbols(\"c1:4\", real=True)\n",
    "alpha, beta, gamma = symbols(\"alpha, beta, gamma\", real=True)\n",
    "\n",
    "A, B, C = Matrix(ai), Matrix(bi), Matrix(ci)\n",
    "eqn1 = Eq(A + B + C, zeros(3, 1))  # Triangle equality\n",
    "result1 = solve(eqn1, ai)  # Solve for components of a in terms of b, c\n",
    "\n",
    "# Ensures A x B = B x C by A x B - B x C = 0\n",
    "assert (\n",
    "    ((A.cross(B) - B.cross(C)).subs(result1))  # result in terms of b, c\n",
    "    .applyfunc(lambda x: simplify(x))\n",
    ") == zeros(3, 1)\n",
    "\n",
    "# Ensures B x C = C x A by B x C - C x A= 0\n",
    "assert (\n",
    "    ((B.cross(C) - C.cross(A)).subs(result1))  # result in terms of b, c\n",
    "    .applyfunc(lambda x: simplify(x))\n",
    ") == zeros(3, 1)\n",
    "\n",
    "\n",
    "result1 = Eq(B.norm() * C.norm() * sin(alpha), C.norm() * A.norm() * sin(beta))\n",
    "\n",
    "display(result1)\n",
    "\n",
    "Eq(result1.lhs / C.norm(), result1.rhs / C.norm())"
   ]
  },
  {
   "cell_type": "markdown",
   "metadata": {},
   "source": [
    "## Question 1.4\n",
    "\n",
    "Which of the following vector identities are true?\n",
    "\n",
    "(i) $ \\underline c · (\\underline a × \\underline b) = (\\underline b × \\underline a) · \\underline c$;\n",
    "\n",
    "(ii) $\\underline a × (\\underline b × \\underline c) = (\\underline a × \\underline b) × \\underline c$;\n",
    "\n",
    "(iii) $(\\underline a × \\underline b) × \\underline c = (\\underline a · \\underline c)\\underline b − (\\underline a · \\underline b)\\underline c$;\n",
    "\n",
    "(iv) $(\\underline a × \\underline b) × (\\underline c × \\underline b) = \\underline b[\\underline b · (\\underline c × \\underline a)]$.\n"
   ]
  },
  {
   "cell_type": "code",
   "execution_count": 6,
   "metadata": {},
   "outputs": [],
   "source": [
    "ai = symbols(\"a1:4\", real=True)\n",
    "bi = symbols(\"b1:4\", real=True)\n",
    "ci = symbols(\"c1:4\", real=True)\n",
    "\n",
    "a = Matrix(ai)\n",
    "b = Matrix(bi)\n",
    "c = Matrix(ci)\n",
    "\n",
    "# i.\n",
    "assert c.dot(a.cross(b)).expand() != (b.cross(a).dot(c)).expand()\n",
    "\n",
    "# ii.\n",
    "assert a.cross(b.cross(c)).expand() != (a.cross(b).cross(c)).expand()\n",
    "\n",
    "# iii.\n",
    "assert (a.cross(b)).cross(c).expand() != (a.dot(c) * b - (a.dot(b)) * c).expand()\n",
    "\n",
    "# iv.\n",
    "assert (a.cross(b)).cross(c.cross(b)).expand() != (b * (b.dot(c.cross(a)))).expand()"
   ]
  },
  {
   "cell_type": "markdown",
   "metadata": {},
   "source": [
    "## Question 1.5 \n",
    "\n",
    "Deduce the following vector identities:\n",
    "\n",
    "(i)\n",
    "\n",
    "$ \\underline A × (\\underline B × \\underline C) + \\underline B ×\n",
    "(\\underline C × \\underline A) + \\underline C × (\\underline A × \\underline B) = 0\n",
    "$ ;\n",
    "\n",
    "(ii) \n",
    "\n",
    "$(\\underline A × \\underline B) · (\\underline C × D) = (\\underline A · \\underline C)(\\underline B · D) − \n",
    "(\\underline A · D)(\\underline B · \\underline C)$ ;\n",
    "\n",
    "(iii) \n",
    "\n",
    "$(\\underline A × \\underline B) × (\\underline C × \\underline A) = −(\\underline A,\\underline B,\\underline C)\\underline A$ ."
   ]
  },
  {
   "cell_type": "code",
   "execution_count": 7,
   "metadata": {},
   "outputs": [],
   "source": [
    "ai = symbols(\"a1:4\", real=True)\n",
    "bi = symbols(\"b1:4\", real=True)\n",
    "ci = symbols(\"c1:4\", real=True)\n",
    "di = symbols(\"d1:4\", real=True)\n",
    "\n",
    "a = Matrix(ai)\n",
    "b = Matrix(bi)\n",
    "c = Matrix(ci)\n",
    "d = Matrix(di)\n",
    "\n",
    "# (i)\n",
    "assert (\n",
    "    a.cross(b.cross(c)) + b.cross(c.cross(a)) + c.cross(a.cross(b))\n",
    ").expand() == zeros(3, 1)\n",
    "\n",
    "# (ii)\n",
    "assert ((a.cross(b)).dot(c.cross(d)).expand()) == (\n",
    "    (a.dot(c)) * (b.dot(d)) - (a.dot(d)) * (b.dot(c))\n",
    ").expand()\n",
    "\n",
    "# (iii)\n",
    "assert ((a.cross(b)).cross(c.cross(a)).expand()) == (-(a.dot(b.cross(c))) * a).expand()"
   ]
  },
  {
   "cell_type": "markdown",
   "metadata": {},
   "source": [
    "## Problem Sheet 2"
   ]
  },
  {
   "cell_type": "markdown",
   "metadata": {},
   "source": [
    "### Question 2.1 \n",
    "\n",
    "Show that the perpendicular distance of the point with position vector \n",
    "$\\mathbf d$ from the plane \n",
    "$\\mathbf r · \\mathbf a = b$ is $|b − \\mathbf d · \\mathbf a|/\\mathbf a$."
   ]
  },
  {
   "cell_type": "markdown",
   "metadata": {},
   "source": [
    "Transforming the equation $\\ r · \\mathbf a = b$ into the standard form \n",
    "by dividing by $|a|$ to normalise $\\mathbf a$ we obtain \n",
    "$$ \\ r · \\frac{\\mathbf a}{|a|} = \\frac{b}{|a|} $$\n",
    "\n",
    "The perpendicular distance from the origin to the plane is \n",
    "$\\displaystyle \\frac{b}{|a|}$. The distance along $\\displaystyle \\frac{\\mathbf a}{|a|}$ is $\\displaystyle \\mathbf d\\ \\cdot \\frac{\\mathbf a}{|a|}$. So the \n",
    "perpendicular distance from $\\mathbf d $ o the plane is\n",
    "\n",
    "$$ \\displaystyle \n",
    "    \\frac{b}{|a|} - \\mathbf d \\cdot \\frac{\\mathbf a}{|a|} \n",
    "        = |b - \\mathbf d \\cdot \\mathbf a| |\\mathbf a|\n",
    "$$"
   ]
  },
  {
   "cell_type": "markdown",
   "metadata": {},
   "source": [
    "### Question 2.2 \n",
    "\n",
    "Solve the following equations for $\\mathbf r$ , and give a geometrical \n",
    "interpretation to your result:\n",
    "\n",
    "\\begin{align*}\n",
    "    \\mathbf a · \\mathbf r =\\ell \\\\ \n",
    "    \\mathbf b × \\mathbf r = \\mathbf c\n",
    "\\end{align*} \n",
    "\n",
    "where $\\mathbf a · \\mathbf b \\ne 0$ .\n",
    "\n",
    "\\begin{align*} \n",
    "    (\\mathbf b \\times \\mathbf r) &= \n",
    "        \\mathbf c \\rightarrow \\mathbf a \\times (\\mathbf b \\times \\mathbf r) \n",
    "            = \\mathbf a \\times \\mathbf c \\\\\n",
    "                                &\\rightarrow \n",
    "        (\\mathbf b \\cdot \\mathbf a) \\mathbf r - (\\mathbf r \\cdot \\mathbf a) \n",
    "            = \\mathbf a \\times \\mathbf c \\\\ \n",
    "                                &\\rightarrow \n",
    "        (\\mathbf b \\cdot \\mathbf a) \\mathbf r - \\ell \\mathbf b  \n",
    "            = \\mathbf a \\times \\mathbf c \\\\  \n",
    "                                &\\rightarrow \n",
    "        \\mathbf r = \\frac{\\ell \\mathbf b + \\mathbf a \\times \\mathbf c}\n",
    "            { \\mathbf b \\cdot  \\mathbf a}\n",
    " \\end{align*}\n",
    "\n",
    " ##TODO I cannot find a geometric interpretation of this equality"
   ]
  },
  {
   "cell_type": "markdown",
   "metadata": {},
   "source": [
    "### Question 2.3 \n",
    "\n",
    "Show that the solution of the vector equation\n",
    "$$k \\mathbf r + (\\mathbf r × \\mathbf a) = \\mathbf b$$ \n",
    "\n",
    "where $k \\ne 0$, is\n",
    "\n",
    "$$\\mathbf r(k^2 + a^2) = (\\mathbf a × \\mathbf b) + k \\mathbf b + \\frac{(\\mathbf a · \\mathbf b)\\mathbf a}{k}$$\n",
    "\n",
    "[ Hint: Take vector and scalar products of the original equation with a ]"
   ]
  },
  {
   "cell_type": "code",
   "execution_count": 8,
   "metadata": {},
   "outputs": [],
   "source": [
    "# Define symbols\n",
    "k = symbols(\"k\", real=True)\n",
    "ai = symbols(\"a1:4\", real=True)\n",
    "bi = symbols(\"b1:4\", real=True)\n",
    "ri = symbols(\"r1:4\", real=True)\n",
    "\n",
    "# Create vectors\n",
    "a = Matrix(ai)\n",
    "b = Matrix(bi)\n",
    "r = Matrix(ri)\n",
    "\n",
    "# Solve the equation k * r + r.cross(a) = b for r\n",
    "eqn1 = Eq(k * r + r.cross(a), b)\n",
    "solution1 = solve(eqn1, r)\n",
    "\n",
    "# Define expressions\n",
    "expr1 = r * (k**2 + a.norm() ** 2)\n",
    "expr2 = a.cross(b) + k * b + (a.dot(b)) * a / k\n",
    "\n",
    "# Verify equality\n",
    "assert Eq(simplify(expr1.subs(solution1)), expand(expr2))"
   ]
  },
  {
   "cell_type": "markdown",
   "metadata": {},
   "source": [
    "### Question 2.4\n",
    "\n",
    "(i) A system of particles is subject to rotation described by an \n",
    "angular velocity vector $\\mathbf \\omega$. Draw a diagram to show that the velocity vector of a particle at position $\\mathbf r$ is \n",
    "$\\mathbf v = \\mathbf \\omega \\times \\mathbf r$, and show that this \n",
    "rotational velocity is perpendicular to the radius vector.\n",
    "\n",
    "(ii) Any given velocity vector can be decomposed into rotational and \n",
    "radial components: write down expressions for these two components.\n",
    "\n",
    "(iii) A particle rotates with period $T$ in a circle of radius $R$ in the \n",
    "$x−y$ plane, with the centre of the circle at $(x,y) = (X, 0)$. \n",
    "Write down an explicit expression for $\\mathbf r(t)$; hence obtain the \n",
    "velocity $\\mathbf v(t)$. What is the rotational component of\n",
    "the velocity vector?"
   ]
  },
  {
   "cell_type": "code",
   "execution_count": 9,
   "metadata": {},
   "outputs": [],
   "source": [
    "# Define dynamic symbols\n",
    "theta = spv.dynamicsymbols(\"theta\", level=0)\n",
    "r, alpha, beta, gamma = sp.symbols(\"r, alpha, beta, gamma\", real=True)\n",
    "p = sp.symbols(\"p_x:z\", real=True)\n",
    "\n",
    "# Define reference frames\n",
    "N = spv.ReferenceFrame(\"N\")\n",
    "A = spv.ReferenceFrame(\"A\")\n",
    "\n",
    "# Orient reference frame A relative to N\n",
    "A.orient_axis(N, N.z, theta)\n",
    "\n",
    "# Define position vector\n",
    "position_p = p[0] * A.x + p[1] * A.y + p[2] * A.z\n",
    "\n",
    "# Calculate velocity of point p\n",
    "velocity_p = position_p.diff(sp.symbols(\"t\"), N).simplify()\n",
    "\n",
    "# Calculate velocity expression\n",
    "velocity_expression = A.ang_vel_in(N).cross(position_p).express(N)\n",
    "\n",
    "# ensure v = omega x r\n",
    "assert velocity_p == velocity_expression\n",
    "\n",
    "# ensure rotational velocity is perpendicular to the radius vector\n",
    "assert position_p.dot(velocity_p).simplify() == 0"
   ]
  }
 ],
 "metadata": {
  "kernelspec": {
   "display_name": "sympy",
   "language": "python",
   "name": "python3"
  },
  "language_info": {
   "codemirror_mode": {
    "name": "ipython",
    "version": 3
   },
   "file_extension": ".py",
   "mimetype": "text/x-python",
   "name": "python",
   "nbconvert_exporter": "python",
   "pygments_lexer": "ipython3",
   "version": "3.10.14"
  }
 },
 "nbformat": 4,
 "nbformat_minor": 2
}
