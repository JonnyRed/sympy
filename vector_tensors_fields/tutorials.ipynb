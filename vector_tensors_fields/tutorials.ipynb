{
 "cells": [
  {
   "cell_type": "code",
   "execution_count": 27,
   "metadata": {},
   "outputs": [],
   "source": [
    "import sympy as sp\n",
    "import sympy.vector as sv\n",
    "import sv_utils as svu\n",
    "\n",
    "v_zero = sv.Vector.zero\n",
    "N = sv.CoordSys3D(\"N\", vector_names=(\"e_1\", \"e_2\", \"e_3\"))"
   ]
  },
  {
   "cell_type": "code",
   "execution_count": 15,
   "metadata": {},
   "outputs": [],
   "source": [
    "# Problem Sheet 1"
   ]
  },
  {
   "cell_type": "markdown",
   "metadata": {},
   "source": [
    "## Question 1.1\n",
    "\n",
    "Consider the vectors a = (1, 2, 4). and b = (1, 1, 3). in an orthonormal, \n",
    "right-handed basis.\n",
    "\n",
    "i. construct unit vectors ˆa parallel to a and ˆb parallel to b ;\n",
    "\n",
    "ii. use the scalar product to determine the component of a in the \n",
    "direction of b ;\n",
    "\n",
    "iii. hence express a as a sum of vectors parallel and perpendicular to b ;\n",
    "\n",
    "iv. construct a vector c orthogonal to both a and b by requiring that \n",
    "c·a = c·b = 0;\n",
    "\n",
    "v. Verify that ˆc is proportional to ±aˆ ×ˆb . What is the coefficient of proportionality, and what determines the sign?"
   ]
  },
  {
   "cell_type": "code",
   "execution_count": 47,
   "metadata": {},
   "outputs": [
    {
     "data": {
      "text/plain": [
       "'i.'"
      ]
     },
     "metadata": {},
     "output_type": "display_data"
    },
    {
     "data": {
      "image/png": "[encoded data removed]",
      "text/latex": [
       "$\\displaystyle \\left(\\frac{\\sqrt{21}}{21}\\right)\\mathbf{\\hat{e_1}_{N}} + \\left(\\frac{2 \\sqrt{21}}{21}\\right)\\mathbf{\\hat{e_2}_{N}} + \\left(\\frac{4 \\sqrt{21}}{21}\\right)\\mathbf{\\hat{e_3}_{N}}$"
      ],
      "text/plain": [
       "⎛√21⎞         ⎛2⋅√21⎞         ⎛4⋅√21⎞      \n",
       "⎜───⎟ e_1_N + ⎜─────⎟ e_2_N + ⎜─────⎟ e_3_N\n",
       "⎝ 21⎠         ⎝  21 ⎠         ⎝  21 ⎠      "
      ]
     },
     "metadata": {},
     "output_type": "display_data"
    },
    {
     "data": {
      "image/png": "[encoded data removed]",
      "text/latex": [
       "$\\displaystyle \\left(\\frac{\\sqrt{11}}{11}\\right)\\mathbf{\\hat{e_1}_{N}} + \\left(\\frac{\\sqrt{11}}{11}\\right)\\mathbf{\\hat{e_2}_{N}} + \\left(\\frac{3 \\sqrt{11}}{11}\\right)\\mathbf{\\hat{e_3}_{N}}$"
      ],
      "text/plain": [
       "⎛√11⎞         ⎛√11⎞         ⎛3⋅√11⎞      \n",
       "⎜───⎟ e_1_N + ⎜───⎟ e_2_N + ⎜─────⎟ e_3_N\n",
       "⎝ 11⎠         ⎝ 11⎠         ⎝  11 ⎠      "
      ]
     },
     "metadata": {},
     "output_type": "display_data"
    },
    {
     "data": {
      "text/plain": [
       "'ii.'"
      ]
     },
     "metadata": {},
     "output_type": "display_data"
    },
    {
     "data": {
      "image/png": "[encoded data removed]",
      "text/latex": [
       "$\\displaystyle \\left(\\frac{15}{11}\\right)\\mathbf{\\hat{e_1}_{N}} + \\left(\\frac{15}{11}\\right)\\mathbf{\\hat{e_2}_{N}} + \\left(\\frac{45}{11}\\right)\\mathbf{\\hat{e_3}_{N}}$"
      ],
      "text/plain": [
       "⎛15⎞         ⎛15⎞         ⎛45⎞      \n",
       "⎜──⎟ e_1_N + ⎜──⎟ e_2_N + ⎜──⎟ e_3_N\n",
       "⎝11⎠         ⎝11⎠         ⎝11⎠      "
      ]
     },
     "metadata": {},
     "output_type": "display_data"
    },
    {
     "data": {
      "text/plain": [
       "'iii.'"
      ]
     },
     "metadata": {},
     "output_type": "display_data"
    },
    {
     "data": {
      "image/png": "[encoded data removed]",
      "text/latex": [
       "$\\displaystyle \\left(- \\frac{4}{11}\\right)\\mathbf{\\hat{e_1}_{N}} + \\left(\\frac{7}{11}\\right)\\mathbf{\\hat{e_2}_{N}} + \\left(- \\frac{1}{11}\\right)\\mathbf{\\hat{e_3}_{N}}$"
      ],
      "text/plain": [
       "(-4/11) e_1_N + (7/11) e_2_N + (-1/11) e_3_N"
      ]
     },
     "metadata": {},
     "output_type": "display_data"
    },
    {
     "data": {
      "text/plain": [
       "'iv'"
      ]
     },
     "metadata": {},
     "output_type": "display_data"
    },
    {
     "data": {
      "image/png": "[encoded data removed]",
      "text/latex": [
       "$\\displaystyle \\left(- 2 c_{3}\\right)\\mathbf{\\hat{e_1}_{N}} + \\left(- c_{3}\\right)\\mathbf{\\hat{e_2}_{N}} + \\left(c_{3}\\right)\\mathbf{\\hat{e_3}_{N}}$"
      ],
      "text/plain": [
       "(-2⋅c₃) e_1_N + (-c₃) e_2_N + (c₃) e_3_N"
      ]
     },
     "metadata": {},
     "output_type": "display_data"
    },
    {
     "data": {
      "text/plain": [
       "'v'"
      ]
     },
     "metadata": {},
     "output_type": "display_data"
    },
    {
     "data": {
      "image/png": "[encoded data removed]",
      "text/latex": [
       "$\\displaystyle \\left(2\\right)\\mathbf{\\hat{e_1}_{N}} + \\mathbf{\\hat{e_2}_{N}} - \\mathbf{\\hat{e_3}_{N}}$"
      ],
      "text/plain": [
       "(2) e_1_N + e_2_N + (-1) e_3_N"
      ]
     },
     "metadata": {},
     "output_type": "display_data"
    }
   ],
   "source": [
    "a = N.e_1 + 2*N.e_2 + 4*N.e_3\n",
    "b = N.e_1 + N.e_2 + 3*N.e_3\n",
    "\n",
    "# i.\n",
    "a_hat = a.normalize()\n",
    "b_hat = b.normalize()\n",
    "display(\"i.\", a_hat, b_hat)\n",
    "\n",
    "# ii.\n",
    "a_proj_b = a.dot(b.normalize())*b_hat\n",
    "display(\"ii.\", a_proj_b)\n",
    "\n",
    "# iii.\n",
    "a_perp_b = a - a_proj_b\n",
    "display(\"iii.\", a_perp_b)\n",
    "assert a_perp_b.dot(a_proj_b) == 0\n",
    "assert (a_proj_b + a_perp_b) == a\n",
    "\n",
    "# iv.\n",
    "c_i = sp.symbols(\"c_1:4\")\n",
    "c = c_i[0]*N.e_1 + c_i[1]*N.e_2 + c_i[2]*N.e_3\n",
    "\n",
    "eqn1, eqn2 = sp.Eq(c.dot(a), 0), sp.Eq(c.dot(b), 0)\n",
    "result = sp.solve([eqn1, eqn2])\n",
    "result_c = c.subs(result)\n",
    "display(\"iv\", result_c)\n",
    "\n",
    "# v.\n",
    "display(\"v\", a.cross(b))"
   ]
  },
  {
   "cell_type": "code",
   "execution_count": 42,
   "metadata": {},
   "outputs": [
    {
     "data": {
      "image/png": "[encoded data removed]",
      "text/latex": [
       "$\\displaystyle \\left(2\\right)\\mathbf{\\hat{e_1}_{N}} + \\mathbf{\\hat{e_2}_{N}} - \\mathbf{\\hat{e_3}_{N}}$"
      ],
      "text/plain": [
       "(2) e_1_N + e_2_N + (-1) e_3_N"
      ]
     },
     "execution_count": 42,
     "metadata": {},
     "output_type": "execute_result"
    }
   ],
   "source": [
    "a.cross(b)"
   ]
  }
 ],
 "metadata": {
  "kernelspec": {
   "display_name": "sympy",
   "language": "python",
   "name": "python3"
  },
  "language_info": {
   "codemirror_mode": {
    "name": "ipython",
    "version": 3
   },
   "file_extension": ".py",
   "mimetype": "text/x-python",
   "name": "python",
   "nbconvert_exporter": "python",
   "pygments_lexer": "ipython3",
   "version": "3.10.14"
  }
 },
 "nbformat": 4,
 "nbformat_minor": 2
}
