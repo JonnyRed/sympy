{
 "cells": [
  {
   "cell_type": "code",
   "execution_count": 1,
   "metadata": {},
   "outputs": [],
   "source": [
    "import sys\n",
    "import math\n",
    "import string\n",
    "import operator\n",
    "import collections\n",
    "import datetime\n",
    "import itertools\n",
    "import functools\n",
    "\n",
    "import numpy as np\n",
    "\n",
    "import matplotlib\n",
    "import matplotlib.dates as mdates\n",
    "import matplotlib.colors as mcolors\n",
    "import matplotlib.pyplot as plt\n",
    "from mpl_toolkits.mplot3d import Axes3D\n",
    "import pandas as pd\n",
    "import seaborn as sns\n",
    "\n",
    "import IPython\n",
    "import sympy as sp\n",
    "import spb\n",
    "import sympy.core.random as spr\n",
    "import sympy.stats as ss\n",
    "import scipy.stats as sps\n",
    "import sympy.plotting as splt\n",
    "import sympy.physics.vector as spv\n",
    "import sympy.physics.mechanics as spm\n",
    "\n",
    "import IPython.display as ipd\n",
    "spv.init_vprinting()\n",
    "%matplotlib inline\n"
   ]
  },
  {
   "cell_type": "code",
   "execution_count": 2,
   "metadata": {},
   "outputs": [],
   "source": [
    "HALF = sp.S.Half\n",
    "PI = sp.pi\n",
    "E = sp.exp\n",
    "POSITIVEINFINITY = sp.S.Infinity\n",
    "NEGATIVEINFINITY = sp.S.NegativeInfinity"
   ]
  },
  {
   "cell_type": "code",
   "execution_count": 3,
   "metadata": {},
   "outputs": [],
   "source": [
    "def print_aligned_latex_equations(*args):\n",
    "    result = r\"\\\\\".join(\n",
    "        [\n",
    "            r\"\\begin{equation}\",\n",
    "            r\"\\begin{split}\",\n",
    "            *args,\n",
    "            r\"\\nonumber\" r\"\\end{split}\",\n",
    "            r\"\\end{equation}\",\n",
    "        ]\n",
    "    )\n",
    "\n",
    "    ipd.display(ipd.Math(rf\"{result}\"))"
   ]
  },
  {
   "cell_type": "code",
   "execution_count": 4,
   "metadata": {},
   "outputs": [],
   "source": [
    "import doctest"
   ]
  },
  {
   "cell_type": "markdown",
   "metadata": {},
   "source": [
    "# Distributions"
   ]
  },
  {
   "cell_type": "markdown",
   "metadata": {},
   "source": [
    "## Binomial, Bernoulli\n",
    "\n",
    "In statistics, the **binomial distribution** is a discrete probability \n",
    "distribution that describes the probability of getting a certain number \n",
    "of successes in a fixed number of trials. The binomial distribution is \n",
    "a special case of the Bernoulli distribution, which is a discrete \n",
    "probability distribution that describes the probability of getting \n",
    "a single success in a single trial.\n",
    "\n",
    "The binomial distribution has two parameters:\n",
    "\n",
    "* **n:** The number of trials.\n",
    "* **p:** The probability of success on a single trial.\n",
    "\n",
    "The probability of getting a certain number of successes in a \n",
    "binomial distribution is given by the following formula:\n",
    "\n",
    "$$P(x) = {}^nC_x  p^x  (1 - p)^{(n - x)}$$\n",
    "\n",
    "\n",
    "where:\n",
    "\n",
    "* **x:** The number of successes.\n",
    "* **${}^nC_x$:** The binomial coefficient, which is the number of ways \n",
    "to choose x successes from n trials.\n",
    "\n",
    "The binomial distribution is a very useful distribution in statistics, \n",
    "as it can be used to model a wide variety of phenomena. For example, the\n",
    "binomial distribution can be used to model the probability of getting a\n",
    "\n",
    "* certain number of heads in a coin toss, \n",
    "* the probability of getting a certain number of successes in a survey, \n",
    "or \n",
    "* the probability of getting a certain number of defective items in a \n",
    "production run.\n",
    "\n",
    "Here are some examples of how the binomial distribution can be used:\n",
    "\n",
    "* A coin is tossed 10 times. What is the probability of getting 5 heads?\n",
    "\n",
    "\n",
    "The binomial distribution is a powerful tool that can be used to model \n",
    "a wide variety of phenomena."
   ]
  },
  {
   "cell_type": "markdown",
   "metadata": {},
   "source": [
    "### Example Coin Toss\n",
    "\n",
    "A coin is tossed 10 times. What is the probability of getting 5 heads?"
   ]
  },
  {
   "cell_type": "code",
   "execution_count": 5,
   "metadata": {},
   "outputs": [
    {
     "data": {
      "text/latex": [
       "$\\displaystyle \\begin{equation}\\\\\\begin{split}\\\\\\textrm{ with density function}  & :0.246093750000000\\\\P(B = 5) \\textrm{ with P function}  & :0.246093750000000\\\\\\nonumber\\end{split}\\\\\\end{equation}$"
      ],
      "text/plain": [
       "<IPython.core.display.Math object>"
      ]
     },
     "metadata": {},
     "output_type": "display_data"
    }
   ],
   "source": [
    "n = 10  # number of coin tosses\n",
    "p = 0.5  # probability of getting heads on a single toss\n",
    "\n",
    "B = ss.Binomial(\"B\", n, p)  # Binomial distribution object\n",
    "\n",
    "# Calculate the probability of getting 5 heads\n",
    "probability_of_5_heads = ss.density(B).dict[5]\n",
    "\n",
    "# Calculate the probability of getting 5 heads using P()\n",
    "probability_of_5_heads_using_P = ss.P(sp.Eq(B, 5))\n",
    "\n",
    "# Print the results\n",
    "probability_of_5_heads, probability_of_5_heads_using_P\n",
    "\n",
    "# Store probabilities in a list for display\n",
    "text_density = r\"\\textrm{ with density function}\"\n",
    "text_P = r\"P(B = 5) \\textrm{ with P function}\"\n",
    "\n",
    "probabilities = [\n",
    "    f\"{text_density}  & :{probability_of_5_heads }\", \n",
    "    f\"{text_P}  & :{probability_of_5_heads_using_P}\", \n",
    "]\n",
    "\n",
    "\n",
    "# Print aligned LaTeX equations\n",
    "print_aligned_latex_equations(*probabilities)"
   ]
  },
  {
   "cell_type": "markdown",
   "metadata": {},
   "source": [
    "### Example Dancers\n",
    "\n",
    "In a university $8\\%$ of students are members of the university \n",
    "dance club. A random sample of 36 students is taken from the university.\n",
    "\n",
    "The random variable $X$ represents the number of these students who \n",
    "are members of the dance club.\n",
    "\n",
    "* Using a suitable model for $X$, find\n",
    "    * $P(X = 4)$  \n",
    "    * $P(X \\ge 7)$\n"
   ]
  },
  {
   "cell_type": "code",
   "execution_count": 6,
   "metadata": {},
   "outputs": [
    {
     "data": {
      "text/latex": [
       "$\\displaystyle \\begin{equation}\\\\\\begin{split}\\\\P(X = 4) & :0.167\\\\P(X >= 7) & :0.022\\\\\\nonumber\\end{split}\\\\\\end{equation}$"
      ],
      "text/plain": [
       "<IPython.core.display.Math object>"
      ]
     },
     "metadata": {},
     "output_type": "display_data"
    }
   ],
   "source": [
    "# Constants\n",
    "PROBABILITY_DANCER = 0.08\n",
    "PROBABILITY_TANGOER = 0.12\n",
    "\n",
    "# Define symbols\n",
    "x = sp.symbols('x')\n",
    "\n",
    "sample_size = 36\n",
    "# Binomial distribution with sample size and probability\n",
    "X = ss.Binomial(\"X\", n=sample_size, p=PROBABILITY_DANCER)\n",
    "\n",
    "# Calculate and round the probability P(X = 4)\n",
    "PX_eq_4 = round(ss.P(sp.Eq(X, 4)).evalf(), 3)\n",
    "\n",
    "# Calculate and round the probability P(X >= 7)\n",
    "PX_ge_7 = round(ss.P(X >= 7).evalf(), 3)\n",
    "\n",
    "# Store probabilities in a list for display\n",
    "probabilities = [\n",
    "    f\"P(X = 4) & :{PX_eq_4}\", \n",
    "    f\"P(X >= 7) & :{PX_ge_7}\"\n",
    "]\n",
    "\n",
    "# Print aligned LaTeX equations\n",
    "print_aligned_latex_equations(*probabilities)"
   ]
  },
  {
   "cell_type": "markdown",
   "metadata": {},
   "source": [
    "## Normal Distribution"
   ]
  },
  {
   "cell_type": "markdown",
   "metadata": {},
   "source": [
    "### Example Heights of Women\n",
    "\n",
    "The heights of females from a country are normally distributed with a \n",
    "mean of $166.5$ cm and a standard deviation of $6.1$ cm\n",
    "\n",
    "Given that 1% of females from this country are shorter than $k$ cm a) \n",
    "find the value of $k$, b) Find the proportion of females from this \n",
    "country with heights  between $150$ cm and $175$ cm"
   ]
  },
  {
   "cell_type": "code",
   "execution_count": 7,
   "metadata": {},
   "outputs": [
    {
     "data": {
      "text/latex": [
       "$\\displaystyle \\begin{equation}\\\\\\begin{split}\\\\\\textrm{cdf upto k} &: \\frac{\\operatorname{erf}{\\left(\\frac{\\sqrt{2} \\left(- female\\;height_{\\mu} + k\\right)}{2 female\\;height_{\\rho}} \\right)}}{2} + \\frac{1}{2}\\\\\\textrm{Inequality expression for k} &: k < 152.309277968351\\\\\\textrm{Value for k} &: 152\\\\\\nonumber\\end{split}\\\\\\end{equation}$"
      ],
      "text/plain": [
       "<IPython.core.display.Math object>"
      ]
     },
     "metadata": {},
     "output_type": "display_data"
    }
   ],
   "source": [
    "female_height_mu, female_height_rho = sp.symbols(\n",
    "    \"female\\;height_mu, female\\;height_rho\", \n",
    "    real=True, positive=True\n",
    ")\n",
    "\n",
    "x, k = sp.symbols(\"x k\")\n",
    "\n",
    "percentage_females_shorter = sp.Symbol(\n",
    "    \"percentage\\;females\\;shorter\", real=True, positive=True\n",
    ")\n",
    "\n",
    "values = {\n",
    "    female_height_mu:166.5, \n",
    "    female_height_rho:6.1,\n",
    "    percentage_females_shorter: sp.Rational(1, 100)\n",
    "}\n",
    "\n",
    "female_normal = ss.Normal(\n",
    "    \"X_f\", mean=female_height_mu, std=female_height_rho\n",
    ")\n",
    "\n",
    "cdf_for_k = ss.cdf(female_normal)(k)\n",
    "\n",
    "resultk = sp.solve(\n",
    "    sp.Lt(\n",
    "        cdf_for_k.subs(values), \n",
    "        values[percentage_females_shorter]\n",
    "    ), k\n",
    ").evalf()\n",
    "\n",
    "cdf_text = r\"\\textrm{cdf upto k} &:\"\n",
    "resultk_value = math.floor(resultk.rhs)\n",
    "resultk_text = r\"\\textrm{Inequality expression for k} &:\"\n",
    "resultk_value_text = r\"\\textrm{Value for k} &:\"\n",
    "\n",
    "print_aligned_latex_equations(\n",
    "    rf\"{cdf_text} {spv.vlatex(cdf_for_k)}\",\n",
    "    rf\"{resultk_text} {spv.vlatex(resultk)}\",\n",
    "    rf\"{resultk_value_text} {spv.vlatex(resultk_value)}\"\n",
    ")"
   ]
  },
  {
   "cell_type": "markdown",
   "metadata": {},
   "source": [
    "### Example Probability of height range\n",
    "\n",
    "A female, from this country, is chosen at random from those with \n",
    "heights between $150$ cm and $175$ cm\n",
    "\n",
    "Find the probability that her height is more than $160$ cm\n"
   ]
  },
  {
   "cell_type": "code",
   "execution_count": 8,
   "metadata": {},
   "outputs": [
    {
     "data": {
      "text/latex": [
       "$\\displaystyle \\begin{equation}\\\\\\begin{split}\\\\\\textrm{Normally distibuted female height} &: \\frac{\\operatorname{erf}{\\left(\\frac{\\sqrt{2} \\left(- female\\;height_{\\mu} + x\\right)}{2 female\\;height_{\\rho}} \\right)}}{2} + \\frac{1}{2}\\\\\\textrm{Probability height between 150, 175} &: 0.915\\\\\\nonumber\\end{split}\\\\\\end{equation}$"
      ],
      "text/plain": [
       "<IPython.core.display.Math object>"
      ]
     },
     "metadata": {},
     "output_type": "display_data"
    }
   ],
   "source": [
    "female_height_mu, female_height_rho = sp.symbols(\n",
    "    \"female\\;height_mu, female\\;height_rho\", \n",
    "    real=True, positive=True\n",
    ")\n",
    "\n",
    "x, k = sp.symbols(\"x k\")\n",
    "\n",
    "\n",
    "values = {\n",
    "    female_height_mu:166.5, \n",
    "    female_height_rho:6.1\n",
    "}\n",
    "\n",
    "female_normal = ss.Normal(\n",
    "    \"X_f\", mean=female_height_mu, std=female_height_rho\n",
    ")\n",
    "\n",
    "\n",
    "less_than_150cm = (\n",
    "    ss.cdf(female_normal)(x)\n",
    "    .subs(values)\n",
    "    .subs(x,150)\n",
    "    .evalf()\n",
    ")\n",
    "\n",
    "less_than_175cm  = (\n",
    "    ss.cdf(female_normal)(x)\n",
    "    .subs(values)\n",
    "    .subs(x,175)\n",
    "    .evalf()\n",
    ")\n",
    "\n",
    "between_150_175cm = less_than_175cm - less_than_150cm\n",
    "\n",
    "normal_female_text = r\"\\textrm{Normally distibuted female height} &:\"\n",
    "\n",
    "between_150_175text = (\n",
    "    r\"\\textrm{Probability height between 150, 175} &:\"\n",
    ")\n",
    "\n",
    "print_aligned_latex_equations(\n",
    "    rf\"{normal_female_text} {spv.vlatex(ss.cdf(female_normal)(x))}\",\n",
    "    rf\"{between_150_175text} {spv.vlatex(round(between_150_175cm,3))}\"\n",
    ")\n"
   ]
  },
  {
   "cell_type": "markdown",
   "metadata": {},
   "source": [
    "## Hythpothesis Test heights of females \n",
    "\n",
    "The heights of females from a different country are normally \n",
    "distributed with a standard deviation of $7.4$ cm\n",
    "\n",
    "It is believed that the mean height of females from this country is \n",
    "less than $166.5$ cm. A random sample of $50$ females from  this \n",
    "country and finds the mean of the sample is $164.6$ cm\n",
    "\n",
    "Carry out a suitable test to assess the validity of this claim.\n",
    "\n",
    "* State your hypotheses clearly\n",
    "* Use a $5 \\%$ level of significance\n"
   ]
  },
  {
   "cell_type": "code",
   "execution_count": 9,
   "metadata": {},
   "outputs": [
    {
     "data": {
      "text/latex": [
       "$\\displaystyle \\begin{equation}\\\\\\begin{split}\\\\\\textrm{Probability of mean less than 164.6} &: 0.0347\\\\\\textrm{Reject H0}\\\\\\nonumber\\end{split}\\\\\\end{equation}$"
      ],
      "text/plain": [
       "<IPython.core.display.Math object>"
      ]
     },
     "metadata": {},
     "output_type": "display_data"
    }
   ],
   "source": [
    "Z = ss.Normal('Z', 166.5, 7.4/sp.sqrt(50))\n",
    "\n",
    "resultP = ss.P(sp.Lt(Z,164.6)).evalf(3)\n",
    "resultP_text = r\"\\textrm{Probability of mean less than 164.6} &:\"\n",
    "resultP_value_text = (\n",
    "    r\"\\textrm{Reject H0}\" \n",
    "        if (resultP < 0.05) \n",
    "        else  r\"\\textrm{Fail to reject H0} \" \n",
    ")\n",
    "\n",
    "print_aligned_latex_equations(\n",
    "    rf\"{resultP_text} {spv.vlatex(resultP)}\",\n",
    "    rf\"{resultP_value_text}\"\n",
    ")"
   ]
  },
  {
   "cell_type": "markdown",
   "metadata": {},
   "source": [
    "# Product Moment Correlation Coefficient\n"
   ]
  },
  {
   "cell_type": "markdown",
   "metadata": {},
   "source": [
    "\n",
    "## Pearson's Correlation Coefficient\n",
    "\n",
    "Find the product moment correlation coefficient between x and y for \n",
    "this data."
   ]
  },
  {
   "cell_type": "code",
   "execution_count": 10,
   "metadata": {},
   "outputs": [
    {
     "data": {
      "text/latex": [
       "$\\displaystyle \\begin{equation}\\\\\\begin{split}\\\\\\textrm{Correlation }&:-0.545\\\\\\textrm{Significance}&:0.029\\\\\\nonumber\\end{split}\\\\\\end{equation}$"
      ],
      "text/plain": [
       "<IPython.core.display.Math object>"
      ]
     },
     "metadata": {},
     "output_type": "display_data"
    }
   ],
   "source": [
    "x = [3, 6, 8, 7, 5, 3, 11, 3, 4, 5, 4, 9, 7, 10, 6, 6]\n",
    "y = [7, 7, 4, 4, 6, 8, 5, 5, 8, 4, 7, 4, 5, 5, 6, 3]\n",
    "\n",
    "# Calculate the correlation coefficient and p-value\n",
    "\n",
    "pearson_correlation, p_value = sps.pearsonr(x, y)\n",
    "\n",
    "pearson_correlation_results = [\n",
    "    fr\"\\textrm{{Correlation }}&:\" \n",
    "    fr\"{sp.latex(round(pearson_correlation, 3))}\",\n",
    "    fr\"\\textrm{{Significance}}&:\" \n",
    "    fr\"{sp.latex(round(p_value, 3))}\",\n",
    "]\n",
    "\n",
    "print_aligned_latex_equations( *pearson_correlation_results )\n"
   ]
  },
  {
   "cell_type": "markdown",
   "metadata": {},
   "source": [
    "### Intepretation of Pearson Correlation Coeeficient\n",
    "\n",
    "When interpreting the results from `Pearsonr`, the following information is provided:\n",
    "\n",
    "```\n",
    "Correlation: -0.545\n",
    "Significance: 0.029\n",
    "```\n",
    "\n",
    "1. Correlation: The correlation coefficient represents the strength and direction of the linear relationship between the two variables. In this case, the correlation coefficient is -0.545, indicating a negative correlation. The negative sign indicates that as one variable increases, the other variable tends to decrease, and vice versa. The magnitude of -0.545 suggests a moderate negative correlation.\n",
    "\n",
    "2. Significance: The significance value, often referred to as the p-value, represents the probability of observing a correlation coefficient as extreme as the one calculated (or even more extreme) under the null hypothesis that there is no correlation between the two variables. In this case, the p-value is 0.029, which is below the conventional significance level of 0.05. It indicates that there is sufficient evidence to reject the null hypothesis and conclude that there is a statistically significant correlation between the variables.\n",
    "\n",
    "Overall, based on the provided results, there is a moderate negative correlation (-0.545) between the variables, and this correlation is statistically significant (p-value = 0.029)."
   ]
  }
 ],
 "metadata": {
  "kernelspec": {
   "display_name": "sympy",
   "language": "python",
   "name": "python3"
  },
  "language_info": {
   "codemirror_mode": {
    "name": "ipython",
    "version": 3
   },
   "file_extension": ".py",
   "mimetype": "text/x-python",
   "name": "python",
   "nbconvert_exporter": "python",
   "pygments_lexer": "ipython3",
   "version": "3.10.10"
  },
  "orig_nbformat": 4
 },
 "nbformat": 4,
 "nbformat_minor": 2
}
