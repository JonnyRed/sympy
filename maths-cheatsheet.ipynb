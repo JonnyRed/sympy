{
 "cells": [
  {
   "cell_type": "code",
   "execution_count": 2,
   "metadata": {},
   "outputs": [],
   "source": [
    "import warnings\n",
    "warnings.filterwarnings(\"ignore\", category=UserWarning)\n"
   ]
  },
  {
   "cell_type": "code",
   "execution_count": 3,
   "metadata": {
    "collapsed": true,
    "jupyter": {
     "outputs_hidden": true
    }
   },
   "outputs": [],
   "source": [
    "import sys\n",
    "import math\n",
    "import string\n",
    "import operator\n",
    "import random\n",
    "import collections\n",
    "import datetime\n",
    "import itertools\n",
    "import functools\n",
    "\n",
    "import numpy as np\n",
    "import pandas as pd\n",
    "\n",
    "import matplotlib\n",
    "import matplotlib.dates as mdates\n",
    "import matplotlib.colors as mcolors\n",
    "import matplotlib.pyplot as plt\n",
    "from mpl_toolkits.mplot3d import Axes3D\n",
    "import seaborn as sns\n",
    "\n",
    "import IPython\n",
    "import sympy as sp\n",
    "import sympy.plotting as splt\n",
    "import sympy.physics.vector as spv\n",
    "import sympy.physics.mechanics as spm\n",
    "import scipy.constants as spc\n",
    "import scipy as spy\n",
    "\n",
    "import IPython.display as ipd\n",
    "spv.init_vprinting()\n",
    "%matplotlib inline\n"
   ]
  },
  {
   "cell_type": "code",
   "execution_count": 4,
   "metadata": {
    "collapsed": true,
    "jupyter": {
     "outputs_hidden": true
    }
   },
   "outputs": [
    {
     "name": "stdout",
     "output_type": "stream",
     "text": [
      "\n",
      "    Python version 3.9.13 (main, Oct 13 2022, 21:23:06) [MSC v.1916 64 bit (AMD64)]\n",
      "    IPython version 8.4.0\n",
      "    Numpy version 1.23.3\n",
      "    mathplotlib version 3.5.2\n",
      "    Pandas version 1.4.4\n",
      "    Seaborn version 0.12.0\n",
      "    \n"
     ]
    }
   ],
   "source": [
    "print(f\"\"\"\n",
    "    Python version {sys.version}\n",
    "    IPython version {IPython.__version__}\n",
    "    Numpy version {np.__version__}\n",
    "    mathplotlib version {matplotlib.__version__}\n",
    "    Pandas version {pd.__version__}\n",
    "    Seaborn version {sns.__version__}\n",
    "    \"\"\"\n",
    ")\n"
   ]
  },
  {
   "cell_type": "code",
   "execution_count": 5,
   "metadata": {
    "collapsed": true,
    "jupyter": {
     "outputs_hidden": true
    }
   },
   "outputs": [],
   "source": [
    "def directory(obj):\n",
    "    return [\n",
    "        str for str in dir(obj)\n",
    "        if callable(getattr(obj, str)) & ~str.startswith('_')\n",
    "    ]\n"
   ]
  },
  {
   "cell_type": "code",
   "execution_count": 6,
   "metadata": {
    "collapsed": true,
    "jupyter": {
     "outputs_hidden": true
    }
   },
   "outputs": [
    {
     "name": "stdout",
     "output_type": "stream",
     "text": [
      "Audio          JSON               Video               display_markdown      \n",
      "Code           Javascript         VimeoVideo          display_pdf           \n",
      "DisplayHandle  Latex              YouTubeVideo        display_png           \n",
      "DisplayObject  Markdown           clear_output        display_pretty        \n",
      "FileLink       Math               display             display_svg           \n",
      "FileLinks      Pretty             display_html        publish_display_data  \n",
      "GeoJSON        ProgressBar        display_javascript  set_matplotlib_close  \n",
      "HTML           SVG                display_jpeg        set_matplotlib_formats\n",
      "IFrame         ScribdDocument     display_json        update_display        \n",
      "Image          TextDisplayObject  display_latex     \n",
      "\n"
     ]
    }
   ],
   "source": [
    "print(IPython.utils.text.columnize(directory(ipd)))\n"
   ]
  },
  {
   "cell_type": "code",
   "execution_count": 7,
   "metadata": {
    "collapsed": true,
    "jupyter": {
     "outputs_hidden": true
    }
   },
   "outputs": [
    {
     "name": "stdout",
     "output_type": "stream",
     "text": [
      "Catalan           Naturals            __dir__            __ne__             \n",
      "ComplexInfinity   Naturals0           __doc__            __new__            \n",
      "Complexes         NegativeInfinity    __eq__             __reduce__         \n",
      "EmptySequence     NegativeOne         __format__         __reduce_ex__      \n",
      "EmptySet          One                 __ge__             __repr__           \n",
      "EulerGamma        Pi                  __getattr__        __setattr__        \n",
      "Exp1              Rationals           __getattribute__   __sizeof__         \n",
      "GoldenRatio       Reals               __gt__             __slots__          \n",
      "Half              TribonacciConstant  __hash__           __str__            \n",
      "IdentityFunction  UniversalSet        __init__           __subclasshook__   \n",
      "ImaginaryUnit     Zero                __init_subclass__  _classes_to_install\n",
      "Infinity          __call__            __le__             false              \n",
      "Integers          __class__           __lt__             register           \n",
      "NaN               __delattr__         __module__         true               \n",
      "\n"
     ]
    }
   ],
   "source": [
    "print(IPython.utils.text.columnize(dir(sp.S)))\n"
   ]
  },
  {
   "cell_type": "code",
   "execution_count": 8,
   "metadata": {},
   "outputs": [],
   "source": [
    "HALF = sp.S.Half\n",
    "PI = sp.pi\n",
    "E = sp.exp\n",
    "POSITIVEINFINITY = sp.S.Infinity\n"
   ]
  },
  {
   "cell_type": "code",
   "execution_count": 9,
   "metadata": {},
   "outputs": [],
   "source": [
    "def reference_frame(\n",
    "    frame: str,\n",
    "    x=r'\\imath', y=r'\\jmath', z=r'\\mathbf k'\n",
    ") -> spv.ReferenceFrame:\n",
    "    return spv.ReferenceFrame(\n",
    "        frame, latexs=(\n",
    "            fr'\\; {{}}^\\mathcal {frame} \\hat {x}',\n",
    "            fr'\\;{{}}^\\mathcal {frame} \\hat {y}',\n",
    "            fr'\\: {{}}^\\mathcal {frame} \\hat {{z}}'\n",
    "        )\n",
    "    )\n",
    "\n",
    "\n",
    "def vector(F: spv.ReferenceFrame, rx, ry, rz=0) -> spv.Vector:\n",
    "    return rx*F.x + ry*F.y + rz*F.z\n",
    "\n",
    "\n",
    "def vector_cos(\n",
    "    F: spv.ReferenceFrame, magnitude,\n",
    "    anglex, angley, anglez=sp.pi/2\n",
    ") -> spv.Vector:\n",
    "    return (magnitude *\n",
    "            (sp.cos(anglex)*F.x\n",
    "             + sp.cos(angley)*F.y\n",
    "             + sp.cos(anglez)*F.z\n",
    "             )\n",
    "            )\n",
    "\n",
    "\n",
    "def vector_line(\n",
    "    start: spv.Vector, finish: spv.Vector\n",
    ") -> spv.Vector:\n",
    "    return finish - start\n",
    "\n",
    "\n",
    "def vector_line_eqn(\n",
    "    F: spv.ReferenceFrame, start: spv.Vector, finish: spv.Vector, kappa\n",
    ") -> spv.Vector:\n",
    "    return start + vector_line(start, finish).normalize()*kappa\n",
    "\n",
    "\n",
    "def angle_between_vectors(a: spv.Vector, b: spv.Vector):\n",
    "    return sp.acos(a.dot(b)/a.magnitude()/b.magnitude())\n",
    "\n",
    "\n",
    "def create_3d_components(*args):\n",
    "    return [sp.symbols(f'{ch}_{{x:z}}', real=True) for ch in args]\n",
    "\n",
    "\n",
    "def create_vectors(frame: spv.ReferenceFrame, *args):\n",
    "    return [\n",
    "        vector(frame, *c) for c in create_3d_components(*args)\n",
    "    ]"
   ]
  },
  {
   "attachments": {},
   "cell_type": "markdown",
   "metadata": {},
   "source": [
    "# Vectors \n"
   ]
  },
  {
   "cell_type": "markdown",
   "metadata": {},
   "source": [
    "\n",
    "## Formulae 1\n",
    "\n",
    "\\begin{split}\n",
    "    \\| k \\mathbf{a} \\|  &= | k | \\; \\| \\mathbf{a} \\| \\\\\n",
    "    k \\gt 0 \\land \\mathbf{a} \\ne \\mathbf{0} \n",
    "        &\\implies \\frac{k \\mathbf{a}}{\\| k \\mathbf{a} \\|} \n",
    "            = \\frac{\\mathbf{a}}{\\| \\mathbf{a} \\| } \\\\\n",
    "\n",
    "    k \\lt 0 \\land \\mathbf{a} \\ne \\mathbf{0} \n",
    "        &\\implies \\frac{k \\mathbf{a}}{\\| k \\mathbf{a} \\|} \n",
    "            = - \\frac{\\mathbf{a}}{\\| \\mathbf{a} \\| } \\\\\n",
    "\n",
    "    k = 0 \\lor \\mathbf{a} = \\mathbf{0} \n",
    "        &\\implies k \\mathbf{a} = \\mathbf{0} \\\\\n",
    "\n",
    "\\end{split}"
   ]
  },
  {
   "attachments": {},
   "cell_type": "markdown",
   "metadata": {},
   "source": [
    "## Formulae 2\n",
    "\n",
    "\\begin{split}\n",
    "    \\mathbf{\\hat{n}_v} &= \\frac{\\mathbf{v}}{\\| \\mathbf{v} \\|} \\\\\n",
    "\n",
    "    \\mathbf{a} + \\mathbf{b} &= \\mathbf{b} + \\mathbf{a} \\\\\n",
    "\n",
    "    (\\lambda \\mu ) \\mathbf{a}  &= \\lambda (\\mu \\mathbf{a})\n",
    "\t\t = \\mu (\\lambda \\mathbf{a})\\\\\n",
    "\n",
    "    \\lambda (\\mathbf{a} + \\mathbf{b})  &= \n",
    "\t\t\\lambda \\mathbf{a} + \\lambda \\mathbf{b} \\\\\n",
    "\n",
    "    (\\lambda + \\mu) \\mathbf{a}  &= \n",
    "\t\t\\lambda \\mathbf{a} + \\mu \\mathbf{a} \\\\\n",
    "\n",
    "    (\\mathbf{a} + \\mathbf{b}) + \\mathbf{c} &= \n",
    "\t\t\\mathbf{a} + (\\mathbf{b} + \\mathbf{c}) \\\\\n",
    "\n",
    "    \\mathbf{a} \\cdot \\mathbf{b} &= \n",
    "\t\t\\| \\mathbf{a} \\| \\;  \\| \\mathbf{b} \\| \\cos(\\theta),\n",
    "\t\t\\quad 0 \\le \\theta \\le \\pi\\\\\n",
    "\n",
    "    \\mathbf{a} \\cdot \\mathbf{b} &=  \\mathbf{b} \\cdot \\mathbf{a}\\\\\n",
    "\n",
    "\t\\mathbf{a} \\cdot (\\mathbf{b} + \\mathbf{c}) &= \n",
    "\t\t\\mathbf{a} \\cdot \\mathbf{b} + \\mathbf{a} \\cdot \\mathbf{c}\\\\\n",
    "\n",
    "\t\\| \\mathbf{a} \\times  \\mathbf{b} \\| &=\n",
    "\t\t\\|\\mathbf{a}\\| \\; \\|\\mathbf{b}\\| \\sin \\theta \\\\\n",
    "\n",
    "\t(\\mathbf{a} \\times  \\mathbf{b}) \\times \\mathbf{c} &\\ne \n",
    "\t\t \\mathbf{a} \\times  (\\mathbf{b} \\times \\mathbf{c}) \\\\\n",
    "\n",
    "\t\\mathbf{a} \\times  \\mathbf{b} &= \n",
    "\t\t - ( \\mathbf{b} \\times  \\mathbf{a}) \\\\\n",
    "\n",
    "\t\\mathbf{a} \\times (\\mathbf{b} + \\mathbf{c}) &= \n",
    "\t\t\\mathbf{a} \\times \\mathbf{b} + \\mathbf{a} \\times \\mathbf{b}\\\\\n",
    "\n",
    "\t \\mathbf{a} \\cdot (\\mathbf{b} \\times \\mathbf{c}) \n",
    "\t\t&\\quad\\textrm{ gives the scalar\ttriple product.}\\\\\n",
    "\n",
    "\t[\\mathbf{a}, \\mathbf{b}, \\mathbf{c}] &\\equiv \n",
    "\t\t\\mathbf{a} \\cdot (\\mathbf{b} \\times \\mathbf{c})\\\\\n",
    "\n",
    "\t[\\mathbf{a}, \\mathbf{b}, \\mathbf{c}] \n",
    "\t\t&= [\\mathbf{b}, \\mathbf{c}, \\mathbf{a}] \n",
    "\t\t=  [\\mathbf{c}, \\mathbf{a}, \\mathbf{b}]\n",
    "\\end{split}"
   ]
  },
  {
   "attachments": {},
   "cell_type": "markdown",
   "metadata": {},
   "source": [
    "Formulae 3\n",
    "\n",
    "\\begin{split}\n",
    "\n",
    "\t\\mathbf{a} \\cdot (\\mathbf{b} \\times \\mathbf{c})  &= \n",
    "\t\t(\\mathbf{a} \\times \\mathbf{b}) \\cdot \\mathbf{c}\\\\\n",
    "\n",
    "\t\\mathbf{a} \\times (\\mathbf{b} \\times \\mathbf{c}) &= \n",
    "\t\t\t(\\mathbf{a} \\cdot \\mathbf{c})\\mathbf{b} \n",
    "\t\t\t\t- (\\mathbf{a} \\cdot \\mathbf{b})\\mathbf{c}\\\\\n",
    "\n",
    "\t(\\mathbf{a} \\times \\mathbf{b}) \\times \\mathbf{c} &= \n",
    "\t\t(\\mathbf{a}\\cdot \\mathbf{c}) \\mathbf{b}\n",
    "\t\t\t- (\\mathbf{b} \\cdot \\mathbf{c}) \\mathbf{a}\\\\\n",
    "\n",
    "\t\\alpha \\mathbf{b} &= \n",
    "\t\t\\alpha b_x \\mathbf{\\hat \\imath} + \\alpha b_y\n",
    "\t\t\t\\mathbf{\\hat \\jmath} + \\alpha b_z \\mathbf{\\hat{k}}\\\\\n",
    "\n",
    "\t\\mathbf{a} \\cdot \\mathbf{b} &= a_x b_x + a_y b_y + a_z b_z\\\\\n",
    "\n",
    "\t\\mathbf{a} \\times \\mathbf{b} &=\n",
    "\t\\textrm{det }\n",
    "\t\t\\begin{bmatrix} \n",
    "\t\t\t\\mathbf{\\hat \\imath} \n",
    "\t\t\t\t& \\mathbf{\\hat \\jmath} \n",
    "\t\t\t\t& \\mathbf{\\hat{k}} \\\\ \n",
    "\t\t\ta_x & a_y & a_z \\\\ \n",
    "\t\t\tb_x & b_y & b_z \n",
    "\t\t\\end{bmatrix}\\\\\n",
    "\n",
    "\t\\mathbf{a} \\cdot (\\mathbf{b} \\times \\mathbf{c}) &=\n",
    "\t\\textrm{det }\n",
    "\t\t\\begin{bmatrix} \n",
    "\t\t\ta_x & a_y & a_z \\\\ \n",
    "\t\t\tb_x & b_y & b_z \\\\ \n",
    "\t\t\tc_x & c_y\t& c_z \n",
    "\t\t\\end{bmatrix}\\\\\n",
    "\\end{split}\n"
   ]
  }
 ],
 "metadata": {
  "kernelspec": {
   "display_name": "3.9",
   "language": "python",
   "name": "python3"
  },
  "language_info": {
   "codemirror_mode": {
    "name": "ipython",
    "version": 3
   },
   "file_extension": ".py",
   "mimetype": "text/x-python",
   "name": "python",
   "nbconvert_exporter": "python",
   "pygments_lexer": "ipython3",
   "version": "3.9.13"
  },
  "orig_nbformat": 4,
  "vscode": {
   "interpreter": {
    "hash": "439944bd8008f2f069e15c63249790d203ae4a03debaae97ad3c7d6c011f8ad2"
   }
  }
 },
 "nbformat": 4,
 "nbformat_minor": 2
}
