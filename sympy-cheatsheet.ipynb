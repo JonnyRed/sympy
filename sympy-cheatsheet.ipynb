{
 "cells": [
  {
   "cell_type": "code",
   "execution_count": 42,
   "metadata": {},
   "outputs": [],
   "source": [
    "import warnings\n",
    "warnings.filterwarnings(\"ignore\", category=UserWarning)\n"
   ]
  },
  {
   "cell_type": "code",
   "execution_count": 43,
   "metadata": {
    "collapsed": true,
    "jupyter": {
     "outputs_hidden": true
    }
   },
   "outputs": [],
   "source": [
    "import sys\n",
    "import math\n",
    "import string\n",
    "import operator\n",
    "import random\n",
    "import collections\n",
    "import datetime\n",
    "import itertools\n",
    "import functools\n",
    "\n",
    "import numpy as np\n",
    "import pandas as pd\n",
    "\n",
    "import matplotlib\n",
    "import matplotlib.dates as mdates\n",
    "import matplotlib.colors as mcolors\n",
    "import matplotlib.pyplot as plt\n",
    "from mpl_toolkits.mplot3d import Axes3D\n",
    "import seaborn as sns\n",
    "\n",
    "import IPython\n",
    "import sympy as sp\n",
    "import sympy.plotting as splt\n",
    "import sympy.physics.vector as spv\n",
    "import sympy.physics.mechanics as spm\n",
    "import scipy.constants as spc\n",
    "\n",
    "import IPython.display as ipd\n",
    "spv.init_vprinting()\n",
    "%matplotlib inline\n"
   ]
  },
  {
   "cell_type": "code",
   "execution_count": 44,
   "metadata": {
    "collapsed": true,
    "jupyter": {
     "outputs_hidden": true
    }
   },
   "outputs": [
    {
     "name": "stdout",
     "output_type": "stream",
     "text": [
      "\n",
      "    Python version 3.9.13 (main, Oct 13 2022, 21:23:06) [MSC v.1916 64 bit (AMD64)]\n",
      "    IPython version 8.4.0\n",
      "    Numpy version 1.23.3\n",
      "    mathplotlib version 3.5.2\n",
      "    Pandas version 1.4.4\n",
      "    Seaborn version 0.12.0\n",
      "    \n"
     ]
    }
   ],
   "source": [
    "print(f\"\"\"\n",
    "    Python version {sys.version}\n",
    "    IPython version {IPython.__version__}\n",
    "    Numpy version {np.__version__}\n",
    "    mathplotlib version {matplotlib.__version__}\n",
    "    Pandas version {pd.__version__}\n",
    "    Seaborn version {sns.__version__}\n",
    "    \"\"\"\n",
    "      )\n"
   ]
  },
  {
   "cell_type": "code",
   "execution_count": 45,
   "metadata": {
    "collapsed": true,
    "jupyter": {
     "outputs_hidden": true
    }
   },
   "outputs": [],
   "source": [
    "def directory(obj):\n",
    "    return [\n",
    "        str for str in dir(obj)\n",
    "        if callable(getattr(obj, str)) & ~str.startswith('_')\n",
    "    ]\n"
   ]
  },
  {
   "cell_type": "code",
   "execution_count": 46,
   "metadata": {
    "collapsed": true,
    "jupyter": {
     "outputs_hidden": true
    }
   },
   "outputs": [
    {
     "name": "stdout",
     "output_type": "stream",
     "text": [
      "Audio          JSON               Video               display_markdown      \n",
      "Code           Javascript         VimeoVideo          display_pdf           \n",
      "DisplayHandle  Latex              YouTubeVideo        display_png           \n",
      "DisplayObject  Markdown           clear_output        display_pretty        \n",
      "FileLink       Math               display             display_svg           \n",
      "FileLinks      Pretty             display_html        publish_display_data  \n",
      "GeoJSON        ProgressBar        display_javascript  set_matplotlib_close  \n",
      "HTML           SVG                display_jpeg        set_matplotlib_formats\n",
      "IFrame         ScribdDocument     display_json        update_display        \n",
      "Image          TextDisplayObject  display_latex     \n",
      "\n"
     ]
    }
   ],
   "source": [
    "print(IPython.utils.text.columnize(directory(ipd)))\n"
   ]
  },
  {
   "cell_type": "code",
   "execution_count": 47,
   "metadata": {
    "collapsed": true,
    "jupyter": {
     "outputs_hidden": true
    }
   },
   "outputs": [
    {
     "name": "stdout",
     "output_type": "stream",
     "text": [
      "Catalan           Naturals            __dir__            __ne__             \n",
      "ComplexInfinity   Naturals0           __doc__            __new__            \n",
      "Complexes         NegativeInfinity    __eq__             __reduce__         \n",
      "EmptySequence     NegativeOne         __format__         __reduce_ex__      \n",
      "EmptySet          One                 __ge__             __repr__           \n",
      "EulerGamma        Pi                  __getattr__        __setattr__        \n",
      "Exp1              Rationals           __getattribute__   __sizeof__         \n",
      "GoldenRatio       Reals               __gt__             __slots__          \n",
      "Half              TribonacciConstant  __hash__           __str__            \n",
      "IdentityFunction  UniversalSet        __init__           __subclasshook__   \n",
      "ImaginaryUnit     Zero                __init_subclass__  _classes_to_install\n",
      "Infinity          __call__            __le__             false              \n",
      "Integers          __class__           __lt__             register           \n",
      "NaN               __delattr__         __module__         true               \n",
      "\n"
     ]
    }
   ],
   "source": [
    "print(IPython.utils.text.columnize(dir(sp.S)))\n"
   ]
  },
  {
   "cell_type": "code",
   "execution_count": 48,
   "metadata": {},
   "outputs": [],
   "source": [
    "HALF = sp.S.Half\n",
    "PI = sp.pi\n",
    "E = sp.exp\n",
    "POSITIVEINFINITY = sp.S.Infinity\n"
   ]
  },
  {
   "cell_type": "markdown",
   "metadata": {},
   "source": [
    "# Support Functions"
   ]
  },
  {
   "cell_type": "code",
   "execution_count": 49,
   "metadata": {},
   "outputs": [],
   "source": [
    "def reference_frame(\n",
    "    frame: str,\n",
    "    x=r'\\imath', y=r'\\jmath', z=r'\\mathbf k'\n",
    ") -> spv.ReferenceFrame:\n",
    "    return spv.ReferenceFrame(\n",
    "        frame, latexs=(\n",
    "            fr'\\; {{}}^\\mathcal {frame} \\hat {x}',\n",
    "            fr'\\;{{}}^\\mathcal {frame} \\hat {y}',\n",
    "            fr'\\: {{}}^\\mathcal {frame} \\hat {{z}}'\n",
    "        )\n",
    "    )\n",
    "\n",
    "\n",
    "def vector(F: spv.ReferenceFrame, rx, ry, rz=0) -> spv.Vector:\n",
    "    return rx*F.x + ry*F.y + rz*F.z\n",
    "\n",
    "\n",
    "def vector_cos(\n",
    "    F: spv.ReferenceFrame, magnitude,\n",
    "    anglex, angley, anglez=sp.pi/2\n",
    ") -> spv.Vector:\n",
    "    return (magnitude *\n",
    "            (sp.cos(anglex)*F.x\n",
    "             + sp.cos(angley)*F.y\n",
    "             + sp.cos(anglez)*F.z\n",
    "             )\n",
    "            )\n",
    "\n",
    "\n",
    "def vector_line(\n",
    "    start: spv.Vector, finish: spv.Vector\n",
    ") -> spv.Vector:\n",
    "    return finish - start\n",
    "\n",
    "\n",
    "def vector_line_eqn(\n",
    "    F: spv.ReferenceFrame, start: spv.Vector, finish: spv.Vector, kappa\n",
    ") -> spv.Vector:\n",
    "    return start + vector_line(start, finish).normalize()*kappa\n",
    "\n",
    "\n",
    "def angle_between_vectors(a: spv.Vector, b: spv.Vector):\n",
    "    return sp.acos(a.dot(b)/a.magnitude()/b.magnitude())\n",
    "\n",
    "\n",
    "def make2Dsymbols(symbol_list):\n",
    "    return [\n",
    "        sp.symbols(f\"{ch}_x:y\", real=True)\n",
    "        for ch in symbol_list\n",
    "    ]\n",
    "\n",
    "\n",
    "F, E = make2Dsymbols(['F', 'E'])\n",
    "assert str(F) == '(F_x, F_y)'\n",
    "assert str(E) == '(E_x, E_y)'\n"
   ]
  },
  {
   "cell_type": "markdown",
   "metadata": {},
   "source": [
    "__Solutions to equilibrium equations__"
   ]
  },
  {
   "cell_type": "code",
   "execution_count": 50,
   "metadata": {},
   "outputs": [],
   "source": [
    "def solve_equilibrium_equation(\n",
    "    frame: spv.ReferenceFrame,\n",
    "    unknown_variables: list[sp.Symbol],\n",
    "    forces: list[spv.Vector],\n",
    "    moments: list[spv.Vector]\n",
    "):\n",
    "    \"\"\"Solve a set of vectors for unknowns\n",
    "\n",
    "    Args:\n",
    "        frame (spv.ReferenceFrame): Reference frame containing vectors\n",
    "        unknown_variables (list[sp.Symbol]): List of unknwn variabes in \n",
    "        the vectors which are to be solved for.\n",
    "\n",
    "        forces (list[spv.Vector]): List of force vectors that are in \n",
    "        equilibrium\n",
    "\n",
    "        moments (list[spv.Vector]): List of moment vectors that are in \n",
    "        equilibrium\n",
    "\n",
    "    Returns:\n",
    "        _type_: _description_\n",
    "    \"\"\"\n",
    "    total_force = sum(forces)\n",
    "    total_moments = sum(moments)\n",
    "    # display(total_force)\n",
    "    # display(total_moments)\n",
    "    eqn = sp.Eq(\n",
    "        sp.Matrix.vstack(\n",
    "            total_force.to_matrix(frame),\n",
    "            total_moments.to_matrix(frame)),\n",
    "        sp.zeros(6, 1)\n",
    "    )\n",
    "    # display(eqn)\n",
    "    return sp.solve(eqn, unknown_variables, dict=True)\n"
   ]
  },
  {
   "cell_type": "markdown",
   "metadata": {},
   "source": [
    "[Distributed load calculation][]\n",
    "\n",
    "[Distributed load calculation]: https://engineeringstatics.org/distributed-loads.html"
   ]
  },
  {
   "cell_type": "code",
   "execution_count": 51,
   "metadata": {},
   "outputs": [],
   "source": [
    "def distributed_load(\n",
    "    load_distribution_expr: sp.core.expr.Expr,\n",
    "    integration_variable: sp.core.expr.Expr,\n",
    "    upper: sp.core.expr.Expr\n",
    ") -> sp.core.expr.Expr:\n",
    "\n",
    "    equivalent_force = sp.integrate(\n",
    "        load_distribution_expr,\n",
    "        [integration_variable, 0, upper]\n",
    "    )\n",
    "\n",
    "    moment = sp.integrate(\n",
    "        integration_variable*load_distribution_expr,\n",
    "        [integration_variable, 0, upper]\n",
    "    )\n",
    "\n",
    "    position_of_equivalent_force = sp.symbols(r\"\\overline{x}\")\n",
    "    eqn = sp.Eq(equivalent_force*position_of_equivalent_force, moment)\n",
    "    point_of_application = sp.solve(eqn, position_of_equivalent_force)\n",
    "    return equivalent_force, point_of_application[0]\n",
    "\n",
    "\n",
    "x = sp.symbols(\"x\")\n",
    "assert distributed_load(sp.Rational(10, 6)*x, x, 6) == (30, 4)\n",
    "assert distributed_load(4, x, 4) == (16, 2)\n"
   ]
  },
  {
   "cell_type": "markdown",
   "metadata": {},
   "source": [
    "# Sympy \n",
    "1. [SymPy Documentation][]\n",
    "1. [SymPy Modules Reference][]\n",
    "1. [Sympy Live][]\n",
    "1. [Scipy Lecture Notes][]\n",
    "1. [Sympy Tutorial Main Site][]\n",
    "1. [Sympy Tutorial - Russia][]\n",
    "1. [Sympy examples 1][]\n",
    "1. [SymPy: symbolic computing in Python](https://peerj.com/articles/cs-103/) looks cool\n",
    "1. Good [sympy tutorial](http://www.cfm.brown.edu/people/dobrush/am33/SymPy/index.html) and [plotting](http://www.cfm.brown.edu/people/dobrush/am33/SymPy/part1.html) by Vladimir Dobrushkin\n",
    "\n",
    "\n",
    "[SymPy Documentation]: http://docs.sympy.org/latest/index.html#welcome-to-sympy-s-documentation\n",
    "\n",
    "[SymPy Modules Reference]: http://docs.sympy.org/latest/modules/index.html#sympy-modules-reference\n",
    "\n",
    "[Sympy Live]: http://live.sympy.org/\n",
    "\n",
    "[Scipy Lecture Notes]: http://www.scipy-lectures.org/\n",
    "\n",
    "[Sympy Tutorial Main Site]: http://docs.sympy.org/latest/tutorial/index.html#sympy-tutorial\n",
    "\n",
    "[Sympy Tutorial - Russia]: http://www.inp.nsk.su/~grozin/python/sympy.html\n",
    "\n",
    "[Sympy examples 1]: https://github.com/sbu-python-class/python-science/blob/master/lectures/06-sympy/sympy-examples.ipynb\n",
    "\n"
   ]
  },
  {
   "cell_type": "markdown",
   "metadata": {},
   "source": [
    "# Symbols\n",
    "1. [symbols][]\n",
    "1. [assumptions][]\n",
    "\n",
    "[symbols]: http://docs.sympy.org/latest/modules/core.html?highlight=match#sympy.core.symbol.symbols\n",
    "[assumptions]:http://docs.sympy.org/latest/modules/core.html?highlight=match#module-sympy.core.assumptions"
   ]
  },
  {
   "cell_type": "code",
   "execution_count": 52,
   "metadata": {
    "collapsed": true,
    "jupyter": {
     "outputs_hidden": true
    }
   },
   "outputs": [
    {
     "data": {
      "image/png": "[encoded data removed]",
      "text/latex": [
       "$\\displaystyle \\left( x, \\  h, \\  n, \\  k\\right)$"
      ],
      "text/plain": [
       "(x, h, n, k)"
      ]
     },
     "execution_count": 52,
     "metadata": {},
     "output_type": "execute_result"
    }
   ],
   "source": [
    "x, h = sp.symbols('x, h')\n",
    "n, k = sp.symbols('n, k', positive=True, integer=True)\n",
    "x, h, n, k\n"
   ]
  },
  {
   "cell_type": "code",
   "execution_count": 53,
   "metadata": {
    "collapsed": true,
    "jupyter": {
     "outputs_hidden": true
    }
   },
   "outputs": [
    {
     "data": {
      "image/png": "[encoded data removed]",
      "text/latex": [
       "$\\displaystyle \\left( a_{4}, \\  a_{5}\\right)$"
      ],
      "text/plain": [
       "(a₄, a₅)"
      ]
     },
     "execution_count": 53,
     "metadata": {},
     "output_type": "execute_result"
    }
   ],
   "source": [
    "a4, a5 = sp.symbols('a4:6')\n",
    "a4, a5\n"
   ]
  },
  {
   "cell_type": "code",
   "execution_count": 54,
   "metadata": {
    "collapsed": true,
    "jupyter": {
     "outputs_hidden": true
    }
   },
   "outputs": [
    {
     "data": {
      "text/plain": [
       "(sympy.series.order.Order,\n",
       " S,\n",
       " I,\n",
       " <function sympy.core.evalf.N(x, n=15, **options)>,\n",
       " E,\n",
       " <sympy.assumptions.ask.AssumptionKeys at 0x14c30eeca60>)"
      ]
     },
     "execution_count": 54,
     "metadata": {},
     "output_type": "execute_result"
    }
   ],
   "source": [
    "sp.O, sp.S, sp.I, sp.N, sp.E, sp.Q\n"
   ]
  },
  {
   "cell_type": "code",
   "execution_count": 55,
   "metadata": {
    "collapsed": true,
    "jupyter": {
     "outputs_hidden": true
    }
   },
   "outputs": [
    {
     "data": {
      "image/png": "[encoded data removed]",
      "text/latex": [
       "$\\displaystyle \\left( 1, \\  \\frac{1}{2}, \\  -1, \\  -\\infty, \\  \\infty, \\  \\infty, \\  \\pi, \\  e, \\  e, \\  \\phi, \\  \\phi, \\  \\gamma, \\  \\gamma, \\  i\\right)$"
      ],
      "text/plain": [
       "(1, 1/2, -1, -∞, ∞, ∞, π, ℯ, ℯ, φ, φ, γ, γ, ⅈ)"
      ]
     },
     "execution_count": 55,
     "metadata": {},
     "output_type": "execute_result"
    }
   ],
   "source": [
    "(\n",
    "    sp.S.One,\n",
    "    sp.S.Half,\n",
    "    sp.S.NegativeOne,\n",
    "    sp.S.NegativeInfinity,\n",
    "    sp.oo,\n",
    "    sp.S.Infinity,\n",
    "    sp.pi,\n",
    "    sp.E,\n",
    "    sp.S.Exp1,\n",
    "    sp.S.GoldenRatio,\n",
    "    sp.GoldenRatio,\n",
    "    sp.S.EulerGamma,\n",
    "    sp.EulerGamma,\n",
    "    sp.I\n",
    ")\n"
   ]
  },
  {
   "cell_type": "markdown",
   "metadata": {
    "toc-hr-collapsed": true,
    "toc-nb-collapsed": true
   },
   "source": [
    "# Printing"
   ]
  },
  {
   "cell_type": "code",
   "execution_count": 56,
   "metadata": {
    "collapsed": true,
    "jupyter": {
     "outputs_hidden": true
    }
   },
   "outputs": [],
   "source": [
    "G, M, d = sp.symbols('G, M, d', real=True, positive=True)\n",
    "N = spm.ReferenceFrame('N', latexs=(\n",
    "    r'\\hat{\\imath}', r'\\hat{\\jmath}', r'\\hat{k}'))\n"
   ]
  },
  {
   "cell_type": "code",
   "execution_count": 57,
   "metadata": {
    "collapsed": true,
    "jupyter": {
     "outputs_hidden": true
    }
   },
   "outputs": [
    {
     "data": {
      "image/png": "[encoded data removed]",
      "text/latex": [
       "$\\displaystyle 4 d\\hat{\\imath}$"
      ],
      "text/plain": [
       "4⋅d n_x"
      ]
     },
     "metadata": {},
     "output_type": "display_data"
    },
    {
     "data": {
      "image/png": "[encoded data removed]",
      "text/latex": [
       "$\\displaystyle 6 d\\hat{\\imath}$"
      ],
      "text/plain": [
       "6⋅d n_x"
      ]
     },
     "metadata": {},
     "output_type": "display_data"
    },
    {
     "data": {
      "text/plain": [
       "(None, None)"
      ]
     },
     "execution_count": 57,
     "metadata": {},
     "output_type": "execute_result"
    }
   ],
   "source": [
    "r12 = 4*d*N.x\n",
    "r13 = 6*d*N.x\n",
    "ipd.display(r12), ipd.display(r13)\n"
   ]
  },
  {
   "cell_type": "code",
   "execution_count": 58,
   "metadata": {
    "collapsed": true,
    "jupyter": {
     "outputs_hidden": true
    },
    "tags": []
   },
   "outputs": [
    {
     "name": "stdout",
     "output_type": "stream",
     "text": [
      "Abs                             div                          symbols            \n",
      "AccumBounds                     divisor_count                symmetric_poly     \n",
      "Add                             divisor_sigma                symmetrize         \n",
      "Adjoint                         divisors                     sympify            \n",
      "AlgebraicField                  doctest                      take               \n",
      "AlgebraicNumber                 dotprint                     tan                \n",
      "And                             dsolve                       tanh               \n",
      "AppliedPredicate                egyptian_fraction            tensor             \n",
      "Array                           elliptic_e                   tensorcontraction  \n",
      "AssumptionsContext              elliptic_f                   tensordiagonal     \n",
      "Atom                            elliptic_k                   tensorproduct      \n",
      "AtomicExpr                      elliptic_pi                  terms_gcd          \n",
      "BasePolynomialError             epath                        test               \n",
      "Basic                           erf                          testing            \n",
      "BlockDiagMatrix                 erf2                         textplot           \n",
      "BlockMatrix                     erf2inv                      threaded           \n",
      "CC                              erfc                         timed              \n",
      "CRootOf                         erfcinv                      to_cnf             \n",
      "Catalan                         erfi                         to_dnf             \n",
      "Chi                             erfinv                       to_nnf             \n",
      "Ci                              euler                        to_number_field    \n",
      "Circle                          euler_equations              together           \n",
      "CoercionFailed                  evalf                        topological_sort   \n",
      "Complement                      evaluate                     total_degree       \n",
      "ComplexField                    exp                          totient            \n",
      "ComplexRegion                   exp_polar                    trace              \n",
      "ComplexRootOf                   expand                       trailing           \n",
      "Complexes                       expand_complex               transpose          \n",
      "ComputationFailed               expand_func                  tribonacci         \n",
      "ConditionSet                    expand_log                   trigamma           \n",
      "Contains                        expand_mul                   trigsimp           \n",
      "CosineTransform                 expand_multinomial           true               \n",
      "Curve                           expand_power_base            trunc              \n",
      "DeferredVector                  expand_power_exp             unbranched_argument\n",
      "DenseNDimArray                  expand_trig                  unflatten          \n",
      "Derivative                      expint                       unpolarify         \n",
      "Determinant                     exptrigsimp                  uppergamma         \n",
      "DiagMatrix                      exquo                        use                \n",
      "DiagonalMatrix                  external                     utilities          \n",
      "DiagonalOf                      eye                          var                \n",
      "Dict                            factor                       variations         \n",
      "DiracDelta                      factor_list                  vectorize          \n",
      "DisjointUnion                   factor_nc                    vfield             \n",
      "Domain                          factor_terms                 viete              \n",
      "DomainError                     factorial                    vring              \n",
      "DotProduct                      factorial2                   wronskian          \n",
      "Dummy                           factorint                    xfield             \n",
      "E                               factorrat                    xring              \n",
      "E1                              failing_assumptions          xthreaded          \n",
      "EPath                           false                        yn                 \n",
      "EX                              farthest_points              zeros              \n",
      "EXRAW                           fcode                        zeta               \n",
      "Ei                              ff                           zoo                \n",
      "Eijk                            fft                        \n",
      "Ellipse                         fibonacci                  \n",
      "EmptySequence                   field                      \n",
      "EmptySet                        field_isomorphism          \n",
      "Eq                              filldedent                 \n",
      "Equality                        finite_diff_weights        \n",
      "Equivalent                      flatten                    \n",
      "EulerGamma                      floor                      \n",
      "EvaluationFailed                fourier_series             \n",
      "ExactQuotientFailed             fourier_transform          \n",
      "Expr                            fps                        \n",
      "ExpressionDomain                frac                       \n",
      "ExtraneousFactors               fraction                   \n",
      "FF                              fresnelc                   \n",
      "FF_gmpy                         fresnels                   \n",
      "FF_python                       fu                         \n",
      "FU                              functions                  \n",
      "FallingFactorial                fwht                       \n",
      "FiniteField                     gamma                      \n",
      "FiniteSet                       gammasimp                  \n",
      "FlagError                       gcd                        \n",
      "Float                           gcd_list                   \n",
      "FourierTransform                gcd_terms                  \n",
      "FractionField                   gcdex                      \n",
      "Function                        gegenbauer                 \n",
      "FunctionClass                   genocchi                   \n",
      "FunctionMatrix                  geometry                   \n",
      "GF                              get_contraction_structure  \n",
      "GMPYFiniteField                 get_indices                \n",
      "GMPYIntegerRing                 gff                        \n",
      "GMPYRationalField               gff_list                   \n",
      "Ge                              glsl_code                  \n",
      "GeneratorsError                 grevlex                    \n",
      "GeneratorsNeeded                grlex                      \n",
      "GeometryError                   groebner                   \n",
      "GoldenRatio                     ground_roots               \n",
      "GramSchmidt                     group                      \n",
      "GreaterThan                     gruntz                     \n",
      "GroebnerBasis                   hadamard_product           \n",
      "Gt                              half_gcdex                 \n",
      "HadamardPower                   hankel1                    \n",
      "HadamardProduct                 hankel2                    \n",
      "HankelTransform                 hankel_transform           \n",
      "Heaviside                       harmonic                   \n",
      "HeuristicGCDFailed              has_dups                   \n",
      "HomomorphismFailed              has_variety                \n",
      "I                               hermite                    \n",
      "ITE                             hermite_poly               \n",
      "Id                              hessian                    \n",
      "Identity                        hn1                        \n",
      "Idx                             hn2                        \n",
      "ImageSet                        homogeneous_order          \n",
      "ImmutableDenseMatrix            horner                     \n",
      "ImmutableDenseNDimArray         hyper                      \n",
      "ImmutableMatrix                 hyperexpand                \n",
      "ImmutableSparseMatrix           hypersimilar               \n",
      "ImmutableSparseNDimArray        hypersimp                  \n",
      "Implies                         idiff                      \n",
      "Indexed                         ifft                       \n",
      "IndexedBase                     ifwht                      \n",
      "Integer                         igcd                       \n",
      "IntegerRing                     igrevlex                   \n",
      "Integers                        igrlex                     \n",
      "Integral                        ilcm                       \n",
      "Intersection                    ilex                       \n",
      "Interval                        im                         \n",
      "Inverse                         imageset                   \n",
      "InverseCosineTransform          init_printing              \n",
      "InverseFourierTransform         init_session               \n",
      "InverseHankelTransform          integer_log                \n",
      "InverseLaplaceTransform         integer_nthroot            \n",
      "InverseMellinTransform          integrals                  \n",
      "InverseSineTransform            integrate                  \n",
      "IsomorphismFailed               interactive                \n",
      "KroneckerDelta                  interactive_traversal      \n",
      "KroneckerProduct                interpolate                \n",
      "LC                              interpolating_poly         \n",
      "LM                              interpolating_spline       \n",
      "LT                              intersecting_product       \n",
      "Lambda                          intersection               \n",
      "LambertW                        intervals                  \n",
      "LaplaceTransform                intt                       \n",
      "Le                              inv_quick                  \n",
      "LessThan                        inverse_cosine_transform   \n",
      "LeviCivita                      inverse_fourier_transform  \n",
      "Li                              inverse_hankel_transform   \n",
      "Limit                           inverse_laplace_transform  \n",
      "Line                            inverse_mellin_transform   \n",
      "Line2D                          inverse_mobius_transform   \n",
      "Line3D                          inverse_sine_transform     \n",
      "Lt                              invert                     \n",
      "MatAdd                          is_abundant                \n",
      "MatMul                          is_amicable                \n",
      "MatPow                          is_convex                  \n",
      "Matrix                          is_decreasing              \n",
      "MatrixBase                      is_deficient               \n",
      "MatrixExpr                      is_increasing              \n",
      "MatrixPermute                   is_mersenne_prime          \n",
      "MatrixSlice                     is_monotonic               \n",
      "MatrixSymbol                    is_nthpow_residue          \n",
      "Max                             is_perfect                 \n",
      "MellinTransform                 is_primitive_root          \n",
      "Min                             is_quad_residue            \n",
      "Mod                             is_strictly_decreasing     \n",
      "Monomial                        is_strictly_increasing     \n",
      "Mul                             is_zero_dimensional        \n",
      "MultivariatePolynomialError     isolate                    \n",
      "MutableDenseMatrix              isprime                    \n",
      "MutableDenseNDimArray           itermonomials              \n",
      "MutableMatrix                   jacobi                     \n",
      "MutableSparseMatrix             jacobi_normalized          \n",
      "MutableSparseNDimArray          jacobi_poly                \n",
      "N                               jacobi_symbol              \n",
      "NDimArray                       jn                         \n",
      "Nand                            jn_zeros                   \n",
      "Naturals                        jordan_cell                \n",
      "Naturals0                       jscode                     \n",
      "Ne                              julia_code                 \n",
      "NonSquareMatrixError            kronecker_product          \n",
      "Nor                             kroneckersimp              \n",
      "Not                             laguerre                   \n",
      "NotAlgebraic                    laguerre_poly              \n",
      "NotInvertible                   lambdify                   \n",
      "NotReversible                   laplace_transform          \n",
      "Number                          latex                      \n",
      "NumberSymbol                    lcm                        \n",
      "O                               lcm_list                   \n",
      "OmegaPower                      legendre                   \n",
      "OneMatrix                       legendre_poly              \n",
      "OperationNotSupported           legendre_symbol            \n",
      "OptionError                     lerchphi                   \n",
      "Options                         lex                        \n",
      "Or                              li                         \n",
      "Order                           limit                      \n",
      "Ordinal                         limit_seq                  \n",
      "POSform                         line_integrate             \n",
      "Parabola                        linear_eq_to_matrix        \n",
      "Permanent                       linsolve                   \n",
      "PermutationMatrix               list2numpy                 \n",
      "Piecewise                       ln                         \n",
      "Plane                           log                        \n",
      "Point                           logcombine                 \n",
      "Point2D                         loggamma                   \n",
      "Point3D                         logic                      \n",
      "PoleError                       lowergamma                 \n",
      "PolificationFailed              lucas                      \n",
      "Poly                            maple_code                 \n",
      "Polygon                         marcumq                    \n",
      "PolynomialDivisionFailed        mathematica_code           \n",
      "PolynomialError                 mathieuc                   \n",
      "PolynomialRing                  mathieucprime              \n",
      "Pow                             mathieus                   \n",
      "PowerSet                        mathieusprime              \n",
      "PrecisionExhausted              mathml                     \n",
      "Predicate                       matrices                   \n",
      "Product                         matrix2numpy               \n",
      "ProductSet                      matrix_multiply_elementwise\n",
      "PurePoly                        matrix_symbols             \n",
      "PythonFiniteField               maximum                    \n",
      "PythonIntegerRing               meijerg                    \n",
      "PythonRational                  mellin_transform           \n",
      "Q                               memoize_property           \n",
      "QQ                              mersenne_prime_exponent    \n",
      "QQ_I                            minimal_polynomial         \n",
      "QQ_gmpy                         minimum                    \n",
      "QQ_python                       minpoly                    \n",
      "Quaternion                      mobius                     \n",
      "RR                              mobius_transform           \n",
      "Range                           mod_inverse                \n",
      "Rational                        monic                      \n",
      "RationalField                   motzkin                    \n",
      "Rationals                       multigamma                 \n",
      "Ray                             multiline_latex            \n",
      "Ray2D                           multinomial_coefficients   \n",
      "Ray3D                           multipledispatch           \n",
      "RealField                       multiplicity               \n",
      "RealNumber                      n_order                    \n",
      "Reals                           nan                        \n",
      "RefinementFailed                nextprime                  \n",
      "RegularPolygon                  nfloat                     \n",
      "Rel                             nonlinsolve                \n",
      "Rem                             not_empty_in               \n",
      "RisingFactorial                 npartitions                \n",
      "RootOf                          nroots                     \n",
      "RootSum                         nsimplify                  \n",
      "S                               nsolve                     \n",
      "SOPform                         nth_power_roots_poly       \n",
      "SYMPY_DEBUG                     ntheory                    \n",
      "Segment                         nthroot_mod                \n",
      "Segment2D                       ntt                        \n",
      "Segment3D                       numbered_symbols           \n",
      "SeqAdd                          numer                      \n",
      "SeqFormula                      octave_code                \n",
      "SeqMul                          ode_order                  \n",
      "SeqPer                          ones                       \n",
      "Set                             oo                         \n",
      "ShapeError                      ord0                       \n",
      "Shi                             ordered                    \n",
      "Si                              pager_print                \n",
      "Sieve                           parallel_poly_from_expr    \n",
      "SineTransform                   parse_expr                 \n",
      "SingularityFunction             parsing                    \n",
      "SparseMatrix                    partition                  \n",
      "SparseNDimArray                 pde_separate               \n",
      "StrPrinter                      pde_separate_add           \n",
      "StrictGreaterThan               pde_separate_mul           \n",
      "StrictLessThan                  pdiv                       \n",
      "Subs                            pdsolve                    \n",
      "Sum                             per                        \n",
      "Symbol                          perfect_power              \n",
      "SymmetricDifference             periodic_argument          \n",
      "SympifyError                    periodicity                \n",
      "TableForm                       permutedims                \n",
      "Trace                           pexquo                     \n",
      "Transpose                       physics                    \n",
      "Triangle                        pi                         \n",
      "TribonacciConstant              piecewise_fold             \n",
      "Tuple                           plot                       \n",
      "Unequality                      plot_backends              \n",
      "UnevaluatedExpr                 plot_implicit              \n",
      "UnificationFailed               plot_parametric            \n",
      "Union                           plotting                   \n",
      "UnivariatePolynomialError       polar_lift                 \n",
      "UniversalSet                    polarify                   \n",
      "Wild                            pollard_pm1                \n",
      "WildFunction                    pollard_rho                \n",
      "Xor                             poly                       \n",
      "Ynm                             poly_from_expr             \n",
      "Ynm_c                           polygamma                  \n",
      "ZZ                              polylog                    \n",
      "ZZ_I                            polys                      \n",
      "ZZ_gmpy                         posify                     \n",
      "ZZ_python                       postfixes                  \n",
      "ZeroMatrix                      postorder_traversal        \n",
      "Znm                             powdenest                  \n",
      "__all__                         powsimp                    \n",
      "__builtins__                    pprint                     \n",
      "__cached__                      pprint_try_use_unicode     \n",
      "__doc__                         pprint_use_unicode         \n",
      "__file__                        pquo                       \n",
      "__loader__                      prefixes                   \n",
      "__name__                        prem                       \n",
      "__package__                     preorder_traversal         \n",
      "__path__                        pretty                     \n",
      "__spec__                        pretty_print               \n",
      "__sympy_debug                   preview                    \n",
      "__version__                     prevprime                  \n",
      "abundance                       prime                      \n",
      "acos                            prime_decomp               \n",
      "acosh                           prime_valuation            \n",
      "acot                            primefactors               \n",
      "acoth                           primenu                    \n",
      "acsc                            primeomega                 \n",
      "acsch                           primepi                    \n",
      "adjoint                         primerange                 \n",
      "airyai                          primitive                  \n",
      "airyaiprime                     primitive_element          \n",
      "airybi                          primitive_root             \n",
      "airybiprime                     primorial                  \n",
      "algebras                        principal_branch           \n",
      "apart                           print_ccode                \n",
      "apart_list                      print_fcode                \n",
      "appellf1                        print_glsl                 \n",
      "apply_finite_diff               print_gtk                  \n",
      "approximants                    print_jscode               \n",
      "are_similar                     print_latex                \n",
      "arg                             print_maple_code           \n",
      "arity                           print_mathml               \n",
      "asec                            print_python               \n",
      "asech                           print_rcode                \n",
      "asin                            print_tree                 \n",
      "asinh                           printing                   \n",
      "ask                             prod                       \n",
      "assemble_partfrac_list          product                    \n",
      "assoc_laguerre                  proper_divisor_count       \n",
      "assoc_legendre                  proper_divisors            \n",
      "assuming                        public                     \n",
      "assumptions                     pycode                     \n",
      "atan                            python                     \n",
      "atan2                           quadratic_congruence       \n",
      "atanh                           quadratic_residues         \n",
      "banded                          quo                        \n",
      "bell                            rad                        \n",
      "bernoulli                       radsimp                    \n",
      "besseli                         randMatrix                 \n",
      "besselj                         random_poly                \n",
      "besselk                         randprime                  \n",
      "besselsimp                      rational_interpolate       \n",
      "bessely                         ratsimp                    \n",
      "beta                            ratsimpmodprime            \n",
      "betainc                         rcode                      \n",
      "betainc_regularized             rcollect                   \n",
      "binomial                        re                         \n",
      "binomial_coefficients           real_root                  \n",
      "binomial_coefficients_list      real_roots                 \n",
      "block_collapse                  reduce_abs_inequalities    \n",
      "blockcut                        reduce_abs_inequality      \n",
      "bool_map                        reduce_inequalities        \n",
      "bottom_up                       reduced                    \n",
      "bspline_basis                   reduced_totient            \n",
      "bspline_basis_set               refine                     \n",
      "cacheit                         refine_root                \n",
      "calculus                        register_handler           \n",
      "cancel                          release                    \n",
      "capture                         rem                        \n",
      "carmichael                      remove_handler             \n",
      "cartes                          reshape                    \n",
      "casoratian                      residue                    \n",
      "catalan                         resultant                  \n",
      "cbrt                            rf                         \n",
      "ccode                           riemann_xi                 \n",
      "ceiling                         ring                       \n",
      "centroid                        root                       \n",
      "chebyshevt                      rootof                     \n",
      "chebyshevt_poly                 roots                      \n",
      "chebyshevt_root                 rot_axis1                  \n",
      "chebyshevu                      rot_axis2                  \n",
      "chebyshevu_poly                 rot_axis3                  \n",
      "chebyshevu_root                 rotations                  \n",
      "check_assumptions               round_two                  \n",
      "checkodesol                     rsolve                     \n",
      "checkpdesol                     rsolve_hyper               \n",
      "checksol                        rsolve_poly                \n",
      "classify_ode                    rsolve_ratio               \n",
      "classify_pde                    rust_code                  \n",
      "closest_points                  satisfiable                \n",
      "cofactors                       sec                        \n",
      "collect                         sech                       \n",
      "collect_const                   separatevars               \n",
      "combinatorics                   sequence                   \n",
      "combsimp                        series                     \n",
      "comp                            seterr                     \n",
      "compose                         sets                       \n",
      "composite                       sfield                     \n",
      "compositepi                     shape                      \n",
      "concrete                        sieve                      \n",
      "conjugate                       sift                       \n",
      "construct_domain                sign                       \n",
      "content                         signsimp                   \n",
      "continued_fraction              simplify                   \n",
      "continued_fraction_convergents  simplify_logic             \n",
      "continued_fraction_iterator     sin                        \n",
      "continued_fraction_periodic     sinc                       \n",
      "continued_fraction_reduce       sine_transform             \n",
      "convex_hull                     singularities              \n",
      "convolution                     singularityintegrate       \n",
      "core                            sinh                       \n",
      "cos                             solve                      \n",
      "cosh                            solve_linear               \n",
      "cosine_transform                solve_linear_system        \n",
      "cot                             solve_linear_system_LU     \n",
      "coth                            solve_poly_inequality      \n",
      "count_ops                       solve_poly_system          \n",
      "count_roots                     solve_rational_inequalities\n",
      "covering_product                solve_triangulated         \n",
      "csc                             solve_undetermined_coeffs  \n",
      "csch                            solve_univariate_inequality\n",
      "cse                             solvers                    \n",
      "cxxcode                         solveset                   \n",
      "cycle_length                    source                     \n",
      "cyclotomic_poly                 sqf                        \n",
      "decompogen                      sqf_list                   \n",
      "decompose                       sqf_norm                   \n",
      "default_sort_key                sqf_part                   \n",
      "deg                             sqrt                       \n",
      "degree                          sqrt_mod                   \n",
      "degree_list                     sqrt_mod_iter              \n",
      "denom                           sqrtdenest                 \n",
      "derive_by_array                 srepr                      \n",
      "det                             sring                      \n",
      "det_quick                       sstr                       \n",
      "diag                            sstrrepr                   \n",
      "diagonalize_vector              stationary_points          \n",
      "dict_merge                      stieltjes                  \n",
      "diff                            strategies                 \n",
      "difference_delta                sturm                      \n",
      "differentiate_finite            subfactorial               \n",
      "digamma                         subresultants              \n",
      "diophantine                     subsets                    \n",
      "dirichlet_eta                   substitution               \n",
      "discrete                        summation                  \n",
      "discrete_log                    swinnerton_dyer_poly       \n",
      "discriminant                    symarray                   \n",
      "\n"
     ]
    }
   ],
   "source": [
    "print(IPython.utils.text.columnize(dir(sp)))\n"
   ]
  },
  {
   "cell_type": "code",
   "execution_count": 59,
   "metadata": {
    "collapsed": true,
    "jupyter": {
     "outputs_hidden": true
    }
   },
   "outputs": [
    {
     "data": {
      "text/latex": [
       "$r_{21}=-  \\frac{5 G M^{2}}{8 d^{2}}\\hat{\\imath}$"
      ],
      "text/plain": [
       "<IPython.core.display.Latex object>"
      ]
     },
     "metadata": {},
     "output_type": "display_data"
    },
    {
     "data": {
      "text/latex": [
       "$r_{23}=\\frac{G M^{2}}{2 d^{2}}\\hat{\\imath}$"
      ],
      "text/plain": [
       "<IPython.core.display.Latex object>"
      ]
     },
     "metadata": {},
     "output_type": "display_data"
    },
    {
     "data": {
      "text/latex": [
       "$r_{21} + r_{23} =-  \\frac{G M^{2}}{8 d^{2}}\\hat{\\imath}$"
      ],
      "text/plain": [
       "<IPython.core.display.Latex object>"
      ]
     },
     "metadata": {},
     "output_type": "display_data"
    }
   ],
   "source": [
    "f21 = -G*5*M*2*M/r12.magnitude()**2*r12.normalize()\n",
    "f23 = G*2*M*M/(r13 - r12).magnitude()**2*(r13 - r12).normalize()\n",
    "\n",
    "ipd.display(\n",
    "    ipd.Latex(rf'$r_{{21}}={sp.latex(f21)}$'),\n",
    "    ipd.Latex(rf'$r_{{23}}={sp.latex(f23)}$'),\n",
    "    ipd.Latex(rf'$r_{{21}} + r_{{23}} ={sp.latex(f23+f21)}$')\n",
    ")\n"
   ]
  },
  {
   "cell_type": "markdown",
   "metadata": {},
   "source": [
    "# Function\n",
    "* [Function][]\n",
    "* [Expand][]\n",
    "* [Subs][]\n",
    "* [Assumptions][]\n",
    "* [Elementary Functions, Piecewise](https://docs.sympy.org/latest/modules/functions/elementary.html)\n",
    "\n",
    "\n",
    "\n",
    "[Function]: http://docs.sympy.org/latest/modules/core.html?highlight=match#sympy.core.function.Function\n",
    "\n",
    "[Subs]: http://docs.sympy.org/latest/modules/core.html?highlight=match#sympy.core.function.Subs\n",
    "\n",
    "[Expand]: http://docs.sympy.org/latest/modules/core.html?highlight=match#sympy.core.function.expand\n",
    "\n",
    "[Assumptions]: http://docs.sympy.org/latest/modules/core.html#module-sympy.core.assumptions"
   ]
  },
  {
   "cell_type": "code",
   "execution_count": 60,
   "metadata": {
    "collapsed": true,
    "jupyter": {
     "outputs_hidden": true
    }
   },
   "outputs": [
    {
     "data": {
      "text/plain": [
       "['real',\n",
       " 'extended_real',\n",
       " 'complex',\n",
       " 'imaginary',\n",
       " 'integer',\n",
       " 'irrational',\n",
       " 'rational',\n",
       " 'negative',\n",
       " 'positive']"
      ]
     },
     "execution_count": 60,
     "metadata": {},
     "output_type": "execute_result"
    }
   ],
   "source": [
    "assumptions = [\n",
    "    'real',\n",
    "    'extended_real',\n",
    "    'complex',\n",
    "    'imaginary',\n",
    "    'integer',\n",
    "    'irrational',\n",
    "    'rational',\n",
    "    'negative',\n",
    "    'positive'\n",
    "]\n",
    "assumptions\n"
   ]
  },
  {
   "cell_type": "code",
   "execution_count": 61,
   "metadata": {
    "collapsed": true,
    "jupyter": {
     "outputs_hidden": true
    }
   },
   "outputs": [
    {
     "data": {
      "text/plain": [
       "['mul',\n",
       " 'modulus',\n",
       " 'power_base',\n",
       " 'power_exp',\n",
       " 'mul',\n",
       " 'log',\n",
       " 'multinomial',\n",
       " 'basic',\n",
       " 'complex',\n",
       " 'func',\n",
       " 'trig']"
      ]
     },
     "execution_count": 61,
     "metadata": {},
     "output_type": "execute_result"
    }
   ],
   "source": [
    "hints_expand = [\n",
    "    'mul',\n",
    "    'modulus',\n",
    "    'power_base',\n",
    "    'power_exp',\n",
    "    'mul',\n",
    "    'log',\n",
    "    'multinomial',\n",
    "    'basic',\n",
    "    'complex',\n",
    "    'func',\n",
    "    'trig'\n",
    "]\n",
    "hints_expand\n"
   ]
  },
  {
   "cell_type": "code",
   "execution_count": 62,
   "metadata": {
    "collapsed": true,
    "jupyter": {
     "outputs_hidden": true
    }
   },
   "outputs": [
    {
     "data": {
      "image/png": "[encoded data removed]",
      "text/latex": [
       "$\\displaystyle \\left( 2 \\pi, \\  \\frac{1}{3}, \\  \\frac{3 \\sqrt{10}}{10}\\right)$"
      ],
      "text/plain": [
       "⎛          3⋅√10⎞\n",
       "⎜2⋅π, 1/3, ─────⎟\n",
       "⎝            10 ⎠"
      ]
     },
     "execution_count": 62,
     "metadata": {},
     "output_type": "execute_result"
    }
   ],
   "source": [
    "(\n",
    "    sp.nsimplify(6.28, [sp.pi], tolerance=0.01),\n",
    "    sp.nsimplify(0.33333, tolerance=0.001),\n",
    "    sp.nsimplify(sp.cos(sp.atan(1./3)))\n",
    ")\n"
   ]
  },
  {
   "cell_type": "markdown",
   "metadata": {},
   "source": [
    "## Function List\n",
    "* [simplify][], inverse operation of expand\n",
    "* [apart][], partial fraction decomposition\n",
    "* [together][], merge to one common division\n",
    "* [collect][], collect terms with same power\n",
    "* [collect sqrt][], collect terms with same power\n",
    "* [radsimp][], rationalize the denominator\n",
    "* trigsimp, use trig. identities to simplify\n",
    "* powsimp, combine bases and exponents\n",
    "* [factor][], Compute the factorization of expression, f, into irreducibles.\n",
    "* [cancel][] ,Cancel common factors in a rational function f/g.\n",
    "* [Split into numerator, demoninator](http://docs.sympy.org/latest/modules/core.html?highlight=as_numer_denom#sympy.core.expr.Expr.as_numer_denom)\n",
    "\n",
    "[simplify]: http://docs.sympy.org/latest/modules/simplify/simplify.html?highlight=collect_sqrt#sympy.simplify.simplify.simplify\n",
    "\n",
    "[apart]: http://docs.sympy.org/latest/modules/polys/reference.html?highlight=sympy.polys%20together#sympy.polys.partfrac.apart\n",
    "\n",
    "[together]: http://docs.sympy.org/latest/modules/polys/reference.html?highlight=sympy.polys%20together#sympy.polys.rationaltools.together\n",
    "\n",
    "[collect]: http://docs.sympy.org/latest/modules/simplify/simplify.html?highlight=collect_sqrt#sympy.simplify.radsimp.collect\n",
    "[collect sqrt]: http://docs.sympy.org/latest/modules/simplify/simplify.html?highlight=collect_sqrt#collect-sqrt\n",
    "\n",
    "[radsimp]: http://docs.sympy.org/latest/modules/simplify/simplify.html?highlight=collect_sqrt#sympy.simplify.radsimp.radsimp\n",
    "\n",
    "[factor]: http://docs.sympy.org/latest/modules/polys/reference.html?highlight=sympy.polys%20factor#sympy.polys.polytools.factor\n",
    "\n",
    "[cancel]: http://docs.sympy.org/latest/modules/polys/reference.html?highlight=sympy.polys%20cancel#sympy.polys.polytools.Poly.cancel\n",
    "\n",
    "\n",
    "if ratio=1, simplify output can’t be longer than input\n",
    "If ratio=oo, simplify will be applied anyway:"
   ]
  },
  {
   "cell_type": "code",
   "execution_count": 63,
   "metadata": {
    "collapsed": true,
    "jupyter": {
     "outputs_hidden": true
    }
   },
   "outputs": [
    {
     "data": {
      "image/png": "[encoded data removed]",
      "text/latex": [
       "$\\displaystyle 1$"
      ],
      "text/plain": [
       "1"
      ]
     },
     "execution_count": 63,
     "metadata": {},
     "output_type": "execute_result"
    }
   ],
   "source": [
    "sp.simplify(sp.cos(x)**2 + sp.sin(x)**2)\n"
   ]
  },
  {
   "cell_type": "code",
   "execution_count": 64,
   "metadata": {
    "collapsed": true,
    "jupyter": {
     "outputs_hidden": true
    }
   },
   "outputs": [
    {
     "data": {
      "text/plain": [
       "[<function sympy.core.function.expand_log(expr, deep=True, force=False, factor=False)>,\n",
       " <function sympy.core.function.expand_mul(expr, deep=True)>,\n",
       " <function sympy.core.function.expand_multinomial(expr, deep=True)>,\n",
       " <function sympy.core.function.expand_complex(expr, deep=True)>,\n",
       " <function sympy.core.function.expand_trig(expr, deep=True)>,\n",
       " <function sympy.core.function.expand_power_base(expr, deep=True, force=False)>,\n",
       " <function sympy.core.function.expand_power_exp(expr, deep=True)>,\n",
       " <function sympy.core.function.expand_func(expr, deep=True)>,\n",
       " <function sympy.simplify.hyperexpand.hyperexpand(f, allow_hyper=False, rewrite='default', place=None)>]"
      ]
     },
     "execution_count": 64,
     "metadata": {},
     "output_type": "execute_result"
    }
   ],
   "source": [
    "funcs_expand = [\n",
    "    sp.expand_log,\n",
    "    sp.expand_mul,\n",
    "    sp.expand_multinomial,\n",
    "    sp.expand_complex,\n",
    "    sp.expand_trig,\n",
    "    sp.expand_power_base,\n",
    "    sp.expand_power_exp,\n",
    "    sp.expand_func,\n",
    "    sp.hyperexpand\n",
    "]\n",
    "funcs_expand\n"
   ]
  },
  {
   "cell_type": "code",
   "execution_count": 75,
   "metadata": {},
   "outputs": [
    {
     "data": {
      "image/png": "[encoded data removed]",
      "text/latex": [
       "$\\displaystyle \\tan^{2}{\\left(x \\right)} + 1$"
      ],
      "text/plain": [
       "   2       \n",
       "tan (x) + 1"
      ]
     },
     "execution_count": 75,
     "metadata": {},
     "output_type": "execute_result"
    }
   ],
   "source": [
    "sp.diff(sp.tan(x), x)"
   ]
  },
  {
   "cell_type": "code",
   "execution_count": 65,
   "metadata": {
    "collapsed": true,
    "jupyter": {
     "outputs_hidden": true
    }
   },
   "outputs": [
    {
     "data": {
      "image/png": "[encoded data removed]",
      "text/latex": [
       "$\\displaystyle \\tan^{2}{\\left(x \\right)} + 1$"
      ],
      "text/plain": [
       "   2       \n",
       "tan (x) + 1"
      ]
     },
     "execution_count": 65,
     "metadata": {},
     "output_type": "execute_result"
    }
   ],
   "source": [
    "sp.limit((sp.tan(x+h) - sp.tan(x))/h, h, 0)\n"
   ]
  },
  {
   "cell_type": "code",
   "execution_count": 66,
   "metadata": {
    "collapsed": true,
    "jupyter": {
     "outputs_hidden": true
    }
   },
   "outputs": [
    {
     "data": {
      "image/png": "[encoded data removed]",
      "text/latex": [
       "$\\displaystyle x \\log{\\left(x \\right)} - x$"
      ],
      "text/plain": [
       "x⋅log(x) - x"
      ]
     },
     "execution_count": 66,
     "metadata": {},
     "output_type": "execute_result"
    }
   ],
   "source": [
    "sp.integrate(sp.log(x), x)\n"
   ]
  },
  {
   "cell_type": "code",
   "execution_count": 67,
   "metadata": {
    "collapsed": true,
    "jupyter": {
     "outputs_hidden": true
    }
   },
   "outputs": [
    {
     "data": {
      "image/png": "[encoded data removed]",
      "text/latex": [
       "$\\displaystyle \\sqrt{\\pi}$"
      ],
      "text/plain": [
       "√π"
      ]
     },
     "execution_count": 67,
     "metadata": {},
     "output_type": "execute_result"
    }
   ],
   "source": [
    "sp.integrate(\n",
    "    sp.exp(-x**2),\n",
    "    (x, sp.S.NegativeInfinity, sp.S.Infinity)\n",
    ")\n"
   ]
  },
  {
   "cell_type": "code",
   "execution_count": 68,
   "metadata": {
    "collapsed": true,
    "jupyter": {
     "outputs_hidden": true
    }
   },
   "outputs": [
    {
     "data": {
      "image/png": "[encoded data removed]",
      "text/latex": [
       "$\\displaystyle \\left( 1 - \\frac{x^{2}}{2} + \\frac{x^{4}}{24} - \\frac{x^{6}}{720} + \\frac{x^{8}}{40320} + O\\left(x^{10}\\right), \\  \\frac{x^{8}}{40320} - \\frac{x^{6}}{720} + \\frac{x^{4}}{24} - \\frac{x^{2}}{2} + 1\\right)$"
      ],
      "text/plain": [
       "⎛     2    4     6      8               8      6    4    2    ⎞\n",
       "⎜    x    x     x      x      ⎛ 10⎞    x      x    x    x     ⎟\n",
       "⎜1 - ── + ── - ─── + ───── + O⎝x  ⎠, ───── - ─── + ── - ── + 1⎟\n",
       "⎝    2    24   720   40320           40320   720   24   2     ⎠"
      ]
     },
     "execution_count": 68,
     "metadata": {},
     "output_type": "execute_result"
    }
   ],
   "source": [
    "sp.cos(x).series(x, 0, 10), sp.cos(x).series(x, 0, 10).removeO()\n"
   ]
  },
  {
   "cell_type": "markdown",
   "metadata": {},
   "source": [
    "# Basic\n",
    "* [Basic][1]\n",
    "* [Rewrite function][2]\n",
    "\n",
    "[1]: http://docs.sympy.org/latest/modules/core.html?highlight=rewrite#sympy.core.basic.Basic\n",
    "[2]: http://docs.sympy.org/latest/modules/core.html?highlight=rewrite#sympy.core.basic.Basic.rewrite"
   ]
  },
  {
   "cell_type": "markdown",
   "metadata": {},
   "source": [
    "# Pattern Matching\n",
    "* [match][] in [Basic][]\n",
    "* [Wild][]\n",
    "* [WildFunction][]\n",
    "\n",
    "[Basic]: http://docs.sympy.org/latest/modules/core.html?highlight=match#id15\n",
    "\n",
    "[Wild]: http://docs.sympy.org/latest/modules/core.html?highlight=match#sympy.core.symbol.Wild\n",
    "\n",
    "[WildFunction]: http://docs.sympy.org/latest/modules/core.html?highlight=match#sympy.core.function.WildFunction\n",
    "\n",
    "[match]: http://docs.sympy.org/latest/modules/core.html?highlight=match#sympy.core.basic.Basic.match "
   ]
  },
  {
   "cell_type": "code",
   "execution_count": 69,
   "metadata": {
    "collapsed": true,
    "jupyter": {
     "outputs_hidden": true
    }
   },
   "outputs": [
    {
     "data": {
      "image/png": "[encoded data removed]",
      "text/latex": [
       "$\\displaystyle \\left( \\left\\{ p : 5, \\  q : 3\\right\\}, \\  \\left\\{ p : 1, \\  q : 2\\right\\}\\right)$"
      ],
      "text/plain": [
       "({p: 5, q: 3}, {p: 1, q: 2})"
      ]
     },
     "execution_count": 69,
     "metadata": {},
     "output_type": "execute_result"
    }
   ],
   "source": [
    "p = sp.Wild('p', exclude=[x])\n",
    "q = sp.Wild('q', exclude=[x])\n",
    "(5*x**2 + 3*x).match(p*x**2 + q*x), (x**2).match(p*x**q)\n"
   ]
  },
  {
   "cell_type": "code",
   "execution_count": 70,
   "metadata": {
    "collapsed": true,
    "jupyter": {
     "outputs_hidden": true
    }
   },
   "outputs": [
    {
     "data": {
      "image/png": "[encoded data removed]",
      "text/latex": [
       "$\\displaystyle \\left( \\left\\{ p : 5, \\  \\operatorname{WildFunction}{\\left(f \\right)} : \\cos{\\left(x \\right)}\\right\\}, \\  \\left\\{ \\operatorname{WildFunction}{\\left(f \\right)} : \\cos{\\left(3 x \\right)}\\right\\}\\right)$"
      ],
      "text/plain": [
       "({p: 5, WildFunction(f): cos(x)}, {WildFunction(f): cos(3⋅x)})"
      ]
     },
     "execution_count": 70,
     "metadata": {},
     "output_type": "execute_result"
    }
   ],
   "source": [
    "f = sp.WildFunction('f', nargs=1)\n",
    "(5*sp.cos(x)).match(p*f), (sp.cos(3*x)).match(f)\n"
   ]
  },
  {
   "cell_type": "markdown",
   "metadata": {},
   "source": [
    "# Replacement"
   ]
  },
  {
   "cell_type": "markdown",
   "metadata": {},
   "source": [
    "* [replace][1] replace an expression. An example is found in [Young and Freedman][2] solutions in sympy\n",
    "\n",
    "[1]: http://docs.sympy.org/latest/modules/core.html?highlight=match#sympy.core.basic.Basic.replace\n",
    "[2]:../physics/YoungAndFreedman13/Chapter05-Applying-Newtons-Laws/Chapter05P110-Rotating-System.ipynb"
   ]
  },
  {
   "cell_type": "markdown",
   "metadata": {},
   "source": [
    "# Calculus\n",
    "* [Calculus][2]\n",
    "* [Integrals][1]\n",
    "* [Solving differential equations][3]\n",
    "* [classify ODE][4]\n",
    "\n",
    "[4]: http://docs.sympy.org/latest/modules/solvers/ode.html?highlight=dsolve#classify-ode\n",
    "[3]: http://docs.sympy.org/latest/tutorial/solvers.html#solving-differential-equations\n",
    "[2]: http://docs.sympy.org/latest/tutorial/calculus.html?highlight=dsolve#calculus\n",
    "[1]: http://docs.sympy.org/latest/modules/integrals/integrals.html?highlight=sympy.integrals#module-sympy.integrals"
   ]
  },
  {
   "cell_type": "markdown",
   "metadata": {},
   "source": [
    "# Series and Summations"
   ]
  },
  {
   "cell_type": "markdown",
   "metadata": {},
   "source": [
    "Some examples of series and summations may be found in mathematical problems for physics.\n",
    "  * [Summation][1]\n",
    "  * [Series][2]\n",
    "\n",
    "[1]: ../../Physics/Physics-Problems-To-Solve/physics-mechanics/physics-mechanics-SMR-P001-binomial-expansion-Summation.ipynb\n",
    "[2]: ../../Physics/Physics-Problems-To-Solve/physics-mechanics/physics-mechanics-SMR-P001-binomial-expansion-Series.ipynb"
   ]
  },
  {
   "cell_type": "markdown",
   "metadata": {},
   "source": [
    "# Matrices\n",
    "1 [Matrices][]\n",
    "\n",
    "[Matrices]: http://docs.sympy.org/latest/modules/matrices/matrices.html#module-sympy.matrices.matrices"
   ]
  },
  {
   "cell_type": "code",
   "execution_count": 71,
   "metadata": {
    "collapsed": true,
    "jupyter": {
     "outputs_hidden": true
    }
   },
   "outputs": [
    {
     "data": {
      "text/latex": [
       "$\\displaystyle \\left( \\left[\\begin{matrix}1 & 0 & 0\\\\0 & 1 & 0\\\\0 & 0 & 1\\end{matrix}\\right], \\  \\left[\\begin{matrix}0 & 0 & 0\\end{matrix}\\right], \\  \\left[\\begin{matrix}1 & 1\\\\1 & 1\\end{matrix}\\right]\\right)$"
      ],
      "text/plain": [
       "⎛⎡1  0  0⎤                   ⎞\n",
       "⎜⎢       ⎥             ⎡1  1⎤⎟\n",
       "⎜⎢0  1  0⎥, [0  0  0], ⎢    ⎥⎟\n",
       "⎜⎢       ⎥             ⎣1  1⎦⎟\n",
       "⎝⎣0  0  1⎦                   ⎠"
      ]
     },
     "execution_count": 71,
     "metadata": {},
     "output_type": "execute_result"
    }
   ],
   "source": [
    "sp.eye(3), sp.zeros(1, 3), sp.ones(2)\n"
   ]
  },
  {
   "cell_type": "code",
   "execution_count": 72,
   "metadata": {
    "collapsed": true,
    "jupyter": {
     "outputs_hidden": true
    }
   },
   "outputs": [
    {
     "data": {
      "text/latex": [
       "$\\displaystyle \\left[\\begin{matrix}0 & 1 & 0\\\\0 & 0 & 1\\end{matrix}\\right]$"
      ],
      "text/plain": [
       "⎡0  1  0⎤\n",
       "⎢       ⎥\n",
       "⎣0  0  1⎦"
      ]
     },
     "execution_count": 72,
     "metadata": {},
     "output_type": "execute_result"
    }
   ],
   "source": [
    "M = sp.eye(3)\n",
    "M.row_del(0)\n",
    "M\n"
   ]
  },
  {
   "cell_type": "code",
   "execution_count": 73,
   "metadata": {
    "collapsed": true,
    "jupyter": {
     "outputs_hidden": true
    }
   },
   "outputs": [
    {
     "data": {
      "text/latex": [
       "$\\displaystyle \\left( \\left[\\begin{matrix}0 & 0 & 0 & 0 & 0 & 0 & 0 & 0 & 0\\end{matrix}\\right], \\  \\left[\\begin{matrix}0 & 0 & 0 & 0\\end{matrix}\\right]\\right)$"
      ],
      "text/plain": [
       "([0  0  0  0  0  0  0  0  0], [0  0  0  0])"
      ]
     },
     "execution_count": 73,
     "metadata": {},
     "output_type": "execute_result"
    }
   ],
   "source": [
    "M, N = sp.zeros(1, 4), sp.zeros(1, 5)\n",
    "M.row_join(N), M\n"
   ]
  },
  {
   "cell_type": "code",
   "execution_count": 74,
   "metadata": {
    "collapsed": true,
    "jupyter": {
     "outputs_hidden": true
    }
   },
   "outputs": [
    {
     "data": {
      "image/png": "[encoded data removed]",
      "text/latex": [
       "$\\displaystyle 4$"
      ],
      "text/plain": [
       "4"
      ]
     },
     "execution_count": 74,
     "metadata": {},
     "output_type": "execute_result"
    }
   ],
   "source": [
    "M.cols\n"
   ]
  },
  {
   "cell_type": "markdown",
   "metadata": {},
   "source": [
    "# Plotting"
   ]
  },
  {
   "cell_type": "markdown",
   "metadata": {},
   "source": [
    "# mpmath\n",
    "[mpmath][]\n",
    "\n",
    "\n",
    "1. [Documentation][]\n",
    "1. [Trignometric Functions][]\n",
    "\n",
    "\n",
    "[Documentation]: http://mpmath.org/doc/current/index.html#welcome-to-mpmath-s-documentation\n",
    "\n",
    "[mpmath]: http://mpmath.org/\n",
    "\n",
    "[Trignometric Functions]: http://mpmath.org/doc/current/functions/trigonometric.html#trigonometric-functions"
   ]
  }
 ],
 "metadata": {
  "anaconda-cloud": {},
  "kernelspec": {
   "display_name": "Python 3.9.13 ('3.9')",
   "language": "python",
   "name": "python3"
  },
  "language_info": {
   "codemirror_mode": {
    "name": "ipython",
    "version": 3
   },
   "file_extension": ".py",
   "mimetype": "text/x-python",
   "name": "python",
   "nbconvert_exporter": "python",
   "pygments_lexer": "ipython3",
   "version": "3.9.13"
  },
  "toc-autonumbering": true,
  "toc-showcode": false,
  "toc-showmarkdowntxt": false,
  "vscode": {
   "interpreter": {
    "hash": "439944bd8008f2f069e15c63249790d203ae4a03debaae97ad3c7d6c011f8ad2"
   }
  }
 },
 "nbformat": 4,
 "nbformat_minor": 4
}
