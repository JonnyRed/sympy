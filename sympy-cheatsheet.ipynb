{
 "cells": [
  {
   "cell_type": "code",
   "execution_count": 1,
   "metadata": {},
   "outputs": [],
   "source": [
    "import doctest"
   ]
  },
  {
   "cell_type": "code",
   "execution_count": 2,
   "metadata": {
    "collapsed": true,
    "jupyter": {
     "outputs_hidden": true
    }
   },
   "outputs": [],
   "source": [
    "import collections\n",
    "\n",
    "import numpy as np\n",
    "\n",
    "import matplotlib.pyplot as plt\n",
    "\n",
    "import IPython\n",
    "import sympy as sp\n",
    "import spb\n",
    "import sympy.core.random as spr\n",
    "import sympy.stats as ss\n",
    "import sympy.plotting as splt\n",
    "import sympy.physics.vector as spv\n",
    "\n",
    "import IPython.display as ipd\n",
    "spv.init_vprinting()\n",
    "%matplotlib inline\n",
    "\n"
   ]
  },
  {
   "cell_type": "code",
   "execution_count": 3,
   "metadata": {
    "collapsed": true,
    "jupyter": {
     "outputs_hidden": true
    }
   },
   "outputs": [],
   "source": [
    "def directory(obj):\n",
    "    return [\n",
    "        str for str in dir(obj) if callable(getattr(obj, str)) & ~str.startswith(\"_\")\n",
    "    ]"
   ]
  },
  {
   "attachments": {},
   "cell_type": "markdown",
   "metadata": {},
   "source": [
    "# IPython.utils.text\n",
    "\n",
    "The `IPython.utils.text` module in the IPython package provides utility\n",
    "functions for working with text and formatting output in a terminal\n",
    "environment. It includes various functions for manipulating and\n",
    "displaying text, as well as functions for managing text colors and styles.\n",
    "\n",
    "Here are some key functionalities provided by `IPython.utils.text`:\n",
    "\n",
    "1. Text Formatting:\n",
    "   - `indent`: Indents a block of text by a specified number of spaces.\n",
    "   - `wrap_paragraphs`: Wraps paragraphs of text to a specified line width.\n",
    "   - `dedent`: Removes common leading whitespace from a block of text.\n",
    "   - `columnize`: Formats a list of strings into columns for more compact display.\n",
    "   - `sprint`: Formats a string with variable substitutions using curly braces.\n",
    "\n",
    "2. Text Colors and Styles:\n",
    "   - `colorize`: Applies ANSI escape sequences to colorize text.\n",
    "   - `TermColors`: A class that defines color constants for text highlighting.\n",
    "   - `style`: Applies ANSI escape sequences to style text (e.g., bold, underline).\n",
    "\n",
    "3. Text Output:\n",
    "   - `clear_screen`: Clears the terminal screen.\n",
    "   - `pager`: Displays text content with paging support.\n",
    "   - `print_table`: Prints a list of lists as a formatted table.\n",
    "   - `printfield`: Formats a field with a specified width and alignment.\n",
    "\n",
    "These functions and utilities provided by `IPython.utils.text` are\n",
    "helpful for enhancing the visual presentation of text in a terminal\n",
    "environment. They allow for better formatting, indentation,\n",
    "colorization, and output management, making it easier to work with\n",
    "and display text-based information in IPython and Jupyter environments."
   ]
  },
  {
   "cell_type": "code",
   "execution_count": 4,
   "metadata": {
    "collapsed": true,
    "jupyter": {
     "outputs_hidden": true
    }
   },
   "outputs": [
    {
     "name": "stdout",
     "output_type": "stream",
     "text": [
      "Audio          JSON               Video               display_markdown      \n",
      "Code           Javascript         VimeoVideo          display_pdf           \n",
      "DisplayHandle  Latex              YouTubeVideo        display_png           \n",
      "DisplayObject  Markdown           clear_output        display_pretty        \n",
      "FileLink       Math               display             display_svg           \n",
      "FileLinks      Pretty             display_html        publish_display_data  \n",
      "GeoJSON        ProgressBar        display_javascript  set_matplotlib_close  \n",
      "HTML           SVG                display_jpeg        set_matplotlib_formats\n",
      "IFrame         ScribdDocument     display_json        update_display        \n",
      "Image          TextDisplayObject  display_latex     \n",
      "\n"
     ]
    }
   ],
   "source": [
    "print(IPython.utils.text.columnize(directory(ipd)))"
   ]
  },
  {
   "cell_type": "code",
   "execution_count": 5,
   "metadata": {
    "collapsed": true,
    "jupyter": {
     "outputs_hidden": true
    }
   },
   "outputs": [
    {
     "name": "stdout",
     "output_type": "stream",
     "text": [
      "Catalan           Naturals            __dir__            __ne__             \n",
      "ComplexInfinity   Naturals0           __doc__            __new__            \n",
      "Complexes         NegativeInfinity    __eq__             __reduce__         \n",
      "EmptySequence     NegativeOne         __format__         __reduce_ex__      \n",
      "EmptySet          One                 __ge__             __repr__           \n",
      "EulerGamma        Pi                  __getattr__        __setattr__        \n",
      "Exp1              Rationals           __getattribute__   __sizeof__         \n",
      "GoldenRatio       Reals               __gt__             __slots__          \n",
      "Half              TribonacciConstant  __hash__           __str__            \n",
      "IdentityFunction  UniversalSet        __init__           __subclasshook__   \n",
      "ImaginaryUnit     Zero                __init_subclass__  _classes_to_install\n",
      "Infinity          __call__            __le__             false              \n",
      "Integers          __class__           __lt__             register           \n",
      "NaN               __delattr__         __module__         true               \n",
      "\n"
     ]
    }
   ],
   "source": [
    "print(IPython.utils.text.columnize(dir(sp.S)))"
   ]
  },
  {
   "cell_type": "code",
   "execution_count": 6,
   "metadata": {},
   "outputs": [],
   "source": [
    "HALF = sp.S.Half\n",
    "PI = sp.pi\n",
    "E = sp.exp\n",
    "POSITIVEINFINITY = sp.S.Infinity\n",
    "NEGATIVEINFINITY = sp.S.NegativeInfinity"
   ]
  },
  {
   "cell_type": "markdown",
   "metadata": {},
   "source": [
    "# Support Functions"
   ]
  },
  {
   "cell_type": "code",
   "execution_count": 7,
   "metadata": {},
   "outputs": [
    {
     "data": {
      "text/plain": [
       "TestResults(failed=0, attempted=49)"
      ]
     },
     "execution_count": 7,
     "metadata": {},
     "output_type": "execute_result"
    }
   ],
   "source": [
    "import doctest\n",
    "\n",
    "\n",
    "def reference_frame(\n",
    "    frame: str, x=r\"\\imath\", y=r\"\\jmath\", z=r\"\\mathbf k\"\n",
    ") -> spv.ReferenceFrame:\n",
    "    return spv.ReferenceFrame(\n",
    "        frame,\n",
    "        latexs=(\n",
    "            rf\"\\; {{}}^\\mathcal {frame} \\hat {x}\",\n",
    "            rf\"\\;{{}}^\\mathcal {frame} \\hat {y}\",\n",
    "            rf\"\\: {{}}^\\mathcal {frame} \\hat {{z}}\",\n",
    "        ),\n",
    "    )\n",
    "\n",
    "\n",
    "def vector(F: spv.ReferenceFrame, rx, ry, rz=0) -> spv.Vector:\n",
    "    \"\"\"\n",
    "    Create a vector in a specified reference frame.\n",
    "\n",
    "    Args:\n",
    "        F (spv.ReferenceFrame): The reference frame in which the vector is defined.\n",
    "        rx (float): The coefficient of the x-axis vector component.\n",
    "        ry (float): The coefficient of the y-axis vector component.\n",
    "        rz (float, optional): The coefficient of the z-axis vector component (default: 0).\n",
    "\n",
    "    Returns:\n",
    "        spv.Vector: The vector composed of the specified components in the given reference frame.\n",
    "\n",
    "    Examples:\n",
    "        >>> N = spv.ReferenceFrame('N')\n",
    "        >>> vector(N, 1, 0, 0)\n",
    "        N.x\n",
    "\n",
    "        >>> vector(N, 0, 1, 0)\n",
    "        N.y\n",
    "\n",
    "        >>> vector(N, 0, 0, 1)\n",
    "        N.z\n",
    "\n",
    "        >>> vector(N, 1, 2)\n",
    "        N.x + 2*N.y\n",
    "\n",
    "        >>> vector(N, 1, 2, 3)\n",
    "        N.x + 2*N.y + 3*N.z\n",
    "\n",
    "        >>> vector(N, 5.0, 5.1, 7.7)\n",
    "        5.0*N.x + 5.1*N.y + 7.7*N.z\n",
    "\n",
    "        >>> vector(N, 1, 2, 3)\n",
    "        N.x + 2*N.y + 3*N.z\n",
    "    \"\"\"\n",
    "    return rx * F.x + ry * F.y + rz * F.z\n",
    "\n",
    "\n",
    "def vector_cos(\n",
    "    F: spv.ReferenceFrame, magnitude, anglex, angley, anglez=sp.pi / 2\n",
    ") -> spv.Vector:\n",
    "    \"\"\"\n",
    "    Create a vector with components defined by cosine values in a specified reference frame.\n",
    "\n",
    "    Args:\n",
    "        F (spv.ReferenceFrame): The reference frame in which the vector is defined.\n",
    "        magnitude (float): The magnitude of the vector.\n",
    "        anglex (float): The angle (in radians) between the vector and the x-axis.\n",
    "        angley (float): The angle (in radians) between the vector and the y-axis.\n",
    "        anglez (float, optional): The angle (in radians) between the\n",
    "            vector and the z-axis (default: pi/2).\n",
    "\n",
    "    Returns:\n",
    "        spv.Vector: The vector with components determined by the cosine\n",
    "        values in the given reference frame.\n",
    "\n",
    "    Examples:\n",
    "        >>> N = spv.ReferenceFrame('N')\n",
    "\n",
    "        >>> vector_cos(N, 1, PI/2, 0)\n",
    "        N.y\n",
    "\n",
    "        >>> vector_cos(N, 1, 0, PI/2)\n",
    "        N.x\n",
    "\n",
    "        >>> vector_cos(N, sp.sqrt(2), PI/4, PI/4)\n",
    "        N.x + N.y\n",
    "\n",
    "        >>> vector_cos(N, 1, PI/2, 0)\n",
    "        N.y\n",
    "\n",
    "        >>> vector_cos(N, 41, PI/2 + PI/4, 2*PI/3, PI/3)\n",
    "        - 41*sqrt(2)/2*N.x - 41/2*N.y + 41/2*N.z\n",
    "\n",
    "        >>> n = sp.sqrt(93)\n",
    "        >>> vector_cos(N, n, 5/n, 2/n, 8/n)\n",
    "        sqrt(93)*cos(5*sqrt(93)/93)*N.x + sqrt(93)*cos(2*sqrt(93)/93)*N.y + sqrt(93)*cos(8*sqrt(93)/93)*N.z\n",
    "    \"\"\"\n",
    "\n",
    "    return magnitude * (\n",
    "        sp.cos(anglex) * F.x + sp.cos(angley) * F.y + sp.cos(anglez) * F.z\n",
    "    )\n",
    "\n",
    "\n",
    "def vector_to_list(F: spv.ReferenceFrame, v: spv.Vector) -> list:\n",
    "    \"\"\"change a vector in a reference frame to a list of components\n",
    "\n",
    "    Args:\n",
    "        F (spv.ReferenceFrame): Reference frame for conversion\n",
    "        v (spv.Vector): Vector to convert to list in F\n",
    "\n",
    "    Returns:\n",
    "        list: List of components of v in F\n",
    "\n",
    "    Examples:\n",
    "        >>> N = spv.ReferenceFrame('N')\n",
    "        >>> v = 3 * N.x + 4 * N.y + 5 * N.z\n",
    "        >>> vector_to_list(N, v)\n",
    "        [3, 4, 5]\n",
    "\n",
    "        >>> v = 3 * N.x + 4 * N.y\n",
    "        >>> vector_to_list(N, v)\n",
    "        [3, 4, 0]\n",
    "\n",
    "    \"\"\"\n",
    "    return [v.dot(F.x), v.dot(F.y), v.dot(F.z)]\n",
    "\n",
    "\n",
    "def vector_line(start: spv.Vector, finish: spv.Vector) -> spv.Vector:\n",
    "    return finish - start\n",
    "\n",
    "\n",
    "def vector_line_eqn(\n",
    "    F: spv.ReferenceFrame,\n",
    "    start: spv.Vector,\n",
    "    finish: spv.Vector,\n",
    "    lamda: sp.Symbol,\n",
    ") -> spv.Vector:\n",
    "    \"\"\"\n",
    "    Calculate a vector equation for a line segment in a specified reference frame.\n",
    "\n",
    "    Args:\n",
    "        F (spv.ReferenceFrame): The reference frame in which the vector equation is defined.\n",
    "        start (spv.Vector): The starting vector point of the line segment.\n",
    "        finish (spv.Vector): The ending vector point of the line segment.\n",
    "        lamda (sp.Symbol): A symbolic scalar value determining the position along the line segment.\n",
    "\n",
    "    Returns:\n",
    "        spv.Vector: The vector equation representing the line segment in the given reference frame.\n",
    "\n",
    "    Examples:\n",
    "        >>> A = spv.ReferenceFrame('A')\n",
    "        >>> start = A.x*0 + A.y*0 + A.z*0  # Zero vector\n",
    "        >>> finish = 3 * A.x + 4 * A.y + 5 * A.z\n",
    "        >>> lamda = sp.symbols('lambda')\n",
    "        >>> vector_line_eqn(A, start, finish, lamda)\n",
    "        3*lambda*A.x + 4*lambda*A.y + 5*lambda*A.z\n",
    "\n",
    "        >>> start = 2 * A.x - A.y\n",
    "        >>> finish = 4 * A.y + 3 * A.z\n",
    "        >>> vector_line_eqn(A, start, finish, lamda)\n",
    "        (2 - 2*lambda)*A.x + (5*lambda - 1)*A.y + 3*lambda*A.z\n",
    "    \"\"\"\n",
    "    return start + vector_line(start, finish) * lamda\n",
    "\n",
    "\n",
    "def angle_between_vectors(a: spv.Vector, b: spv.Vector) -> float:\n",
    "    \"\"\"\n",
    "    Calculate the angle in radians between two vectors.\n",
    "\n",
    "    Args:\n",
    "        a (spv.Vector): The first vector.\n",
    "        b (spv.Vector): The second vector.\n",
    "\n",
    "    Returns:\n",
    "        float: The angle in radians between the two vectors.\n",
    "\n",
    "    Examples:\n",
    "        >>> A = spv.ReferenceFrame('A')\n",
    "        >>> a = 3 * A.x + 4 * A.y\n",
    "        >>> b = 2 * A.x - A.y\n",
    "        >>> angle_between_vectors(a, b)\n",
    "        acos(2*sqrt(5)/25)\n",
    "\n",
    "        >>> v1 = A.x\n",
    "        >>> v2 = A.y\n",
    "        >>> angle_between_vectors(v1, v2)\n",
    "        pi/2\n",
    "\n",
    "        >>> v3 = A.x + A.y + A.z\n",
    "        >>> v1.angle_between(v3)\n",
    "        acos(sqrt(3)/3)\n",
    "\n",
    "        >>> a = A.x + A.y\n",
    "        >>> b = 2 * A.x + 2 * A.y\n",
    "        >>> angle_between_vectors(a, b)\n",
    "        0\n",
    "\n",
    "        >>> a = 2*A.x - 4*A.y - 1*A.z\n",
    "        >>> b = 5 * A.y +2*A.z\n",
    "        >>> angle_between_vectors(a, b)\n",
    "        acos(-22*sqrt(609)/609)\n",
    "\n",
    "    \"\"\"\n",
    "\n",
    "    return a.angle_between(b)\n",
    "\n",
    "\n",
    "def create_3d_components(*args):\n",
    "    \"\"\"\n",
    "    Create 3D components for given symbols.\n",
    "\n",
    "    Args:\n",
    "        *args (str): Variable names for which 3D components are to be created.\n",
    "\n",
    "    Returns:\n",
    "        list: A list containing 3D component symbols for each input variable.\n",
    "\n",
    "    Examples:\n",
    "        >>> create_3d_components('a')\n",
    "        [(a_{x}, a_{y}, a_{z})]\n",
    "\n",
    "        >>> create_3d_components('a', 'b')\n",
    "        [(a_{x}, a_{y}, a_{z}), (b_{x}, b_{y}, b_{z})]\n",
    "\n",
    "    \"\"\"\n",
    "    return [sp.symbols(f\"{ch}_{{x:z}}\", real=True) for ch in args]\n",
    "\n",
    "\n",
    "def create_vectors(frame: spv.ReferenceFrame, *args) -> list:\n",
    "    \"\"\"\n",
    "    Create a list of vectors in a specified reference frame.\n",
    "\n",
    "    This function takes a reference frame and multiple sets of components as arguments\n",
    "    and returns a list of vectors created from these components in the given reference frame.\n",
    "\n",
    "    Args:\n",
    "        frame (spv.ReferenceFrame): The reference frame in which the vectors are defined.\n",
    "        *args: Variable-length argument list containing sets of vector components.\n",
    "\n",
    "    Returns:\n",
    "        list: A list of vectors composed of the specified components in the given reference frame.\n",
    "\n",
    "    Examples:\n",
    "        >>> N = spv.ReferenceFrame('N')\n",
    "        >>> create_vectors(N, \"a\")\n",
    "        [a_{x}*N.x + a_{y}*N.y + a_{z}*N.z]\n",
    "\n",
    "        >>> create_vectors(N, \"a\", \"b\")\n",
    "        [a_{x}*N.x + a_{y}*N.y + a_{z}*N.z, b_{x}*N.x + b_{y}*N.y + b_{z}*N.z]\n",
    "\n",
    "    \"\"\"\n",
    "    return [vector(frame, *c) for c in create_3d_components(*args)]\n",
    "\n",
    "\n",
    "def print_aligned_latex_equations(*args):\n",
    "    result = r\"\\\\\".join(\n",
    "        [\n",
    "            r\"\\begin{equation}\",\n",
    "            r\"\\begin{split}\",\n",
    "            *args,\n",
    "            r\"\\nonumber\" r\"\\end{split}\",\n",
    "            r\"\\end{equation}\",\n",
    "        ]\n",
    "    )\n",
    "\n",
    "    ipd.display(ipd.Math(rf\"{result}\"))  # type: ignore\n",
    "\n",
    "\n",
    "doctest.testmod(verbose=False)"
   ]
  },
  {
   "cell_type": "markdown",
   "metadata": {},
   "source": [
    "__Solutions to equilibrium equations__"
   ]
  },
  {
   "cell_type": "code",
   "execution_count": 8,
   "metadata": {},
   "outputs": [],
   "source": [
    "def solve_equilibrium_equation(\n",
    "    frame: spv.ReferenceFrame,\n",
    "    unknown_variables: list[sp.Symbol],\n",
    "    forces: list[spv.Vector],\n",
    "    moments: list[spv.Vector],\n",
    "):\n",
    "    \"\"\"Solve a set of vectors for unknowns\n",
    "\n",
    "    Args:\n",
    "        frame (spv.ReferenceFrame): Reference frame containing vectors\n",
    "        unknown_variables (list[sp.Symbol]): List of unknwn variabes in\n",
    "        the vectors which are to be solved for.\n",
    "\n",
    "        forces (list[spv.Vector]): List of force vectors that are in\n",
    "        equilibrium\n",
    "\n",
    "        moments (list[spv.Vector]): List of moment vectors that are in\n",
    "        equilibrium\n",
    "\n",
    "    Returns:\n",
    "        _type_: _description_\n",
    "    \"\"\"\n",
    "    total_force = sum(forces)\n",
    "    total_moments = sum(moments)\n",
    "    # display(total_force)\n",
    "    # display(total_moments)\n",
    "    eqn = sp.Eq(\n",
    "        sp.Matrix.vstack(total_force.to_matrix(frame),\n",
    "                         total_moments.to_matrix(frame)),\n",
    "        sp.zeros(6, 1),\n",
    "    )\n",
    "    # display(eqn)\n",
    "    return sp.solve(eqn, unknown_variables, dict=True)"
   ]
  },
  {
   "attachments": {},
   "cell_type": "markdown",
   "metadata": {},
   "source": [
    "__Distributed load calculation__\n",
    "\n",
    "[Distributed load calculation][]\n",
    "\n",
    "[Distributed load calculation]: https://engineeringstatics.org/distributed-loads.html"
   ]
  },
  {
   "cell_type": "code",
   "execution_count": 9,
   "metadata": {},
   "outputs": [],
   "source": [
    "def distributed_load(\n",
    "    load_distribution_expr: sp.core.expr.Expr,\n",
    "    integration_variable: sp.core.expr.Expr,\n",
    "    upper: sp.core.expr.Expr,\n",
    ") -> sp.core.expr.Expr:\n",
    "    equivalent_force = sp.integrate(\n",
    "        load_distribution_expr, [integration_variable, 0, upper]\n",
    "    )\n",
    "\n",
    "    moment = sp.integrate(\n",
    "        integration_variable * load_distribution_expr,\n",
    "        [integration_variable, 0, upper],\n",
    "    )\n",
    "\n",
    "    position_of_equivalent_force = sp.symbols(r\"\\overline{x}\")\n",
    "    eqn = sp.Eq(equivalent_force * position_of_equivalent_force, moment)\n",
    "    point_of_application = sp.solve(eqn, position_of_equivalent_force)\n",
    "    return equivalent_force, point_of_application[0]\n",
    "\n",
    "\n",
    "x = sp.symbols(\"x\")\n",
    "assert distributed_load(sp.Rational(10, 6) * x, x, 6) == (30, 4)\n",
    "assert distributed_load(4, x, 4) == (16, 2)"
   ]
  },
  {
   "attachments": {},
   "cell_type": "markdown",
   "metadata": {},
   "source": [
    "# Python Support"
   ]
  },
  {
   "cell_type": "code",
   "execution_count": 10,
   "metadata": {},
   "outputs": [],
   "source": [
    "# rng = random.seed(12345)\n",
    "# random.randint(1,10)"
   ]
  },
  {
   "attachments": {},
   "cell_type": "markdown",
   "metadata": {},
   "source": [
    "# Sympy \n",
    "1. [SymPy Documentation][]\n",
    "1. [SymPy Modules Reference][]\n",
    "1. [tutorialspoint Sympy Tutorial][]\n",
    "1. [Sympy Live][]\n",
    "1. [Scipy Lecture Notes][]\n",
    "1. [Sympy Tutorial Main Site][]\n",
    "1. [Sympy Tutorial - Russia][]\n",
    "1. [Sympy examples 1][]\n",
    "1. [SymPy: symbolic computing in Python](https://peerj.com/articles/cs-103/) looks cool\n",
    "1. Good [sympy tutorial](http://www.cfm.brown.edu/people/dobrush/am33/SymPy/index.html) and [plotting](http://www.cfm.brown.edu/people/dobrush/am33/SymPy/part1.html) by Vladimir Dobrushkin\n",
    "\n",
    "\n",
    "[tutorialspoint Sympy Tutorial]:https://www.tutorialspoint.com/sympy/index.htm\n",
    "\n",
    "[SymPy Documentation]: http://docs.sympy.org/latest/index.html#welcome-to-sympy-s-documentation\n",
    "\n",
    "[SymPy Modules Reference]: http://docs.sympy.org/latest/modules/index.html#sympy-modules-reference\n",
    "\n",
    "[Sympy Live]: http://live.sympy.org/\n",
    "\n",
    "[Scipy Lecture Notes]: http://www.scipy-lectures.org/\n",
    "\n",
    "[Sympy Tutorial Main Site]: http://docs.sympy.org/latest/tutorial/index.html#sympy-tutorial\n",
    "\n",
    "[Sympy Tutorial - Russia]: http://www.inp.nsk.su/~grozin/python/sympy.html\n",
    "\n",
    "[Sympy examples 1]: https://github.com/sbu-python-class/python-science/blob/master/lectures/06-sympy/sympy-examples.ipynb\n",
    "\n"
   ]
  },
  {
   "cell_type": "markdown",
   "metadata": {},
   "source": [
    "# Symbols\n",
    "1. [symbols][]\n",
    "1. [assumptions][]\n",
    "\n",
    "[symbols]: http://docs.sympy.org/latest/modules/core.html?highlight=match#sympy.core.symbol.symbols\n",
    "[assumptions]:http://docs.sympy.org/latest/modules/core.html?highlight=match#module-sympy.core.assumptions"
   ]
  },
  {
   "cell_type": "code",
   "execution_count": 11,
   "metadata": {
    "collapsed": true,
    "jupyter": {
     "outputs_hidden": true
    }
   },
   "outputs": [
    {
     "data": {
      "image/png": "[encoded data removed]",
      "text/latex": [
       "$\\displaystyle \\left( x, \\  h, \\  n, \\  k\\right)$"
      ],
      "text/plain": [
       "(x, h, n, k)"
      ]
     },
     "execution_count": 11,
     "metadata": {},
     "output_type": "execute_result"
    }
   ],
   "source": [
    "x, h = sp.symbols(\"x, h\")\n",
    "n, k = sp.symbols(\"n, k\", positive=True, integer=True)\n",
    "x, h, n, k"
   ]
  },
  {
   "cell_type": "code",
   "execution_count": 12,
   "metadata": {
    "collapsed": true,
    "jupyter": {
     "outputs_hidden": true
    }
   },
   "outputs": [
    {
     "data": {
      "image/png": "[encoded data removed]",
      "text/latex": [
       "$\\displaystyle \\left( a_{4}, \\  a_{5}\\right)$"
      ],
      "text/plain": [
       "(a₄, a₅)"
      ]
     },
     "execution_count": 12,
     "metadata": {},
     "output_type": "execute_result"
    }
   ],
   "source": [
    "a4, a5 = sp.symbols(\"a4:6\")\n",
    "a4, a5"
   ]
  },
  {
   "cell_type": "code",
   "execution_count": 13,
   "metadata": {},
   "outputs": [
    {
     "data": {
      "text/latex": [
       "$\\displaystyle \\left[\\begin{matrix}c_{{1}{1}} & c_{{1}{2}} & c_{{1}{3}}\\\\c_{{2}{1}} & c_{{2}{2}} & c_{{2}{3}}\\\\c_{{3}{1}} & c_{{3}{2}} & c_{{3}{3}}\\end{matrix}\\right]$"
      ],
      "text/plain": [
       "⎡c_{{1}{1}}  c_{{1}{2}}  c_{{1}{3}}⎤\n",
       "⎢                                  ⎥\n",
       "⎢c_{{2}{1}}  c_{{2}{2}}  c_{{2}{3}}⎥\n",
       "⎢                                  ⎥\n",
       "⎣c_{{3}{1}}  c_{{3}{2}}  c_{{3}{3}}⎦"
      ]
     },
     "execution_count": 13,
     "metadata": {},
     "output_type": "execute_result"
    }
   ],
   "source": [
    "c = sp.symbols(\"c_{{1:4}{1:4}}\")\n",
    "sp.Matrix(3, 3, c)"
   ]
  },
  {
   "cell_type": "code",
   "execution_count": 14,
   "metadata": {},
   "outputs": [
    {
     "name": "stdout",
     "output_type": "stream",
     "text": [
      "Catalan           Naturals            __dir__            __ne__             \n",
      "ComplexInfinity   Naturals0           __doc__            __new__            \n",
      "Complexes         NegativeInfinity    __eq__             __reduce__         \n",
      "EmptySequence     NegativeOne         __format__         __reduce_ex__      \n",
      "EmptySet          One                 __ge__             __repr__           \n",
      "EulerGamma        Pi                  __getattr__        __setattr__        \n",
      "Exp1              Rationals           __getattribute__   __sizeof__         \n",
      "GoldenRatio       Reals               __gt__             __slots__          \n",
      "Half              TribonacciConstant  __hash__           __str__            \n",
      "IdentityFunction  UniversalSet        __init__           __subclasshook__   \n",
      "ImaginaryUnit     Zero                __init_subclass__  _classes_to_install\n",
      "Infinity          __call__            __le__             false              \n",
      "Integers          __class__           __lt__             register           \n",
      "NaN               __delattr__         __module__         true               \n",
      "\n"
     ]
    }
   ],
   "source": [
    "print(IPython.utils.text.columnize(dir(sp.S)))"
   ]
  },
  {
   "attachments": {},
   "cell_type": "markdown",
   "metadata": {},
   "source": [
    "# Random"
   ]
  },
  {
   "cell_type": "code",
   "execution_count": 15,
   "metadata": {},
   "outputs": [
    {
     "name": "stdout",
     "output_type": "stream",
     "text": [
      "__builtins__      _assumptions_shuffle  random_complex_number      \n",
      "__cached__        _randint              randrange                  \n",
      "__doc__           _random               rng                        \n",
      "__file__          _randrange            sample                     \n",
      "__loader__        as_int                seed                       \n",
      "__name__          choice                shuffle                    \n",
      "__package__       is_sequence           test_derivative_numerically\n",
      "__spec__          randint               uniform                    \n",
      "_assumptions_rng  random                verify_numerically         \n",
      "\n"
     ]
    }
   ],
   "source": [
    "print(IPython.utils.text.columnize(dir(spr)))"
   ]
  },
  {
   "cell_type": "code",
   "execution_count": 16,
   "metadata": {},
   "outputs": [],
   "source": [
    "spr.seed(1234)\n",
    "assert spr.random() < 1"
   ]
  },
  {
   "attachments": {},
   "cell_type": "markdown",
   "metadata": {},
   "source": [
    "# Core"
   ]
  },
  {
   "attachments": {},
   "cell_type": "markdown",
   "metadata": {},
   "source": [
    "## Basic\n",
    "\n",
    "[Base class][] for all Sympy objects\n",
    "\n",
    "[Base class]:https://docs.sympy.org/latest/modules/core.html#id19"
   ]
  },
  {
   "attachments": {},
   "cell_type": "markdown",
   "metadata": {},
   "source": [
    "### Simplification\n",
    "\n",
    "* [Sympy simplification tutorial][]\n",
    "* [tutorialspoint Sympy tutorial][]\n",
    "* Sympy [simplify][], inverse operation of expand\n",
    "* Sympy [apart][], partial fraction decomposition\n",
    "* Sympy [together][], merge to one common division\n",
    "* Sympy [collect][], collect terms with same power\n",
    "* Sympy [collect sqrt][], collect terms with same power\n",
    "* Sympy [radsimp][], rationalize the denominator\n",
    "* Sympy [trigsimp][], use trig. identities to simplify\n",
    "* Sympy powsimp, combine bases and exponents\n",
    "* Sympy [factor][], Compute the factorization of expression, f, into irreducibles.\n",
    "* Sympy [cancel][] ,Cancel common factors in a rational function f/g.\n",
    "* Sympy [Split into numerator, demoninator](http://docs.sympy.org/latest/modules/core.html?highlight=as_numer_denom#sympy.core.expr.Expr.as_numer_denom)\n",
    "\n",
    "[trigsimp]:https://docs.sympy.org/latest/modules/simplify/simplify.html?highlight=trigsimp#trigsimp\n",
    "\n",
    "[tutorialspoint Sympy tutorial]:https://www.tutorialspoint.com/sympy/sympy_simplification.htm\n",
    "\n",
    "[Sympy simplification tutorial]:https://docs.sympy.org/latest/tutorials/intro-tutorial/simplification.html#simplification\n",
    "\n",
    "\n",
    "[simplify]: http://docs.sympy.org/latest/modules/simplify/simplify.html?highlight=collect_sqrt#sympy.simplify.simplify.simplify\n",
    "\n",
    "[apart]: http://docs.sympy.org/latest/modules/polys/reference.html?highlight=sympy.polys%20together#sympy.polys.partfrac.apart\n",
    "\n",
    "[together]: http://docs.sympy.org/latest/modules/polys/reference.html?highlight=sympy.polys%20together#sympy.polys.rationaltools.together\n",
    "\n",
    "[collect]: http://docs.sympy.org/latest/modules/simplify/simplify.html?highlight=collect_sqrt#sympy.simplify.radsimp.collect\n",
    "[collect sqrt]: http://docs.sympy.org/latest/modules/simplify/simplify.html?highlight=collect_sqrt#collect-sqrt\n",
    "\n",
    "[radsimp]: http://docs.sympy.org/latest/modules/simplify/simplify.html?highlight=collect_sqrt#sympy.simplify.radsimp.radsimp\n",
    "\n",
    "[factor]: http://docs.sympy.org/latest/modules/polys/reference.html?highlight=sympy.polys%20factor#sympy.polys.polytools.factor\n",
    "\n",
    "[cancel]: http://docs.sympy.org/latest/modules/polys/reference.html?highlight=sympy.polys%20cancel#sympy.polys.polytools.Poly.cancel\n"
   ]
  },
  {
   "attachments": {},
   "cell_type": "markdown",
   "metadata": {},
   "source": [
    "### factor\n",
    "\n",
    " Compute the factorization of expression, f, into irreducibles. `factor` \n",
    " is opposite of `expand`"
   ]
  },
  {
   "cell_type": "code",
   "execution_count": 17,
   "metadata": {},
   "outputs": [
    {
     "data": {
      "image/png": "[encoded data removed]",
      "text/latex": [
       "$\\displaystyle \\left( x^{2} z + 4 x y z + 4 y^{2} z, \\  z \\left(x + 2 y\\right)^{2}\\right)$"
      ],
      "text/plain": [
       "⎛ 2                  2               2⎞\n",
       "⎝x ⋅z + 4⋅x⋅y⋅z + 4⋅y ⋅z, z⋅(x + 2⋅y) ⎠"
      ]
     },
     "execution_count": 17,
     "metadata": {},
     "output_type": "execute_result"
    }
   ],
   "source": [
    "x, y, z = sp.symbols(\"x:z\")\n",
    "expr = x**2 * z + 4 * x * y * z + 4 * y**2 * z\n",
    "expr, sp.factor(expr)"
   ]
  },
  {
   "cell_type": "code",
   "execution_count": 18,
   "metadata": {},
   "outputs": [
    {
     "data": {
      "image/png": "[encoded data removed]",
      "text/latex": [
       "$\\displaystyle \\left( 1, \\  \\left[ \\left( z, \\  1\\right), \\  \\left( x + 2 y, \\  2\\right)\\right]\\right)$"
      ],
      "text/plain": [
       "(1, [(z, 1), (x + 2⋅y, 2)])"
      ]
     },
     "execution_count": 18,
     "metadata": {},
     "output_type": "execute_result"
    }
   ],
   "source": [
    "sp.factor_list(expr)"
   ]
  },
  {
   "attachments": {},
   "cell_type": "markdown",
   "metadata": {},
   "source": [
    "### collect\n",
    "Collect terms with the same power"
   ]
  },
  {
   "cell_type": "code",
   "execution_count": 19,
   "metadata": {},
   "outputs": [
    {
     "data": {
      "text/latex": [
       "$\\displaystyle \\textrm{Collect terms with the same power in } x^{3} - x^{2} z + 2 x^{2} + x y + x - 3\\\\\\textrm {collect terms in } x \\quad  x^{3} + x^{2} \\cdot \\left(2 - z\\right) + x \\left(y + 1\\right) - 3$"
      ],
      "text/plain": [
       "<IPython.core.display.Math object>"
      ]
     },
     "metadata": {},
     "output_type": "display_data"
    }
   ],
   "source": [
    "expr = x * y + x - 3 + 2 * x**2 - z * x**2 + x**3\n",
    "\n",
    "ipd.display(\n",
    "    ipd.Math(\n",
    "        \"$\"\n",
    "        rf\"\\textrm{{Collect terms with the same power in }} {spv.vlatex(expr)}\\\\\"\n",
    "        rf\"\\textrm {{collect terms in }} x \\quad  {spv.vlatex(sp.collect(expr, x))}\"\n",
    "        \"$\"\n",
    "    )\n",
    ")"
   ]
  },
  {
   "attachments": {},
   "cell_type": "markdown",
   "metadata": {},
   "source": [
    "### logcombine\n",
    "\n",
    "This logarithms and combines them using the following rules\n",
    "\n",
    "\\begin{align}\n",
    "    x, y \\in \\mathbb Z^+ &\\implies \\log(x) + \\log(y) =  \\log(x*y) \\\\\n",
    "    x \\in \\mathbb Z^+ a \\in \\mathbb R &\\implies  a*\\log(x) = \\log(x**a)\n",
    "\\end{align}"
   ]
  },
  {
   "cell_type": "code",
   "execution_count": 20,
   "metadata": {},
   "outputs": [
    {
     "data": {
      "image/png": "[encoded data removed]",
      "text/latex": [
       "$\\displaystyle \\log{\\left(\\frac{R g + v_{i}^{2}}{R g + v_{f}^{2}} \\right)}$"
      ],
      "text/plain": [
       "   ⎛        2 ⎞\n",
       "   ⎜R⋅g + vᵢ  ⎟\n",
       "log⎜──────────⎟\n",
       "   ⎜         2⎟\n",
       "   ⎝R⋅g + v_f ⎠"
      ]
     },
     "execution_count": 20,
     "metadata": {},
     "output_type": "execute_result"
    }
   ],
   "source": [
    "tau = sp.Symbol(\"tau\")\n",
    "\n",
    "m, g, R, vi, vf, ri, rf = sp.symbols(\n",
    "    \"m, g, R, v_i, v_f, r_i, r_f\", real=True, positive=True\n",
    ")\n",
    "\n",
    "sp.integrate(-tau / (R * g + tau**2), (tau, vi, vf)) * 2\n",
    "\n",
    "sp.logcombine(sp.integrate(-tau / (R * g + tau**2), (tau, vi, vf)) * 2)"
   ]
  },
  {
   "attachments": {},
   "cell_type": "markdown",
   "metadata": {},
   "source": [
    "### replacement\n",
    "\n",
    "* [replace][] replace an expression. An example is found in [Young and Freedman][] solutions in sympy\n",
    "* [xreplace][] replace occurrences of objects within the expression\n",
    "\n",
    "[replace]: http://docs.sympy.org/latest/modules/core.html?highlight=match#sympy.core.basic.Basic.replace\n",
    "\n",
    "[xreplace]:https://docs.sympy.org/latest/modules/core.html#sympy.core.basic.Basic.xreplace\n",
    "\n",
    "[Young and Freedman]:../physics/books/YoungAndFreedman13/Chapter05-Applying-Newtons-Laws/Chapter05P110-Rotating-System.ipynb"
   ]
  },
  {
   "attachments": {},
   "cell_type": "markdown",
   "metadata": {},
   "source": [
    "# Lambdify\n",
    "\n",
    "In SymPy, the `lambdify` function is a utility that allows you to convert symbolic expressions into Python functions. It enables efficient numerical evaluation of SymPy expressions by generating a callable function that can be used to compute numerical values quickly.\n",
    "\n",
    "The `lambdify` function takes two main arguments: the variables to be included in the generated function and the expression to be evaluated. It returns a Python function that can accept numerical inputs and evaluate the expression efficiently. The generated function uses NumPy for numerical computations, providing performance benefits.\n",
    "\n",
    "Here's a summary of what `lambdify` does:\n",
    "\n",
    "1. Converts SymPy expressions to efficient numerical functions: `lambdify` allows you to convert SymPy expressions into callable Python functions that can compute numerical values efficiently.\n",
    "\n",
    "2. Supports various input types: The generated function can accept different types of inputs, including scalars, NumPy arrays, and mathematical constants.\n",
    "\n",
    "3. Provides fast numerical evaluation: The generated function leverages the performance of NumPy to evaluate the expression using optimized numerical computations.\n",
    "\n",
    "4. Supports variable substitution: You can specify the variables to include in the generated function, and the generated function will accept values for those variables as arguments.\n",
    "\n",
    "5. Enables integration with numerical libraries: By converting SymPy expressions into numerical functions, you can seamlessly integrate them with other numerical libraries like NumPy, SciPy, and matplotlib for scientific computations and plotting.\n",
    "\n",
    "Overall, `lambdify` bridges the gap between symbolic and numerical computation in SymPy by generating efficient numerical functions from symbolic expressions. It allows for fast and accurate evaluation of mathematical expressions, enabling seamless integration with numerical libraries and facilitating efficient numerical computations."
   ]
  },
  {
   "cell_type": "code",
   "execution_count": 21,
   "metadata": {},
   "outputs": [
    {
     "data": {
      "image/png": "[encoded data removed]",
      "text/latex": [
       "$\\displaystyle \\operatorname{asin}{\\left(\\frac{x^{2}}{y} \\right)} + \\pi$"
      ],
      "text/plain": [
       "    ⎛ 2⎞    \n",
       "    ⎜x ⎟    \n",
       "asin⎜──⎟ + π\n",
       "    ⎝y ⎠    "
      ]
     },
     "execution_count": 21,
     "metadata": {},
     "output_type": "execute_result"
    }
   ],
   "source": [
    "x, y = sp.symbols(\"x, y\", real=True)\n",
    "expr = sp.asin(x**2 / y) + PI\n",
    "expr"
   ]
  },
  {
   "cell_type": "code",
   "execution_count": 22,
   "metadata": {},
   "outputs": [
    {
     "data": {
      "image/png": "[encoded data removed]",
      "text/latex": [
       "$\\displaystyle 3.66519142918809$"
      ],
      "text/plain": [
       "3.6651914291880923"
      ]
     },
     "execution_count": 22,
     "metadata": {},
     "output_type": "execute_result"
    }
   ],
   "source": [
    "expr_f = sp.lambdify([x, y], expr)\n",
    "expr_f(1, 2)"
   ]
  },
  {
   "cell_type": "code",
   "execution_count": 23,
   "metadata": {},
   "outputs": [
    {
     "name": "stdout",
     "output_type": "stream",
     "text": [
      "[ 1.          1.40883205  1.15845593  0.3660254  -0.59767248 -1.28171276\n",
      " -1.3660254  -0.81115958  0.12325683  1.        ]\n"
     ]
    }
   ],
   "source": [
    "# Define a symbolic expression\n",
    "x = sp.symbols(\"x\")\n",
    "expr = sp.sin(x) + sp.cos(x)\n",
    "\n",
    "# Create a lambda function from the symbolic expression using lambdify\n",
    "f = sp.lambdify(x, expr, \"numpy\")\n",
    "\n",
    "# Generate input values\n",
    "x_vals = np.linspace(0, 2 * np.pi, 10)\n",
    "\n",
    "# Evaluate the lambda function on the input values\n",
    "result = f(x_vals)\n",
    "\n",
    "# Print the result\n",
    "print(result)"
   ]
  },
  {
   "cell_type": "code",
   "execution_count": 24,
   "metadata": {},
   "outputs": [
    {
     "data": {
      "text/plain": [
       "[<matplotlib.lines.Line2D at 0x21046f84a90>]"
      ]
     },
     "execution_count": 24,
     "metadata": {},
     "output_type": "execute_result"
    },
    {
     "data": {
      "image/png": "[encoded data removed]",
      "text/plain": [
       "<Figure size 640x480 with 1 Axes>"
      ]
     },
     "metadata": {},
     "output_type": "display_data"
    }
   ],
   "source": [
    "x_num = np.linspace(0, 1, 100)\n",
    "y_num = 2\n",
    "plt.plot(x_num, expr_f(x_num, y_num))"
   ]
  },
  {
   "attachments": {},
   "cell_type": "markdown",
   "metadata": {},
   "source": [
    "# Assumptions\n",
    "Information about expressions"
   ]
  },
  {
   "cell_type": "code",
   "execution_count": 25,
   "metadata": {},
   "outputs": [
    {
     "data": {
      "text/plain": [
       "True"
      ]
     },
     "execution_count": 25,
     "metadata": {},
     "output_type": "execute_result"
    }
   ],
   "source": [
    "sp.ask(sp.Q.prime(7))"
   ]
  },
  {
   "cell_type": "code",
   "execution_count": 26,
   "metadata": {},
   "outputs": [
    {
     "name": "stdout",
     "output_type": "stream",
     "text": [
      "__class__              _hermitian          extended_nonnegative\n",
      "__delattr__            _imaginary          extended_nonpositive\n",
      "__dict__               _infinite           extended_nonzero    \n",
      "__dir__                _integer            extended_positive   \n",
      "__doc__                _integer_elements   extended_real       \n",
      "__eq__                 _invertible         finite              \n",
      "__format__             _irrational         fullrank            \n",
      "__ge__                 _le                 ge                  \n",
      "__getattribute__       _lower_triangular   gt                  \n",
      "__gt__                 _lt                 hermitian           \n",
      "__hash__               _ne                 imaginary           \n",
      "__init__               _negative           infinite            \n",
      "__init_subclass__      _negative_infinite  integer             \n",
      "__le__                 _nonnegative        integer_elements    \n",
      "__lt__                 _nonpositive        invertible          \n",
      "__module__             _nonzero            irrational          \n",
      "__ne__                 _normal             is_true             \n",
      "__new__                _odd                le                  \n",
      "__reduce__             _orthogonal         lower_triangular    \n",
      "__reduce_ex__          _positive           lt                  \n",
      "__repr__               _positive_definite  ne                  \n",
      "__setattr__            _positive_infinite  negative            \n",
      "__sizeof__             _prime              negative_infinite   \n",
      "__str__                _rational           nonnegative         \n",
      "__subclasshook__       _real               nonpositive         \n",
      "__weakref__            _real_elements      nonzero             \n",
      "_algebraic             _singular           normal              \n",
      "_antihermitian         _square             odd                 \n",
      "_commutative           _symmetric          orthogonal          \n",
      "_complex               _transcendental     positive            \n",
      "_complex_elements      _triangular         positive_definite   \n",
      "_composite             _unit_triangular    positive_infinite   \n",
      "_diagonal              _unitary            prime               \n",
      "_eq                    _upper_triangular   rational            \n",
      "_even                  _zero               real                \n",
      "_extended_negative     algebraic           real_elements       \n",
      "_extended_nonnegative  antihermitian       singular            \n",
      "_extended_nonpositive  commutative         square              \n",
      "_extended_nonzero      complex             symmetric           \n",
      "_extended_positive     complex_elements    transcendental      \n",
      "_extended_real         composite           triangular          \n",
      "_finite                diagonal            unit_triangular     \n",
      "_fullrank              eq                  unitary             \n",
      "_ge                    even                upper_triangular    \n",
      "_gt                    extended_negative   zero                \n",
      "\n"
     ]
    }
   ],
   "source": [
    "print(IPython.utils.text.columnize(dir(sp.Q)))"
   ]
  },
  {
   "attachments": {},
   "cell_type": "markdown",
   "metadata": {},
   "source": [
    "# Solve\n",
    "1. [Solve Equations][]\n",
    "\n",
    "[Solve Equations]:https://docs.sympy.org/latest/guides/solving/index.html#solve-equations"
   ]
  },
  {
   "attachments": {},
   "cell_type": "markdown",
   "metadata": {},
   "source": [
    "## Solve Algebraically\n",
    "\n",
    "1. [Solve Algebraically][]\n",
    "\n",
    "[Solve Algebraically]:https://docs.sympy.org/latest/guides/solving/solve-equation-algebraically.html#solve-an-equation-algebraically"
   ]
  },
  {
   "cell_type": "code",
   "execution_count": 27,
   "metadata": {},
   "outputs": [
    {
     "data": {
      "image/png": "[encoded data removed]",
      "text/latex": [
       "$\\displaystyle \\left( \\left[ \\left\\{ x : - \\sqrt{y}\\right\\}, \\  \\left\\{ x : \\sqrt{y}\\right\\}\\right], \\  \\mathbb{R} \\cap \\left\\{- \\sqrt{y}, \\sqrt{y}\\right\\}\\right)$"
      ],
      "text/plain": [
       "([{x: -√y}, {x: √y}], ℝ ∩ {-√y, √y})"
      ]
     },
     "execution_count": 27,
     "metadata": {},
     "output_type": "execute_result"
    }
   ],
   "source": [
    "x, y = sp.symbols(\"x, y\", real=True)\n",
    "(\n",
    "    sp.solve(sp.Eq(x**2, y), x, dict=True),\n",
    "    sp.solveset(sp.Eq(x**2, y), x, domain=sp.S.Reals),\n",
    ")"
   ]
  },
  {
   "cell_type": "code",
   "execution_count": 28,
   "metadata": {},
   "outputs": [
    {
     "data": {
      "image/png": "[encoded data removed]",
      "text/latex": [
       "$\\displaystyle \\left[ 0, \\  \\pi\\right]$"
      ],
      "text/plain": [
       "[0, π]"
      ]
     },
     "execution_count": 28,
     "metadata": {},
     "output_type": "execute_result"
    }
   ],
   "source": [
    "eqn = sp.Eq(sp.sin(x), 0)\n",
    "sp.solve(eqn, x)"
   ]
  },
  {
   "attachments": {},
   "cell_type": "markdown",
   "metadata": {},
   "source": [
    "## Solveset"
   ]
  },
  {
   "cell_type": "code",
   "execution_count": 29,
   "metadata": {},
   "outputs": [
    {
     "data": {
      "text/latex": [
       "$\\displaystyle \\begin{equation}\\\\\\begin{split}\\\\\\textrm{for } x \\in \\left[0, 4 \\pi\\right]\\; \\sin{\\left(x \\right)} = 0 \\implies x \\in \\left\\{0, \\pi, 2 \\pi, 3 \\pi, 4 \\pi\\right\\} \\\\\\nonumber\\end{split}\\\\\\end{equation}$"
      ],
      "text/plain": [
       "<IPython.core.display.Math object>"
      ]
     },
     "metadata": {},
     "output_type": "display_data"
    },
    {
     "data": {
      "text/latex": [
       "$\\displaystyle \\begin{equation}\\\\\\begin{split}\\\\\\textrm{for } x \\in \\left[0, 5 \\pi\\right]\\; \\sin{\\left(x \\right)} = 1 \\implies x \\in \\left\\{\\frac{\\pi}{2}, \\frac{5 \\pi}{2}, \\frac{9 \\pi}{2}\\right\\} \\\\\\nonumber\\end{split}\\\\\\end{equation}$"
      ],
      "text/plain": [
       "<IPython.core.display.Math object>"
      ]
     },
     "metadata": {},
     "output_type": "display_data"
    },
    {
     "data": {
      "text/latex": [
       "$\\displaystyle \\begin{equation}\\\\\\begin{split}\\\\\\textrm{for } x \\in \\mathbb{R}\\; 2^{x} = \\infty \\implies x \\in \\emptyset \\\\\\nonumber\\end{split}\\\\\\end{equation}$"
      ],
      "text/plain": [
       "<IPython.core.display.Math object>"
      ]
     },
     "metadata": {},
     "output_type": "display_data"
    },
    {
     "data": {
      "text/latex": [
       "$\\displaystyle \\begin{equation}\\\\\\begin{split}\\\\\\textrm{for } x \\in \\left[0, 4 \\pi\\right]\\; \\cos{\\left(x \\right)} = 0 \\implies x \\in \\left\\{\\frac{\\pi}{2}, \\frac{5 \\pi}{2}\\right\\} \\\\\\nonumber\\end{split}\\\\\\end{equation}$"
      ],
      "text/plain": [
       "<IPython.core.display.Math object>"
      ]
     },
     "metadata": {},
     "output_type": "display_data"
    }
   ],
   "source": [
    "# Define the variable\n",
    "x = sp.Symbol(\"x\")\n",
    "\n",
    "domain = sp.Interval(0, 4 * PI)\n",
    "eqn1 = sp.Eq(sp.sin(x), 0)\n",
    "solution_set = sp.solveset(eqn1, x, domain=domain)\n",
    "\n",
    "print_aligned_latex_equations(\n",
    "    rf\"\\textrm{{for }} x \\in {spv.vlatex(domain)}\"\n",
    "    rf\"\\; {spv.vlatex(eqn1)} \"\n",
    "    rf\"\\implies x \\in {spv.vlatex(solution_set)} \",\n",
    ")\n",
    "\n",
    "domain = sp.Interval(0, 5 * PI)\n",
    "eqn2 = sp.Eq(sp.sin(x), 1)\n",
    "solution_set = sp.solveset(eqn2, x, domain=domain)\n",
    "\n",
    "print_aligned_latex_equations(\n",
    "    rf\"\\textrm{{for }} x \\in {spv.vlatex(domain)}\"\n",
    "    rf\"\\; {spv.vlatex(eqn2)} \"\n",
    "    rf\"\\implies x \\in {spv.vlatex(solution_set)} \",\n",
    ")\n",
    "\n",
    "domain = sp.S.Reals\n",
    "eqn3 = sp.Eq(2**x, POSITIVEINFINITY)\n",
    "solution_set = sp.solveset(eqn3, x, domain=domain)\n",
    "\n",
    "print_aligned_latex_equations(\n",
    "    rf\"\\textrm{{for }} x \\in {spv.vlatex(domain)}\"\n",
    "    rf\"\\; {spv.vlatex(eqn3)} \"\n",
    "    rf\"\\implies x \\in {spv.vlatex(solution_set)} \",\n",
    ")\n",
    "\n",
    "domain = sp.Interval(0, 4 * PI)\n",
    "eqn4 = sp.Eq(sp.cos(x), 0)\n",
    "solution_set = sp.solveset(eqn2, x, domain=domain)\n",
    "\n",
    "print_aligned_latex_equations(\n",
    "    rf\"\\textrm{{for }} x \\in {spv.vlatex(domain)}\"\n",
    "    rf\"\\; {spv.vlatex(eqn4)} \"\n",
    "    rf\"\\implies x \\in {spv.vlatex(solution_set)} \",\n",
    ")"
   ]
  },
  {
   "cell_type": "markdown",
   "metadata": {},
   "source": [
    "# dsolve"
   ]
  },
  {
   "cell_type": "code",
   "execution_count": 30,
   "metadata": {},
   "outputs": [
    {
     "data": {
      "text/latex": [
       "$\\displaystyle \\begin{equation}\\\\\\begin{split}\\\\\\textrm{acceleration equation} &:\\left[ \\ddot{r}_{x} = 2, \\  \\ddot{r}_{y} = -3, \\  \\ddot{r}_{z} = 0\\right]\\\\\\textrm{velocity } &:\\left[ \\dot{r}_{x} = 2 t + 4, \\  \\dot{r}_{y} = - 3 t, \\  \\dot{r}_{z} = 0\\right]\\\\\\textrm{distance equation} &:\\left[ r_{x} = t^{2} + 4 t, \\  r_{y} = - \\frac{3 t^{2}}{2}, \\  r_{z} = 0\\right]\\\\\\textrm{velocity at t=2} &:\\left[ \\dot{r}_{x} = 8, \\  \\dot{r}_{y} = -6, \\  \\dot{r}_{z} = 0\\right]\\\\\\textrm{Speed at t=2} &:10\\\\\\nonumber\\end{split}\\\\\\end{equation}$"
      ],
      "text/plain": [
       "<IPython.core.display.Math object>"
      ]
     },
     "metadata": {},
     "output_type": "display_data"
    }
   ],
   "source": [
    "# This code calculates the velocity of a particle P at time t = 2 seconds,\n",
    "# given that P moves with constant acceleration $(2i − 3j)ms^{-2}$ and\n",
    "# at time $t = 0$, P is moving with velocity $4ims^{−1}$.\n",
    "\n",
    "\n",
    "# Define the time variable.\n",
    "t = sp.Symbol(\"t\")\n",
    "\n",
    "# Define the position, velocity, and acceleration of the particle.\n",
    "rx, ry, rz = spv.dynamicsymbols(\"r_x, r_y, r_z\")\n",
    "r = sp.Matrix([rx, ry, rz])\n",
    "v = r.diff()\n",
    "a = v.diff()\n",
    "\n",
    "# Define the initial conditions.\n",
    "di = sp.Matrix([0, 0, 0])\n",
    "vi = sp.Matrix([4, 0, 0])\n",
    "ai = sp.Matrix([2, -3, 0])\n",
    "\n",
    "\n",
    "# # Solve the differential equation for the distance.\n",
    "acceleration_equation = [sp.Eq(a[_], ai[_]) for _ in range(3)]\n",
    "acceleration_equation_solution = sp.dsolve(acceleration_equation)\n",
    "\n",
    "# Solve the initial conditions for the constants in the distance solution.\n",
    "distance_constants = sp.solve([\n",
    "    sp.Eq(di[_], acceleration_equation_solution[_].rhs.subs(t, 0))\n",
    "    for _ in range(3)\n",
    "])\n",
    "\n",
    "values = distance_constants\n",
    "\n",
    "# Solve the equation for the velocity.\n",
    "velocity = [acceleration_equation_solution[_].rhs.diff(t)\n",
    "            for _ in range(3)\n",
    "            ]\n",
    "\n",
    "velocity_equation = [\n",
    "    sp.Eq(velocity[_], vi[_]).subs(t, 0) for _ in range(3)\n",
    "]\n",
    "\n",
    "# Update constants derived from velocity equation.\n",
    "values.update(sp.solve(velocity_equation))\n",
    "\n",
    "dist = [_.subs(values) for _ in acceleration_equation_solution]\n",
    "vel = [sp.Eq(_.lhs.diff(), _.rhs.diff().subs(values)) for _ in dist]\n",
    "vel_t2 = [sp.Eq(_.lhs, _.rhs.subs(t, 2)) for _ in vel]\n",
    "speed_t2 = sp.sqrt(sum(vel_t2[_].rhs**2 for _ in range(3)))\n",
    "\n",
    "solution_text = [\n",
    "    r'\\textrm{acceleration equation} &:'\n",
    "    fr'{spv.vlatex(acceleration_equation)}',\n",
    "    r'\\textrm{velocity } &:' fr'{spv.vlatex(vel)}',\n",
    "    r'\\textrm{distance equation} &:'\n",
    "    fr'{spv.vlatex(dist)}',\n",
    "    r'\\textrm{velocity at t=2} &:'\n",
    "    fr'{spv.vlatex(vel_t2)}',\n",
    "    r'\\textrm{Speed at t=2} &:'\n",
    "    fr'{spv.vlatex(speed_t2)}',\n",
    "]\n",
    "\n",
    "print_aligned_latex_equations(*solution_text)"
   ]
  },
  {
   "cell_type": "markdown",
   "metadata": {
    "toc-hr-collapsed": true,
    "toc-nb-collapsed": true
   },
   "source": [
    "# Printing"
   ]
  },
  {
   "attachments": {},
   "cell_type": "markdown",
   "metadata": {},
   "source": [
    "## Latex"
   ]
  },
  {
   "cell_type": "code",
   "execution_count": 31,
   "metadata": {},
   "outputs": [
    {
     "data": {
      "text/latex": [
       "$\\displaystyle \\begin{equation}\\\\\\begin{split}\\\\\n",
       "    \\textrm{Force on ball bearing }\\quad \n",
       "        &-  g m\\: {}^\\mathcal F \\hat {z} + N\\: {}^\\mathcal A \\hat {z} \\\\\n",
       "    \\textrm{mass\\(\\cdot\\) acceleration on ball bearing }\\quad \n",
       "        &R m \\ddot{\\theta}\\; {}^\\mathcal A \\hat e_{\\theta} -  R m \\dot{\\theta}^{2}\\: {}^\\mathcal A \\hat {z} \\\\\n",
       "    \\textrm{N2L applied to ball bearing }\\quad \n",
       "        &\\left[\\begin{matrix}N \\sin{\\left(\\theta \\right)}\\\\0\\\\N \\cos{\\left(\\theta \\right)} - g m\\end{matrix}\\right] = \\left[\\begin{matrix}m \\left(- R \\sin{\\left(\\theta \\right)} \\dot{\\theta}^{2} + R \\cos{\\left(\\theta \\right)} \\ddot{\\theta}\\right)\\\\0\\\\m \\left(- R \\sin{\\left(\\theta \\right)} \\ddot{\\theta} - R \\cos{\\left(\\theta \\right)} \\dot{\\theta}^{2}\\right)\\end{matrix}\\right] \\\\\n",
       "\\\\\\nonumber\\end{split}\\\\\\end{equation}$"
      ],
      "text/plain": [
       "<IPython.core.display.Math object>"
      ]
     },
     "metadata": {},
     "output_type": "display_data"
    }
   ],
   "source": [
    "R, m, g = sp.symbols(\"R, m, g\", real=True, positive=True)\n",
    "theta = spv.dynamicsymbols(\"theta\", level=0)\n",
    "theta_0, dthetha_0 = sp.symbols(r\"\\theta_{t=0}, \\dot{\\theta}_{t=0}\")\n",
    "\n",
    "F = reference_frame(\"F\", x=r\"E_1\", y=r\"E_2\", z=r\"E_3\")\n",
    "A = reference_frame(\"A\", x=r\"e_{\\theta}\", y=r\"e_z\", z=r\"e_r\")\n",
    "A.orient_axis(F, F.y, theta)\n",
    "\n",
    "vP = R * A.z\n",
    "dvP, ddvP = vP.dt(F), vP.dt(F).dt(F)\n",
    "\n",
    "N = sp.symbols(\"N\", real=True, positive=True)\n",
    "\n",
    "total_force = m * g * (-F.z) + N * A.z\n",
    "\n",
    "N2Leqn = sp.Eq(total_force.to_matrix(F), m * ddvP.to_matrix(F))\n",
    "\n",
    "print_aligned_latex_equations(\n",
    "    rf\"\"\"\n",
    "    \\textrm{{Force on ball bearing }}\\quad \n",
    "        &{spv.vlatex(total_force)} \\\\\n",
    "    \\textrm{{mass\\(\\cdot\\) acceleration on ball bearing }}\\quad \n",
    "        &{spv.vlatex(m*ddvP)} \\\\\n",
    "    \\textrm{{N2L applied to ball bearing }}\\quad \n",
    "        &{spv.vlatex(N2Leqn)} \\\\\n",
    "\"\"\"\n",
    ")"
   ]
  },
  {
   "attachments": {},
   "cell_type": "markdown",
   "metadata": {},
   "source": [
    "## Latex textmode\n",
    "\n",
    "Enter mathmode while in textmode  ```\\( \\)```\n",
    "\n",
    "Notice centre dot $\\cdot$ in this $$\\textrm{{mass\\(\\cdot\\) acceleration on ball bearing }}$$\n",
    "a centre dot in text mode"
   ]
  },
  {
   "cell_type": "markdown",
   "metadata": {},
   "source": [
    "# Function\n",
    "* [Function][]\n",
    "* [Expand][]\n",
    "* [Subs][]\n",
    "* [Assumptions][]\n",
    "* [Elementary Functions, Piecewise](https://docs.sympy.org/latest/modules/functions/elementary.html)\n",
    "\n",
    "\n",
    "\n",
    "[Function]: http://docs.sympy.org/latest/modules/core.html?highlight=match#sympy.core.function.Function\n",
    "\n",
    "[Subs]: http://docs.sympy.org/latest/modules/core.html?highlight=match#sympy.core.function.Subs\n",
    "\n",
    "[Expand]: http://docs.sympy.org/latest/modules/core.html?highlight=match#sympy.core.function.expand\n",
    "\n",
    "[Assumptions]: http://docs.sympy.org/latest/modules/core.html#module-sympy.core.assumptions"
   ]
  },
  {
   "cell_type": "code",
   "execution_count": 32,
   "metadata": {
    "collapsed": true,
    "jupyter": {
     "outputs_hidden": true
    }
   },
   "outputs": [],
   "source": [
    "assumptions = [\n",
    "    \"real\",\n",
    "    \"extended_real\",\n",
    "    \"complex\",\n",
    "    \"imaginary\",\n",
    "    \"integer\",\n",
    "    \"irrational\",\n",
    "    \"rational\",\n",
    "    \"negative\",\n",
    "    \"positive\",\n",
    "]"
   ]
  },
  {
   "cell_type": "code",
   "execution_count": 33,
   "metadata": {
    "collapsed": true,
    "jupyter": {
     "outputs_hidden": true
    }
   },
   "outputs": [],
   "source": [
    "hints_expand = [\n",
    "    \"mul\",\n",
    "    \"modulus\",\n",
    "    \"power_base\",\n",
    "    \"power_exp\",\n",
    "    \"mul\",\n",
    "    \"log\",\n",
    "    \"multinomial\",\n",
    "    \"basic\",\n",
    "    \"complex\",\n",
    "    \"func\",\n",
    "    \"trig\",\n",
    "]"
   ]
  },
  {
   "cell_type": "code",
   "execution_count": 34,
   "metadata": {
    "collapsed": true,
    "jupyter": {
     "outputs_hidden": true
    }
   },
   "outputs": [
    {
     "data": {
      "image/png": "[encoded data removed]",
      "text/latex": [
       "$\\displaystyle \\left( 2 \\pi, \\  \\frac{1}{3}, \\  \\frac{3 \\sqrt{10}}{10}\\right)$"
      ],
      "text/plain": [
       "⎛          3⋅√10⎞\n",
       "⎜2⋅π, 1/3, ─────⎟\n",
       "⎝            10 ⎠"
      ]
     },
     "execution_count": 34,
     "metadata": {},
     "output_type": "execute_result"
    }
   ],
   "source": [
    "(\n",
    "    sp.nsimplify(6.28, [sp.pi], tolerance=0.01),\n",
    "    sp.nsimplify(0.33333, tolerance=0.001),\n",
    "    sp.nsimplify(sp.cos(sp.atan(1.0 / 3))),\n",
    ")"
   ]
  },
  {
   "cell_type": "code",
   "execution_count": 35,
   "metadata": {
    "collapsed": true,
    "jupyter": {
     "outputs_hidden": true
    }
   },
   "outputs": [
    {
     "data": {
      "image/png": "[encoded data removed]",
      "text/latex": [
       "$\\displaystyle 1$"
      ],
      "text/plain": [
       "1"
      ]
     },
     "execution_count": 35,
     "metadata": {},
     "output_type": "execute_result"
    }
   ],
   "source": [
    "sp.simplify(sp.cos(x) ** 2 + sp.sin(x) ** 2)"
   ]
  },
  {
   "cell_type": "code",
   "execution_count": 36,
   "metadata": {
    "collapsed": true,
    "jupyter": {
     "outputs_hidden": true
    }
   },
   "outputs": [
    {
     "data": {
      "text/plain": [
       "[<function sympy.core.function.expand_log(expr, deep=True, force=False, factor=False)>,\n",
       " <function sympy.core.function.expand_mul(expr, deep=True)>,\n",
       " <function sympy.core.function.expand_multinomial(expr, deep=True)>,\n",
       " <function sympy.core.function.expand_complex(expr, deep=True)>,\n",
       " <function sympy.core.function.expand_trig(expr, deep=True)>,\n",
       " <function sympy.core.function.expand_power_base(expr, deep=True, force=False)>,\n",
       " <function sympy.core.function.expand_power_exp(expr, deep=True)>,\n",
       " <function sympy.core.function.expand_func(expr, deep=True)>,\n",
       " <function sympy.simplify.hyperexpand.hyperexpand(f, allow_hyper=False, rewrite='default', place=None)>]"
      ]
     },
     "execution_count": 36,
     "metadata": {},
     "output_type": "execute_result"
    }
   ],
   "source": [
    "funcs_expand = [\n",
    "    sp.expand_log,\n",
    "    sp.expand_mul,\n",
    "    sp.expand_multinomial,\n",
    "    sp.expand_complex,\n",
    "    sp.expand_trig,\n",
    "    sp.expand_power_base,\n",
    "    sp.expand_power_exp,\n",
    "    sp.expand_func,\n",
    "    sp.hyperexpand,\n",
    "]\n",
    "funcs_expand"
   ]
  },
  {
   "cell_type": "code",
   "execution_count": 37,
   "metadata": {},
   "outputs": [
    {
     "data": {
      "image/png": "[encoded data removed]",
      "text/latex": [
       "$\\displaystyle \\tan^{2}{\\left(x \\right)} + 1$"
      ],
      "text/plain": [
       "   2       \n",
       "tan (x) + 1"
      ]
     },
     "execution_count": 37,
     "metadata": {},
     "output_type": "execute_result"
    }
   ],
   "source": [
    "sp.diff(sp.tan(x), x)"
   ]
  },
  {
   "attachments": {},
   "cell_type": "markdown",
   "metadata": {},
   "source": [
    "## Limit"
   ]
  },
  {
   "cell_type": "code",
   "execution_count": 38,
   "metadata": {},
   "outputs": [
    {
     "data": {
      "image/png": "[encoded data removed]",
      "text/latex": [
       "$\\displaystyle \\frac{1}{\\cos^{2}{\\left(x \\right)}}$"
      ],
      "text/plain": [
       "   1   \n",
       "───────\n",
       "   2   \n",
       "cos (x)"
      ]
     },
     "execution_count": 38,
     "metadata": {},
     "output_type": "execute_result"
    }
   ],
   "source": [
    "x = sp.symbols(\"x\")\n",
    "sp.limit((sp.tan(x + h) - sp.tan(x)) / h, h, 0)"
   ]
  },
  {
   "cell_type": "code",
   "execution_count": 39,
   "metadata": {},
   "outputs": [],
   "source": [
    "sp.var(\"x, y, z\")\n",
    "f = 3 * x**2 * z + y * x * sp.cos(PI * x - PI * z)"
   ]
  },
  {
   "cell_type": "code",
   "execution_count": 40,
   "metadata": {},
   "outputs": [
    {
     "data": {
      "image/png": "[encoded data removed]",
      "text/latex": [
       "$\\displaystyle \\left( 3 x^{2} z + x y \\cos{\\left(\\pi x - \\pi z \\right)}, \\  -14\\right)$"
      ],
      "text/plain": [
       "⎛   2                            ⎞\n",
       "⎝3⋅x ⋅z + x⋅y⋅cos(π⋅x - π⋅z), -14⎠"
      ]
     },
     "execution_count": 40,
     "metadata": {},
     "output_type": "execute_result"
    }
   ],
   "source": [
    "f, sp.limit(f, x, 2).limit(y, 1).limit(z, -1)"
   ]
  },
  {
   "cell_type": "code",
   "execution_count": 41,
   "metadata": {},
   "outputs": [
    {
     "data": {
      "image/png": "[encoded data removed]",
      "text/latex": [
       "$\\displaystyle \\left( \\frac{x y}{x + y}, \\  \\frac{5}{6}\\right)$"
      ],
      "text/plain": [
       "⎛ x⋅y      ⎞\n",
       "⎜─────, 5/6⎟\n",
       "⎝x + y     ⎠"
      ]
     },
     "execution_count": 41,
     "metadata": {},
     "output_type": "execute_result"
    }
   ],
   "source": [
    "f = x * y / (x + y)\n",
    "f, f.limit(x, 5).limit(y, 1)"
   ]
  },
  {
   "cell_type": "code",
   "execution_count": 42,
   "metadata": {},
   "outputs": [
    {
     "data": {
      "image/png": "[encoded data removed]",
      "text/latex": [
       "$\\displaystyle \\left( \\frac{2 x^{2} - x y - y^{2}}{x^{2} - y^{2}}, \\  \\frac{3}{2}\\right)$"
      ],
      "text/plain": [
       "⎛   2          2     ⎞\n",
       "⎜2⋅x  - x⋅y - y      ⎟\n",
       "⎜───────────────, 3/2⎟\n",
       "⎜     2    2         ⎟\n",
       "⎝    x  - y          ⎠"
      ]
     },
     "execution_count": 42,
     "metadata": {},
     "output_type": "execute_result"
    }
   ],
   "source": [
    "f = (2 * x**2 - x * y - y**2) / (x**2 - y**2)\n",
    "f, f.limit(x, 1).limit(y, 1)"
   ]
  },
  {
   "attachments": {},
   "cell_type": "markdown",
   "metadata": {},
   "source": [
    "## Derivatives\n"
   ]
  },
  {
   "cell_type": "code",
   "execution_count": 43,
   "metadata": {},
   "outputs": [
    {
     "data": {
      "image/png": "[encoded data removed]",
      "text/latex": [
       "$\\displaystyle \\left( \\frac{\\left(\\sin{\\left(x \\right)} + 1\\right)^{2}}{\\left(1 - \\cos{\\left(x \\right)}\\right)^{2}}, \\  \\frac{2 \\left(- \\sqrt{2} \\cos{\\left(x + \\frac{\\pi}{4} \\right)} + 1\\right) \\left(\\sin{\\left(x \\right)} + 1\\right)}{\\left(\\cos{\\left(x \\right)} - 1\\right)^{3}}\\right)$"
      ],
      "text/plain": [
       "⎛                 ⎛        ⎛    π⎞    ⎞             ⎞\n",
       "⎜            2  2⋅⎜- √2⋅cos⎜x + ─⎟ + 1⎟⋅(sin(x) + 1)⎟\n",
       "⎜(sin(x) + 1)     ⎝        ⎝    4⎠    ⎠             ⎟\n",
       "⎜─────────────, ────────────────────────────────────⎟\n",
       "⎜            2                         3            ⎟\n",
       "⎝(1 - cos(x))              (cos(x) - 1)             ⎠"
      ]
     },
     "execution_count": 43,
     "metadata": {},
     "output_type": "execute_result"
    }
   ],
   "source": [
    "x = sp.symbols(\"x\")\n",
    "expr = ((1 + sp.sin(x)) / (1 - sp.cos(x))) ** 2\n",
    "expr, expr.diff().simplify()"
   ]
  },
  {
   "cell_type": "code",
   "execution_count": 44,
   "metadata": {},
   "outputs": [
    {
     "data": {
      "image/png": "[encoded data removed]",
      "text/latex": [
       "$\\displaystyle \\left( f{\\left(x \\right)}, \\  g{\\left(x \\right)}\\right)$"
      ],
      "text/plain": [
       "(f(x), g(x))"
      ]
     },
     "execution_count": 44,
     "metadata": {},
     "output_type": "execute_result"
    }
   ],
   "source": [
    "f, g = sp.symbols(\"f, g\", cls=sp.Function)\n",
    "f(x), g(x)"
   ]
  },
  {
   "attachments": {},
   "cell_type": "markdown",
   "metadata": {},
   "source": [
    "## Anti Derivatives"
   ]
  },
  {
   "cell_type": "code",
   "execution_count": 45,
   "metadata": {},
   "outputs": [
    {
     "data": {
      "image/png": "[encoded data removed]",
      "text/latex": [
       "$\\displaystyle - \\frac{1}{\\sin{\\left(x \\right)}}$"
      ],
      "text/plain": [
       " -1   \n",
       "──────\n",
       "sin(x)"
      ]
     },
     "execution_count": 45,
     "metadata": {},
     "output_type": "execute_result"
    }
   ],
   "source": [
    "x = sp.symbols(\"x\")\n",
    "sp.integrate(sp.csc(x) * sp.cot(x))"
   ]
  },
  {
   "cell_type": "code",
   "execution_count": 46,
   "metadata": {},
   "outputs": [
    {
     "data": {
      "image/png": "[encoded data removed]",
      "text/latex": [
       "$\\displaystyle - \\operatorname{asinh}{\\left(\\frac{1}{3} \\right)} + \\operatorname{asinh}{\\left(\\frac{4}{3} \\right)}$"
      ],
      "text/plain": [
       "-asinh(1/3) + asinh(4/3)"
      ]
     },
     "execution_count": 46,
     "metadata": {},
     "output_type": "execute_result"
    }
   ],
   "source": [
    "sp.integrate(sp.exp(x) / sp.sqrt(sp.exp(2 * x) + 9), (x, 0, sp.log(4)))"
   ]
  },
  {
   "cell_type": "code",
   "execution_count": 47,
   "metadata": {},
   "outputs": [
    {
     "data": {
      "image/png": "[encoded data removed]",
      "text/latex": [
       "$\\displaystyle \\left(t^{10} - 10 t^{9} + 90 t^{8} - 720 t^{7} + 5040 t^{6} - 30240 t^{5} + 151200 t^{4} - 604800 t^{3} + 1814400 t^{2} - 3628800 t + 3628800\\right) e^{t} - 1334961 e$"
      ],
      "text/plain": [
       "⎛ 10       9       8        7         6          5           4           3    \n",
       "⎝t   - 10⋅t  + 90⋅t  - 720⋅t  + 5040⋅t  - 30240⋅t  + 151200⋅t  - 604800⋅t  + 1\n",
       "\n",
       "        2                      ⎞  t            \n",
       "814400⋅t  - 3628800⋅t + 3628800⎠⋅ℯ  - 1334961⋅ℯ"
      ]
     },
     "execution_count": 47,
     "metadata": {},
     "output_type": "execute_result"
    }
   ],
   "source": [
    "t = sp.symbols(\"t\")\n",
    "sp.integrate(x**10 * sp.exp(x), (x, 1, t))"
   ]
  },
  {
   "cell_type": "code",
   "execution_count": 48,
   "metadata": {
    "collapsed": true,
    "jupyter": {
     "outputs_hidden": true
    }
   },
   "outputs": [
    {
     "data": {
      "image/png": "[encoded data removed]",
      "text/latex": [
       "$\\displaystyle x \\log{\\left(x \\right)} - x$"
      ],
      "text/plain": [
       "x⋅log(x) - x"
      ]
     },
     "execution_count": 48,
     "metadata": {},
     "output_type": "execute_result"
    }
   ],
   "source": [
    "sp.integrate(sp.log(x), x)"
   ]
  },
  {
   "cell_type": "code",
   "execution_count": 49,
   "metadata": {
    "collapsed": true,
    "jupyter": {
     "outputs_hidden": true
    }
   },
   "outputs": [
    {
     "data": {
      "image/png": "[encoded data removed]",
      "text/latex": [
       "$\\displaystyle \\sqrt{\\pi}$"
      ],
      "text/plain": [
       "√π"
      ]
     },
     "execution_count": 49,
     "metadata": {},
     "output_type": "execute_result"
    }
   ],
   "source": [
    "sp.integrate(sp.exp(-(x**2)), (x, sp.S.NegativeInfinity, sp.S.Infinity))"
   ]
  },
  {
   "attachments": {},
   "cell_type": "markdown",
   "metadata": {},
   "source": [
    "## Series"
   ]
  },
  {
   "cell_type": "code",
   "execution_count": 50,
   "metadata": {
    "collapsed": true,
    "jupyter": {
     "outputs_hidden": true
    }
   },
   "outputs": [
    {
     "data": {
      "image/png": "[encoded data removed]",
      "text/latex": [
       "$\\displaystyle \\left( 1 - \\frac{x^{2}}{2} + \\frac{x^{4}}{24} - \\frac{x^{6}}{720} + \\frac{x^{8}}{40320} + O\\left(x^{10}\\right), \\  \\frac{x^{8}}{40320} - \\frac{x^{6}}{720} + \\frac{x^{4}}{24} - \\frac{x^{2}}{2} + 1\\right)$"
      ],
      "text/plain": [
       "⎛     2    4     6      8               8      6    4    2    ⎞\n",
       "⎜    x    x     x      x      ⎛ 10⎞    x      x    x    x     ⎟\n",
       "⎜1 - ── + ── - ─── + ───── + O⎝x  ⎠, ───── - ─── + ── - ── + 1⎟\n",
       "⎝    2    24   720   40320           40320   720   24   2     ⎠"
      ]
     },
     "execution_count": 50,
     "metadata": {},
     "output_type": "execute_result"
    }
   ],
   "source": [
    "sp.cos(x).series(x, 0, 10), sp.cos(x).series(x, 0, 10).removeO()"
   ]
  },
  {
   "attachments": {},
   "cell_type": "markdown",
   "metadata": {},
   "source": [
    "# Multivariable Calculus"
   ]
  },
  {
   "attachments": {},
   "cell_type": "markdown",
   "metadata": {},
   "source": [
    "## Partial Differentiation"
   ]
  },
  {
   "cell_type": "code",
   "execution_count": 51,
   "metadata": {},
   "outputs": [],
   "source": [
    "(\n",
    "    x,\n",
    "    y,\n",
    "    z,\n",
    ") = sp.symbols(\"x:z\")"
   ]
  },
  {
   "cell_type": "code",
   "execution_count": 52,
   "metadata": {},
   "outputs": [
    {
     "data": {
      "text/latex": [
       "$\\displaystyle \\begin{equation}\\\\\\begin{split}\\\\f(x,y) &= 2 x^{3} y^{2} + y^{3}\\\\f_{x} &= 6 x^{2} y^{2}\\\\f_{y} &= 4 x^{3} y + 3 y^{2}\\\\f_{xx} &= 12 x y^{2}\\\\f_{yy} &= 2 \\cdot \\left(2 x^{3} + 3 y\\right)\\\\f_{xy} &= 12 x^{2} y\\\\f_{yx} &= 12 x^{2} y\\\\\\nonumber\\end{split}\\\\\\end{equation}$"
      ],
      "text/plain": [
       "<IPython.core.display.Math object>"
      ]
     },
     "metadata": {},
     "output_type": "display_data"
    }
   ],
   "source": [
    "f = 2 * x**3 * y**2 + y**3\n",
    "fx = sp.diff(f, x)\n",
    "fy = sp.diff(f, y)\n",
    "fxx = sp.diff(f, x, x)\n",
    "fyy = sp.diff(f, y, y)\n",
    "fxy = sp.diff(f, x, y)\n",
    "fyx = sp.diff(f, y, x)\n",
    "\n",
    "print_aligned_latex_equations(\n",
    "    rf\"f(x,y) &= {spv.vlatex(f)}\",\n",
    "    rf\"f_{{x}} &= {spv.vlatex(fx)}\",\n",
    "    rf\"f_{{y}} &= {spv.vlatex(fy)}\",\n",
    "    rf\"f_{{xx}} &= {spv.vlatex(fxx)}\",\n",
    "    rf\"f_{{yy}} &= {spv.vlatex(fyy)}\",\n",
    "    rf\"f_{{xy}} &= {spv.vlatex(fxy)}\",\n",
    "    rf\"f_{{yx}} &= {spv.vlatex(fyx)}\",\n",
    ")"
   ]
  },
  {
   "attachments": {},
   "cell_type": "markdown",
   "metadata": {},
   "source": [
    "# Vectors and Geometry"
   ]
  },
  {
   "attachments": {},
   "cell_type": "markdown",
   "metadata": {},
   "source": [
    "### Differentiation"
   ]
  },
  {
   "cell_type": "code",
   "execution_count": 53,
   "metadata": {},
   "outputs": [
    {
     "data": {
      "text/latex": [
       "$\\displaystyle \\left[\\begin{matrix}3\\\\\\cos{\\left(t \\right)}\\\\2 t\\end{matrix}\\right]$"
      ],
      "text/plain": [
       "⎡  3   ⎤\n",
       "⎢      ⎥\n",
       "⎢cos(t)⎥\n",
       "⎢      ⎥\n",
       "⎣ 2⋅t  ⎦"
      ]
     },
     "execution_count": 53,
     "metadata": {},
     "output_type": "execute_result"
    }
   ],
   "source": [
    "r = sp.Matrix([3 * t, sp.sin(t), t**2])\n",
    "r.diff(t)"
   ]
  },
  {
   "attachments": {},
   "cell_type": "markdown",
   "metadata": {},
   "source": [
    "### Integration"
   ]
  },
  {
   "cell_type": "code",
   "execution_count": 54,
   "metadata": {},
   "outputs": [
    {
     "data": {
      "text/latex": [
       "$\\displaystyle \\left[\\begin{matrix}\\frac{e^{t} \\sin{\\left(t \\right)}}{2} + \\frac{e^{t} \\cos{\\left(t \\right)}}{2}\\\\\\frac{t^{5}}{5}\\\\\\operatorname{atan}{\\left(t \\right)}\\end{matrix}\\right]$"
      ],
      "text/plain": [
       "⎡ t           t       ⎤\n",
       "⎢ℯ ⋅sin(t)   ℯ ⋅cos(t)⎥\n",
       "⎢───────── + ─────────⎥\n",
       "⎢    2           2    ⎥\n",
       "⎢                     ⎥\n",
       "⎢          5          ⎥\n",
       "⎢         t           ⎥\n",
       "⎢         ──          ⎥\n",
       "⎢         5           ⎥\n",
       "⎢                     ⎥\n",
       "⎣       atan(t)       ⎦"
      ]
     },
     "execution_count": 54,
     "metadata": {},
     "output_type": "execute_result"
    }
   ],
   "source": [
    "r = sp.Matrix([sp.exp(t) * sp.cos(t), t**4, 1 / (1 + t**2)])\n",
    "r.integrate(t)"
   ]
  },
  {
   "cell_type": "markdown",
   "metadata": {},
   "source": [
    "# Pattern Matching\n",
    "* [match][] in [Basic][]\n",
    "* [Wild][]\n",
    "* [WildFunction][]\n",
    "\n",
    "[Basic]: http://docs.sympy.org/latest/modules/core.html?highlight=match#id15\n",
    "\n",
    "[Wild]: http://docs.sympy.org/latest/modules/core.html?highlight=match#sympy.core.symbol.Wild\n",
    "\n",
    "[WildFunction]: http://docs.sympy.org/latest/modules/core.html?highlight=match#sympy.core.function.WildFunction\n",
    "\n",
    "[match]: http://docs.sympy.org/latest/modules/core.html?highlight=match#sympy.core.basic.Basic.match "
   ]
  },
  {
   "cell_type": "code",
   "execution_count": 55,
   "metadata": {
    "collapsed": true,
    "jupyter": {
     "outputs_hidden": true
    }
   },
   "outputs": [
    {
     "data": {
      "image/png": "[encoded data removed]",
      "text/latex": [
       "$\\displaystyle \\left( \\left\\{ p : 5, \\  q : 3\\right\\}, \\  \\left\\{ p : 1, \\  q : 2\\right\\}\\right)$"
      ],
      "text/plain": [
       "({p: 5, q: 3}, {p: 1, q: 2})"
      ]
     },
     "execution_count": 55,
     "metadata": {},
     "output_type": "execute_result"
    }
   ],
   "source": [
    "p = sp.Wild(\"p\", exclude=[x])\n",
    "q = sp.Wild(\"q\", exclude=[x])\n",
    "(5 * x**2 + 3 * x).match(p * x**2 + q * x), (x**2).match(p * x**q)"
   ]
  },
  {
   "cell_type": "code",
   "execution_count": 56,
   "metadata": {
    "collapsed": true,
    "jupyter": {
     "outputs_hidden": true
    }
   },
   "outputs": [
    {
     "data": {
      "image/png": "[encoded data removed]",
      "text/latex": [
       "$\\displaystyle \\left( \\left\\{ p : 5, \\  \\operatorname{WildFunction}{\\left(f \\right)} : \\cos{\\left(x \\right)}\\right\\}, \\  \\left\\{ \\operatorname{WildFunction}{\\left(f \\right)} : \\cos{\\left(3 x \\right)}\\right\\}\\right)$"
      ],
      "text/plain": [
       "({p: 5, WildFunction(f): cos(x)}, {WildFunction(f): cos(3⋅x)})"
      ]
     },
     "execution_count": 56,
     "metadata": {},
     "output_type": "execute_result"
    }
   ],
   "source": [
    "f = sp.WildFunction(\"f\", nargs=1)\n",
    "(5 * sp.cos(x)).match(p * f), (sp.cos(3 * x)).match(f)"
   ]
  },
  {
   "cell_type": "markdown",
   "metadata": {},
   "source": [
    "# Calculus\n",
    "* [Calculus][2]\n",
    "* [Integrals][1]\n",
    "* [Solving differential equations][3]\n",
    "* [classify ODE][4]\n",
    "\n",
    "[4]: http://docs.sympy.org/latest/modules/solvers/ode.html?highlight=dsolve#classify-ode\n",
    "[3]: http://docs.sympy.org/latest/tutorial/solvers.html#solving-differential-equations\n",
    "[2]: http://docs.sympy.org/latest/tutorial/calculus.html?highlight=dsolve#calculus\n",
    "[1]: http://docs.sympy.org/latest/modules/integrals/integrals.html?highlight=sympy.integrals#module-sympy.integrals"
   ]
  },
  {
   "cell_type": "markdown",
   "metadata": {},
   "source": [
    "# Series and Summations"
   ]
  },
  {
   "cell_type": "markdown",
   "metadata": {},
   "source": [
    "Some examples of series and summations may be found in mathematical problems for physics.\n",
    "  * [Summation][1]\n",
    "  * [Series][2]\n",
    "\n",
    "[1]: ../../Physics/Physics-Problems-To-Solve/physics-mechanics/physics-mechanics-SMR-P001-binomial-expansion-Summation.ipynb\n",
    "[2]: ../../Physics/Physics-Problems-To-Solve/physics-mechanics/physics-mechanics-SMR-P001-binomial-expansion-Series.ipynb"
   ]
  },
  {
   "cell_type": "markdown",
   "metadata": {},
   "source": [
    "# Matrices\n",
    "1 [Matrices][]\n",
    "\n",
    "[Matrices]: http://docs.sympy.org/latest/modules/matrices/matrices.html#module-sympy.matrices.matrices"
   ]
  },
  {
   "attachments": {},
   "cell_type": "markdown",
   "metadata": {},
   "source": [
    "## Selection"
   ]
  },
  {
   "cell_type": "code",
   "execution_count": 57,
   "metadata": {},
   "outputs": [
    {
     "data": {
      "text/latex": [
       "$\\displaystyle \\left( \\left[\\begin{matrix}a & b & c\\\\d & e & f\\\\g & h & i\\end{matrix}\\right], \\  \\left( 3, \\  3\\right), \\  \\left[\\begin{matrix}d & e & f\\end{matrix}\\right]\\right)$"
      ],
      "text/plain": [
       "⎛⎡a  b  c⎤                   ⎞\n",
       "⎜⎢       ⎥                   ⎟\n",
       "⎜⎢d  e  f⎥, (3, 3), [d  e  f]⎟\n",
       "⎜⎢       ⎥                   ⎟\n",
       "⎝⎣g  h  i⎦                   ⎠"
      ]
     },
     "execution_count": 57,
     "metadata": {},
     "output_type": "execute_result"
    }
   ],
   "source": [
    "A = sp.Matrix(3, 3, sp.symbols(\"a:i\", real=True))\n",
    "A, A.shape, A.row(1)"
   ]
  },
  {
   "cell_type": "code",
   "execution_count": 58,
   "metadata": {},
   "outputs": [
    {
     "data": {
      "text/latex": [
       "$\\displaystyle \\left[\\begin{matrix}a & b & c\\\\g & h & i\\end{matrix}\\right]$"
      ],
      "text/plain": [
       "⎡a  b  c⎤\n",
       "⎢       ⎥\n",
       "⎣g  h  i⎦"
      ]
     },
     "execution_count": 58,
     "metadata": {},
     "output_type": "execute_result"
    }
   ],
   "source": [
    "A.row_del(1)\n",
    "A"
   ]
  },
  {
   "cell_type": "code",
   "execution_count": 59,
   "metadata": {},
   "outputs": [],
   "source": [
    "A = sp.Matrix(3, 3, sp.symbols(\"a:i\", real=True))"
   ]
  },
  {
   "cell_type": "code",
   "execution_count": 60,
   "metadata": {},
   "outputs": [
    {
     "data": {
      "text/latex": [
       "$\\displaystyle \\left( \\left[\\begin{matrix}a & b & c\\end{matrix}\\right], \\  \\left[\\begin{matrix}d & e & f\\end{matrix}\\right]\\right)$"
      ],
      "text/plain": [
       "([a  b  c], [d  e  f])"
      ]
     },
     "execution_count": 60,
     "metadata": {},
     "output_type": "execute_result"
    }
   ],
   "source": [
    "A[0, :], A[1, :]"
   ]
  },
  {
   "cell_type": "code",
   "execution_count": 61,
   "metadata": {},
   "outputs": [
    {
     "data": {
      "text/latex": [
       "$\\displaystyle \\left( \\left[\\begin{matrix}a_{11} & a_{12} & a_{13}\\\\a_{21} & a_{22} & a_{23}\\\\a_{31} & a_{32} & a_{33}\\end{matrix}\\right], \\  \\left[\\begin{matrix}b_{11} & b_{12} & b_{13}\\\\b_{21} & b_{22} & b_{23}\\\\b_{31} & b_{32} & b_{33}\\end{matrix}\\right]\\right)$"
      ],
      "text/plain": [
       "⎛⎡a₁₁  a₁₂  a₁₃⎤  ⎡b₁₁  b₁₂  b₁₃⎤⎞\n",
       "⎜⎢             ⎥  ⎢             ⎥⎟\n",
       "⎜⎢a₂₁  a₂₂  a₂₃⎥, ⎢b₂₁  b₂₂  b₂₃⎥⎟\n",
       "⎜⎢             ⎥  ⎢             ⎥⎟\n",
       "⎝⎣a₃₁  a₃₂  a₃₃⎦  ⎣b₃₁  b₃₂  b₃₃⎦⎠"
      ]
     },
     "execution_count": 61,
     "metadata": {},
     "output_type": "execute_result"
    }
   ],
   "source": [
    "n = 3\n",
    "a = sp.symbols(f\"a_1:{n+1}(1:{n+1})\", real=True)\n",
    "b = sp.symbols(f\"b_1:{n+1}(1:{n+1})\", real=True)\n",
    "A, B = sp.Matrix(n, n, a), sp.Matrix(n, n, b)\n",
    "A, B"
   ]
  },
  {
   "cell_type": "code",
   "execution_count": 62,
   "metadata": {
    "collapsed": true,
    "jupyter": {
     "outputs_hidden": true
    }
   },
   "outputs": [
    {
     "data": {
      "text/latex": [
       "$\\displaystyle \\left( \\left[\\begin{matrix}1 & 0 & 0\\\\0 & 1 & 0\\\\0 & 0 & 1\\end{matrix}\\right], \\  \\left[\\begin{matrix}0 & 0 & 0\\end{matrix}\\right], \\  \\left[\\begin{matrix}1 & 1\\\\1 & 1\\end{matrix}\\right]\\right)$"
      ],
      "text/plain": [
       "⎛⎡1  0  0⎤                   ⎞\n",
       "⎜⎢       ⎥             ⎡1  1⎤⎟\n",
       "⎜⎢0  1  0⎥, [0  0  0], ⎢    ⎥⎟\n",
       "⎜⎢       ⎥             ⎣1  1⎦⎟\n",
       "⎝⎣0  0  1⎦                   ⎠"
      ]
     },
     "execution_count": 62,
     "metadata": {},
     "output_type": "execute_result"
    }
   ],
   "source": [
    "sp.eye(3), sp.zeros(1, 3), sp.ones(2)"
   ]
  },
  {
   "cell_type": "code",
   "execution_count": 63,
   "metadata": {
    "collapsed": true,
    "jupyter": {
     "outputs_hidden": true
    }
   },
   "outputs": [
    {
     "data": {
      "text/latex": [
       "$\\displaystyle \\left[\\begin{matrix}0 & 1 & 0\\\\0 & 0 & 1\\end{matrix}\\right]$"
      ],
      "text/plain": [
       "⎡0  1  0⎤\n",
       "⎢       ⎥\n",
       "⎣0  0  1⎦"
      ]
     },
     "execution_count": 63,
     "metadata": {},
     "output_type": "execute_result"
    }
   ],
   "source": [
    "M = sp.eye(3)\n",
    "M.row_del(0)\n",
    "M"
   ]
  },
  {
   "cell_type": "code",
   "execution_count": 64,
   "metadata": {},
   "outputs": [
    {
     "data": {
      "text/latex": [
       "$\\displaystyle \\left( \\left[\\begin{matrix}1 & 0 & 0\\\\2 & 1 & 0\\\\0 & 0 & 1\\end{matrix}\\right], \\  \\left[\\begin{matrix}a_{11} & a_{12} & a_{13}\\\\a_{21} & a_{22} & a_{23}\\\\a_{31} & a_{32} & a_{33}\\end{matrix}\\right], \\  \\left[\\begin{matrix}a_{11} & a_{12} & a_{13}\\\\2 a_{11} + a_{21} & 2 a_{12} + a_{22} & 2 a_{13} + a_{23}\\\\a_{31} & a_{32} & a_{33}\\end{matrix}\\right]\\right)$"
      ],
      "text/plain": [
       "⎛⎡1  0  0⎤  ⎡a₁₁  a₁₂  a₁₃⎤  ⎡    a₁₁          a₁₂          a₁₃    ⎤⎞\n",
       "⎜⎢       ⎥  ⎢             ⎥  ⎢                                     ⎥⎟\n",
       "⎜⎢2  1  0⎥, ⎢a₂₁  a₂₂  a₂₃⎥, ⎢2⋅a₁₁ + a₂₁  2⋅a₁₂ + a₂₂  2⋅a₁₃ + a₂₃⎥⎟\n",
       "⎜⎢       ⎥  ⎢             ⎥  ⎢                                     ⎥⎟\n",
       "⎝⎣0  0  1⎦  ⎣a₃₁  a₃₂  a₃₃⎦  ⎣    a₃₁          a₃₂          a₃₃    ⎦⎠"
      ]
     },
     "execution_count": 64,
     "metadata": {},
     "output_type": "execute_result"
    }
   ],
   "source": [
    "M1 = sp.eye(n, n)\n",
    "M1[1, 0] = 2\n",
    "M1, A, M1 * A"
   ]
  },
  {
   "cell_type": "code",
   "execution_count": 65,
   "metadata": {
    "collapsed": true,
    "jupyter": {
     "outputs_hidden": true
    }
   },
   "outputs": [
    {
     "data": {
      "text/latex": [
       "$\\displaystyle \\left( \\left[\\begin{matrix}0 & 0 & 0 & 0 & 0 & 0 & 0 & 0 & 0\\end{matrix}\\right], \\  \\left[\\begin{matrix}0 & 0 & 0 & 0\\end{matrix}\\right]\\right)$"
      ],
      "text/plain": [
       "([0  0  0  0  0  0  0  0  0], [0  0  0  0])"
      ]
     },
     "execution_count": 65,
     "metadata": {},
     "output_type": "execute_result"
    }
   ],
   "source": [
    "M, N = sp.zeros(1, 4), sp.zeros(1, 5)\n",
    "M.row_join(N), M"
   ]
  },
  {
   "cell_type": "code",
   "execution_count": 66,
   "metadata": {
    "collapsed": true,
    "jupyter": {
     "outputs_hidden": true
    }
   },
   "outputs": [
    {
     "data": {
      "image/png": "[encoded data removed]",
      "text/latex": [
       "$\\displaystyle 4$"
      ],
      "text/plain": [
       "4"
      ]
     },
     "execution_count": 66,
     "metadata": {},
     "output_type": "execute_result"
    }
   ],
   "source": [
    "M.cols"
   ]
  },
  {
   "cell_type": "markdown",
   "metadata": {},
   "source": [
    "## Reshape"
   ]
  },
  {
   "cell_type": "code",
   "execution_count": 67,
   "metadata": {},
   "outputs": [
    {
     "data": {
      "text/latex": [
       "$\\displaystyle \\left[\\begin{matrix}-1 & 2\\\\4 & -8\\end{matrix}\\right]$"
      ],
      "text/plain": [
       "⎡-1  2 ⎤\n",
       "⎢      ⎥\n",
       "⎣4   -8⎦"
      ]
     },
     "execution_count": 67,
     "metadata": {},
     "output_type": "execute_result"
    }
   ],
   "source": [
    "A = sp.Matrix(2, 2, [-1, 2, 4, -8])\n",
    "A"
   ]
  },
  {
   "cell_type": "code",
   "execution_count": 68,
   "metadata": {},
   "outputs": [
    {
     "data": {
      "text/latex": [
       "$\\displaystyle \\left[\\begin{matrix}b_{0} & b_{1}\\\\b_{2} & b_{3}\\end{matrix}\\right]$"
      ],
      "text/plain": [
       "⎡b₀  b₁⎤\n",
       "⎢      ⎥\n",
       "⎣b₂  b₃⎦"
      ]
     },
     "execution_count": 68,
     "metadata": {},
     "output_type": "execute_result"
    }
   ],
   "source": [
    "b = sp.symbols(\"b_0:4\", real=True)\n",
    "B = sp.Matrix(2, 2, b)\n",
    "B"
   ]
  },
  {
   "attachments": {},
   "cell_type": "markdown",
   "metadata": {},
   "source": [
    "## Diagonal"
   ]
  },
  {
   "cell_type": "code",
   "execution_count": 69,
   "metadata": {},
   "outputs": [
    {
     "data": {
      "text/latex": [
       "$\\displaystyle \\left( \\left[\\begin{matrix}a_{0} & 0\\\\0 & a_{1}\\end{matrix}\\right], \\  \\left[\\begin{matrix}b_{0} & 0\\\\0 & b_{1}\\end{matrix}\\right], \\  \\left[\\begin{matrix}a_{0} b_{0} & 0\\\\0 & a_{1} b_{1}\\end{matrix}\\right]\\right)$"
      ],
      "text/plain": [
       "⎛⎡a₀  0 ⎤  ⎡b₀  0 ⎤  ⎡a₀⋅b₀    0  ⎤⎞\n",
       "⎜⎢      ⎥, ⎢      ⎥, ⎢            ⎥⎟\n",
       "⎝⎣0   a₁⎦  ⎣0   b₁⎦  ⎣  0    a₁⋅b₁⎦⎠"
      ]
     },
     "execution_count": 69,
     "metadata": {},
     "output_type": "execute_result"
    }
   ],
   "source": [
    "a = sp.symbols(\"a_0:2\", real=True)\n",
    "b = sp.symbols(\"b_0:2\", real=True)\n",
    "A, B = sp.diag(*a), sp.diag(*b)\n",
    "A, B, A * B"
   ]
  },
  {
   "attachments": {},
   "cell_type": "markdown",
   "metadata": {},
   "source": [
    "## Transpose"
   ]
  },
  {
   "cell_type": "code",
   "execution_count": 70,
   "metadata": {},
   "outputs": [
    {
     "data": {
      "text/latex": [
       "$\\displaystyle \\left( \\left[\\begin{matrix}6 & 2 & 7 & 3\\\\2 & 7 & 6 & 6\\\\9 & 3 & 8 & 3\\\\5 & 5 & 2 & 1\\\\2 & 6 & 6 & 9\\end{matrix}\\right], \\  \\left[\\begin{matrix}6 & 2 & 9 & 5 & 2\\\\2 & 7 & 3 & 5 & 6\\\\7 & 6 & 8 & 2 & 6\\\\3 & 6 & 3 & 1 & 9\\end{matrix}\\right]\\right)$"
      ],
      "text/plain": [
       "⎛⎡6  2  7  3⎤                 ⎞\n",
       "⎜⎢          ⎥  ⎡6  2  9  5  2⎤⎟\n",
       "⎜⎢2  7  6  6⎥  ⎢             ⎥⎟\n",
       "⎜⎢          ⎥  ⎢2  7  3  5  6⎥⎟\n",
       "⎜⎢9  3  8  3⎥, ⎢             ⎥⎟\n",
       "⎜⎢          ⎥  ⎢7  6  8  2  6⎥⎟\n",
       "⎜⎢5  5  2  1⎥  ⎢             ⎥⎟\n",
       "⎜⎢          ⎥  ⎣3  6  3  1  9⎦⎟\n",
       "⎝⎣2  6  6  9⎦                 ⎠"
      ]
     },
     "execution_count": 70,
     "metadata": {},
     "output_type": "execute_result"
    }
   ],
   "source": [
    "rng = np.random.default_rng(12345)\n",
    "A = sp.Matrix(rng.integers(low=0, high=10, size=(5, 4)))\n",
    "A, A.T"
   ]
  },
  {
   "attachments": {},
   "cell_type": "markdown",
   "metadata": {},
   "source": [
    "## Random Matrix"
   ]
  },
  {
   "cell_type": "code",
   "execution_count": 71,
   "metadata": {},
   "outputs": [
    {
     "data": {
      "text/latex": [
       "$\\displaystyle \\left( \\left[\\begin{matrix}6 & 2 & 7 & 3\\\\2 & 7 & 6 & 6\\\\9 & 3 & 8 & 3\\\\5 & 5 & 2 & 1\\\\2 & 6 & 6 & 9\\end{matrix}\\right], \\  \\left[\\begin{matrix}6 & 2 & 9 & 5 & 2\\\\2 & 7 & 3 & 5 & 6\\\\7 & 6 & 8 & 2 & 6\\\\3 & 6 & 3 & 1 & 9\\end{matrix}\\right]\\right)$"
      ],
      "text/plain": [
       "⎛⎡6  2  7  3⎤                 ⎞\n",
       "⎜⎢          ⎥  ⎡6  2  9  5  2⎤⎟\n",
       "⎜⎢2  7  6  6⎥  ⎢             ⎥⎟\n",
       "⎜⎢          ⎥  ⎢2  7  3  5  6⎥⎟\n",
       "⎜⎢9  3  8  3⎥, ⎢             ⎥⎟\n",
       "⎜⎢          ⎥  ⎢7  6  8  2  6⎥⎟\n",
       "⎜⎢5  5  2  1⎥  ⎢             ⎥⎟\n",
       "⎜⎢          ⎥  ⎣3  6  3  1  9⎦⎟\n",
       "⎝⎣2  6  6  9⎦                 ⎠"
      ]
     },
     "execution_count": 71,
     "metadata": {},
     "output_type": "execute_result"
    }
   ],
   "source": [
    "rng = np.random.default_rng(12345)\n",
    "A = sp.Matrix(rng.integers(low=0, high=10, size=(5, 4)))\n",
    "A, A.T"
   ]
  },
  {
   "attachments": {},
   "cell_type": "markdown",
   "metadata": {},
   "source": [
    "## Reduced Row Echelon Form"
   ]
  },
  {
   "cell_type": "code",
   "execution_count": 72,
   "metadata": {},
   "outputs": [
    {
     "data": {
      "text/latex": [
       "$\\displaystyle \\left( \\left[\\begin{matrix}1 & 2 & 3 & 4\\\\4 & 5 & 6 & 7\\\\6 & 7 & 8 & 9\\end{matrix}\\right], \\  \\left( \\left[\\begin{matrix}1 & 0 & -1 & -2\\\\0 & 1 & 2 & 3\\\\0 & 0 & 0 & 0\\end{matrix}\\right], \\  \\left( 0, \\  1\\right)\\right)\\right)$"
      ],
      "text/plain": [
       "⎛⎡1  2  3  4⎤  ⎛⎡1  0  -1  -2⎤        ⎞⎞\n",
       "⎜⎢          ⎥  ⎜⎢            ⎥        ⎟⎟\n",
       "⎜⎢4  5  6  7⎥, ⎜⎢0  1  2   3 ⎥, (0, 1)⎟⎟\n",
       "⎜⎢          ⎥  ⎜⎢            ⎥        ⎟⎟\n",
       "⎝⎣6  7  8  9⎦  ⎝⎣0  0  0   0 ⎦        ⎠⎠"
      ]
     },
     "execution_count": 72,
     "metadata": {},
     "output_type": "execute_result"
    }
   ],
   "source": [
    "A = sp.Matrix(3, 4, [1, 2, 3, 4, 4, 5, 6, 7, 6, 7, 8, 9])\n",
    "A, A.rref()"
   ]
  },
  {
   "cell_type": "markdown",
   "metadata": {},
   "source": [
    "## LU Decomposition"
   ]
  },
  {
   "cell_type": "code",
   "execution_count": 73,
   "metadata": {},
   "outputs": [
    {
     "data": {
      "text/latex": [
       "$\\displaystyle \\left( \\left[\\begin{matrix}-3 & 2 & -1\\\\6 & -6 & 7\\\\3 & -4 & 4\\end{matrix}\\right], \\  \\left( \\left[\\begin{matrix}1 & 0 & 0\\\\-2 & 1 & 0\\\\-1 & 1 & 1\\end{matrix}\\right], \\  \\left[\\begin{matrix}-3 & 2 & -1\\\\0 & -2 & 5\\\\0 & 0 & -2\\end{matrix}\\right], \\  \\left[ \\right]\\right), \\  \\left[\\begin{matrix}-3 & 2 & -1\\\\6 & -6 & 7\\\\3 & -4 & 4\\end{matrix}\\right]\\right)$"
      ],
      "text/plain": [
       "⎛⎡-3  2   -1⎤  ⎛⎡1   0  0⎤  ⎡-3  2   -1⎤    ⎞  ⎡-3  2   -1⎤⎞\n",
       "⎜⎢          ⎥  ⎜⎢        ⎥  ⎢          ⎥    ⎟  ⎢          ⎥⎟\n",
       "⎜⎢6   -6  7 ⎥, ⎜⎢-2  1  0⎥, ⎢0   -2  5 ⎥, []⎟, ⎢6   -6  7 ⎥⎟\n",
       "⎜⎢          ⎥  ⎜⎢        ⎥  ⎢          ⎥    ⎟  ⎢          ⎥⎟\n",
       "⎝⎣3   -4  4 ⎦  ⎝⎣-1  1  1⎦  ⎣0   0   -2⎦    ⎠  ⎣3   -4  4 ⎦⎠"
      ]
     },
     "execution_count": 73,
     "metadata": {},
     "output_type": "execute_result"
    }
   ],
   "source": [
    "A = sp.Matrix(3, 3, [-3, 2, -1, 6, -6, 7, 3, -4, 4])\n",
    "R = A.LUdecomposition()\n",
    "A, R, R[0] * R[1]"
   ]
  },
  {
   "attachments": {},
   "cell_type": "markdown",
   "metadata": {},
   "source": [
    "## Gram Schmidt"
   ]
  },
  {
   "cell_type": "code",
   "execution_count": 74,
   "metadata": {},
   "outputs": [
    {
     "data": {
      "text/latex": [
       "$\\displaystyle \\left( \\left[\\begin{matrix}1\\\\1\\\\1\\end{matrix}\\right], \\  \\left[\\begin{matrix}0\\\\1\\\\1\\end{matrix}\\right], \\  \\left[ \\left[\\begin{matrix}\\frac{\\sqrt{3}}{3}\\\\\\frac{\\sqrt{3}}{3}\\\\\\frac{\\sqrt{3}}{3}\\end{matrix}\\right], \\  \\left[\\begin{matrix}- \\frac{\\sqrt{6}}{3}\\\\\\frac{\\sqrt{6}}{6}\\\\\\frac{\\sqrt{6}}{6}\\end{matrix}\\right]\\right]\\right)$"
      ],
      "text/plain": [
       "⎛          ⎡⎡√3⎤  ⎡-√6 ⎤⎤⎞\n",
       "⎜          ⎢⎢──⎥  ⎢────⎥⎥⎟\n",
       "⎜          ⎢⎢3 ⎥  ⎢ 3  ⎥⎥⎟\n",
       "⎜⎡1⎤  ⎡0⎤  ⎢⎢  ⎥  ⎢    ⎥⎥⎟\n",
       "⎜⎢ ⎥  ⎢ ⎥  ⎢⎢√3⎥  ⎢ √6 ⎥⎥⎟\n",
       "⎜⎢1⎥, ⎢1⎥, ⎢⎢──⎥, ⎢ ── ⎥⎥⎟\n",
       "⎜⎢ ⎥  ⎢ ⎥  ⎢⎢3 ⎥  ⎢ 6  ⎥⎥⎟\n",
       "⎜⎣1⎦  ⎣1⎦  ⎢⎢  ⎥  ⎢    ⎥⎥⎟\n",
       "⎜          ⎢⎢√3⎥  ⎢ √6 ⎥⎥⎟\n",
       "⎜          ⎢⎢──⎥  ⎢ ── ⎥⎥⎟\n",
       "⎝          ⎣⎣3 ⎦  ⎣ 6  ⎦⎦⎠"
      ]
     },
     "execution_count": 74,
     "metadata": {},
     "output_type": "execute_result"
    }
   ],
   "source": [
    "v1, v2 = sp.Matrix(3, 1, [1, 1, 1]), sp.Matrix(3, 1, [0, 1, 1])\n",
    "v1, v2, sp.matrices.GramSchmidt([v1, v2], orthonormal=True)"
   ]
  },
  {
   "cell_type": "markdown",
   "metadata": {},
   "source": [
    "# Plotting"
   ]
  },
  {
   "cell_type": "code",
   "execution_count": 75,
   "metadata": {},
   "outputs": [
    {
     "name": "stdout",
     "output_type": "stream",
     "text": [
      "Solarize_Light2      grayscale                  seaborn-v0_8-paper    \n",
      "_classic_test_patch  seaborn-v0_8               seaborn-v0_8-pastel   \n",
      "_mpl-gallery         seaborn-v0_8-bright        seaborn-v0_8-poster   \n",
      "_mpl-gallery-nogrid  seaborn-v0_8-colorblind    seaborn-v0_8-talk     \n",
      "bmh                  seaborn-v0_8-dark          seaborn-v0_8-ticks    \n",
      "classic              seaborn-v0_8-dark-palette  seaborn-v0_8-white    \n",
      "dark_background      seaborn-v0_8-darkgrid      seaborn-v0_8-whitegrid\n",
      "fast                 seaborn-v0_8-deep          tableau-colorblind10  \n",
      "fivethirtyeight      seaborn-v0_8-muted       \n",
      "ggplot               seaborn-v0_8-notebook    \n",
      "\n"
     ]
    }
   ],
   "source": [
    "print(IPython.utils.text.columnize(plt.style.available))"
   ]
  },
  {
   "cell_type": "code",
   "execution_count": 76,
   "metadata": {},
   "outputs": [],
   "source": [
    "plt.style.use(\"fivethirtyeight\")\n",
    "plt.style.use(\"seaborn-v0_8\")"
   ]
  },
  {
   "attachments": {},
   "cell_type": "markdown",
   "metadata": {},
   "source": [
    "## Plot 2D"
   ]
  },
  {
   "cell_type": "markdown",
   "metadata": {},
   "source": [
    "### Plot and Plot List"
   ]
  },
  {
   "cell_type": "code",
   "execution_count": 77,
   "metadata": {},
   "outputs": [
    {
     "data": {
      "image/png": "[encoded data removed]",
      "text/plain": [
       "<Figure size 800x550 with 1 Axes>"
      ]
     },
     "metadata": {},
     "output_type": "display_data"
    }
   ],
   "source": [
    "x = sp.symbols(\"x\")\n",
    "backend = spb.MB\n",
    "\n",
    "f = x**2 - 4 * x + 5\n",
    "P, Q = (0, 5), (2, 1)\n",
    "\n",
    "p1 = spb.plot(\n",
    "    f,\n",
    "    (x, -5, +5),\n",
    "    ylim=(-10, 20),\n",
    "    xlim=(-2, 4),\n",
    "    title=rf\"${sp.latex(f)}$\",\n",
    "    show=False,\n",
    "    backend=backend,\n",
    ")\n",
    "\n",
    "p2 = spb.plot_parametric(\n",
    "    0, x, (x, -5, 15), \"$x=0$\", show=False, use_cm=False, backend=backend\n",
    ")\n",
    "\n",
    "p3 = spb.plot_list(\n",
    "    ([P[0]], [P[1]], rf\"$P={sp.latex(P)}$\"),\n",
    "    ([Q[0]], [Q[1]], rf\"$Q={sp.latex(Q)}$\"),\n",
    "    show=False,\n",
    "    use_cm=False,\n",
    "    is_point=True,\n",
    "    backend=backend,\n",
    ")\n",
    "\n",
    "(p1 + p2 + p3).show()"
   ]
  },
  {
   "cell_type": "markdown",
   "metadata": {},
   "source": [
    "### Plot straight line y-axis"
   ]
  },
  {
   "cell_type": "code",
   "execution_count": 78,
   "metadata": {},
   "outputs": [
    {
     "data": {
      "image/png": "[encoded data removed]",
      "text/plain": [
       "<Figure size 800x550 with 1 Axes>"
      ]
     },
     "metadata": {},
     "output_type": "display_data"
    }
   ],
   "source": [
    "x = sp.symbols(\"x\", real=True)\n",
    "a = splt.plot(1, (x, 0, 2), show=False)\n",
    "a.title = \"Shear along beam\"\n",
    "a.legend = True\n",
    "a[0].label = \"Shear section AB\"\n",
    "a[0].line_color = \"red\"\n",
    "a.xlabel = \"length\"\n",
    "a.ylabel = \"shear\"\n",
    "a.show()"
   ]
  },
  {
   "cell_type": "code",
   "execution_count": 79,
   "metadata": {},
   "outputs": [
    {
     "data": {
      "image/png": "[encoded data removed]",
      "text/latex": [
       "$\\displaystyle - \\frac{2000 x^{2}}{3} + \\frac{16000 x}{3} + \\frac{1000}{3}$"
      ],
      "text/plain": [
       "        2                 \n",
       "  2000⋅x    16000⋅x   1000\n",
       "- ─────── + ─────── + ────\n",
       "     3         3       3  "
      ]
     },
     "execution_count": 79,
     "metadata": {},
     "output_type": "execute_result"
    }
   ],
   "source": [
    "W0, M0, w0, w1 = 10000, 10000, 4000, 4000\n",
    "ell = [2, 2, 3, 3, 4]\n",
    "exprACx = (1000 + 16000 * x - 2000 * x * x) / 3\n",
    "exprACx"
   ]
  },
  {
   "cell_type": "code",
   "execution_count": 80,
   "metadata": {},
   "outputs": [
    {
     "data": {
      "image/png": "[encoded data removed]",
      "text/plain": [
       "<Figure size 800x550 with 1 Axes>"
      ]
     },
     "metadata": {},
     "output_type": "display_data"
    }
   ],
   "source": [
    "x = sp.symbols(\"x\", real=True)\n",
    "y = sp.symbols(\"y\", real=True)\n",
    "\n",
    "a = splt.plot(-W0, (x, 0, sum(ell[:2])), show=False)\n",
    "b = splt.plot(exprACx, (x, sum(ell[:2]), sum(ell[:3])), show=False)\n",
    "a.append(b[0])\n",
    "# a.append(c[0])\n",
    "a.title = \"Shear along beam\"\n",
    "a.legend = True\n",
    "a[0].label = \"Shear section AB\"\n",
    "a[1].label = \"Shear section CD\"\n",
    "a.xlabel = \"length\"\n",
    "a.ylabel = \"shear\"\n",
    "a.show()"
   ]
  },
  {
   "cell_type": "markdown",
   "metadata": {},
   "source": [
    "### Plot straight line x-axis"
   ]
  },
  {
   "cell_type": "code",
   "execution_count": 81,
   "metadata": {},
   "outputs": [
    {
     "data": {
      "image/png": "[encoded data removed]",
      "text/plain": [
       "<Figure size 800x550 with 1 Axes>"
      ]
     },
     "metadata": {},
     "output_type": "display_data"
    }
   ],
   "source": [
    "x = sp.symbols(\"x\", real=True)\n",
    "y = sp.symbols(\"y\", real=True)\n",
    "\n",
    "a = splt.plot(-W0, (x, 0, sum(ell[:2])), show=False)\n",
    "b = splt.plot(exprACx, (x, sum(ell[:2]), sum(ell[:3])), show=False)\n",
    "c = splt.plot_parametric((4, y), (y, -10000, 11000), show=False)\n",
    "a.append(b[0])\n",
    "a.append(c[0])\n",
    "a.title = \"Shear along beam\"\n",
    "a.legend = True\n",
    "a[0].label = \"Shear section AB\"\n",
    "a[1].label = \"Shear section CD\"\n",
    "a[2].label = \"Shear section at C\"\n",
    "a.xlabel = \"length\"\n",
    "a.ylabel = \"shear\"\n",
    "a.show()"
   ]
  },
  {
   "cell_type": "markdown",
   "metadata": {},
   "source": [
    "### Plot piece-wise"
   ]
  },
  {
   "cell_type": "code",
   "execution_count": 82,
   "metadata": {},
   "outputs": [
    {
     "data": {
      "image/png": "[encoded data removed]",
      "text/plain": [
       "<Figure size 800x550 with 1 Axes>"
      ]
     },
     "metadata": {},
     "output_type": "display_data"
    }
   ],
   "source": [
    "p = sp.Piecewise(\n",
    "    (-W0, sp.Interval(0, 4).contains(x)),\n",
    "    (exprACx, sp.Interval(4, 7).contains(x)),\n",
    ")\n",
    "\n",
    "x = sp.symbols(\"x\", real=True)\n",
    "\n",
    "a = splt.plot(p, (x, 0, sum(ell[:3])), show=False)\n",
    "a.title = \"Shear along beam\"\n",
    "a.legend = True\n",
    "a[0].label = \"Shear section AB\"\n",
    "a.xlabel = \"length\"\n",
    "a.ylabel = \"shear\"\n",
    "a.show()"
   ]
  },
  {
   "cell_type": "markdown",
   "metadata": {},
   "source": [
    "### Scatter graph"
   ]
  },
  {
   "cell_type": "code",
   "execution_count": 83,
   "metadata": {},
   "outputs": [
    {
     "data": {
      "application/javascript": "(function(root) {\n  function now() {\n    return new Date();\n  }\n\n  const force = true;\n\n  if (typeof root._bokeh_onload_callbacks === \"undefined\" || force === true) {\n    root._bokeh_onload_callbacks = [];\n    root._bokeh_is_loading = undefined;\n  }\n\nconst JS_MIME_TYPE = 'application/javascript';\n  const HTML_MIME_TYPE = 'text/html';\n  const EXEC_MIME_TYPE = 'application/vnd.bokehjs_exec.v0+json';\n  const CLASS_NAME = 'output_bokeh rendered_html';\n\n  /**\n   * Render data to the DOM node\n   */\n  function render(props, node) {\n    const script = document.createElement(\"script\");\n    node.appendChild(script);\n  }\n\n  /**\n   * Handle when an output is cleared or removed\n   */\n  function handleClearOutput(event, handle) {\n    const cell = handle.cell;\n\n    const id = cell.output_area._bokeh_element_id;\n    const server_id = cell.output_area._bokeh_server_id;\n    // Clean up Bokeh references\n    if (id != null && id in Bokeh.index) {\n      Bokeh.index[id].model.document.clear();\n      delete Bokeh.index[id];\n    }\n\n    if (server_id !== undefined) {\n      // Clean up Bokeh references\n      const cmd_clean = \"from bokeh.io.state import curstate; print(curstate().uuid_to_server['\" + server_id + \"'].get_sessions()[0].document.roots[0]._id)\";\n      cell.notebook.kernel.execute(cmd_clean, {\n        iopub: {\n          output: function(msg) {\n            const id = msg.content.text.trim();\n            if (id in Bokeh.index) {\n              Bokeh.index[id].model.document.clear();\n              delete Bokeh.index[id];\n            }\n          }\n        }\n      });\n      // Destroy server and session\n      const cmd_destroy = \"import bokeh.io.notebook as ion; ion.destroy_server('\" + server_id + \"')\";\n      cell.notebook.kernel.execute(cmd_destroy);\n    }\n  }\n\n  /**\n   * Handle when a new output is added\n   */\n  function handleAddOutput(event, handle) {\n    const output_area = handle.output_area;\n    const output = handle.output;\n\n    // limit handleAddOutput to display_data with EXEC_MIME_TYPE content only\n    if ((output.output_type != \"display_data\") || (!Object.prototype.hasOwnProperty.call(output.data, EXEC_MIME_TYPE))) {\n      return\n    }\n\n    const toinsert = output_area.element.find(\".\" + CLASS_NAME.split(' ')[0]);\n\n    if (output.metadata[EXEC_MIME_TYPE][\"id\"] !== undefined) {\n      toinsert[toinsert.length - 1].firstChild.textContent = output.data[JS_MIME_TYPE];\n      // store reference to embed id on output_area\n      output_area._bokeh_element_id = output.metadata[EXEC_MIME_TYPE][\"id\"];\n    }\n    if (output.metadata[EXEC_MIME_TYPE][\"server_id\"] !== undefined) {\n      const bk_div = document.createElement(\"div\");\n      bk_div.innerHTML = output.data[HTML_MIME_TYPE];\n      const script_attrs = bk_div.children[0].attributes;\n      for (let i = 0; i < script_attrs.length; i++) {\n        toinsert[toinsert.length - 1].firstChild.setAttribute(script_attrs[i].name, script_attrs[i].value);\n        toinsert[toinsert.length - 1].firstChild.textContent = bk_div.children[0].textContent\n      }\n      // store reference to server id on output_area\n      output_area._bokeh_server_id = output.metadata[EXEC_MIME_TYPE][\"server_id\"];\n    }\n  }\n\n  function register_renderer(events, OutputArea) {\n\n    function append_mime(data, metadata, element) {\n      // create a DOM node to render to\n      const toinsert = this.create_output_subarea(\n        metadata,\n        CLASS_NAME,\n        EXEC_MIME_TYPE\n      );\n      this.keyboard_manager.register_events(toinsert);\n      // Render to node\n      const props = {data: data, metadata: metadata[EXEC_MIME_TYPE]};\n      render(props, toinsert[toinsert.length - 1]);\n      element.append(toinsert);\n      return toinsert\n    }\n\n    /* Handle when an output is cleared or removed */\n    events.on('clear_output.CodeCell', handleClearOutput);\n    events.on('delete.Cell', handleClearOutput);\n\n    /* Handle when a new output is added */\n    events.on('output_added.OutputArea', handleAddOutput);\n\n    /**\n     * Register the mime type and append_mime function with output_area\n     */\n    OutputArea.prototype.register_mime_type(EXEC_MIME_TYPE, append_mime, {\n      /* Is output safe? */\n      safe: true,\n      /* Index of renderer in `output_area.display_order` */\n      index: 0\n    });\n  }\n\n  // register the mime type if in Jupyter Notebook environment and previously unregistered\n  if (root.Jupyter !== undefined) {\n    const events = require('base/js/events');\n    const OutputArea = require('notebook/js/outputarea').OutputArea;\n\n    if (OutputArea.prototype.mime_types().indexOf(EXEC_MIME_TYPE) == -1) {\n      register_renderer(events, OutputArea);\n    }\n  }\n  if (typeof (root._bokeh_timeout) === \"undefined\" || force === true) {\n    root._bokeh_timeout = Date.now() + 5000;\n    root._bokeh_failed_load = false;\n  }\n\n  const NB_LOAD_WARNING = {'data': {'text/html':\n     \"<div style='background-color: #fdd'>\\n\"+\n     \"<p>\\n\"+\n     \"BokehJS does not appear to have successfully loaded. If loading BokehJS from CDN, this \\n\"+\n     \"may be due to a slow or bad network connection. Possible fixes:\\n\"+\n     \"</p>\\n\"+\n     \"<ul>\\n\"+\n     \"<li>re-rerun `output_notebook()` to attempt to load from CDN again, or</li>\\n\"+\n     \"<li>use INLINE resources instead, as so:</li>\\n\"+\n     \"</ul>\\n\"+\n     \"<code>\\n\"+\n     \"from bokeh.resources import INLINE\\n\"+\n     \"output_notebook(resources=INLINE)\\n\"+\n     \"</code>\\n\"+\n     \"</div>\"}};\n\n  function display_loaded() {\n    const el = document.getElementById(null);\n    if (el != null) {\n      el.textContent = \"BokehJS is loading...\";\n    }\n    if (root.Bokeh !== undefined) {\n      if (el != null) {\n        el.textContent = \"BokehJS \" + root.Bokeh.version + \" successfully loaded.\";\n      }\n    } else if (Date.now() < root._bokeh_timeout) {\n      setTimeout(display_loaded, 100)\n    }\n  }\n\n  function run_callbacks() {\n    try {\n      root._bokeh_onload_callbacks.forEach(function(callback) {\n        if (callback != null)\n          callback();\n      });\n    } finally {\n      delete root._bokeh_onload_callbacks\n    }\n    console.debug(\"Bokeh: all callbacks have finished\");\n  }\n\n  function load_libs(css_urls, js_urls, callback) {\n    if (css_urls == null) css_urls = [];\n    if (js_urls == null) js_urls = [];\n\n    root._bokeh_onload_callbacks.push(callback);\n    if (root._bokeh_is_loading > 0) {\n      console.debug(\"Bokeh: BokehJS is being loaded, scheduling callback at\", now());\n      return null;\n    }\n    if (js_urls == null || js_urls.length === 0) {\n      run_callbacks();\n      return null;\n    }\n    console.debug(\"Bokeh: BokehJS not loaded, scheduling load and callback at\", now());\n    root._bokeh_is_loading = css_urls.length + js_urls.length;\n\n    function on_load() {\n      root._bokeh_is_loading--;\n      if (root._bokeh_is_loading === 0) {\n        console.debug(\"Bokeh: all BokehJS libraries/stylesheets loaded\");\n        run_callbacks()\n      }\n    }\n\n    function on_error(url) {\n      console.error(\"failed to load \" + url);\n    }\n\n    for (let i = 0; i < css_urls.length; i++) {\n      const url = css_urls[i];\n      const element = document.createElement(\"link\");\n      element.onload = on_load;\n      element.onerror = on_error.bind(null, url);\n      element.rel = \"stylesheet\";\n      element.type = \"text/css\";\n      element.href = url;\n      console.debug(\"Bokeh: injecting link tag for BokehJS stylesheet: \", url);\n      document.body.appendChild(element);\n    }\n\n    for (let i = 0; i < js_urls.length; i++) {\n      const url = js_urls[i];\n      const element = document.createElement('script');\n      element.onload = on_load;\n      element.onerror = on_error.bind(null, url);\n      element.async = false;\n      element.src = url;\n      console.debug(\"Bokeh: injecting script tag for BokehJS library: \", url);\n      document.head.appendChild(element);\n    }\n  };\n\n  function inject_raw_css(css) {\n    const element = document.createElement(\"style\");\n    element.appendChild(document.createTextNode(css));\n    document.body.appendChild(element);\n  }\n\n  const js_urls = [\"https://cdn.bokeh.org/bokeh/release/bokeh-2.4.3.min.js\", \"https://cdn.bokeh.org/bokeh/release/bokeh-gl-2.4.3.min.js\", \"https://cdn.bokeh.org/bokeh/release/bokeh-widgets-2.4.3.min.js\", \"https://cdn.bokeh.org/bokeh/release/bokeh-tables-2.4.3.min.js\", \"https://cdn.bokeh.org/bokeh/release/bokeh-mathjax-2.4.3.min.js\"];\n  const css_urls = [];\n\n  const inline_js = [    function(Bokeh) {\n      Bokeh.set_log_level(\"info\");\n    },\nfunction(Bokeh) {\n    }\n  ];\n\n  function run_inline_js() {\n    if (root.Bokeh !== undefined || force === true) {\n          for (let i = 0; i < inline_js.length; i++) {\n      inline_js[i].call(root, root.Bokeh);\n    }\n} else if (Date.now() < root._bokeh_timeout) {\n      setTimeout(run_inline_js, 100);\n    } else if (!root._bokeh_failed_load) {\n      console.log(\"Bokeh: BokehJS failed to load within specified timeout.\");\n      root._bokeh_failed_load = true;\n    } else if (force !== true) {\n      const cell = $(document.getElementById(null)).parents('.cell').data().cell;\n      cell.output_area.append_execute_result(NB_LOAD_WARNING)\n    }\n  }\n\n  if (root._bokeh_is_loading === 0) {\n    console.debug(\"Bokeh: BokehJS loaded, going straight to plotting\");\n    run_inline_js();\n  } else {\n    load_libs(css_urls, js_urls, function() {\n      console.debug(\"Bokeh: BokehJS plotting callback run at\", now());\n      run_inline_js();\n    });\n  }\n}(window));",
      "application/vnd.bokehjs_load.v0+json": ""
     },
     "metadata": {},
     "output_type": "display_data"
    },
    {
     "data": {
      "text/html": [
       "\n",
       "  <div class=\"bk-root\" id=\"14d6f050-f5aa-482d-8cfb-3cdfa32ee73a\" data-root-id=\"1002\"></div>\n"
      ]
     },
     "metadata": {},
     "output_type": "display_data"
    },
    {
     "data": {
      "application/javascript": "(function(root) {\n  function embed_document(root) {\n  const docs_json = {\"f53d74f9-543b-4b8c-a2c2-a68d6e4cc111\":{\"defs\":[],\"roots\":{\"references\":[{\"attributes\":{\"below\":[{\"id\":\"1012\"}],\"center\":[{\"id\":\"1015\"},{\"id\":\"1019\"},{\"id\":\"1051\"}],\"height\":400,\"left\":[{\"id\":\"1016\"}],\"renderers\":[{\"id\":\"1039\"}],\"sizing_mode\":\"stretch_width\",\"title\":null,\"toolbar\":{\"id\":\"1027\"},\"x_range\":{\"id\":\"1004\"},\"x_scale\":{\"id\":\"1008\"},\"y_range\":{\"id\":\"1006\"},\"y_scale\":{\"id\":\"1010\"}},\"id\":\"1002\",\"subtype\":\"Figure\",\"type\":\"Plot\"},{\"attributes\":{\"fill_color\":{\"value\":\"#1f77b4\"},\"hatch_color\":{\"value\":\"#1f77b4\"},\"line_color\":{\"value\":\"#1f77b4\"},\"line_width\":{\"value\":2},\"size\":{\"value\":8},\"x\":{\"field\":\"xs\"},\"y\":{\"field\":\"ys\"}},\"id\":\"1036\",\"type\":\"Scatter\"},{\"attributes\":{},\"id\":\"1017\",\"type\":\"BasicTicker\"},{\"attributes\":{\"callback\":null,\"tooltips\":[[\"x\",\"$x\"],[\"y\",\"$y\"]]},\"id\":\"1024\",\"type\":\"HoverTool\"},{\"attributes\":{},\"id\":\"1021\",\"type\":\"WheelZoomTool\"},{\"attributes\":{\"axis\":{\"id\":\"1012\"},\"coordinates\":null,\"group\":null,\"minor_grid_line_alpha\":0.6,\"minor_grid_line_color\":\"#e5e5e5\",\"minor_grid_line_dash\":[2,2],\"ticker\":null},\"id\":\"1015\",\"type\":\"Grid\"},{\"attributes\":{},\"id\":\"1023\",\"type\":\"ResetTool\"},{\"attributes\":{},\"id\":\"1044\",\"type\":\"AllLabels\"},{\"attributes\":{},\"id\":\"1010\",\"type\":\"LinearScale\"},{\"attributes\":{\"label\":{\"value\":\"x,y\"},\"renderers\":[{\"id\":\"1039\"}]},\"id\":\"1052\",\"type\":\"LegendItem\"},{\"attributes\":{\"background_fill_alpha\":0.25,\"border_line_alpha\":0,\"coordinates\":null,\"glyph_width\":15,\"group\":null,\"items\":[{\"id\":\"1052\"}],\"label_standoff\":8,\"label_text_color\":\"#5B5B5B\",\"label_text_font\":\"Calibri Light\",\"label_text_font_size\":\"0.95em\",\"label_text_font_style\":\"bold\",\"spacing\":8,\"visible\":false},\"id\":\"1051\",\"type\":\"Legend\"},{\"attributes\":{\"fill_alpha\":{\"value\":0.1},\"fill_color\":{\"value\":\"#1f77b4\"},\"hatch_alpha\":{\"value\":0.1},\"hatch_color\":{\"value\":\"#1f77b4\"},\"line_alpha\":{\"value\":0.1},\"line_color\":{\"value\":\"#1f77b4\"},\"line_width\":{\"value\":2},\"size\":{\"value\":8},\"x\":{\"field\":\"xs\"},\"y\":{\"field\":\"ys\"}},\"id\":\"1037\",\"type\":\"Scatter\"},{\"attributes\":{\"fill_alpha\":{\"value\":0.2},\"fill_color\":{\"value\":\"#1f77b4\"},\"hatch_alpha\":{\"value\":0.2},\"hatch_color\":{\"value\":\"#1f77b4\"},\"line_alpha\":{\"value\":0.2},\"line_color\":{\"value\":\"#1f77b4\"},\"line_width\":{\"value\":2},\"size\":{\"value\":8},\"x\":{\"field\":\"xs\"},\"y\":{\"field\":\"ys\"}},\"id\":\"1038\",\"type\":\"Scatter\"},{\"attributes\":{},\"id\":\"1043\",\"type\":\"BasicTickFormatter\"},{\"attributes\":{\"coordinates\":null,\"data_source\":{\"id\":\"1034\"},\"glyph\":{\"id\":\"1036\"},\"group\":null,\"hover_glyph\":null,\"muted_glyph\":{\"id\":\"1038\"},\"nonselection_glyph\":{\"id\":\"1037\"},\"view\":{\"id\":\"1040\"}},\"id\":\"1039\",\"type\":\"GlyphRenderer\"},{\"attributes\":{},\"id\":\"1049\",\"type\":\"Selection\"},{\"attributes\":{\"source\":{\"id\":\"1034\"}},\"id\":\"1040\",\"type\":\"CDSView\"},{\"attributes\":{},\"id\":\"1006\",\"type\":\"DataRange1d\"},{\"attributes\":{},\"id\":\"1025\",\"type\":\"SaveTool\"},{\"attributes\":{},\"id\":\"1013\",\"type\":\"BasicTicker\"},{\"attributes\":{\"bottom_units\":\"screen\",\"coordinates\":null,\"fill_alpha\":0.5,\"fill_color\":\"lightgrey\",\"group\":null,\"left_units\":\"screen\",\"level\":\"overlay\",\"line_alpha\":1.0,\"line_color\":\"black\",\"line_dash\":[4,4],\"line_width\":2,\"right_units\":\"screen\",\"syncable\":false,\"top_units\":\"screen\"},\"id\":\"1026\",\"type\":\"BoxAnnotation\"},{\"attributes\":{},\"id\":\"1048\",\"type\":\"UnionRenderers\"},{\"attributes\":{},\"id\":\"1047\",\"type\":\"AllLabels\"},{\"attributes\":{\"axis_label\":\"x\",\"axis_label_standoff\":10,\"axis_label_text_color\":\"#5B5B5B\",\"axis_label_text_font\":\"Calibri Light\",\"axis_label_text_font_size\":\"1.15em\",\"axis_label_text_font_style\":\"bold\",\"axis_line_alpha\":1,\"axis_line_color\":\"#5B5B5B\",\"coordinates\":null,\"formatter\":{\"id\":\"1046\"},\"group\":null,\"major_label_policy\":{\"id\":\"1047\"},\"major_label_text_color\":\"#5B5B5B\",\"major_label_text_font\":\"Calibri Light\",\"major_label_text_font_size\":\"0.95em\",\"major_label_text_font_style\":\"bold\",\"major_tick_in\":0,\"major_tick_line_alpha\":0.25,\"major_tick_line_color\":\"#5B5B5B\",\"major_tick_out\":3,\"minor_tick_line_alpha\":0.25,\"minor_tick_line_color\":\"#5B5B5B\",\"ticker\":{\"id\":\"1013\"}},\"id\":\"1012\",\"type\":\"LinearAxis\"},{\"attributes\":{\"data\":{\"xs\":{\"__ndarray__\":\"AAAAAAAACEAAAAAAAAAYQAAAAAAAACBAAAAAAAAAHEAAAAAAAAAUQAAAAAAAAAhAAAAAAAAAJkAAAAAAAAAIQAAAAAAAABBAAAAAAAAAFEAAAAAAAAAQQAAAAAAAACJAAAAAAAAAHEAAAAAAAAAkQAAAAAAAABhAAAAAAAAAGEA=\",\"dtype\":\"float64\",\"order\":\"little\",\"shape\":[16]},\"ys\":{\"__ndarray__\":\"AAAAAAAAHEAAAAAAAAAcQAAAAAAAABBAAAAAAAAAEEAAAAAAAAAYQAAAAAAAACBAAAAAAAAAFEAAAAAAAAAUQAAAAAAAACBAAAAAAAAAEEAAAAAAAAAcQAAAAAAAABBAAAAAAAAAFEAAAAAAAAAUQAAAAAAAABhAAAAAAAAACEA=\",\"dtype\":\"float64\",\"order\":\"little\",\"shape\":[16]}},\"selected\":{\"id\":\"1049\"},\"selection_policy\":{\"id\":\"1048\"}},\"id\":\"1034\",\"type\":\"ColumnDataSource\"},{\"attributes\":{},\"id\":\"1004\",\"type\":\"DataRange1d\"},{\"attributes\":{},\"id\":\"1046\",\"type\":\"BasicTickFormatter\"},{\"attributes\":{},\"id\":\"1008\",\"type\":\"LinearScale\"},{\"attributes\":{\"axis_label\":\"y\",\"axis_label_standoff\":10,\"axis_label_text_color\":\"#5B5B5B\",\"axis_label_text_font\":\"Calibri Light\",\"axis_label_text_font_size\":\"1.15em\",\"axis_label_text_font_style\":\"bold\",\"axis_line_alpha\":1,\"axis_line_color\":\"#5B5B5B\",\"coordinates\":null,\"formatter\":{\"id\":\"1043\"},\"group\":null,\"major_label_policy\":{\"id\":\"1044\"},\"major_label_text_color\":\"#5B5B5B\",\"major_label_text_font\":\"Calibri Light\",\"major_label_text_font_size\":\"0.95em\",\"major_label_text_font_style\":\"bold\",\"major_tick_in\":0,\"major_tick_line_alpha\":0.25,\"major_tick_line_color\":\"#5B5B5B\",\"major_tick_out\":3,\"minor_tick_line_alpha\":0.25,\"minor_tick_line_color\":\"#5B5B5B\",\"ticker\":{\"id\":\"1017\"}},\"id\":\"1016\",\"type\":\"LinearAxis\"},{\"attributes\":{},\"id\":\"1020\",\"type\":\"PanTool\"},{\"attributes\":{\"axis\":{\"id\":\"1016\"},\"coordinates\":null,\"dimension\":1,\"group\":null,\"minor_grid_line_alpha\":0.6,\"minor_grid_line_color\":\"#e5e5e5\",\"minor_grid_line_dash\":[2,2],\"ticker\":null},\"id\":\"1019\",\"type\":\"Grid\"},{\"attributes\":{\"tools\":[{\"id\":\"1020\"},{\"id\":\"1021\"},{\"id\":\"1022\"},{\"id\":\"1023\"},{\"id\":\"1024\"},{\"id\":\"1025\"}]},\"id\":\"1027\",\"type\":\"Toolbar\"},{\"attributes\":{\"overlay\":{\"id\":\"1026\"}},\"id\":\"1022\",\"type\":\"BoxZoomTool\"}],\"root_ids\":[\"1002\"]},\"title\":\"Bokeh Application\",\"version\":\"2.4.3\"}};\n  const render_items = [{\"docid\":\"f53d74f9-543b-4b8c-a2c2-a68d6e4cc111\",\"root_ids\":[\"1002\"],\"roots\":{\"1002\":\"14d6f050-f5aa-482d-8cfb-3cdfa32ee73a\"}}];\n  root.Bokeh.embed.embed_items_notebook(docs_json, render_items);\n  }\n  if (root.Bokeh !== undefined) {\n    embed_document(root);\n  } else {\n    let attempts = 0;\n    const timer = setInterval(function(root) {\n      if (root.Bokeh !== undefined) {\n        clearInterval(timer);\n        embed_document(root);\n      } else {\n        attempts++;\n        if (attempts > 100) {\n          clearInterval(timer);\n          console.log(\"Bokeh: ERROR: Unable to run BokehJS code because BokehJS library is missing\");\n        }\n      }\n    }, 10, root)\n  }\n})(window);",
      "application/vnd.bokehjs_exec.v0+json": ""
     },
     "metadata": {
      "application/vnd.bokehjs_exec.v0+json": {
       "id": "1002"
      }
     },
     "output_type": "display_data"
    }
   ],
   "source": [
    "# Define the data\n",
    "x = [3, 6, 8, 7, 5, 3, 11, 3, 4, 5, 4, 9, 7, 10, 6, 6]\n",
    "y = [7, 7, 4, 4, 6, 8, 5, 5, 8, 4, 7, 4, 5, 5, 6, 3]\n",
    "\n",
    "backend = spb.BB\n",
    "\n",
    "p1 = spb.plot_list(\n",
    "    ((x, y, \"x,y\")),\n",
    "    show=False,\n",
    "    use_cm=False,\n",
    "    is_point=True,\n",
    "    backend=backend,\n",
    ")\n",
    "\n",
    "p1.show()"
   ]
  },
  {
   "attachments": {},
   "cell_type": "markdown",
   "metadata": {},
   "source": [
    "## Plot 3D"
   ]
  },
  {
   "cell_type": "code",
   "execution_count": 84,
   "metadata": {},
   "outputs": [
    {
     "data": {
      "image/png": "[encoded data removed]",
      "text/plain": [
       "<Figure size 900x500 with 1 Axes>"
      ]
     },
     "metadata": {},
     "output_type": "display_data"
    }
   ],
   "source": [
    "x = sp.symbols(\"x\", real=True)\n",
    "y = sp.symbols(\"y\", real=True)\n",
    "\n",
    "f = x**3 * sp.exp(-(x**2) - y**2)\n",
    "a = splt.plot3d(f, (x, -3, +3), (y, -2, +2), size=(9, 5), show=False)\n",
    "a.show()"
   ]
  },
  {
   "attachments": {},
   "cell_type": "markdown",
   "metadata": {},
   "source": [
    "# Numpy"
   ]
  },
  {
   "attachments": {},
   "cell_type": "markdown",
   "metadata": {},
   "source": [
    "## Integration"
   ]
  },
  {
   "cell_type": "code",
   "execution_count": 85,
   "metadata": {},
   "outputs": [
    {
     "data": {
      "image/png": "[encoded data removed]",
      "text/latex": [
       "$\\displaystyle \\sqrt{4 - x^{2}} \\left(x^{3} \\cos{\\left(\\frac{x}{2} \\right)} + \\frac{1}{2}\\right)$"
      ],
      "text/plain": [
       "   ________                \n",
       "  ╱      2  ⎛ 3    ⎛x⎞   1⎞\n",
       "╲╱  4 - x  ⋅⎜x ⋅cos⎜─⎟ + ─⎟\n",
       "            ⎝      ⎝2⎠   2⎠"
      ]
     },
     "execution_count": 85,
     "metadata": {},
     "output_type": "execute_result"
    }
   ],
   "source": [
    "x = sp.symbols(\"x\")\n",
    "expr = (x**3 * sp.cos(x / 2) + HALF) * sp.sqrt(4 - x**2)\n",
    "expr"
   ]
  },
  {
   "cell_type": "code",
   "execution_count": 86,
   "metadata": {},
   "outputs": [],
   "source": [
    "expr_f = sp.lambdify([x], expr)"
   ]
  },
  {
   "attachments": {},
   "cell_type": "markdown",
   "metadata": {},
   "source": [
    "# Sympy stats"
   ]
  },
  {
   "attachments": {},
   "cell_type": "markdown",
   "metadata": {},
   "source": [
    "## Poisson Distribution, sampling and graphs"
   ]
  },
  {
   "cell_type": "code",
   "execution_count": 87,
   "metadata": {},
   "outputs": [
    {
     "data": {
      "application/javascript": "(function(root) {\n  function now() {\n    return new Date();\n  }\n\n  const force = true;\n\n  if (typeof root._bokeh_onload_callbacks === \"undefined\" || force === true) {\n    root._bokeh_onload_callbacks = [];\n    root._bokeh_is_loading = undefined;\n  }\n\nconst JS_MIME_TYPE = 'application/javascript';\n  const HTML_MIME_TYPE = 'text/html';\n  const EXEC_MIME_TYPE = 'application/vnd.bokehjs_exec.v0+json';\n  const CLASS_NAME = 'output_bokeh rendered_html';\n\n  /**\n   * Render data to the DOM node\n   */\n  function render(props, node) {\n    const script = document.createElement(\"script\");\n    node.appendChild(script);\n  }\n\n  /**\n   * Handle when an output is cleared or removed\n   */\n  function handleClearOutput(event, handle) {\n    const cell = handle.cell;\n\n    const id = cell.output_area._bokeh_element_id;\n    const server_id = cell.output_area._bokeh_server_id;\n    // Clean up Bokeh references\n    if (id != null && id in Bokeh.index) {\n      Bokeh.index[id].model.document.clear();\n      delete Bokeh.index[id];\n    }\n\n    if (server_id !== undefined) {\n      // Clean up Bokeh references\n      const cmd_clean = \"from bokeh.io.state import curstate; print(curstate().uuid_to_server['\" + server_id + \"'].get_sessions()[0].document.roots[0]._id)\";\n      cell.notebook.kernel.execute(cmd_clean, {\n        iopub: {\n          output: function(msg) {\n            const id = msg.content.text.trim();\n            if (id in Bokeh.index) {\n              Bokeh.index[id].model.document.clear();\n              delete Bokeh.index[id];\n            }\n          }\n        }\n      });\n      // Destroy server and session\n      const cmd_destroy = \"import bokeh.io.notebook as ion; ion.destroy_server('\" + server_id + \"')\";\n      cell.notebook.kernel.execute(cmd_destroy);\n    }\n  }\n\n  /**\n   * Handle when a new output is added\n   */\n  function handleAddOutput(event, handle) {\n    const output_area = handle.output_area;\n    const output = handle.output;\n\n    // limit handleAddOutput to display_data with EXEC_MIME_TYPE content only\n    if ((output.output_type != \"display_data\") || (!Object.prototype.hasOwnProperty.call(output.data, EXEC_MIME_TYPE))) {\n      return\n    }\n\n    const toinsert = output_area.element.find(\".\" + CLASS_NAME.split(' ')[0]);\n\n    if (output.metadata[EXEC_MIME_TYPE][\"id\"] !== undefined) {\n      toinsert[toinsert.length - 1].firstChild.textContent = output.data[JS_MIME_TYPE];\n      // store reference to embed id on output_area\n      output_area._bokeh_element_id = output.metadata[EXEC_MIME_TYPE][\"id\"];\n    }\n    if (output.metadata[EXEC_MIME_TYPE][\"server_id\"] !== undefined) {\n      const bk_div = document.createElement(\"div\");\n      bk_div.innerHTML = output.data[HTML_MIME_TYPE];\n      const script_attrs = bk_div.children[0].attributes;\n      for (let i = 0; i < script_attrs.length; i++) {\n        toinsert[toinsert.length - 1].firstChild.setAttribute(script_attrs[i].name, script_attrs[i].value);\n        toinsert[toinsert.length - 1].firstChild.textContent = bk_div.children[0].textContent\n      }\n      // store reference to server id on output_area\n      output_area._bokeh_server_id = output.metadata[EXEC_MIME_TYPE][\"server_id\"];\n    }\n  }\n\n  function register_renderer(events, OutputArea) {\n\n    function append_mime(data, metadata, element) {\n      // create a DOM node to render to\n      const toinsert = this.create_output_subarea(\n        metadata,\n        CLASS_NAME,\n        EXEC_MIME_TYPE\n      );\n      this.keyboard_manager.register_events(toinsert);\n      // Render to node\n      const props = {data: data, metadata: metadata[EXEC_MIME_TYPE]};\n      render(props, toinsert[toinsert.length - 1]);\n      element.append(toinsert);\n      return toinsert\n    }\n\n    /* Handle when an output is cleared or removed */\n    events.on('clear_output.CodeCell', handleClearOutput);\n    events.on('delete.Cell', handleClearOutput);\n\n    /* Handle when a new output is added */\n    events.on('output_added.OutputArea', handleAddOutput);\n\n    /**\n     * Register the mime type and append_mime function with output_area\n     */\n    OutputArea.prototype.register_mime_type(EXEC_MIME_TYPE, append_mime, {\n      /* Is output safe? */\n      safe: true,\n      /* Index of renderer in `output_area.display_order` */\n      index: 0\n    });\n  }\n\n  // register the mime type if in Jupyter Notebook environment and previously unregistered\n  if (root.Jupyter !== undefined) {\n    const events = require('base/js/events');\n    const OutputArea = require('notebook/js/outputarea').OutputArea;\n\n    if (OutputArea.prototype.mime_types().indexOf(EXEC_MIME_TYPE) == -1) {\n      register_renderer(events, OutputArea);\n    }\n  }\n  if (typeof (root._bokeh_timeout) === \"undefined\" || force === true) {\n    root._bokeh_timeout = Date.now() + 5000;\n    root._bokeh_failed_load = false;\n  }\n\n  const NB_LOAD_WARNING = {'data': {'text/html':\n     \"<div style='background-color: #fdd'>\\n\"+\n     \"<p>\\n\"+\n     \"BokehJS does not appear to have successfully loaded. If loading BokehJS from CDN, this \\n\"+\n     \"may be due to a slow or bad network connection. Possible fixes:\\n\"+\n     \"</p>\\n\"+\n     \"<ul>\\n\"+\n     \"<li>re-rerun `output_notebook()` to attempt to load from CDN again, or</li>\\n\"+\n     \"<li>use INLINE resources instead, as so:</li>\\n\"+\n     \"</ul>\\n\"+\n     \"<code>\\n\"+\n     \"from bokeh.resources import INLINE\\n\"+\n     \"output_notebook(resources=INLINE)\\n\"+\n     \"</code>\\n\"+\n     \"</div>\"}};\n\n  function display_loaded() {\n    const el = document.getElementById(null);\n    if (el != null) {\n      el.textContent = \"BokehJS is loading...\";\n    }\n    if (root.Bokeh !== undefined) {\n      if (el != null) {\n        el.textContent = \"BokehJS \" + root.Bokeh.version + \" successfully loaded.\";\n      }\n    } else if (Date.now() < root._bokeh_timeout) {\n      setTimeout(display_loaded, 100)\n    }\n  }\n\n  function run_callbacks() {\n    try {\n      root._bokeh_onload_callbacks.forEach(function(callback) {\n        if (callback != null)\n          callback();\n      });\n    } finally {\n      delete root._bokeh_onload_callbacks\n    }\n    console.debug(\"Bokeh: all callbacks have finished\");\n  }\n\n  function load_libs(css_urls, js_urls, callback) {\n    if (css_urls == null) css_urls = [];\n    if (js_urls == null) js_urls = [];\n\n    root._bokeh_onload_callbacks.push(callback);\n    if (root._bokeh_is_loading > 0) {\n      console.debug(\"Bokeh: BokehJS is being loaded, scheduling callback at\", now());\n      return null;\n    }\n    if (js_urls == null || js_urls.length === 0) {\n      run_callbacks();\n      return null;\n    }\n    console.debug(\"Bokeh: BokehJS not loaded, scheduling load and callback at\", now());\n    root._bokeh_is_loading = css_urls.length + js_urls.length;\n\n    function on_load() {\n      root._bokeh_is_loading--;\n      if (root._bokeh_is_loading === 0) {\n        console.debug(\"Bokeh: all BokehJS libraries/stylesheets loaded\");\n        run_callbacks()\n      }\n    }\n\n    function on_error(url) {\n      console.error(\"failed to load \" + url);\n    }\n\n    for (let i = 0; i < css_urls.length; i++) {\n      const url = css_urls[i];\n      const element = document.createElement(\"link\");\n      element.onload = on_load;\n      element.onerror = on_error.bind(null, url);\n      element.rel = \"stylesheet\";\n      element.type = \"text/css\";\n      element.href = url;\n      console.debug(\"Bokeh: injecting link tag for BokehJS stylesheet: \", url);\n      document.body.appendChild(element);\n    }\n\n    for (let i = 0; i < js_urls.length; i++) {\n      const url = js_urls[i];\n      const element = document.createElement('script');\n      element.onload = on_load;\n      element.onerror = on_error.bind(null, url);\n      element.async = false;\n      element.src = url;\n      console.debug(\"Bokeh: injecting script tag for BokehJS library: \", url);\n      document.head.appendChild(element);\n    }\n  };\n\n  function inject_raw_css(css) {\n    const element = document.createElement(\"style\");\n    element.appendChild(document.createTextNode(css));\n    document.body.appendChild(element);\n  }\n\n  const js_urls = [\"https://cdn.bokeh.org/bokeh/release/bokeh-2.4.3.min.js\", \"https://cdn.bokeh.org/bokeh/release/bokeh-gl-2.4.3.min.js\", \"https://cdn.bokeh.org/bokeh/release/bokeh-widgets-2.4.3.min.js\", \"https://cdn.bokeh.org/bokeh/release/bokeh-tables-2.4.3.min.js\", \"https://cdn.bokeh.org/bokeh/release/bokeh-mathjax-2.4.3.min.js\"];\n  const css_urls = [];\n\n  const inline_js = [    function(Bokeh) {\n      Bokeh.set_log_level(\"info\");\n    },\nfunction(Bokeh) {\n    }\n  ];\n\n  function run_inline_js() {\n    if (root.Bokeh !== undefined || force === true) {\n          for (let i = 0; i < inline_js.length; i++) {\n      inline_js[i].call(root, root.Bokeh);\n    }\n} else if (Date.now() < root._bokeh_timeout) {\n      setTimeout(run_inline_js, 100);\n    } else if (!root._bokeh_failed_load) {\n      console.log(\"Bokeh: BokehJS failed to load within specified timeout.\");\n      root._bokeh_failed_load = true;\n    } else if (force !== true) {\n      const cell = $(document.getElementById(null)).parents('.cell').data().cell;\n      cell.output_area.append_execute_result(NB_LOAD_WARNING)\n    }\n  }\n\n  if (root._bokeh_is_loading === 0) {\n    console.debug(\"Bokeh: BokehJS loaded, going straight to plotting\");\n    run_inline_js();\n  } else {\n    load_libs(css_urls, js_urls, function() {\n      console.debug(\"Bokeh: BokehJS plotting callback run at\", now());\n      run_inline_js();\n    });\n  }\n}(window));",
      "application/vnd.bokehjs_load.v0+json": ""
     },
     "metadata": {},
     "output_type": "display_data"
    },
    {
     "data": {
      "application/javascript": "(function(root) {\n  function now() {\n    return new Date();\n  }\n\n  const force = true;\n\n  if (typeof root._bokeh_onload_callbacks === \"undefined\" || force === true) {\n    root._bokeh_onload_callbacks = [];\n    root._bokeh_is_loading = undefined;\n  }\n\nconst JS_MIME_TYPE = 'application/javascript';\n  const HTML_MIME_TYPE = 'text/html';\n  const EXEC_MIME_TYPE = 'application/vnd.bokehjs_exec.v0+json';\n  const CLASS_NAME = 'output_bokeh rendered_html';\n\n  /**\n   * Render data to the DOM node\n   */\n  function render(props, node) {\n    const script = document.createElement(\"script\");\n    node.appendChild(script);\n  }\n\n  /**\n   * Handle when an output is cleared or removed\n   */\n  function handleClearOutput(event, handle) {\n    const cell = handle.cell;\n\n    const id = cell.output_area._bokeh_element_id;\n    const server_id = cell.output_area._bokeh_server_id;\n    // Clean up Bokeh references\n    if (id != null && id in Bokeh.index) {\n      Bokeh.index[id].model.document.clear();\n      delete Bokeh.index[id];\n    }\n\n    if (server_id !== undefined) {\n      // Clean up Bokeh references\n      const cmd_clean = \"from bokeh.io.state import curstate; print(curstate().uuid_to_server['\" + server_id + \"'].get_sessions()[0].document.roots[0]._id)\";\n      cell.notebook.kernel.execute(cmd_clean, {\n        iopub: {\n          output: function(msg) {\n            const id = msg.content.text.trim();\n            if (id in Bokeh.index) {\n              Bokeh.index[id].model.document.clear();\n              delete Bokeh.index[id];\n            }\n          }\n        }\n      });\n      // Destroy server and session\n      const cmd_destroy = \"import bokeh.io.notebook as ion; ion.destroy_server('\" + server_id + \"')\";\n      cell.notebook.kernel.execute(cmd_destroy);\n    }\n  }\n\n  /**\n   * Handle when a new output is added\n   */\n  function handleAddOutput(event, handle) {\n    const output_area = handle.output_area;\n    const output = handle.output;\n\n    // limit handleAddOutput to display_data with EXEC_MIME_TYPE content only\n    if ((output.output_type != \"display_data\") || (!Object.prototype.hasOwnProperty.call(output.data, EXEC_MIME_TYPE))) {\n      return\n    }\n\n    const toinsert = output_area.element.find(\".\" + CLASS_NAME.split(' ')[0]);\n\n    if (output.metadata[EXEC_MIME_TYPE][\"id\"] !== undefined) {\n      toinsert[toinsert.length - 1].firstChild.textContent = output.data[JS_MIME_TYPE];\n      // store reference to embed id on output_area\n      output_area._bokeh_element_id = output.metadata[EXEC_MIME_TYPE][\"id\"];\n    }\n    if (output.metadata[EXEC_MIME_TYPE][\"server_id\"] !== undefined) {\n      const bk_div = document.createElement(\"div\");\n      bk_div.innerHTML = output.data[HTML_MIME_TYPE];\n      const script_attrs = bk_div.children[0].attributes;\n      for (let i = 0; i < script_attrs.length; i++) {\n        toinsert[toinsert.length - 1].firstChild.setAttribute(script_attrs[i].name, script_attrs[i].value);\n        toinsert[toinsert.length - 1].firstChild.textContent = bk_div.children[0].textContent\n      }\n      // store reference to server id on output_area\n      output_area._bokeh_server_id = output.metadata[EXEC_MIME_TYPE][\"server_id\"];\n    }\n  }\n\n  function register_renderer(events, OutputArea) {\n\n    function append_mime(data, metadata, element) {\n      // create a DOM node to render to\n      const toinsert = this.create_output_subarea(\n        metadata,\n        CLASS_NAME,\n        EXEC_MIME_TYPE\n      );\n      this.keyboard_manager.register_events(toinsert);\n      // Render to node\n      const props = {data: data, metadata: metadata[EXEC_MIME_TYPE]};\n      render(props, toinsert[toinsert.length - 1]);\n      element.append(toinsert);\n      return toinsert\n    }\n\n    /* Handle when an output is cleared or removed */\n    events.on('clear_output.CodeCell', handleClearOutput);\n    events.on('delete.Cell', handleClearOutput);\n\n    /* Handle when a new output is added */\n    events.on('output_added.OutputArea', handleAddOutput);\n\n    /**\n     * Register the mime type and append_mime function with output_area\n     */\n    OutputArea.prototype.register_mime_type(EXEC_MIME_TYPE, append_mime, {\n      /* Is output safe? */\n      safe: true,\n      /* Index of renderer in `output_area.display_order` */\n      index: 0\n    });\n  }\n\n  // register the mime type if in Jupyter Notebook environment and previously unregistered\n  if (root.Jupyter !== undefined) {\n    const events = require('base/js/events');\n    const OutputArea = require('notebook/js/outputarea').OutputArea;\n\n    if (OutputArea.prototype.mime_types().indexOf(EXEC_MIME_TYPE) == -1) {\n      register_renderer(events, OutputArea);\n    }\n  }\n  if (typeof (root._bokeh_timeout) === \"undefined\" || force === true) {\n    root._bokeh_timeout = Date.now() + 5000;\n    root._bokeh_failed_load = false;\n  }\n\n  const NB_LOAD_WARNING = {'data': {'text/html':\n     \"<div style='background-color: #fdd'>\\n\"+\n     \"<p>\\n\"+\n     \"BokehJS does not appear to have successfully loaded. If loading BokehJS from CDN, this \\n\"+\n     \"may be due to a slow or bad network connection. Possible fixes:\\n\"+\n     \"</p>\\n\"+\n     \"<ul>\\n\"+\n     \"<li>re-rerun `output_notebook()` to attempt to load from CDN again, or</li>\\n\"+\n     \"<li>use INLINE resources instead, as so:</li>\\n\"+\n     \"</ul>\\n\"+\n     \"<code>\\n\"+\n     \"from bokeh.resources import INLINE\\n\"+\n     \"output_notebook(resources=INLINE)\\n\"+\n     \"</code>\\n\"+\n     \"</div>\"}};\n\n  function display_loaded() {\n    const el = document.getElementById(null);\n    if (el != null) {\n      el.textContent = \"BokehJS is loading...\";\n    }\n    if (root.Bokeh !== undefined) {\n      if (el != null) {\n        el.textContent = \"BokehJS \" + root.Bokeh.version + \" successfully loaded.\";\n      }\n    } else if (Date.now() < root._bokeh_timeout) {\n      setTimeout(display_loaded, 100)\n    }\n  }\n\n  function run_callbacks() {\n    try {\n      root._bokeh_onload_callbacks.forEach(function(callback) {\n        if (callback != null)\n          callback();\n      });\n    } finally {\n      delete root._bokeh_onload_callbacks\n    }\n    console.debug(\"Bokeh: all callbacks have finished\");\n  }\n\n  function load_libs(css_urls, js_urls, callback) {\n    if (css_urls == null) css_urls = [];\n    if (js_urls == null) js_urls = [];\n\n    root._bokeh_onload_callbacks.push(callback);\n    if (root._bokeh_is_loading > 0) {\n      console.debug(\"Bokeh: BokehJS is being loaded, scheduling callback at\", now());\n      return null;\n    }\n    if (js_urls == null || js_urls.length === 0) {\n      run_callbacks();\n      return null;\n    }\n    console.debug(\"Bokeh: BokehJS not loaded, scheduling load and callback at\", now());\n    root._bokeh_is_loading = css_urls.length + js_urls.length;\n\n    function on_load() {\n      root._bokeh_is_loading--;\n      if (root._bokeh_is_loading === 0) {\n        console.debug(\"Bokeh: all BokehJS libraries/stylesheets loaded\");\n        run_callbacks()\n      }\n    }\n\n    function on_error(url) {\n      console.error(\"failed to load \" + url);\n    }\n\n    for (let i = 0; i < css_urls.length; i++) {\n      const url = css_urls[i];\n      const element = document.createElement(\"link\");\n      element.onload = on_load;\n      element.onerror = on_error.bind(null, url);\n      element.rel = \"stylesheet\";\n      element.type = \"text/css\";\n      element.href = url;\n      console.debug(\"Bokeh: injecting link tag for BokehJS stylesheet: \", url);\n      document.body.appendChild(element);\n    }\n\n    for (let i = 0; i < js_urls.length; i++) {\n      const url = js_urls[i];\n      const element = document.createElement('script');\n      element.onload = on_load;\n      element.onerror = on_error.bind(null, url);\n      element.async = false;\n      element.src = url;\n      console.debug(\"Bokeh: injecting script tag for BokehJS library: \", url);\n      document.head.appendChild(element);\n    }\n  };\n\n  function inject_raw_css(css) {\n    const element = document.createElement(\"style\");\n    element.appendChild(document.createTextNode(css));\n    document.body.appendChild(element);\n  }\n\n  const js_urls = [\"https://cdn.bokeh.org/bokeh/release/bokeh-2.4.3.min.js\", \"https://cdn.bokeh.org/bokeh/release/bokeh-gl-2.4.3.min.js\", \"https://cdn.bokeh.org/bokeh/release/bokeh-widgets-2.4.3.min.js\", \"https://cdn.bokeh.org/bokeh/release/bokeh-tables-2.4.3.min.js\", \"https://cdn.bokeh.org/bokeh/release/bokeh-mathjax-2.4.3.min.js\"];\n  const css_urls = [];\n\n  const inline_js = [    function(Bokeh) {\n      Bokeh.set_log_level(\"info\");\n    },\nfunction(Bokeh) {\n    }\n  ];\n\n  function run_inline_js() {\n    if (root.Bokeh !== undefined || force === true) {\n          for (let i = 0; i < inline_js.length; i++) {\n      inline_js[i].call(root, root.Bokeh);\n    }\n} else if (Date.now() < root._bokeh_timeout) {\n      setTimeout(run_inline_js, 100);\n    } else if (!root._bokeh_failed_load) {\n      console.log(\"Bokeh: BokehJS failed to load within specified timeout.\");\n      root._bokeh_failed_load = true;\n    } else if (force !== true) {\n      const cell = $(document.getElementById(null)).parents('.cell').data().cell;\n      cell.output_area.append_execute_result(NB_LOAD_WARNING)\n    }\n  }\n\n  if (root._bokeh_is_loading === 0) {\n    console.debug(\"Bokeh: BokehJS loaded, going straight to plotting\");\n    run_inline_js();\n  } else {\n    load_libs(css_urls, js_urls, function() {\n      console.debug(\"Bokeh: BokehJS plotting callback run at\", now());\n      run_inline_js();\n    });\n  }\n}(window));",
      "application/vnd.bokehjs_load.v0+json": ""
     },
     "metadata": {},
     "output_type": "display_data"
    },
    {
     "data": {
      "application/javascript": "(function(root) {\n  function now() {\n    return new Date();\n  }\n\n  const force = true;\n\n  if (typeof root._bokeh_onload_callbacks === \"undefined\" || force === true) {\n    root._bokeh_onload_callbacks = [];\n    root._bokeh_is_loading = undefined;\n  }\n\nconst JS_MIME_TYPE = 'application/javascript';\n  const HTML_MIME_TYPE = 'text/html';\n  const EXEC_MIME_TYPE = 'application/vnd.bokehjs_exec.v0+json';\n  const CLASS_NAME = 'output_bokeh rendered_html';\n\n  /**\n   * Render data to the DOM node\n   */\n  function render(props, node) {\n    const script = document.createElement(\"script\");\n    node.appendChild(script);\n  }\n\n  /**\n   * Handle when an output is cleared or removed\n   */\n  function handleClearOutput(event, handle) {\n    const cell = handle.cell;\n\n    const id = cell.output_area._bokeh_element_id;\n    const server_id = cell.output_area._bokeh_server_id;\n    // Clean up Bokeh references\n    if (id != null && id in Bokeh.index) {\n      Bokeh.index[id].model.document.clear();\n      delete Bokeh.index[id];\n    }\n\n    if (server_id !== undefined) {\n      // Clean up Bokeh references\n      const cmd_clean = \"from bokeh.io.state import curstate; print(curstate().uuid_to_server['\" + server_id + \"'].get_sessions()[0].document.roots[0]._id)\";\n      cell.notebook.kernel.execute(cmd_clean, {\n        iopub: {\n          output: function(msg) {\n            const id = msg.content.text.trim();\n            if (id in Bokeh.index) {\n              Bokeh.index[id].model.document.clear();\n              delete Bokeh.index[id];\n            }\n          }\n        }\n      });\n      // Destroy server and session\n      const cmd_destroy = \"import bokeh.io.notebook as ion; ion.destroy_server('\" + server_id + \"')\";\n      cell.notebook.kernel.execute(cmd_destroy);\n    }\n  }\n\n  /**\n   * Handle when a new output is added\n   */\n  function handleAddOutput(event, handle) {\n    const output_area = handle.output_area;\n    const output = handle.output;\n\n    // limit handleAddOutput to display_data with EXEC_MIME_TYPE content only\n    if ((output.output_type != \"display_data\") || (!Object.prototype.hasOwnProperty.call(output.data, EXEC_MIME_TYPE))) {\n      return\n    }\n\n    const toinsert = output_area.element.find(\".\" + CLASS_NAME.split(' ')[0]);\n\n    if (output.metadata[EXEC_MIME_TYPE][\"id\"] !== undefined) {\n      toinsert[toinsert.length - 1].firstChild.textContent = output.data[JS_MIME_TYPE];\n      // store reference to embed id on output_area\n      output_area._bokeh_element_id = output.metadata[EXEC_MIME_TYPE][\"id\"];\n    }\n    if (output.metadata[EXEC_MIME_TYPE][\"server_id\"] !== undefined) {\n      const bk_div = document.createElement(\"div\");\n      bk_div.innerHTML = output.data[HTML_MIME_TYPE];\n      const script_attrs = bk_div.children[0].attributes;\n      for (let i = 0; i < script_attrs.length; i++) {\n        toinsert[toinsert.length - 1].firstChild.setAttribute(script_attrs[i].name, script_attrs[i].value);\n        toinsert[toinsert.length - 1].firstChild.textContent = bk_div.children[0].textContent\n      }\n      // store reference to server id on output_area\n      output_area._bokeh_server_id = output.metadata[EXEC_MIME_TYPE][\"server_id\"];\n    }\n  }\n\n  function register_renderer(events, OutputArea) {\n\n    function append_mime(data, metadata, element) {\n      // create a DOM node to render to\n      const toinsert = this.create_output_subarea(\n        metadata,\n        CLASS_NAME,\n        EXEC_MIME_TYPE\n      );\n      this.keyboard_manager.register_events(toinsert);\n      // Render to node\n      const props = {data: data, metadata: metadata[EXEC_MIME_TYPE]};\n      render(props, toinsert[toinsert.length - 1]);\n      element.append(toinsert);\n      return toinsert\n    }\n\n    /* Handle when an output is cleared or removed */\n    events.on('clear_output.CodeCell', handleClearOutput);\n    events.on('delete.Cell', handleClearOutput);\n\n    /* Handle when a new output is added */\n    events.on('output_added.OutputArea', handleAddOutput);\n\n    /**\n     * Register the mime type and append_mime function with output_area\n     */\n    OutputArea.prototype.register_mime_type(EXEC_MIME_TYPE, append_mime, {\n      /* Is output safe? */\n      safe: true,\n      /* Index of renderer in `output_area.display_order` */\n      index: 0\n    });\n  }\n\n  // register the mime type if in Jupyter Notebook environment and previously unregistered\n  if (root.Jupyter !== undefined) {\n    const events = require('base/js/events');\n    const OutputArea = require('notebook/js/outputarea').OutputArea;\n\n    if (OutputArea.prototype.mime_types().indexOf(EXEC_MIME_TYPE) == -1) {\n      register_renderer(events, OutputArea);\n    }\n  }\n  if (typeof (root._bokeh_timeout) === \"undefined\" || force === true) {\n    root._bokeh_timeout = Date.now() + 5000;\n    root._bokeh_failed_load = false;\n  }\n\n  const NB_LOAD_WARNING = {'data': {'text/html':\n     \"<div style='background-color: #fdd'>\\n\"+\n     \"<p>\\n\"+\n     \"BokehJS does not appear to have successfully loaded. If loading BokehJS from CDN, this \\n\"+\n     \"may be due to a slow or bad network connection. Possible fixes:\\n\"+\n     \"</p>\\n\"+\n     \"<ul>\\n\"+\n     \"<li>re-rerun `output_notebook()` to attempt to load from CDN again, or</li>\\n\"+\n     \"<li>use INLINE resources instead, as so:</li>\\n\"+\n     \"</ul>\\n\"+\n     \"<code>\\n\"+\n     \"from bokeh.resources import INLINE\\n\"+\n     \"output_notebook(resources=INLINE)\\n\"+\n     \"</code>\\n\"+\n     \"</div>\"}};\n\n  function display_loaded() {\n    const el = document.getElementById(null);\n    if (el != null) {\n      el.textContent = \"BokehJS is loading...\";\n    }\n    if (root.Bokeh !== undefined) {\n      if (el != null) {\n        el.textContent = \"BokehJS \" + root.Bokeh.version + \" successfully loaded.\";\n      }\n    } else if (Date.now() < root._bokeh_timeout) {\n      setTimeout(display_loaded, 100)\n    }\n  }\n\n  function run_callbacks() {\n    try {\n      root._bokeh_onload_callbacks.forEach(function(callback) {\n        if (callback != null)\n          callback();\n      });\n    } finally {\n      delete root._bokeh_onload_callbacks\n    }\n    console.debug(\"Bokeh: all callbacks have finished\");\n  }\n\n  function load_libs(css_urls, js_urls, callback) {\n    if (css_urls == null) css_urls = [];\n    if (js_urls == null) js_urls = [];\n\n    root._bokeh_onload_callbacks.push(callback);\n    if (root._bokeh_is_loading > 0) {\n      console.debug(\"Bokeh: BokehJS is being loaded, scheduling callback at\", now());\n      return null;\n    }\n    if (js_urls == null || js_urls.length === 0) {\n      run_callbacks();\n      return null;\n    }\n    console.debug(\"Bokeh: BokehJS not loaded, scheduling load and callback at\", now());\n    root._bokeh_is_loading = css_urls.length + js_urls.length;\n\n    function on_load() {\n      root._bokeh_is_loading--;\n      if (root._bokeh_is_loading === 0) {\n        console.debug(\"Bokeh: all BokehJS libraries/stylesheets loaded\");\n        run_callbacks()\n      }\n    }\n\n    function on_error(url) {\n      console.error(\"failed to load \" + url);\n    }\n\n    for (let i = 0; i < css_urls.length; i++) {\n      const url = css_urls[i];\n      const element = document.createElement(\"link\");\n      element.onload = on_load;\n      element.onerror = on_error.bind(null, url);\n      element.rel = \"stylesheet\";\n      element.type = \"text/css\";\n      element.href = url;\n      console.debug(\"Bokeh: injecting link tag for BokehJS stylesheet: \", url);\n      document.body.appendChild(element);\n    }\n\n    for (let i = 0; i < js_urls.length; i++) {\n      const url = js_urls[i];\n      const element = document.createElement('script');\n      element.onload = on_load;\n      element.onerror = on_error.bind(null, url);\n      element.async = false;\n      element.src = url;\n      console.debug(\"Bokeh: injecting script tag for BokehJS library: \", url);\n      document.head.appendChild(element);\n    }\n  };\n\n  function inject_raw_css(css) {\n    const element = document.createElement(\"style\");\n    element.appendChild(document.createTextNode(css));\n    document.body.appendChild(element);\n  }\n\n  const js_urls = [\"https://cdn.bokeh.org/bokeh/release/bokeh-2.4.3.min.js\", \"https://cdn.bokeh.org/bokeh/release/bokeh-gl-2.4.3.min.js\", \"https://cdn.bokeh.org/bokeh/release/bokeh-widgets-2.4.3.min.js\", \"https://cdn.bokeh.org/bokeh/release/bokeh-tables-2.4.3.min.js\", \"https://cdn.bokeh.org/bokeh/release/bokeh-mathjax-2.4.3.min.js\"];\n  const css_urls = [];\n\n  const inline_js = [    function(Bokeh) {\n      Bokeh.set_log_level(\"info\");\n    },\nfunction(Bokeh) {\n    }\n  ];\n\n  function run_inline_js() {\n    if (root.Bokeh !== undefined || force === true) {\n          for (let i = 0; i < inline_js.length; i++) {\n      inline_js[i].call(root, root.Bokeh);\n    }\n} else if (Date.now() < root._bokeh_timeout) {\n      setTimeout(run_inline_js, 100);\n    } else if (!root._bokeh_failed_load) {\n      console.log(\"Bokeh: BokehJS failed to load within specified timeout.\");\n      root._bokeh_failed_load = true;\n    } else if (force !== true) {\n      const cell = $(document.getElementById(null)).parents('.cell').data().cell;\n      cell.output_area.append_execute_result(NB_LOAD_WARNING)\n    }\n  }\n\n  if (root._bokeh_is_loading === 0) {\n    console.debug(\"Bokeh: BokehJS loaded, going straight to plotting\");\n    run_inline_js();\n  } else {\n    load_libs(css_urls, js_urls, function() {\n      console.debug(\"Bokeh: BokehJS plotting callback run at\", now());\n      run_inline_js();\n    });\n  }\n}(window));",
      "application/vnd.bokehjs_load.v0+json": ""
     },
     "metadata": {},
     "output_type": "display_data"
    },
    {
     "data": {
      "text/html": [
       "\n",
       "  <div class=\"bk-root\" id=\"21086b28-911f-4f51-bc03-084054648b0b\" data-root-id=\"1179\"></div>\n"
      ]
     },
     "metadata": {},
     "output_type": "display_data"
    },
    {
     "data": {
      "application/javascript": "(function(root) {\n  function embed_document(root) {\n  const docs_json = {\"e920348a-e7c9-4df9-b190-6c12fc5a67c4\":{\"defs\":[],\"roots\":{\"references\":[{\"attributes\":{\"below\":[{\"id\":\"1190\"}],\"center\":[{\"id\":\"1193\"},{\"id\":\"1197\"},{\"id\":\"1229\"}],\"height\":400,\"left\":[{\"id\":\"1194\"}],\"renderers\":[{\"id\":\"1217\"},{\"id\":\"1236\"}],\"right\":[{\"id\":\"1252\"}],\"sizing_mode\":\"stretch_width\",\"title\":{\"id\":\"1180\"},\"toolbar\":{\"id\":\"1205\"},\"x_range\":{\"id\":\"1182\"},\"x_scale\":{\"id\":\"1186\"},\"y_range\":{\"id\":\"1184\"},\"y_scale\":{\"id\":\"1188\"}},\"id\":\"1179\",\"subtype\":\"Figure\",\"type\":\"Plot\"},{\"attributes\":{\"axis_label\":\"Cars arriving\",\"axis_label_standoff\":10,\"axis_label_text_color\":\"#5B5B5B\",\"axis_label_text_font\":\"Calibri Light\",\"axis_label_text_font_size\":\"1.15em\",\"axis_label_text_font_style\":\"bold\",\"axis_line_alpha\":1,\"axis_line_color\":\"#5B5B5B\",\"coordinates\":null,\"formatter\":{\"id\":\"1224\"},\"group\":null,\"major_label_policy\":{\"id\":\"1225\"},\"major_label_text_color\":\"#5B5B5B\",\"major_label_text_font\":\"Calibri Light\",\"major_label_text_font_size\":\"0.95em\",\"major_label_text_font_style\":\"bold\",\"major_tick_in\":0,\"major_tick_line_alpha\":0.25,\"major_tick_line_color\":\"#5B5B5B\",\"major_tick_out\":3,\"minor_tick_line_alpha\":0.25,\"minor_tick_line_color\":\"#5B5B5B\",\"ticker\":{\"id\":\"1191\"}},\"id\":\"1190\",\"type\":\"LinearAxis\"},{\"attributes\":{},\"id\":\"1225\",\"type\":\"AllLabels\"},{\"attributes\":{\"fill_alpha\":{\"value\":0.2},\"fill_color\":{\"value\":\"#ff7f0e\"},\"hatch_alpha\":{\"value\":0.2},\"hatch_color\":{\"value\":\"#ff7f0e\"},\"line_alpha\":{\"value\":0.2},\"line_color\":{\"value\":\"#ff7f0e\"},\"line_width\":{\"value\":2},\"size\":{\"value\":8},\"x\":{\"field\":\"xs\"},\"y\":{\"field\":\"ys\"}},\"id\":\"1235\",\"type\":\"Scatter\"},{\"attributes\":{},\"id\":\"1198\",\"type\":\"PanTool\"},{\"attributes\":{},\"id\":\"1222\",\"type\":\"AllLabels\"},{\"attributes\":{},\"id\":\"1199\",\"type\":\"WheelZoomTool\"},{\"attributes\":{\"bottom_units\":\"screen\",\"coordinates\":null,\"fill_alpha\":0.5,\"fill_color\":\"lightgrey\",\"group\":null,\"left_units\":\"screen\",\"level\":\"overlay\",\"line_alpha\":1.0,\"line_color\":\"black\",\"line_dash\":[4,4],\"line_width\":2,\"right_units\":\"screen\",\"syncable\":false,\"top_units\":\"screen\"},\"id\":\"1204\",\"type\":\"BoxAnnotation\"},{\"attributes\":{\"data\":{\"xs\":{\"__ndarray__\":\"AAAAAAAAAAAAAAAAAADwPwAAAAAAAABAAAAAAAAACEAAAAAAAAAQQAAAAAAAABRAAAAAAAAAGEAAAAAAAAAcQAAAAAAAACBAAAAAAAAAIkAAAAAAAAAkQAAAAAAAACZAAAAAAAAAKEAAAAAAAAAqQAAAAAAAACxAAAAAAAAALkA=\",\"dtype\":\"float64\",\"order\":\"little\",\"shape\":[16]},\"ys\":{\"__ndarray__\":\"AAAAAAAAVEAAAAAAAJBzQAAAAAAASIpAAAAAAADMlEAAAAAAADSbQAAAAAAALJxAAAAAAADcl0AAAAAAAACQQAAAAAAAeIRAAAAAAAAwd0AAAAAAAOBmQAAAAAAAAFVAAAAAAAAAP0AAAAAAAAAmQAAAAAAAABBAAAAAAAAA8D8=\",\"dtype\":\"float64\",\"order\":\"little\",\"shape\":[16]}},\"selected\":{\"id\":\"1227\"},\"selection_policy\":{\"id\":\"1226\"}},\"id\":\"1212\",\"type\":\"ColumnDataSource\"},{\"attributes\":{\"line_alpha\":0.2,\"line_color\":\"#1f77b4\",\"line_width\":2,\"x\":{\"field\":\"xs\"},\"y\":{\"field\":\"ys\"}},\"id\":\"1216\",\"type\":\"Line\"},{\"attributes\":{\"line_color\":\"#1f77b4\",\"line_width\":2,\"x\":{\"field\":\"xs\"},\"y\":{\"field\":\"ys\"}},\"id\":\"1214\",\"type\":\"Line\"},{\"attributes\":{},\"id\":\"1184\",\"type\":\"DataRange1d\"},{\"attributes\":{\"line_alpha\":0.1,\"line_color\":\"#1f77b4\",\"line_width\":2,\"x\":{\"field\":\"xs\"},\"y\":{\"field\":\"ys\"}},\"id\":\"1215\",\"type\":\"Line\"},{\"attributes\":{},\"id\":\"1186\",\"type\":\"LinearScale\"},{\"attributes\":{\"data\":{\"xs\":{\"__ndarray__\":\"AAAAAAAAAAAAAAAAAADwPwAAAAAAAABAAAAAAAAACEAAAAAAAAAQQAAAAAAAABRAAAAAAAAAGEAAAAAAAAAcQAAAAAAAACBAAAAAAAAAIkAAAAAAAAAkQAAAAAAAACZAAAAAAAAAKEAAAAAAAAAqQAAAAAAAACxAAAAAAAAALkA=\",\"dtype\":\"float64\",\"order\":\"little\",\"shape\":[16]},\"ys\":{\"__ndarray__\":\"AAAAAAAAVEAAAAAAAJBzQAAAAAAASIpAAAAAAADMlEAAAAAAADSbQAAAAAAALJxAAAAAAADcl0AAAAAAAACQQAAAAAAAeIRAAAAAAAAwd0AAAAAAAOBmQAAAAAAAAFVAAAAAAAAAP0AAAAAAAAAmQAAAAAAAABBAAAAAAAAA8D8=\",\"dtype\":\"float64\",\"order\":\"little\",\"shape\":[16]}},\"selected\":{\"id\":\"1248\"},\"selection_policy\":{\"id\":\"1247\"}},\"id\":\"1231\",\"type\":\"ColumnDataSource\"},{\"attributes\":{\"label\":{\"value\":\"\"},\"renderers\":[{\"id\":\"1236\"}]},\"id\":\"1251\",\"type\":\"LegendItem\"},{\"attributes\":{\"coordinates\":null,\"data_source\":{\"id\":\"1231\"},\"glyph\":{\"id\":\"1233\"},\"group\":null,\"hover_glyph\":null,\"muted_glyph\":{\"id\":\"1235\"},\"nonselection_glyph\":{\"id\":\"1234\"},\"view\":{\"id\":\"1237\"}},\"id\":\"1236\",\"type\":\"GlyphRenderer\"},{\"attributes\":{},\"id\":\"1188\",\"type\":\"LinearScale\"},{\"attributes\":{},\"id\":\"1203\",\"type\":\"SaveTool\"},{\"attributes\":{\"label\":{\"value\":\"\"},\"renderers\":[{\"id\":\"1217\"},{\"id\":\"1236\"}]},\"id\":\"1230\",\"type\":\"LegendItem\"},{\"attributes\":{\"background_fill_alpha\":0.25,\"border_line_alpha\":0,\"click_policy\":\"hide\",\"coordinates\":null,\"glyph_width\":15,\"group\":null,\"items\":[{\"id\":\"1250\"},{\"id\":\"1251\"}],\"label_standoff\":8,\"label_text_color\":\"#5B5B5B\",\"label_text_font\":\"Calibri Light\",\"label_text_font_size\":\"0.95em\",\"label_text_font_style\":\"bold\",\"spacing\":8},\"id\":\"1252\",\"type\":\"Legend\"},{\"attributes\":{\"tools\":[{\"id\":\"1198\"},{\"id\":\"1199\"},{\"id\":\"1200\"},{\"id\":\"1201\"},{\"id\":\"1202\"},{\"id\":\"1203\"}]},\"id\":\"1205\",\"type\":\"Toolbar\"},{\"attributes\":{\"overlay\":{\"id\":\"1204\"}},\"id\":\"1200\",\"type\":\"BoxZoomTool\"},{\"attributes\":{\"callback\":null,\"tooltips\":[[\"x\",\"$x\"],[\"y\",\"$y\"]]},\"id\":\"1202\",\"type\":\"HoverTool\"},{\"attributes\":{\"background_fill_alpha\":0.25,\"border_line_alpha\":0,\"coordinates\":null,\"glyph_width\":15,\"group\":null,\"items\":[{\"id\":\"1230\"}],\"label_standoff\":8,\"label_text_color\":\"#5B5B5B\",\"label_text_font\":\"Calibri Light\",\"label_text_font_size\":\"0.95em\",\"label_text_font_style\":\"bold\",\"spacing\":8,\"visible\":false},\"id\":\"1229\",\"type\":\"Legend\"},{\"attributes\":{},\"id\":\"1227\",\"type\":\"Selection\"},{\"attributes\":{},\"id\":\"1191\",\"type\":\"BasicTicker\"},{\"attributes\":{},\"id\":\"1247\",\"type\":\"UnionRenderers\"},{\"attributes\":{},\"id\":\"1182\",\"type\":\"DataRange1d\"},{\"attributes\":{\"source\":{\"id\":\"1212\"}},\"id\":\"1218\",\"type\":\"CDSView\"},{\"attributes\":{\"coordinates\":null,\"data_source\":{\"id\":\"1212\"},\"glyph\":{\"id\":\"1214\"},\"group\":null,\"hover_glyph\":null,\"muted_glyph\":{\"id\":\"1216\"},\"nonselection_glyph\":{\"id\":\"1215\"},\"view\":{\"id\":\"1218\"}},\"id\":\"1217\",\"type\":\"GlyphRenderer\"},{\"attributes\":{\"axis\":{\"id\":\"1190\"},\"coordinates\":null,\"group\":null,\"minor_grid_line_alpha\":0.6,\"minor_grid_line_color\":\"#e5e5e5\",\"minor_grid_line_dash\":[2,2],\"ticker\":null},\"id\":\"1193\",\"type\":\"Grid\"},{\"attributes\":{\"source\":{\"id\":\"1231\"}},\"id\":\"1237\",\"type\":\"CDSView\"},{\"attributes\":{},\"id\":\"1221\",\"type\":\"BasicTickFormatter\"},{\"attributes\":{},\"id\":\"1248\",\"type\":\"Selection\"},{\"attributes\":{\"fill_color\":{\"value\":\"#ff7f0e\"},\"hatch_color\":{\"value\":\"#ff7f0e\"},\"line_color\":{\"value\":\"#ff7f0e\"},\"line_width\":{\"value\":2},\"size\":{\"value\":8},\"x\":{\"field\":\"xs\"},\"y\":{\"field\":\"ys\"}},\"id\":\"1233\",\"type\":\"Scatter\"},{\"attributes\":{},\"id\":\"1195\",\"type\":\"BasicTicker\"},{\"attributes\":{},\"id\":\"1226\",\"type\":\"UnionRenderers\"},{\"attributes\":{\"axis_label\":\"Frequency\",\"axis_label_standoff\":10,\"axis_label_text_color\":\"#5B5B5B\",\"axis_label_text_font\":\"Calibri Light\",\"axis_label_text_font_size\":\"1.15em\",\"axis_label_text_font_style\":\"bold\",\"axis_line_alpha\":1,\"axis_line_color\":\"#5B5B5B\",\"coordinates\":null,\"formatter\":{\"id\":\"1221\"},\"group\":null,\"major_label_policy\":{\"id\":\"1222\"},\"major_label_text_color\":\"#5B5B5B\",\"major_label_text_font\":\"Calibri Light\",\"major_label_text_font_size\":\"0.95em\",\"major_label_text_font_style\":\"bold\",\"major_tick_in\":0,\"major_tick_line_alpha\":0.25,\"major_tick_line_color\":\"#5B5B5B\",\"major_tick_out\":3,\"minor_tick_line_alpha\":0.25,\"minor_tick_line_color\":\"#5B5B5B\",\"ticker\":{\"id\":\"1195\"}},\"id\":\"1194\",\"type\":\"LinearAxis\"},{\"attributes\":{\"label\":{\"value\":\"\"},\"renderers\":[{\"id\":\"1217\"}]},\"id\":\"1250\",\"type\":\"LegendItem\"},{\"attributes\":{\"axis\":{\"id\":\"1194\"},\"coordinates\":null,\"dimension\":1,\"group\":null,\"minor_grid_line_alpha\":0.6,\"minor_grid_line_color\":\"#e5e5e5\",\"minor_grid_line_dash\":[2,2],\"ticker\":null},\"id\":\"1197\",\"type\":\"Grid\"},{\"attributes\":{},\"id\":\"1224\",\"type\":\"BasicTickFormatter\"},{\"attributes\":{\"coordinates\":null,\"group\":null,\"text\":\"Frequency of occurrence\",\"text_color\":\"#5B5B5B\",\"text_font\":\"Calibri Light\",\"text_font_size\":\"1.25em\",\"text_font_style\":\"bold\"},\"id\":\"1180\",\"type\":\"Title\"},{\"attributes\":{},\"id\":\"1201\",\"type\":\"ResetTool\"},{\"attributes\":{\"fill_alpha\":{\"value\":0.1},\"fill_color\":{\"value\":\"#ff7f0e\"},\"hatch_alpha\":{\"value\":0.1},\"hatch_color\":{\"value\":\"#ff7f0e\"},\"line_alpha\":{\"value\":0.1},\"line_color\":{\"value\":\"#ff7f0e\"},\"line_width\":{\"value\":2},\"size\":{\"value\":8},\"x\":{\"field\":\"xs\"},\"y\":{\"field\":\"ys\"}},\"id\":\"1234\",\"type\":\"Scatter\"}],\"root_ids\":[\"1179\"]},\"title\":\"Bokeh Application\",\"version\":\"2.4.3\"}};\n  const render_items = [{\"docid\":\"e920348a-e7c9-4df9-b190-6c12fc5a67c4\",\"root_ids\":[\"1179\"],\"roots\":{\"1179\":\"21086b28-911f-4f51-bc03-084054648b0b\"}}];\n  root.Bokeh.embed.embed_items_notebook(docs_json, render_items);\n  }\n  if (root.Bokeh !== undefined) {\n    embed_document(root);\n  } else {\n    let attempts = 0;\n    const timer = setInterval(function(root) {\n      if (root.Bokeh !== undefined) {\n        clearInterval(timer);\n        embed_document(root);\n      } else {\n        attempts++;\n        if (attempts > 100) {\n          clearInterval(timer);\n          console.log(\"Bokeh: ERROR: Unable to run BokehJS code because BokehJS library is missing\");\n        }\n      }\n    }, 10, root)\n  }\n})(window);",
      "application/vnd.bokehjs_exec.v0+json": ""
     },
     "metadata": {
      "application/vnd.bokehjs_exec.v0+json": {
       "id": "1179"
      }
     },
     "output_type": "display_data"
    }
   ],
   "source": [
    "# Set backend to spm.MB\n",
    "backend = spb.BB\n",
    "\n",
    "# Create a Poisson distribution with mean 5 and name \"Poisson_distribution\"\n",
    "poisson_distribution = ss.Poisson(\"Cars arriving\", lamda=5)\n",
    "\n",
    "# Generate a random sample of size 10000 from the Poisson distribution\n",
    "random_sample = ss.sample(poisson_distribution, size=10000)\n",
    "\n",
    "# Print the Frequency of occurrence\n",
    "frequency = collections.Counter(random_sample)\n",
    "\n",
    "# Sort the dictionary by keys\n",
    "sorted_frequency = dict(sorted(frequency.items()))\n",
    "\n",
    "# Plot the sorted frequency values as a line graph\n",
    "p1 = spb.plot_list(\n",
    "    list(sorted_frequency.keys()),\n",
    "    list(sorted_frequency.values()),\n",
    "    title=\"Frequency of occurrence\",\n",
    "    xlabel=\"Cars arriving\",\n",
    "    ylabel=\"Frequency\",\n",
    "    show=False,\n",
    "    backend=backend,\n",
    ")\n",
    "\n",
    "# Plot the sorted frequency values as a scatter plot\n",
    "p2 = spb.plot_list(\n",
    "    list(sorted_frequency.keys()),\n",
    "    list(sorted_frequency.values()),\n",
    "    is_point=True,\n",
    "    show=False,\n",
    "    backend=backend,\n",
    ")\n",
    "\n",
    "# Display the combined plot\n",
    "(p1 + p2).show()"
   ]
  },
  {
   "cell_type": "markdown",
   "metadata": {},
   "source": [
    "## Binomial distribution, probabilities"
   ]
  },
  {
   "cell_type": "code",
   "execution_count": 88,
   "metadata": {},
   "outputs": [
    {
     "data": {
      "text/latex": [
       "$\\displaystyle \\begin{equation}\\\\\\begin{split}\\\\P(X = 4) & :0.167\\\\P(X >= 7) & :0.022\\\\\\nonumber\\end{split}\\\\\\end{equation}$"
      ],
      "text/plain": [
       "<IPython.core.display.Math object>"
      ]
     },
     "metadata": {},
     "output_type": "display_data"
    },
    {
     "data": {
      "text/latex": [
       "$\\displaystyle \\begin{equation}\\\\\\begin{split}\\\\\\textrm{Fewer than 3 Tangoers} & :0.051\\\\\\nonumber\\end{split}\\\\\\end{equation}$"
      ],
      "text/plain": [
       "<IPython.core.display.Math object>"
      ]
     },
     "metadata": {},
     "output_type": "display_data"
    }
   ],
   "source": [
    "# Constants\n",
    "PROBABILITY_DANCER = 0.08\n",
    "PROBABILITY_TANGOER = 0.12\n",
    "\n",
    "# Define symbols\n",
    "x = sp.symbols(\"x\")\n",
    "\n",
    "sample_size = 36\n",
    "# Binomial distribution with sample size and probability\n",
    "X = ss.Binomial(\"X\", n=sample_size, p=PROBABILITY_DANCER)\n",
    "\n",
    "# Calculate and round the probability P(X = 4)\n",
    "PX_eq_4 = round(ss.P(sp.Eq(X, 4)).evalf(), 3)\n",
    "\n",
    "# Calculate and round the probability P(X >= 7)\n",
    "PX_ge_7 = round(ss.P(X >= 7).evalf(), 3)\n",
    "\n",
    "# Store probabilities in a list for display\n",
    "probabilities = [f\"P(X = 4) & :{PX_eq_4}\", f\"P(X >= 7) & :{PX_ge_7}\"]\n",
    "\n",
    "# Print aligned LaTeX equations\n",
    "print_aligned_latex_equations(*probabilities)\n",
    "\n",
    "# Update sample size\n",
    "sample_size = 50\n",
    "\n",
    "# Define symbols\n",
    "x = sp.symbols(\"x\")\n",
    "\n",
    "# Binomial distribution with updated sample size and probability\n",
    "X = ss.Binomial(\"X\", n=sample_size, p=PROBABILITY_TANGOER)\n",
    "\n",
    "# Probability Mass Function (PMF) of X\n",
    "pmf = ss.density(X)(x)\n",
    "\n",
    "# Calculate and round the probability P(X < 3)\n",
    "PX_lt_3_TANGOER = round(ss.P(sp.Lt(X, 3)).evalf(), 3)\n",
    "\n",
    "# Store probability in a list for display\n",
    "probabilities = [rf\"\\textrm{{Fewer than 3 Tangoers}} & :{PX_lt_3_TANGOER}\"]\n",
    "\n",
    "# Print aligned LaTeX equations\n",
    "print_aligned_latex_equations(*probabilities)"
   ]
  },
  {
   "cell_type": "code",
   "execution_count": 89,
   "metadata": {},
   "outputs": [
    {
     "data": {
      "text/plain": [
       "TestResults(failed=0, attempted=49)"
      ]
     },
     "execution_count": 89,
     "metadata": {},
     "output_type": "execute_result"
    }
   ],
   "source": [
    "doctest.testmod(verbose=False)"
   ]
  }
 ],
 "metadata": {
  "anaconda-cloud": {},
  "kernelspec": {
   "display_name": "sympy-cheat-sheet",
   "language": "python",
   "name": "python3"
  },
  "language_info": {
   "codemirror_mode": {
    "name": "ipython",
    "version": 3
   },
   "file_extension": ".py",
   "mimetype": "text/x-python",
   "name": "python",
   "nbconvert_exporter": "python",
   "pygments_lexer": "ipython3",
   "version": "3.10.10"
  },
  "toc-autonumbering": true,
  "toc-showcode": false,
  "toc-showmarkdowntxt": false,
  "vscode": {
   "interpreter": {
    "hash": "65fb92a6aa2f36fc82ab59ae2bf8dcc24bee54cd17ba1a13d6f534329c3fcbbe"
   }
  }
 },
 "nbformat": 4,
 "nbformat_minor": 4
}
