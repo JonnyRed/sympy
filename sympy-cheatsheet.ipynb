{
 "cells": [
  {
   "cell_type": "code",
   "execution_count": 102,
   "metadata": {},
   "outputs": [],
   "source": [
    "import warnings\n",
    "warnings.filterwarnings(\"ignore\", category=UserWarning)\n"
   ]
  },
  {
   "cell_type": "code",
   "execution_count": 103,
   "metadata": {
    "collapsed": true,
    "jupyter": {
     "outputs_hidden": true
    }
   },
   "outputs": [],
   "source": [
    "import sys\n",
    "import math\n",
    "import string\n",
    "import operator\n",
    "import random\n",
    "import collections\n",
    "import datetime\n",
    "import itertools\n",
    "import functools\n",
    "\n",
    "import numpy as np\n",
    "import pandas as pd\n",
    "\n",
    "import matplotlib\n",
    "import matplotlib.dates as mdates\n",
    "import matplotlib.colors as mcolors\n",
    "import matplotlib.pyplot as plt\n",
    "from mpl_toolkits.mplot3d import Axes3D\n",
    "import seaborn as sns\n",
    "\n",
    "import IPython\n",
    "import sympy as sp\n",
    "import sympy.plotting as splt\n",
    "import sympy.physics.vector as spv\n",
    "import sympy.physics.mechanics as spm\n",
    "import scipy.constants as spc\n",
    "\n",
    "import IPython.display as ipd\n",
    "spv.init_vprinting()\n",
    "%matplotlib inline\n"
   ]
  },
  {
   "cell_type": "code",
   "execution_count": 104,
   "metadata": {
    "collapsed": true,
    "jupyter": {
     "outputs_hidden": true
    }
   },
   "outputs": [
    {
     "name": "stdout",
     "output_type": "stream",
     "text": [
      "\n",
      "    Python version 3.9.13 (main, Oct 13 2022, 21:23:06) [MSC v.1916 64 bit (AMD64)]\n",
      "    IPython version 8.4.0\n",
      "    Numpy version 1.23.3\n",
      "    mathplotlib version 3.5.2\n",
      "    Pandas version 1.4.4\n",
      "    Seaborn version 0.12.0\n",
      "    \n"
     ]
    }
   ],
   "source": [
    "print(f\"\"\"\n",
    "    Python version {sys.version}\n",
    "    IPython version {IPython.__version__}\n",
    "    Numpy version {np.__version__}\n",
    "    mathplotlib version {matplotlib.__version__}\n",
    "    Pandas version {pd.__version__}\n",
    "    Seaborn version {sns.__version__}\n",
    "    \"\"\"\n",
    "      )\n"
   ]
  },
  {
   "cell_type": "code",
   "execution_count": 105,
   "metadata": {
    "collapsed": true,
    "jupyter": {
     "outputs_hidden": true
    }
   },
   "outputs": [],
   "source": [
    "def directory(obj):\n",
    "    return [\n",
    "        str for str in dir(obj)\n",
    "        if callable(getattr(obj, str)) & ~str.startswith('_')\n",
    "    ]\n"
   ]
  },
  {
   "cell_type": "code",
   "execution_count": 106,
   "metadata": {
    "collapsed": true,
    "jupyter": {
     "outputs_hidden": true
    }
   },
   "outputs": [
    {
     "name": "stdout",
     "output_type": "stream",
     "text": [
      "Audio          JSON               Video               display_markdown      \n",
      "Code           Javascript         VimeoVideo          display_pdf           \n",
      "DisplayHandle  Latex              YouTubeVideo        display_png           \n",
      "DisplayObject  Markdown           clear_output        display_pretty        \n",
      "FileLink       Math               display             display_svg           \n",
      "FileLinks      Pretty             display_html        publish_display_data  \n",
      "GeoJSON        ProgressBar        display_javascript  set_matplotlib_close  \n",
      "HTML           SVG                display_jpeg        set_matplotlib_formats\n",
      "IFrame         ScribdDocument     display_json        update_display        \n",
      "Image          TextDisplayObject  display_latex     \n",
      "\n"
     ]
    }
   ],
   "source": [
    "print(IPython.utils.text.columnize(directory(ipd)))\n"
   ]
  },
  {
   "cell_type": "code",
   "execution_count": 107,
   "metadata": {
    "collapsed": true,
    "jupyter": {
     "outputs_hidden": true
    }
   },
   "outputs": [
    {
     "name": "stdout",
     "output_type": "stream",
     "text": [
      "Catalan           Naturals            __dir__            __ne__             \n",
      "ComplexInfinity   Naturals0           __doc__            __new__            \n",
      "Complexes         NegativeInfinity    __eq__             __reduce__         \n",
      "EmptySequence     NegativeOne         __format__         __reduce_ex__      \n",
      "EmptySet          One                 __ge__             __repr__           \n",
      "EulerGamma        Pi                  __getattr__        __setattr__        \n",
      "Exp1              Rationals           __getattribute__   __sizeof__         \n",
      "GoldenRatio       Reals               __gt__             __slots__          \n",
      "Half              TribonacciConstant  __hash__           __str__            \n",
      "IdentityFunction  UniversalSet        __init__           __subclasshook__   \n",
      "ImaginaryUnit     Zero                __init_subclass__  _classes_to_install\n",
      "Infinity          __call__            __le__             false              \n",
      "Integers          __class__           __lt__             register           \n",
      "NaN               __delattr__         __module__         true               \n",
      "\n"
     ]
    }
   ],
   "source": [
    "print(IPython.utils.text.columnize(dir(sp.S)))\n"
   ]
  },
  {
   "cell_type": "code",
   "execution_count": 108,
   "metadata": {},
   "outputs": [],
   "source": [
    "HALF = sp.S.Half\n",
    "PI = sp.pi\n",
    "E = sp.exp\n",
    "POSITIVEINFINITY = sp.S.Infinity\n"
   ]
  },
  {
   "cell_type": "markdown",
   "metadata": {},
   "source": [
    "# Support Functions"
   ]
  },
  {
   "cell_type": "code",
   "execution_count": 109,
   "metadata": {},
   "outputs": [],
   "source": [
    "def reference_frame(\n",
    "    frame: str,\n",
    "    x=r'\\imath', y=r'\\jmath', z=r'\\mathbf k'\n",
    ") -> spv.ReferenceFrame:\n",
    "    return spv.ReferenceFrame(\n",
    "        frame, latexs=(\n",
    "            fr'\\; {{}}^\\mathcal {frame} \\hat {x}',\n",
    "            fr'\\;{{}}^\\mathcal {frame} \\hat {y}',\n",
    "            fr'\\: {{}}^\\mathcal {frame} \\hat {{z}}'\n",
    "        )\n",
    "    )\n",
    "\n",
    "\n",
    "def vector(F: spv.ReferenceFrame, rx, ry, rz=0) -> spv.Vector:\n",
    "    return rx*F.x + ry*F.y + rz*F.z\n",
    "\n",
    "\n",
    "def vector_cos(\n",
    "    F: spv.ReferenceFrame, magnitude,\n",
    "    anglex, angley, anglez=sp.pi/2\n",
    ") -> spv.Vector:\n",
    "    return (magnitude *\n",
    "            (sp.cos(anglex)*F.x\n",
    "             + sp.cos(angley)*F.y\n",
    "             + sp.cos(anglez)*F.z\n",
    "             )\n",
    "            )\n",
    "\n",
    "\n",
    "def vector_line(\n",
    "    start: spv.Vector, finish: spv.Vector\n",
    ") -> spv.Vector:\n",
    "    return finish - start\n",
    "\n",
    "\n",
    "def vector_line_eqn(\n",
    "    F: spv.ReferenceFrame, start: spv.Vector, finish: spv.Vector, kappa\n",
    ") -> spv.Vector:\n",
    "    return start + vector_line(start, finish).normalize()*kappa\n",
    "\n",
    "\n",
    "def angle_between_vectors(a: spv.Vector, b: spv.Vector):\n",
    "    return sp.acos(a.dot(b)/a.magnitude()/b.magnitude())\n",
    "\n",
    "\n",
    "def make2Dsymbols(symbol_list):\n",
    "    return [\n",
    "        sp.symbols(f\"{ch}_x:y\", real=True)\n",
    "        for ch in symbol_list\n",
    "    ]\n",
    "\n",
    "\n",
    "F, E = make2Dsymbols(['F', 'E'])\n",
    "assert str(F) == '(F_x, F_y)'\n",
    "assert str(E) == '(E_x, E_y)'\n"
   ]
  },
  {
   "cell_type": "markdown",
   "metadata": {},
   "source": [
    "__Solutions to equilibrium equations__"
   ]
  },
  {
   "cell_type": "code",
   "execution_count": 110,
   "metadata": {},
   "outputs": [],
   "source": [
    "def solve_equilibrium_equation(\n",
    "    frame: spv.ReferenceFrame,\n",
    "    unknown_variables: list[sp.Symbol],\n",
    "    forces: list[spv.Vector],\n",
    "    moments: list[spv.Vector]\n",
    "):\n",
    "    \"\"\"Solve a set of vectors for unknowns\n",
    "\n",
    "    Args:\n",
    "        frame (spv.ReferenceFrame): Reference frame containing vectors\n",
    "        unknown_variables (list[sp.Symbol]): List of unknwn variabes in \n",
    "        the vectors which are to be solved for.\n",
    "\n",
    "        forces (list[spv.Vector]): List of force vectors that are in \n",
    "        equilibrium\n",
    "\n",
    "        moments (list[spv.Vector]): List of moment vectors that are in \n",
    "        equilibrium\n",
    "\n",
    "    Returns:\n",
    "        _type_: _description_\n",
    "    \"\"\"\n",
    "    total_force = sum(forces)\n",
    "    total_moments = sum(moments)\n",
    "    # display(total_force)\n",
    "    # display(total_moments)\n",
    "    eqn = sp.Eq(\n",
    "        sp.Matrix.vstack(\n",
    "            total_force.to_matrix(frame),\n",
    "            total_moments.to_matrix(frame)),\n",
    "        sp.zeros(6, 1)\n",
    "    )\n",
    "    # display(eqn)\n",
    "    return sp.solve(eqn, unknown_variables, dict=True)\n"
   ]
  },
  {
   "cell_type": "markdown",
   "metadata": {},
   "source": [
    "[Distributed load calculation][]\n",
    "\n",
    "[Distributed load calculation]: https://engineeringstatics.org/distributed-loads.html"
   ]
  },
  {
   "cell_type": "code",
   "execution_count": 111,
   "metadata": {},
   "outputs": [],
   "source": [
    "def distributed_load(\n",
    "    load_distribution_expr: sp.core.expr.Expr,\n",
    "    integration_variable: sp.core.expr.Expr,\n",
    "    upper: sp.core.expr.Expr\n",
    ") -> sp.core.expr.Expr:\n",
    "\n",
    "    equivalent_force = sp.integrate(\n",
    "        load_distribution_expr,\n",
    "        [integration_variable, 0, upper]\n",
    "    )\n",
    "\n",
    "    moment = sp.integrate(\n",
    "        integration_variable*load_distribution_expr,\n",
    "        [integration_variable, 0, upper]\n",
    "    )\n",
    "\n",
    "    position_of_equivalent_force = sp.symbols(r\"\\overline{x}\")\n",
    "    eqn = sp.Eq(equivalent_force*position_of_equivalent_force, moment)\n",
    "    point_of_application = sp.solve(eqn, position_of_equivalent_force)\n",
    "    return equivalent_force, point_of_application[0]\n",
    "\n",
    "\n",
    "x = sp.symbols(\"x\")\n",
    "assert distributed_load(sp.Rational(10, 6)*x, x, 6) == (30, 4)\n",
    "assert distributed_load(4, x, 4) == (16, 2)\n"
   ]
  },
  {
   "cell_type": "markdown",
   "metadata": {},
   "source": [
    "# Sympy \n",
    "1. [SymPy Documentation][]\n",
    "1. [SymPy Modules Reference][]\n",
    "1. [Sympy Live][]\n",
    "1. [Scipy Lecture Notes][]\n",
    "1. [Sympy Tutorial Main Site][]\n",
    "1. [Sympy Tutorial - Russia][]\n",
    "1. [Sympy examples 1][]\n",
    "1. [SymPy: symbolic computing in Python](https://peerj.com/articles/cs-103/) looks cool\n",
    "1. Good [sympy tutorial](http://www.cfm.brown.edu/people/dobrush/am33/SymPy/index.html) and [plotting](http://www.cfm.brown.edu/people/dobrush/am33/SymPy/part1.html) by Vladimir Dobrushkin\n",
    "\n",
    "\n",
    "[SymPy Documentation]: http://docs.sympy.org/latest/index.html#welcome-to-sympy-s-documentation\n",
    "\n",
    "[SymPy Modules Reference]: http://docs.sympy.org/latest/modules/index.html#sympy-modules-reference\n",
    "\n",
    "[Sympy Live]: http://live.sympy.org/\n",
    "\n",
    "[Scipy Lecture Notes]: http://www.scipy-lectures.org/\n",
    "\n",
    "[Sympy Tutorial Main Site]: http://docs.sympy.org/latest/tutorial/index.html#sympy-tutorial\n",
    "\n",
    "[Sympy Tutorial - Russia]: http://www.inp.nsk.su/~grozin/python/sympy.html\n",
    "\n",
    "[Sympy examples 1]: https://github.com/sbu-python-class/python-science/blob/master/lectures/06-sympy/sympy-examples.ipynb\n",
    "\n"
   ]
  },
  {
   "cell_type": "markdown",
   "metadata": {},
   "source": [
    "# Symbols\n",
    "1. [symbols][]\n",
    "1. [assumptions][]\n",
    "\n",
    "[symbols]: http://docs.sympy.org/latest/modules/core.html?highlight=match#sympy.core.symbol.symbols\n",
    "[assumptions]:http://docs.sympy.org/latest/modules/core.html?highlight=match#module-sympy.core.assumptions"
   ]
  },
  {
   "cell_type": "code",
   "execution_count": 112,
   "metadata": {
    "collapsed": true,
    "jupyter": {
     "outputs_hidden": true
    }
   },
   "outputs": [
    {
     "data": {
      "image/png": "[encoded data removed]",
      "text/latex": [
       "$\\displaystyle \\left( x, \\  h, \\  n, \\  k\\right)$"
      ],
      "text/plain": [
       "(x, h, n, k)"
      ]
     },
     "execution_count": 112,
     "metadata": {},
     "output_type": "execute_result"
    }
   ],
   "source": [
    "x, h = sp.symbols('x, h')\n",
    "n, k = sp.symbols('n, k', positive=True, integer=True)\n",
    "x, h, n, k\n"
   ]
  },
  {
   "cell_type": "code",
   "execution_count": 113,
   "metadata": {
    "collapsed": true,
    "jupyter": {
     "outputs_hidden": true
    }
   },
   "outputs": [
    {
     "data": {
      "image/png": "[encoded data removed]",
      "text/latex": [
       "$\\displaystyle \\left( a_{4}, \\  a_{5}\\right)$"
      ],
      "text/plain": [
       "(a₄, a₅)"
      ]
     },
     "execution_count": 113,
     "metadata": {},
     "output_type": "execute_result"
    }
   ],
   "source": [
    "a4, a5 = sp.symbols('a4:6')\n",
    "a4, a5\n"
   ]
  },
  {
   "cell_type": "code",
   "execution_count": 114,
   "metadata": {},
   "outputs": [
    {
     "data": {
      "text/latex": [
       "$\\displaystyle \\left[\\begin{matrix}c_{{1}{1}} & c_{{1}{2}} & c_{{1}{3}}\\\\c_{{2}{1}} & c_{{2}{2}} & c_{{2}{3}}\\\\c_{{3}{1}} & c_{{3}{2}} & c_{{3}{3}}\\end{matrix}\\right]$"
      ],
      "text/plain": [
       "⎡c_{{1}{1}}  c_{{1}{2}}  c_{{1}{3}}⎤\n",
       "⎢                                  ⎥\n",
       "⎢c_{{2}{1}}  c_{{2}{2}}  c_{{2}{3}}⎥\n",
       "⎢                                  ⎥\n",
       "⎣c_{{3}{1}}  c_{{3}{2}}  c_{{3}{3}}⎦"
      ]
     },
     "execution_count": 114,
     "metadata": {},
     "output_type": "execute_result"
    }
   ],
   "source": [
    "c = sp.symbols(\"c_{{1:4}{1:4}}\")\n",
    "sp.Matrix(3, 3, c)\n"
   ]
  },
  {
   "cell_type": "code",
   "execution_count": 115,
   "metadata": {
    "collapsed": true,
    "jupyter": {
     "outputs_hidden": true
    }
   },
   "outputs": [
    {
     "data": {
      "image/png": "[encoded data removed]",
      "text/latex": [
       "$\\displaystyle \\left( 1, \\  \\frac{1}{2}, \\  -1, \\  -\\infty, \\  \\infty, \\  \\infty, \\  \\pi, \\  e, \\  e, \\  \\phi, \\  \\phi, \\  \\gamma, \\  \\gamma, \\  i\\right)$"
      ],
      "text/plain": [
       "(1, 1/2, -1, -∞, ∞, ∞, π, ℯ, ℯ, φ, φ, γ, γ, ⅈ)"
      ]
     },
     "execution_count": 115,
     "metadata": {},
     "output_type": "execute_result"
    }
   ],
   "source": [
    "(\n",
    "    sp.S.One,\n",
    "    sp.S.Half,\n",
    "    sp.S.NegativeOne,\n",
    "    sp.S.NegativeInfinity,\n",
    "    sp.oo,\n",
    "    sp.S.Infinity,\n",
    "    sp.pi,\n",
    "    sp.E,\n",
    "    sp.S.Exp1,\n",
    "    sp.S.GoldenRatio,\n",
    "    sp.GoldenRatio,\n",
    "    sp.S.EulerGamma,\n",
    "    sp.EulerGamma,\n",
    "    sp.I\n",
    ")\n"
   ]
  },
  {
   "cell_type": "code",
   "execution_count": 116,
   "metadata": {
    "collapsed": true,
    "jupyter": {
     "outputs_hidden": true
    }
   },
   "outputs": [
    {
     "data": {
      "image/png": "[encoded data removed]",
      "text/latex": [
       "$\\displaystyle \\left( 1, \\  \\frac{1}{2}, \\  -1, \\  -\\infty, \\  \\infty, \\  \\infty, \\  \\pi, \\  e, \\  e, \\  \\phi, \\  \\phi, \\  \\gamma, \\  \\gamma, \\  i\\right)$"
      ],
      "text/plain": [
       "(1, 1/2, -1, -∞, ∞, ∞, π, ℯ, ℯ, φ, φ, γ, γ, ⅈ)"
      ]
     },
     "execution_count": 116,
     "metadata": {},
     "output_type": "execute_result"
    }
   ],
   "source": [
    "(\n",
    "    sp.S.One,\n",
    "    sp.S.Half,\n",
    "    sp.S.NegativeOne,\n",
    "    sp.S.NegativeInfinity,\n",
    "    sp.oo,\n",
    "    sp.S.Infinity,\n",
    "    sp.pi,\n",
    "    sp.E,\n",
    "    sp.S.Exp1,\n",
    "    sp.S.GoldenRatio,\n",
    "    sp.GoldenRatio,\n",
    "    sp.S.EulerGamma,\n",
    "    sp.EulerGamma,\n",
    "    sp.I\n",
    ")\n"
   ]
  },
  {
   "attachments": {},
   "cell_type": "markdown",
   "metadata": {},
   "source": [
    "# Lambdify"
   ]
  },
  {
   "cell_type": "code",
   "execution_count": 117,
   "metadata": {},
   "outputs": [
    {
     "data": {
      "image/png": "[encoded data removed]",
      "text/latex": [
       "$\\displaystyle \\operatorname{asin}{\\left(\\frac{x^{2}}{y} \\right)} + \\pi$"
      ],
      "text/plain": [
       "    ⎛ 2⎞    \n",
       "    ⎜x ⎟    \n",
       "asin⎜──⎟ + π\n",
       "    ⎝y ⎠    "
      ]
     },
     "execution_count": 117,
     "metadata": {},
     "output_type": "execute_result"
    }
   ],
   "source": [
    "x, y = sp.symbols('x, y', real=True)\n",
    "expr = sp.asin(x**2/y) + PI\n",
    "expr\n"
   ]
  },
  {
   "cell_type": "code",
   "execution_count": 118,
   "metadata": {},
   "outputs": [
    {
     "data": {
      "image/png": "[encoded data removed]",
      "text/latex": [
       "$\\displaystyle 3.66519142918809$"
      ],
      "text/plain": [
       "3.6651914291880923"
      ]
     },
     "execution_count": 118,
     "metadata": {},
     "output_type": "execute_result"
    }
   ],
   "source": [
    "expr_f = sp.lambdify([x, y], expr)\n",
    "expr_f(1, 2)\n"
   ]
  },
  {
   "cell_type": "code",
   "execution_count": 119,
   "metadata": {},
   "outputs": [
    {
     "data": {
      "text/plain": [
       "[<matplotlib.lines.Line2D at 0x27091a692e0>]"
      ]
     },
     "execution_count": 119,
     "metadata": {},
     "output_type": "execute_result"
    },
    {
     "data": {
      "image/png": "[encoded data removed]",
      "text/plain": [
       "<Figure size 800x550 with 1 Axes>"
      ]
     },
     "metadata": {},
     "output_type": "display_data"
    }
   ],
   "source": [
    "x_num = np.linspace(0, 1, 100)\n",
    "y_num = 2\n",
    "plt.plot(x_num, expr_f(x_num, y_num))\n"
   ]
  },
  {
   "cell_type": "markdown",
   "metadata": {
    "toc-hr-collapsed": true,
    "toc-nb-collapsed": true
   },
   "source": [
    "# Printing"
   ]
  },
  {
   "cell_type": "code",
   "execution_count": 120,
   "metadata": {
    "collapsed": true,
    "jupyter": {
     "outputs_hidden": true
    }
   },
   "outputs": [],
   "source": [
    "G, M, d = sp.symbols('G, M, d', real=True, positive=True)\n",
    "N = spm.ReferenceFrame('N', latexs=(\n",
    "    r'\\hat{\\imath}', r'\\hat{\\jmath}', r'\\hat{k}'))\n"
   ]
  },
  {
   "cell_type": "code",
   "execution_count": 121,
   "metadata": {
    "collapsed": true,
    "jupyter": {
     "outputs_hidden": true
    }
   },
   "outputs": [
    {
     "data": {
      "image/png": "[encoded data removed]",
      "text/latex": [
       "$\\displaystyle 4 d\\hat{\\imath}$"
      ],
      "text/plain": [
       "4⋅d n_x"
      ]
     },
     "metadata": {},
     "output_type": "display_data"
    },
    {
     "data": {
      "image/png": "[encoded data removed]",
      "text/latex": [
       "$\\displaystyle 6 d\\hat{\\imath}$"
      ],
      "text/plain": [
       "6⋅d n_x"
      ]
     },
     "metadata": {},
     "output_type": "display_data"
    },
    {
     "data": {
      "text/plain": [
       "(None, None)"
      ]
     },
     "execution_count": 121,
     "metadata": {},
     "output_type": "execute_result"
    }
   ],
   "source": [
    "r12 = 4*d*N.x\n",
    "r13 = 6*d*N.x\n",
    "ipd.display(r12), ipd.display(r13)\n"
   ]
  },
  {
   "cell_type": "code",
   "execution_count": 122,
   "metadata": {
    "collapsed": true,
    "jupyter": {
     "outputs_hidden": true
    }
   },
   "outputs": [
    {
     "data": {
      "text/latex": [
       "$r_{21}=-  \\frac{5 G M^{2}}{8 d^{2}}\\hat{\\imath}$"
      ],
      "text/plain": [
       "<IPython.core.display.Latex object>"
      ]
     },
     "metadata": {},
     "output_type": "display_data"
    },
    {
     "data": {
      "text/latex": [
       "$r_{23}=\\frac{G M^{2}}{2 d^{2}}\\hat{\\imath}$"
      ],
      "text/plain": [
       "<IPython.core.display.Latex object>"
      ]
     },
     "metadata": {},
     "output_type": "display_data"
    },
    {
     "data": {
      "text/latex": [
       "$r_{21} + r_{23} =-  \\frac{G M^{2}}{8 d^{2}}\\hat{\\imath}$"
      ],
      "text/plain": [
       "<IPython.core.display.Latex object>"
      ]
     },
     "metadata": {},
     "output_type": "display_data"
    }
   ],
   "source": [
    "f21 = -G*5*M*2*M/r12.magnitude()**2*r12.normalize()\n",
    "f23 = G*2*M*M/(r13 - r12).magnitude()**2*(r13 - r12).normalize()\n",
    "\n",
    "ipd.display(\n",
    "    ipd.Latex(rf'$r_{{21}}={sp.latex(f21)}$'),\n",
    "    ipd.Latex(rf'$r_{{23}}={sp.latex(f23)}$'),\n",
    "    ipd.Latex(rf'$r_{{21}} + r_{{23}} ={sp.latex(f23+f21)}$')\n",
    ")\n"
   ]
  },
  {
   "cell_type": "code",
   "execution_count": 123,
   "metadata": {},
   "outputs": [
    {
     "data": {
      "text/latex": [
       "$r_{21}=-  \\frac{5 G M^{2}}{8 d^{2}}\\hat{\\imath} \\quad r_{21}=-  \\frac{5 G M^{2}}{8 d^{2}}\\hat{\\imath}$"
      ],
      "text/plain": [
       "<IPython.core.display.Latex object>"
      ]
     },
     "metadata": {},
     "output_type": "display_data"
    }
   ],
   "source": [
    "ipd.display(\n",
    "    ipd.Latex(\n",
    "        rf'$r_{{21}}={sp.latex(f21)} \\quad '\n",
    "        rf'r_{{21}}={sp.latex(f21)}$'\n",
    "    )\n",
    ")\n"
   ]
  },
  {
   "cell_type": "code",
   "execution_count": 124,
   "metadata": {},
   "outputs": [
    {
     "data": {
      "text/latex": [
       "$\\displaystyle  -  \\frac{5 G M^{2}}{8 d^{2}}\\hat{\\imath}\\quad   \\frac{G M^{2}}{2 d^{2}}\\hat{\\imath}\\quad $"
      ],
      "text/plain": [
       "<IPython.core.display.Math object>"
      ]
     },
     "metadata": {},
     "output_type": "display_data"
    }
   ],
   "source": [
    "ipd.display(\n",
    "    ipd.Math(\n",
    "        rf'$ {spv.vlatex(f21)}\\quad '\n",
    "        rf'  {spv.vlatex(f23)}\\quad $'\n",
    "    )\n",
    ")\n"
   ]
  },
  {
   "cell_type": "code",
   "execution_count": 125,
   "metadata": {},
   "outputs": [
    {
     "data": {
      "text/latex": [
       "$\\displaystyle  -  \\frac{5 G M^{2}}{8 d^{2}}\\hat{\\imath} \\quad   \\frac{G M^{2}}{2 d^{2}}\\hat{\\imath} \\quad $"
      ],
      "text/plain": [
       "<IPython.core.display.Math object>"
      ]
     },
     "metadata": {},
     "output_type": "display_data"
    }
   ],
   "source": [
    "ipd.display(\n",
    "    ipd.Math(\n",
    "        rf'$ {spv.vlatex(f21)} \\quad '\n",
    "        rf'  {spv.vlatex(f23)} \\quad $'\n",
    "    )\n",
    ")\n"
   ]
  },
  {
   "cell_type": "code",
   "execution_count": 126,
   "metadata": {},
   "outputs": [
    {
     "data": {
      "text/latex": [
       "$\\displaystyle  x^{2}\\quad   x^{3}\\quad $"
      ],
      "text/plain": [
       "<IPython.core.display.Math object>"
      ]
     },
     "metadata": {},
     "output_type": "display_data"
    }
   ],
   "source": [
    "ipd.display(\n",
    "    ipd.Math(\n",
    "        rf'$ {spv.vlatex(x**2)}\\quad '\n",
    "        rf'  {spv.vlatex(x**3)}\\quad $'\n",
    "    )\n",
    ")\n"
   ]
  },
  {
   "cell_type": "code",
   "execution_count": 127,
   "metadata": {},
   "outputs": [
    {
     "data": {
      "text/latex": [
       "$\\displaystyle  x\\; {}^\\mathcal F \\hat \\imath\\quad   \\dot{x}\\; {}^\\mathcal F \\hat \\imath\\quad   \\ddot{x}\\; {}^\\mathcal F \\hat \\imath\\quad $"
      ],
      "text/plain": [
       "<IPython.core.display.Math object>"
      ]
     },
     "metadata": {},
     "output_type": "display_data"
    }
   ],
   "source": [
    "F = reference_frame(\"F\")\n",
    "x = spv.dynamicsymbols('x')\n",
    "vec_r = x*F.x\n",
    "\n",
    "ipd.display(\n",
    "    ipd.Math(\n",
    "        rf'$ {spv.vlatex(vec_r)}\\quad '\n",
    "        rf'  {spv.vlatex(vec_r.dt(F))}\\quad '\n",
    "        rf'  {spv.vlatex(vec_r.dt(F).dt(F))}\\quad $'\n",
    "    )\n",
    ")\n"
   ]
  },
  {
   "cell_type": "markdown",
   "metadata": {},
   "source": [
    "# Function\n",
    "* [Function][]\n",
    "* [Expand][]\n",
    "* [Subs][]\n",
    "* [Assumptions][]\n",
    "* [Elementary Functions, Piecewise](https://docs.sympy.org/latest/modules/functions/elementary.html)\n",
    "\n",
    "\n",
    "\n",
    "[Function]: http://docs.sympy.org/latest/modules/core.html?highlight=match#sympy.core.function.Function\n",
    "\n",
    "[Subs]: http://docs.sympy.org/latest/modules/core.html?highlight=match#sympy.core.function.Subs\n",
    "\n",
    "[Expand]: http://docs.sympy.org/latest/modules/core.html?highlight=match#sympy.core.function.expand\n",
    "\n",
    "[Assumptions]: http://docs.sympy.org/latest/modules/core.html#module-sympy.core.assumptions"
   ]
  },
  {
   "cell_type": "code",
   "execution_count": 128,
   "metadata": {
    "collapsed": true,
    "jupyter": {
     "outputs_hidden": true
    }
   },
   "outputs": [
    {
     "data": {
      "text/plain": [
       "['real',\n",
       " 'extended_real',\n",
       " 'complex',\n",
       " 'imaginary',\n",
       " 'integer',\n",
       " 'irrational',\n",
       " 'rational',\n",
       " 'negative',\n",
       " 'positive']"
      ]
     },
     "execution_count": 128,
     "metadata": {},
     "output_type": "execute_result"
    }
   ],
   "source": [
    "assumptions = [\n",
    "    'real',\n",
    "    'extended_real',\n",
    "    'complex',\n",
    "    'imaginary',\n",
    "    'integer',\n",
    "    'irrational',\n",
    "    'rational',\n",
    "    'negative',\n",
    "    'positive'\n",
    "]\n",
    "assumptions\n"
   ]
  },
  {
   "cell_type": "code",
   "execution_count": 129,
   "metadata": {
    "collapsed": true,
    "jupyter": {
     "outputs_hidden": true
    }
   },
   "outputs": [
    {
     "data": {
      "text/plain": [
       "['mul',\n",
       " 'modulus',\n",
       " 'power_base',\n",
       " 'power_exp',\n",
       " 'mul',\n",
       " 'log',\n",
       " 'multinomial',\n",
       " 'basic',\n",
       " 'complex',\n",
       " 'func',\n",
       " 'trig']"
      ]
     },
     "execution_count": 129,
     "metadata": {},
     "output_type": "execute_result"
    }
   ],
   "source": [
    "hints_expand = [\n",
    "    'mul',\n",
    "    'modulus',\n",
    "    'power_base',\n",
    "    'power_exp',\n",
    "    'mul',\n",
    "    'log',\n",
    "    'multinomial',\n",
    "    'basic',\n",
    "    'complex',\n",
    "    'func',\n",
    "    'trig'\n",
    "]\n",
    "hints_expand\n"
   ]
  },
  {
   "cell_type": "code",
   "execution_count": 130,
   "metadata": {
    "collapsed": true,
    "jupyter": {
     "outputs_hidden": true
    }
   },
   "outputs": [
    {
     "data": {
      "image/png": "[encoded data removed]",
      "text/latex": [
       "$\\displaystyle \\left( 2 \\pi, \\  \\frac{1}{3}, \\  \\frac{3 \\sqrt{10}}{10}\\right)$"
      ],
      "text/plain": [
       "⎛          3⋅√10⎞\n",
       "⎜2⋅π, 1/3, ─────⎟\n",
       "⎝            10 ⎠"
      ]
     },
     "execution_count": 130,
     "metadata": {},
     "output_type": "execute_result"
    }
   ],
   "source": [
    "(\n",
    "    sp.nsimplify(6.28, [sp.pi], tolerance=0.01),\n",
    "    sp.nsimplify(0.33333, tolerance=0.001),\n",
    "    sp.nsimplify(sp.cos(sp.atan(1./3)))\n",
    ")\n"
   ]
  },
  {
   "cell_type": "markdown",
   "metadata": {},
   "source": [
    "## Function List\n",
    "* [simplify][], inverse operation of expand\n",
    "* [apart][], partial fraction decomposition\n",
    "* [together][], merge to one common division\n",
    "* [collect][], collect terms with same power\n",
    "* [collect sqrt][], collect terms with same power\n",
    "* [radsimp][], rationalize the denominator\n",
    "* trigsimp, use trig. identities to simplify\n",
    "* powsimp, combine bases and exponents\n",
    "* [factor][], Compute the factorization of expression, f, into irreducibles.\n",
    "* [cancel][] ,Cancel common factors in a rational function f/g.\n",
    "* [Split into numerator, demoninator](http://docs.sympy.org/latest/modules/core.html?highlight=as_numer_denom#sympy.core.expr.Expr.as_numer_denom)\n",
    "\n",
    "[simplify]: http://docs.sympy.org/latest/modules/simplify/simplify.html?highlight=collect_sqrt#sympy.simplify.simplify.simplify\n",
    "\n",
    "[apart]: http://docs.sympy.org/latest/modules/polys/reference.html?highlight=sympy.polys%20together#sympy.polys.partfrac.apart\n",
    "\n",
    "[together]: http://docs.sympy.org/latest/modules/polys/reference.html?highlight=sympy.polys%20together#sympy.polys.rationaltools.together\n",
    "\n",
    "[collect]: http://docs.sympy.org/latest/modules/simplify/simplify.html?highlight=collect_sqrt#sympy.simplify.radsimp.collect\n",
    "[collect sqrt]: http://docs.sympy.org/latest/modules/simplify/simplify.html?highlight=collect_sqrt#collect-sqrt\n",
    "\n",
    "[radsimp]: http://docs.sympy.org/latest/modules/simplify/simplify.html?highlight=collect_sqrt#sympy.simplify.radsimp.radsimp\n",
    "\n",
    "[factor]: http://docs.sympy.org/latest/modules/polys/reference.html?highlight=sympy.polys%20factor#sympy.polys.polytools.factor\n",
    "\n",
    "[cancel]: http://docs.sympy.org/latest/modules/polys/reference.html?highlight=sympy.polys%20cancel#sympy.polys.polytools.Poly.cancel\n",
    "\n",
    "\n",
    "if ratio=1, simplify output can’t be longer than input\n",
    "If ratio=oo, simplify will be applied anyway:"
   ]
  },
  {
   "cell_type": "code",
   "execution_count": 131,
   "metadata": {
    "collapsed": true,
    "jupyter": {
     "outputs_hidden": true
    }
   },
   "outputs": [
    {
     "data": {
      "image/png": "[encoded data removed]",
      "text/latex": [
       "$\\displaystyle 1$"
      ],
      "text/plain": [
       "1"
      ]
     },
     "execution_count": 131,
     "metadata": {},
     "output_type": "execute_result"
    }
   ],
   "source": [
    "sp.simplify(sp.cos(x)**2 + sp.sin(x)**2)\n"
   ]
  },
  {
   "cell_type": "code",
   "execution_count": 132,
   "metadata": {
    "collapsed": true,
    "jupyter": {
     "outputs_hidden": true
    }
   },
   "outputs": [
    {
     "data": {
      "text/plain": [
       "[<function sympy.core.function.expand_log(expr, deep=True, force=False, factor=False)>,\n",
       " <function sympy.core.function.expand_mul(expr, deep=True)>,\n",
       " <function sympy.core.function.expand_multinomial(expr, deep=True)>,\n",
       " <function sympy.core.function.expand_complex(expr, deep=True)>,\n",
       " <function sympy.core.function.expand_trig(expr, deep=True)>,\n",
       " <function sympy.core.function.expand_power_base(expr, deep=True, force=False)>,\n",
       " <function sympy.core.function.expand_power_exp(expr, deep=True)>,\n",
       " <function sympy.core.function.expand_func(expr, deep=True)>,\n",
       " <function sympy.simplify.hyperexpand.hyperexpand(f, allow_hyper=False, rewrite='default', place=None)>]"
      ]
     },
     "execution_count": 132,
     "metadata": {},
     "output_type": "execute_result"
    }
   ],
   "source": [
    "funcs_expand = [\n",
    "    sp.expand_log,\n",
    "    sp.expand_mul,\n",
    "    sp.expand_multinomial,\n",
    "    sp.expand_complex,\n",
    "    sp.expand_trig,\n",
    "    sp.expand_power_base,\n",
    "    sp.expand_power_exp,\n",
    "    sp.expand_func,\n",
    "    sp.hyperexpand\n",
    "]\n",
    "funcs_expand\n"
   ]
  },
  {
   "cell_type": "code",
   "execution_count": 133,
   "metadata": {},
   "outputs": [
    {
     "data": {
      "image/png": "[encoded data removed]",
      "text/latex": [
       "$\\displaystyle \\tan^{2}{\\left(x \\right)} + 1$"
      ],
      "text/plain": [
       "   2       \n",
       "tan (x) + 1"
      ]
     },
     "execution_count": 133,
     "metadata": {},
     "output_type": "execute_result"
    }
   ],
   "source": [
    "sp.diff(sp.tan(x), x)\n"
   ]
  },
  {
   "attachments": {},
   "cell_type": "markdown",
   "metadata": {},
   "source": [
    "## Limit"
   ]
  },
  {
   "cell_type": "code",
   "execution_count": 134,
   "metadata": {},
   "outputs": [],
   "source": [
    "x = sp.symbols('x')\n"
   ]
  },
  {
   "cell_type": "code",
   "execution_count": 135,
   "metadata": {
    "collapsed": true,
    "jupyter": {
     "outputs_hidden": true
    }
   },
   "outputs": [
    {
     "data": {
      "image/png": "[encoded data removed]",
      "text/latex": [
       "$\\displaystyle \\tan^{2}{\\left(x \\right)} + 1$"
      ],
      "text/plain": [
       "   2       \n",
       "tan (x) + 1"
      ]
     },
     "execution_count": 135,
     "metadata": {},
     "output_type": "execute_result"
    }
   ],
   "source": [
    "sp.limit((sp.tan(x+h) - sp.tan(x))/h, h, 0)\n"
   ]
  },
  {
   "cell_type": "code",
   "execution_count": 136,
   "metadata": {},
   "outputs": [
    {
     "data": {
      "image/png": "[encoded data removed]",
      "text/latex": [
       "$\\displaystyle 1$"
      ],
      "text/plain": [
       "1"
      ]
     },
     "execution_count": 136,
     "metadata": {},
     "output_type": "execute_result"
    }
   ],
   "source": [
    "sp.limit(sp.sin(x/2 + sp.sin(x)), x, PI)\n"
   ]
  },
  {
   "attachments": {},
   "cell_type": "markdown",
   "metadata": {},
   "source": [
    "## Derivatives"
   ]
  },
  {
   "cell_type": "code",
   "execution_count": 137,
   "metadata": {},
   "outputs": [],
   "source": [
    "x = sp.symbols('x')\n"
   ]
  },
  {
   "cell_type": "code",
   "execution_count": 138,
   "metadata": {},
   "outputs": [
    {
     "data": {
      "image/png": "[encoded data removed]",
      "text/latex": [
       "$\\displaystyle \\frac{\\left(\\sin{\\left(x \\right)} + 1\\right)^{2}}{\\left(1 - \\cos{\\left(x \\right)}\\right)^{2}}$"
      ],
      "text/plain": [
       "            2\n",
       "(sin(x) + 1) \n",
       "─────────────\n",
       "            2\n",
       "(1 - cos(x)) "
      ]
     },
     "execution_count": 138,
     "metadata": {},
     "output_type": "execute_result"
    }
   ],
   "source": [
    "expr = ((1 + sp.sin(x))/(1 - sp.cos(x)))**2\n",
    "expr\n"
   ]
  },
  {
   "cell_type": "code",
   "execution_count": 139,
   "metadata": {},
   "outputs": [
    {
     "data": {
      "image/png": "[encoded data removed]",
      "text/latex": [
       "$\\displaystyle \\frac{2 \\left(\\sin{\\left(x \\right)} + 1\\right) \\cos{\\left(x \\right)}}{\\left(1 - \\cos{\\left(x \\right)}\\right)^{2}} - \\frac{2 \\left(\\sin{\\left(x \\right)} + 1\\right)^{2} \\sin{\\left(x \\right)}}{\\left(1 - \\cos{\\left(x \\right)}\\right)^{3}}$"
      ],
      "text/plain": [
       "                                      2       \n",
       "2⋅(sin(x) + 1)⋅cos(x)   2⋅(sin(x) + 1) ⋅sin(x)\n",
       "───────────────────── - ──────────────────────\n",
       "                2                       3     \n",
       "    (1 - cos(x))            (1 - cos(x))      "
      ]
     },
     "execution_count": 139,
     "metadata": {},
     "output_type": "execute_result"
    }
   ],
   "source": [
    "expr.diff()\n"
   ]
  },
  {
   "cell_type": "code",
   "execution_count": 140,
   "metadata": {},
   "outputs": [
    {
     "data": {
      "image/png": "[encoded data removed]",
      "text/latex": [
       "$\\displaystyle \\left( f{\\left(x \\right)}, \\  g{\\left(x \\right)}\\right)$"
      ],
      "text/plain": [
       "(f(x), g(x))"
      ]
     },
     "execution_count": 140,
     "metadata": {},
     "output_type": "execute_result"
    }
   ],
   "source": [
    "f, g = sp.symbols('f, g', cls=sp.Function)\n",
    "f(x), g(x)\n"
   ]
  },
  {
   "cell_type": "code",
   "execution_count": 141,
   "metadata": {},
   "outputs": [
    {
     "data": {
      "image/png": "[encoded data removed]",
      "text/latex": [
       "$\\displaystyle f{\\left(x + g{\\left(x \\right)} \\right)}$"
      ],
      "text/plain": [
       "f(x + g(x))"
      ]
     },
     "execution_count": 141,
     "metadata": {},
     "output_type": "execute_result"
    }
   ],
   "source": [
    "f(x + g(x))\n"
   ]
  },
  {
   "cell_type": "code",
   "execution_count": 142,
   "metadata": {},
   "outputs": [
    {
     "data": {
      "text/latex": [
       "$\\displaystyle \\left(\\frac{d}{d x} g{\\left(x \\right)} + 1\\right) \\left. \\frac{d}{d \\xi_{1}} f{\\left(\\xi_{1} \\right)} \\right|_{\\substack{ \\xi_{1}=x + g{\\left(x \\right)} }}$"
      ],
      "text/plain": [
       "⎛d           ⎞ ⎛ d        ⎞│           \n",
       "⎜──(g(x)) + 1⎟⋅⎜───(f(ξ₁))⎟│           \n",
       "⎝dx          ⎠ ⎝dξ₁       ⎠│ξ₁=x + g(x)"
      ]
     },
     "execution_count": 142,
     "metadata": {},
     "output_type": "execute_result"
    }
   ],
   "source": [
    "sp.diff(f(x + g(x)), x)\n"
   ]
  },
  {
   "cell_type": "code",
   "execution_count": 143,
   "metadata": {},
   "outputs": [
    {
     "data": {
      "text/latex": [
       "$\\displaystyle \\left(\\left(\\cos{\\left(x \\right)}\\right) + 1\\right) \\left. \\frac{d}{d \\xi_{1}} f{\\left(\\xi_{1} \\right)} \\right|_{\\substack{ \\xi_{1}=x + \\sin{\\left(x \\right)} }}$"
      ],
      "text/plain": [
       "⎛d             ⎞ ⎛ d        ⎞│             \n",
       "⎜──(sin(x)) + 1⎟⋅⎜───(f(ξ₁))⎟│             \n",
       "⎝dx            ⎠ ⎝dξ₁       ⎠│ξ₁=x + sin(x)"
      ]
     },
     "execution_count": 143,
     "metadata": {},
     "output_type": "execute_result"
    }
   ],
   "source": [
    "sp.diff(f(x + g(x)), x).subs(g(x), sp.sin(x))\n"
   ]
  },
  {
   "attachments": {},
   "cell_type": "markdown",
   "metadata": {},
   "source": [
    "## Anti Derivatives"
   ]
  },
  {
   "cell_type": "code",
   "execution_count": 144,
   "metadata": {},
   "outputs": [],
   "source": [
    "x = sp.symbols('x')\n"
   ]
  },
  {
   "cell_type": "code",
   "execution_count": 145,
   "metadata": {},
   "outputs": [
    {
     "data": {
      "image/png": "[encoded data removed]",
      "text/latex": [
       "$\\displaystyle - \\frac{1}{\\sin{\\left(x \\right)}}$"
      ],
      "text/plain": [
       " -1   \n",
       "──────\n",
       "sin(x)"
      ]
     },
     "execution_count": 145,
     "metadata": {},
     "output_type": "execute_result"
    }
   ],
   "source": [
    "sp.integrate(sp.csc(x)*sp.cot(x))\n"
   ]
  },
  {
   "cell_type": "code",
   "execution_count": 146,
   "metadata": {},
   "outputs": [
    {
     "data": {
      "image/png": "[encoded data removed]",
      "text/latex": [
       "$\\displaystyle - \\operatorname{asinh}{\\left(\\frac{1}{3} \\right)} + \\operatorname{asinh}{\\left(\\frac{4}{3} \\right)}$"
      ],
      "text/plain": [
       "-asinh(1/3) + asinh(4/3)"
      ]
     },
     "execution_count": 146,
     "metadata": {},
     "output_type": "execute_result"
    }
   ],
   "source": [
    "sp.integrate(\n",
    "    sp.exp(x) / sp.sqrt(sp.exp(2*x) + 9),\n",
    "    (x, 0, sp.log(4))\n",
    ")\n"
   ]
  },
  {
   "cell_type": "code",
   "execution_count": 147,
   "metadata": {},
   "outputs": [],
   "source": [
    "t = sp.symbols('t')\n"
   ]
  },
  {
   "cell_type": "code",
   "execution_count": 148,
   "metadata": {},
   "outputs": [
    {
     "data": {
      "image/png": "[encoded data removed]",
      "text/latex": [
       "$\\displaystyle \\left(t^{10} - 10 t^{9} + 90 t^{8} - 720 t^{7} + 5040 t^{6} - 30240 t^{5} + 151200 t^{4} - 604800 t^{3} + 1814400 t^{2} - 3628800 t + 3628800\\right) e^{t} - 1334961 e$"
      ],
      "text/plain": [
       "⎛ 10       9       8        7         6          5           4           3    \n",
       "⎝t   - 10⋅t  + 90⋅t  - 720⋅t  + 5040⋅t  - 30240⋅t  + 151200⋅t  - 604800⋅t  + 1\n",
       "\n",
       "        2                      ⎞  t            \n",
       "814400⋅t  - 3628800⋅t + 3628800⎠⋅ℯ  - 1334961⋅ℯ"
      ]
     },
     "execution_count": 148,
     "metadata": {},
     "output_type": "execute_result"
    }
   ],
   "source": [
    "sp.integrate(x**10*sp.exp(x), (x, 1, t))\n"
   ]
  },
  {
   "cell_type": "code",
   "execution_count": 149,
   "metadata": {
    "collapsed": true,
    "jupyter": {
     "outputs_hidden": true
    }
   },
   "outputs": [
    {
     "data": {
      "image/png": "[encoded data removed]",
      "text/latex": [
       "$\\displaystyle x \\log{\\left(x \\right)} - x$"
      ],
      "text/plain": [
       "x⋅log(x) - x"
      ]
     },
     "execution_count": 149,
     "metadata": {},
     "output_type": "execute_result"
    }
   ],
   "source": [
    "sp.integrate(sp.log(x), x)\n"
   ]
  },
  {
   "cell_type": "code",
   "execution_count": 150,
   "metadata": {
    "collapsed": true,
    "jupyter": {
     "outputs_hidden": true
    }
   },
   "outputs": [
    {
     "data": {
      "image/png": "[encoded data removed]",
      "text/latex": [
       "$\\displaystyle \\sqrt{\\pi}$"
      ],
      "text/plain": [
       "√π"
      ]
     },
     "execution_count": 150,
     "metadata": {},
     "output_type": "execute_result"
    }
   ],
   "source": [
    "sp.integrate(\n",
    "    sp.exp(-x**2),\n",
    "    (x, sp.S.NegativeInfinity, sp.S.Infinity)\n",
    ")\n"
   ]
  },
  {
   "cell_type": "code",
   "execution_count": 151,
   "metadata": {
    "collapsed": true,
    "jupyter": {
     "outputs_hidden": true
    }
   },
   "outputs": [
    {
     "data": {
      "image/png": "[encoded data removed]",
      "text/latex": [
       "$\\displaystyle \\left( 1 - \\frac{x^{2}}{2} + \\frac{x^{4}}{24} - \\frac{x^{6}}{720} + \\frac{x^{8}}{40320} + O\\left(x^{10}\\right), \\  \\frac{x^{8}}{40320} - \\frac{x^{6}}{720} + \\frac{x^{4}}{24} - \\frac{x^{2}}{2} + 1\\right)$"
      ],
      "text/plain": [
       "⎛     2    4     6      8               8      6    4    2    ⎞\n",
       "⎜    x    x     x      x      ⎛ 10⎞    x      x    x    x     ⎟\n",
       "⎜1 - ── + ── - ─── + ───── + O⎝x  ⎠, ───── - ─── + ── - ── + 1⎟\n",
       "⎝    2    24   720   40320           40320   720   24   2     ⎠"
      ]
     },
     "execution_count": 151,
     "metadata": {},
     "output_type": "execute_result"
    }
   ],
   "source": [
    "sp.cos(x).series(x, 0, 10), sp.cos(x).series(x, 0, 10).removeO()\n"
   ]
  },
  {
   "attachments": {},
   "cell_type": "markdown",
   "metadata": {},
   "source": [
    "# Multivariable Calculus"
   ]
  },
  {
   "cell_type": "code",
   "execution_count": 152,
   "metadata": {},
   "outputs": [
    {
     "data": {
      "image/png": "[encoded data removed]",
      "text/latex": [
       "$\\displaystyle \\left( x, \\  y, \\  z, \\  u_{1}, \\  u_{2}, \\  u_{3}, \\  t\\right)$"
      ],
      "text/plain": [
       "(x, y, z, u₁, u₂, u₃, t)"
      ]
     },
     "execution_count": 152,
     "metadata": {},
     "output_type": "execute_result"
    }
   ],
   "source": [
    "x, y, z, u1, u2, u3, v1, v2, v3, t = sp.symbols('x:z, u_1:4, v_1:4, t')\n",
    "x, y, z, u1, u2, u3, t\n"
   ]
  },
  {
   "attachments": {},
   "cell_type": "markdown",
   "metadata": {},
   "source": [
    "# Vectors and Geometry"
   ]
  },
  {
   "cell_type": "code",
   "execution_count": 153,
   "metadata": {},
   "outputs": [
    {
     "data": {
      "text/latex": [
       "$\\displaystyle \\left( \\left[\\begin{matrix}u_{1}\\\\u_{2}\\\\u_{3}\\end{matrix}\\right], \\  \\left[\\begin{matrix}v_{1}\\\\v_{2}\\\\v_{3}\\end{matrix}\\right]\\right)$"
      ],
      "text/plain": [
       "⎛⎡u₁⎤  ⎡v₁⎤⎞\n",
       "⎜⎢  ⎥  ⎢  ⎥⎟\n",
       "⎜⎢u₂⎥, ⎢v₂⎥⎟\n",
       "⎜⎢  ⎥  ⎢  ⎥⎟\n",
       "⎝⎣u₃⎦  ⎣v₃⎦⎠"
      ]
     },
     "execution_count": 153,
     "metadata": {},
     "output_type": "execute_result"
    }
   ],
   "source": [
    "u, v = sp.Matrix([u1, u2, u3]), sp.Matrix([v1, v2, v3])\n",
    "u, v\n"
   ]
  },
  {
   "cell_type": "code",
   "execution_count": 154,
   "metadata": {},
   "outputs": [
    {
     "data": {
      "text/latex": [
       "$\\displaystyle \\left[\\begin{matrix}2 u_{1} + v_{1}\\\\2 u_{2} + v_{2}\\\\2 u_{3} + v_{3}\\end{matrix}\\right]$"
      ],
      "text/plain": [
       "⎡2⋅u₁ + v₁⎤\n",
       "⎢         ⎥\n",
       "⎢2⋅u₂ + v₂⎥\n",
       "⎢         ⎥\n",
       "⎣2⋅u₃ + v₃⎦"
      ]
     },
     "metadata": {},
     "output_type": "display_data"
    },
    {
     "data": {
      "image/png": "[encoded data removed]",
      "text/latex": [
       "$\\displaystyle u_{1} v_{1} + u_{2} v_{2} + u_{3} v_{3}$"
      ],
      "text/plain": [
       "u₁⋅v₁ + u₂⋅v₂ + u₃⋅v₃"
      ]
     },
     "metadata": {},
     "output_type": "display_data"
    },
    {
     "data": {
      "text/latex": [
       "$\\displaystyle \\left[\\begin{matrix}u_{2} v_{3} - u_{3} v_{2}\\\\- u_{1} v_{3} + u_{3} v_{1}\\\\u_{1} v_{2} - u_{2} v_{1}\\end{matrix}\\right]$"
      ],
      "text/plain": [
       "⎡u₂⋅v₃ - u₃⋅v₂ ⎤\n",
       "⎢              ⎥\n",
       "⎢-u₁⋅v₃ + u₃⋅v₁⎥\n",
       "⎢              ⎥\n",
       "⎣u₁⋅v₂ - u₂⋅v₁ ⎦"
      ]
     },
     "metadata": {},
     "output_type": "display_data"
    },
    {
     "data": {
      "image/png": "[encoded data removed]",
      "text/latex": [
       "$\\displaystyle \\sqrt{\\left|{u_{1}}\\right|^{2} + \\left|{u_{2}}\\right|^{2} + \\left|{u_{3}}\\right|^{2}}$"
      ],
      "text/plain": [
       "   _______________________\n",
       "  ╱     2       2       2 \n",
       "╲╱  │u₁│  + │u₂│  + │u₃│  "
      ]
     },
     "metadata": {},
     "output_type": "display_data"
    }
   ],
   "source": [
    "display(2*u + v)\n",
    "display(u.dot(v))\n",
    "display(u.cross(v))\n",
    "display(u.norm())\n"
   ]
  },
  {
   "cell_type": "code",
   "execution_count": 155,
   "metadata": {},
   "outputs": [
    {
     "data": {
      "text/latex": [
       "$\\displaystyle \\left[\\begin{matrix}\\frac{v_{1} \\left(u_{1} v_{1} + u_{2} v_{2} + u_{3} v_{3}\\right)}{\\left|{v_{1}}\\right|^{2} + \\left|{v_{2}}\\right|^{2} + \\left|{v_{3}}\\right|^{2}}\\\\\\frac{v_{2} \\left(u_{1} v_{1} + u_{2} v_{2} + u_{3} v_{3}\\right)}{\\left|{v_{1}}\\right|^{2} + \\left|{v_{2}}\\right|^{2} + \\left|{v_{3}}\\right|^{2}}\\\\\\frac{v_{3} \\left(u_{1} v_{1} + u_{2} v_{2} + u_{3} v_{3}\\right)}{\\left|{v_{1}}\\right|^{2} + \\left|{v_{2}}\\right|^{2} + \\left|{v_{3}}\\right|^{2}}\\end{matrix}\\right]$"
      ],
      "text/plain": [
       "⎡v₁⋅(u₁⋅v₁ + u₂⋅v₂ + u₃⋅v₃)⎤\n",
       "⎢──────────────────────────⎥\n",
       "⎢      2       2       2   ⎥\n",
       "⎢  │v₁│  + │v₂│  + │v₃│    ⎥\n",
       "⎢                          ⎥\n",
       "⎢v₂⋅(u₁⋅v₁ + u₂⋅v₂ + u₃⋅v₃)⎥\n",
       "⎢──────────────────────────⎥\n",
       "⎢      2       2       2   ⎥\n",
       "⎢  │v₁│  + │v₂│  + │v₃│    ⎥\n",
       "⎢                          ⎥\n",
       "⎢v₃⋅(u₁⋅v₁ + u₂⋅v₂ + u₃⋅v₃)⎥\n",
       "⎢──────────────────────────⎥\n",
       "⎢      2       2       2   ⎥\n",
       "⎣  │v₁│  + │v₂│  + │v₃│    ⎦"
      ]
     },
     "execution_count": 155,
     "metadata": {},
     "output_type": "execute_result"
    }
   ],
   "source": [
    "proj_u_on_v = u.dot(v)/v.norm()**2 * v\n",
    "proj_u_on_v\n"
   ]
  },
  {
   "attachments": {},
   "cell_type": "markdown",
   "metadata": {},
   "source": [
    "## The equation of the plane\n",
    "\n",
    " ![](./images/plane001.png)\n",
    "\n",
    "\\begin{align*}\n",
    "    \\vec r &= \\vec a + \\lambda \\vec b + \\mu \\vec c \\\\\n",
    "    (\\vec r - \\vec a)\\cdot \\hat n \n",
    "        &\\textrm{ where } \\hat n = \\frac{\\vec b \\times \\vec c}{|\\vec b \\times \\vec c|} \\\\\n",
    "    \\vec r \\cdot \\vec a &= \\vec a \\cdot \\hat n \n",
    "\\end{align*}\n",
    "\n",
    "* $\\vec a \\cdot \\hat n$ is the __perpendicular distance__ of the plane \n",
    "to the origin.\n",
    "* $\\hat n = \\ell \\hat \\imath + m \\hat \\jmath + n \\hat k$\n",
    "* $n_x x + n_y y + n_z z = \\lambda$ then the normal vector is\n",
    "$\\vec n = {}^\\mathcal A n_x + {}^\\mathcal A n_y + {}^\\mathcal A n_z$"
   ]
  },
  {
   "cell_type": "code",
   "execution_count": 156,
   "metadata": {},
   "outputs": [],
   "source": [
    "A = reference_frame(\"A\")\n",
    "a, b, c = [sp.symbols(f'{ch}_{{1:4}}', real=True) for ch in \"abc\"]\n",
    "vec_a, vec_b, vec_c = [vector(A, *_) for _ in [a, b, c]]\n"
   ]
  },
  {
   "cell_type": "code",
   "execution_count": 157,
   "metadata": {},
   "outputs": [
    {
     "data": {
      "text/latex": [
       "$\\displaystyle  \\textrm{Cartesian of} \\quad\\vec r = x\\; {}^\\mathcal A \\hat \\imath + y\\;{}^\\mathcal A \\hat \\jmath + z\\: {}^\\mathcal A \\hat {z}\\quad $"
      ],
      "text/plain": [
       "<IPython.core.display.Math object>"
      ]
     },
     "metadata": {},
     "output_type": "display_data"
    },
    {
     "data": {
      "text/latex": [
       "$\\displaystyle  \\textrm{Direction cosines normal to the plane } \\quad\\ell, m, n \\quad \\hat n = \\ell\\; {}^\\mathcal A \\hat \\imath + m\\;{}^\\mathcal A \\hat \\jmath + n\\: {}^\\mathcal A \\hat {z}\\quad $"
      ],
      "text/plain": [
       "<IPython.core.display.Math object>"
      ]
     },
     "metadata": {},
     "output_type": "display_data"
    },
    {
     "data": {
      "text/latex": [
       "$\\displaystyle  \\textrm{Perpendicular distance to plane} \\quad d = a_{1} \\ell + a_{2} m + a_{3} n\\quad $"
      ],
      "text/plain": [
       "<IPython.core.display.Math object>"
      ]
     },
     "metadata": {},
     "output_type": "display_data"
    }
   ],
   "source": [
    "x, y, z = sp.symbols(\"x, y, z\", real=True)\n",
    "vec_r = vector(A, x, y, z)\n",
    "cartesian = (\n",
    "    rf'$ \\textrm{{Cartesian of}} \\quad'\n",
    "    rf'\\vec r = {spv.vlatex(vec_r)}\\quad $'\n",
    ")\n",
    "ipd.display(ipd.Math(cartesian))\n",
    "\n",
    "ell, m, n = sp.symbols(\"ell, m , n\", real=True)\n",
    "vec_hat_n = vector(A, ell, m, n)\n",
    "direction_cosines = (\n",
    "    rf'$ \\textrm{{Direction cosines normal to the plane }} \\quad'\n",
    "    rf'\\ell, m, n \\quad \\hat n = {spv.vlatex(vec_hat_n)}\\quad $'\n",
    ")\n",
    "ipd.display(ipd.Math(direction_cosines))\n",
    "\n",
    "\n",
    "d = sp.Symbol('d', real=True, positive=True)\n",
    "distance_to_plane = (\n",
    "    rf'$ \\textrm{{Perpendicular distance to plane}} \\quad '\n",
    "    rf'd = {spv.vlatex(spv.dot(vec_a, vec_hat_n))}\\quad $'\n",
    ")\n",
    "ipd.display(ipd.Math(distance_to_plane))\n"
   ]
  },
  {
   "cell_type": "code",
   "execution_count": 158,
   "metadata": {},
   "outputs": [
    {
     "data": {
      "image/png": "[encoded data removed]",
      "text/latex": [
       "$\\displaystyle \\ell x + m y + n z = d$"
      ],
      "text/plain": [
       "ell⋅x + m⋅y + n⋅z = d"
      ]
     },
     "execution_count": 158,
     "metadata": {},
     "output_type": "execute_result"
    }
   ],
   "source": [
    "sp.Eq(\n",
    "    spv.dot(vec_r, vec_hat_n),\n",
    "    spv.dot(vec_a, vec_hat_n) .subs(spv.dot(vec_a, vec_hat_n), d)\n",
    ")\n"
   ]
  },
  {
   "attachments": {},
   "cell_type": "markdown",
   "metadata": {},
   "source": [
    "## Two intersecting planes\n",
    "\n",
    "![](./images/intersecting_planes001.png)\n",
    "\n",
    "* The angle $\\phi$ between the planes is the angle between the\n",
    "two normal vectors of the planes: $$ \\cos \\phi = \\hat n_1 \\times \\hat n_2$$\n",
    "* The direction of the line of intersection of the two planes: $$ \\hat b_{intersection\\; line} = \\hat n_1 \\times \\hat n_2 $$\n",
    "    * parallel to both planes and perpendicular to both normals."
   ]
  },
  {
   "attachments": {},
   "cell_type": "markdown",
   "metadata": {},
   "source": [
    "## Minimum distance from a point to a plane\n",
    "\n",
    "![](./images/intersecting_planes_min_distance001.png)\n",
    "\n",
    "* The component of $\\vec p − \\vec a$ normal to the plane is equal to the minimum distance of P to the plane. $(\\vec p − \\vec a) \\cdot \\hat n$ \n",
    "    * sign depends on which side of plane the point is situated\n"
   ]
  },
  {
   "attachments": {},
   "cell_type": "markdown",
   "metadata": {},
   "source": [
    "__Example__\n",
    "\n",
    "Three points lie on a plane: (2, 1, 2),(−1, −1, −1) and (4, 1, 2).\n",
    "Find the shortest distance of this plane from the point (1, 1, 1).\n"
   ]
  },
  {
   "cell_type": "code",
   "execution_count": 159,
   "metadata": {},
   "outputs": [
    {
     "data": {
      "image/png": "[encoded data removed]",
      "text/latex": [
       "$\\displaystyle \\left\\{ a_{1} : 2, \\  a_{2} : 1, \\  a_{3} : 2, \\  d_{1} : -1, \\  d_{2} : -1, \\  d_{3} : -1, \\  e_{1} : 4, \\  e_{2} : 1, \\  e_{3} : 2, \\  p_{1} : 1, \\  p_{2} : 1, \\  p_{3} : 1\\right\\}$"
      ],
      "text/plain": [
       "OrderedDict([(p_{1}, 1), (p_{2}, 1), (p_{3}, 1), (a_{1}, 2), (a_{2}, 1), (a_{3}, 2), (d_{1\n",
       "}, -1), (d_{2}, -1), (d_{3}, -1), (e_{1}, 4), (e_{2}, 1), (e_{3}, 2)])"
      ]
     },
     "execution_count": 159,
     "metadata": {},
     "output_type": "execute_result"
    }
   ],
   "source": [
    "A = reference_frame(\"A\")\n",
    "p, a, d, e = [sp.symbols(f'{ch}_{{1:4}}', real=True) for ch in \"pade\"]\n",
    "vec_p, vec_a, vec_d, vec_e = [vector(A, *_) for _ in [p, a, d, e]]\n",
    "\n",
    "definitions = collections.OrderedDict(\n",
    "    list(zip(p, (1, 1, 1)))\n",
    "    + list(zip(a, (2, 1, 2)))\n",
    "    + list(zip(d, (-1, -1, -1)))\n",
    "    + list(zip(e, (4, 1, 2)))\n",
    "\n",
    ")\n",
    "definitions\n"
   ]
  },
  {
   "cell_type": "code",
   "execution_count": 160,
   "metadata": {},
   "outputs": [
    {
     "data": {
      "image/png": "[encoded data removed]",
      "text/latex": [
       "$\\displaystyle \\frac{- \\left(a_{1} - p_{1}\\right) \\left(\\left(a_{2} - d_{2}\\right) \\left(a_{3} - e_{3}\\right) - \\left(a_{2} - e_{2}\\right) \\left(a_{3} - d_{3}\\right)\\right) + \\left(a_{2} - p_{2}\\right) \\left(\\left(a_{1} - d_{1}\\right) \\left(a_{3} - e_{3}\\right) - \\left(a_{1} - e_{1}\\right) \\left(a_{3} - d_{3}\\right)\\right) - \\left(a_{3} - p_{3}\\right) \\left(\\left(a_{1} - d_{1}\\right) \\left(a_{2} - e_{2}\\right) - \\left(a_{1} - e_{1}\\right) \\left(a_{2} - d_{2}\\right)\\right)}{\\sqrt{\\left(\\left(a_{1} - d_{1}\\right) \\left(a_{2} - e_{2}\\right) - \\left(a_{1} - e_{1}\\right) \\left(a_{2} - d_{2}\\right)\\right)^{2} + \\left(\\left(a_{1} - d_{1}\\right) \\left(a_{3} - e_{3}\\right) - \\left(a_{1} - e_{1}\\right) \\left(a_{3} - d_{3}\\right)\\right)^{2} + \\left(\\left(a_{2} - d_{2}\\right) \\left(a_{3} - e_{3}\\right) - \\left(a_{2} - e_{2}\\right) \\left(a_{3} - d_{3}\\right)\\right)^{2}}}$"
      ],
      "text/plain": [
       "-(a_{1} - p_{1})⋅((a_{2} - d_{2})⋅(a_{3} - e_{3}) - (a_{2} - e_{2})⋅(a_{3} - d\n",
       "──────────────────────────────────────────────────────────────────────────────\n",
       "                       _______________________________________________________\n",
       "                      ╱                                                       \n",
       "                    ╲╱  ((a_{1} - d_{1})⋅(a_{2} - e_{2}) - (a_{1} - e_{1})⋅(a_\n",
       "\n",
       "_{3})) + (a_{2} - p_{2})⋅((a_{1} - d_{1})⋅(a_{3} - e_{3}) - (a_{1} - e_{1})⋅(a\n",
       "──────────────────────────────────────────────────────────────────────────────\n",
       "______________________________________________________________________________\n",
       "             2                                                                \n",
       "{2} - d_{2}))  + ((a_{1} - d_{1})⋅(a_{3} - e_{3}) - (a_{1} - e_{1})⋅(a_{3} - d\n",
       "\n",
       "_{3} - d_{3})) - (a_{3} - p_{3})⋅((a_{1} - d_{1})⋅(a_{2} - e_{2}) - (a_{1} - e\n",
       "──────────────────────────────────────────────────────────────────────────────\n",
       "______________________________________________________________________________\n",
       "      2                                                                      2\n",
       "_{3}))  + ((a_{2} - d_{2})⋅(a_{3} - e_{3}) - (a_{2} - e_{2})⋅(a_{3} - d_{3})) \n",
       "\n",
       "_{1})⋅(a_{2} - d_{2}))\n",
       "──────────────────────\n",
       "_                     \n",
       "                      \n",
       "                      "
      ]
     },
     "execution_count": 160,
     "metadata": {},
     "output_type": "execute_result"
    }
   ],
   "source": [
    "vec_b = vec_a - vec_d\n",
    "vec_c = vec_a - vec_e\n",
    "vec_n = spv.cross(vec_b, vec_c).simplify()\n",
    "vec_n_hat = vec_n.normalize().simplify()\n",
    "d = spv.dot(vec_p - vec_a, vec_n_hat).simplify()\n",
    "d\n"
   ]
  },
  {
   "cell_type": "code",
   "execution_count": 161,
   "metadata": {},
   "outputs": [
    {
     "data": {
      "image/png": "[encoded data removed]",
      "text/latex": [
       "$\\displaystyle - \\frac{2 \\sqrt{13}}{13}$"
      ],
      "text/plain": [
       "-2⋅√13 \n",
       "───────\n",
       "   13  "
      ]
     },
     "execution_count": 161,
     "metadata": {},
     "output_type": "execute_result"
    }
   ],
   "source": [
    "d.subs(definitions)\n"
   ]
  },
  {
   "attachments": {},
   "cell_type": "markdown",
   "metadata": {},
   "source": [
    "__Intersection of a line with a plane__\n",
    "\n",
    "A line is given by $\\vec r = \\vec a + \\lambda \\vec b$ \n",
    "where $\\vec a = \\hat \\imath + 2 \\hat \\jmath + 3* \\hat k$\n",
    "and $\\vec b = 4 \\hat i + 5 \\hat \\jmath + 6 \\hat k$. Find the coordinates\n",
    "of the point at which the line intersects the plane $2 x + y + 3 z = 6$."
   ]
  },
  {
   "cell_type": "code",
   "execution_count": 162,
   "metadata": {},
   "outputs": [],
   "source": [
    "A = reference_frame(\"A\")\n",
    "a, b, n = [sp.symbols(f'{ch}_{{1:4}}', real=True) for ch in \"abn\"]\n",
    "d, lamda = sp.symbols('d lambda', real=True)\n",
    "\n",
    "vec_a, vec_b, vec_n = [vector(A, *_) for _ in [a, b, n]]\n",
    "\n",
    "definitions = collections.OrderedDict(\n",
    "    list(zip(a, (1, 2, 3)))\n",
    "    + list(zip(b, (4, 5, 6)))\n",
    "    + list(zip(n, (2, 1, 3)))\n",
    "    + [(d, 6)]\n",
    ")\n"
   ]
  },
  {
   "cell_type": "code",
   "execution_count": 163,
   "metadata": {},
   "outputs": [],
   "source": [
    "line_r = vec_a + lamda * vec_b\n"
   ]
  },
  {
   "cell_type": "markdown",
   "metadata": {},
   "source": [
    "## Vector Calculus"
   ]
  },
  {
   "attachments": {},
   "cell_type": "markdown",
   "metadata": {},
   "source": [
    "### Differentiation"
   ]
  },
  {
   "cell_type": "code",
   "execution_count": 164,
   "metadata": {},
   "outputs": [
    {
     "data": {
      "text/latex": [
       "$\\displaystyle \\left[\\begin{matrix}3 t\\\\\\sin{\\left(t \\right)}\\\\t^{2}\\end{matrix}\\right]$"
      ],
      "text/plain": [
       "⎡ 3⋅t  ⎤\n",
       "⎢      ⎥\n",
       "⎢sin(t)⎥\n",
       "⎢      ⎥\n",
       "⎢   2  ⎥\n",
       "⎣  t   ⎦"
      ]
     },
     "execution_count": 164,
     "metadata": {},
     "output_type": "execute_result"
    }
   ],
   "source": [
    "r = sp.Matrix([3*t, sp.sin(t), t**2])\n",
    "r\n"
   ]
  },
  {
   "cell_type": "code",
   "execution_count": 165,
   "metadata": {},
   "outputs": [
    {
     "data": {
      "text/latex": [
       "$\\displaystyle \\left[\\begin{matrix}3\\\\\\cos{\\left(t \\right)}\\\\2 t\\end{matrix}\\right]$"
      ],
      "text/plain": [
       "⎡  3   ⎤\n",
       "⎢      ⎥\n",
       "⎢cos(t)⎥\n",
       "⎢      ⎥\n",
       "⎣ 2⋅t  ⎦"
      ]
     },
     "execution_count": 165,
     "metadata": {},
     "output_type": "execute_result"
    }
   ],
   "source": [
    "r.diff(t)\n"
   ]
  },
  {
   "attachments": {},
   "cell_type": "markdown",
   "metadata": {},
   "source": [
    "### Integration"
   ]
  },
  {
   "cell_type": "code",
   "execution_count": 166,
   "metadata": {},
   "outputs": [
    {
     "data": {
      "text/latex": [
       "$\\displaystyle \\left[\\begin{matrix}e^{t} \\cos{\\left(t \\right)}\\\\t^{4}\\\\\\frac{1}{t^{2} + 1}\\end{matrix}\\right]$"
      ],
      "text/plain": [
       "⎡ t       ⎤\n",
       "⎢ℯ ⋅cos(t)⎥\n",
       "⎢         ⎥\n",
       "⎢    4    ⎥\n",
       "⎢   t     ⎥\n",
       "⎢         ⎥\n",
       "⎢   1     ⎥\n",
       "⎢ ──────  ⎥\n",
       "⎢  2      ⎥\n",
       "⎣ t  + 1  ⎦"
      ]
     },
     "execution_count": 166,
     "metadata": {},
     "output_type": "execute_result"
    }
   ],
   "source": [
    "r = sp.Matrix([sp.exp(t)*sp.cos(t), t**4, 1/(1+t**2)])\n",
    "r\n"
   ]
  },
  {
   "cell_type": "code",
   "execution_count": 167,
   "metadata": {},
   "outputs": [
    {
     "data": {
      "text/latex": [
       "$\\displaystyle \\left[\\begin{matrix}\\frac{e^{t} \\sin{\\left(t \\right)}}{2} + \\frac{e^{t} \\cos{\\left(t \\right)}}{2}\\\\\\frac{t^{5}}{5}\\\\\\operatorname{atan}{\\left(t \\right)}\\end{matrix}\\right]$"
      ],
      "text/plain": [
       "⎡ t           t       ⎤\n",
       "⎢ℯ ⋅sin(t)   ℯ ⋅cos(t)⎥\n",
       "⎢───────── + ─────────⎥\n",
       "⎢    2           2    ⎥\n",
       "⎢                     ⎥\n",
       "⎢          5          ⎥\n",
       "⎢         t           ⎥\n",
       "⎢         ──          ⎥\n",
       "⎢         5           ⎥\n",
       "⎢                     ⎥\n",
       "⎣       atan(t)       ⎦"
      ]
     },
     "execution_count": 167,
     "metadata": {},
     "output_type": "execute_result"
    }
   ],
   "source": [
    "r.integrate(t)\n"
   ]
  },
  {
   "cell_type": "markdown",
   "metadata": {},
   "source": [
    "# Pattern Matching\n",
    "* [match][] in [Basic][]\n",
    "* [Wild][]\n",
    "* [WildFunction][]\n",
    "\n",
    "[Basic]: http://docs.sympy.org/latest/modules/core.html?highlight=match#id15\n",
    "\n",
    "[Wild]: http://docs.sympy.org/latest/modules/core.html?highlight=match#sympy.core.symbol.Wild\n",
    "\n",
    "[WildFunction]: http://docs.sympy.org/latest/modules/core.html?highlight=match#sympy.core.function.WildFunction\n",
    "\n",
    "[match]: http://docs.sympy.org/latest/modules/core.html?highlight=match#sympy.core.basic.Basic.match "
   ]
  },
  {
   "cell_type": "code",
   "execution_count": 168,
   "metadata": {
    "collapsed": true,
    "jupyter": {
     "outputs_hidden": true
    }
   },
   "outputs": [
    {
     "data": {
      "image/png": "[encoded data removed]",
      "text/latex": [
       "$\\displaystyle \\left( \\left\\{ p : 5, \\  q : 3\\right\\}, \\  \\left\\{ p : 1, \\  q : 2\\right\\}\\right)$"
      ],
      "text/plain": [
       "({p: 5, q: 3}, {p: 1, q: 2})"
      ]
     },
     "execution_count": 168,
     "metadata": {},
     "output_type": "execute_result"
    }
   ],
   "source": [
    "p = sp.Wild('p', exclude=[x])\n",
    "q = sp.Wild('q', exclude=[x])\n",
    "(5*x**2 + 3*x).match(p*x**2 + q*x), (x**2).match(p*x**q)\n"
   ]
  },
  {
   "cell_type": "code",
   "execution_count": 169,
   "metadata": {
    "collapsed": true,
    "jupyter": {
     "outputs_hidden": true
    }
   },
   "outputs": [
    {
     "data": {
      "image/png": "[encoded data removed]",
      "text/latex": [
       "$\\displaystyle \\left( \\left\\{ p : 5, \\  \\operatorname{WildFunction}{\\left(f \\right)} : \\cos{\\left(x \\right)}\\right\\}, \\  \\left\\{ \\operatorname{WildFunction}{\\left(f \\right)} : \\cos{\\left(3 x \\right)}\\right\\}\\right)$"
      ],
      "text/plain": [
       "({p: 5, WildFunction(f): cos(x)}, {WildFunction(f): cos(3⋅x)})"
      ]
     },
     "execution_count": 169,
     "metadata": {},
     "output_type": "execute_result"
    }
   ],
   "source": [
    "f = sp.WildFunction('f', nargs=1)\n",
    "(5*sp.cos(x)).match(p*f), (sp.cos(3*x)).match(f)\n"
   ]
  },
  {
   "cell_type": "markdown",
   "metadata": {},
   "source": [
    "# Replacement"
   ]
  },
  {
   "cell_type": "markdown",
   "metadata": {},
   "source": [
    "* [replace][1] replace an expression. An example is found in [Young and Freedman][2] solutions in sympy\n",
    "\n",
    "[1]: http://docs.sympy.org/latest/modules/core.html?highlight=match#sympy.core.basic.Basic.replace\n",
    "[2]:../physics/YoungAndFreedman13/Chapter05-Applying-Newtons-Laws/Chapter05P110-Rotating-System.ipynb"
   ]
  },
  {
   "cell_type": "markdown",
   "metadata": {},
   "source": [
    "# Calculus\n",
    "* [Calculus][2]\n",
    "* [Integrals][1]\n",
    "* [Solving differential equations][3]\n",
    "* [classify ODE][4]\n",
    "\n",
    "[4]: http://docs.sympy.org/latest/modules/solvers/ode.html?highlight=dsolve#classify-ode\n",
    "[3]: http://docs.sympy.org/latest/tutorial/solvers.html#solving-differential-equations\n",
    "[2]: http://docs.sympy.org/latest/tutorial/calculus.html?highlight=dsolve#calculus\n",
    "[1]: http://docs.sympy.org/latest/modules/integrals/integrals.html?highlight=sympy.integrals#module-sympy.integrals"
   ]
  },
  {
   "cell_type": "markdown",
   "metadata": {},
   "source": [
    "# Series and Summations"
   ]
  },
  {
   "cell_type": "markdown",
   "metadata": {},
   "source": [
    "Some examples of series and summations may be found in mathematical problems for physics.\n",
    "  * [Summation][1]\n",
    "  * [Series][2]\n",
    "\n",
    "[1]: ../../Physics/Physics-Problems-To-Solve/physics-mechanics/physics-mechanics-SMR-P001-binomial-expansion-Summation.ipynb\n",
    "[2]: ../../Physics/Physics-Problems-To-Solve/physics-mechanics/physics-mechanics-SMR-P001-binomial-expansion-Series.ipynb"
   ]
  },
  {
   "cell_type": "markdown",
   "metadata": {},
   "source": [
    "# Matrices\n",
    "1 [Matrices][]\n",
    "\n",
    "[Matrices]: http://docs.sympy.org/latest/modules/matrices/matrices.html#module-sympy.matrices.matrices"
   ]
  },
  {
   "attachments": {},
   "cell_type": "markdown",
   "metadata": {},
   "source": [
    "## Selection"
   ]
  },
  {
   "cell_type": "code",
   "execution_count": 170,
   "metadata": {},
   "outputs": [
    {
     "data": {
      "text/latex": [
       "$\\displaystyle \\left[\\begin{matrix}a & b & c\\\\d & e & f\\\\g & h & i\\end{matrix}\\right]$"
      ],
      "text/plain": [
       "⎡a  b  c⎤\n",
       "⎢       ⎥\n",
       "⎢d  e  f⎥\n",
       "⎢       ⎥\n",
       "⎣g  h  i⎦"
      ]
     },
     "execution_count": 170,
     "metadata": {},
     "output_type": "execute_result"
    }
   ],
   "source": [
    "A = sp.Matrix(3, 3, sp.symbols('a:i', real=True))\n",
    "A\n"
   ]
  },
  {
   "cell_type": "code",
   "execution_count": 171,
   "metadata": {},
   "outputs": [
    {
     "data": {
      "text/latex": [
       "$\\displaystyle \\left( \\left[\\begin{matrix}a & b & c\\end{matrix}\\right], \\  \\left[\\begin{matrix}d & e & f\\end{matrix}\\right]\\right)$"
      ],
      "text/plain": [
       "([a  b  c], [d  e  f])"
      ]
     },
     "execution_count": 171,
     "metadata": {},
     "output_type": "execute_result"
    }
   ],
   "source": [
    "A[0, :], A[1, :]\n"
   ]
  },
  {
   "cell_type": "code",
   "execution_count": 172,
   "metadata": {},
   "outputs": [
    {
     "data": {
      "text/latex": [
       "$\\displaystyle \\left( \\left[\\begin{matrix}a_{11} & a_{12} & a_{13}\\\\a_{21} & a_{22} & a_{23}\\\\a_{31} & a_{32} & a_{33}\\end{matrix}\\right], \\  \\left[\\begin{matrix}b_{11} & b_{12} & b_{13}\\\\b_{21} & b_{22} & b_{23}\\\\b_{31} & b_{32} & b_{33}\\end{matrix}\\right]\\right)$"
      ],
      "text/plain": [
       "⎛⎡a₁₁  a₁₂  a₁₃⎤  ⎡b₁₁  b₁₂  b₁₃⎤⎞\n",
       "⎜⎢             ⎥  ⎢             ⎥⎟\n",
       "⎜⎢a₂₁  a₂₂  a₂₃⎥, ⎢b₂₁  b₂₂  b₂₃⎥⎟\n",
       "⎜⎢             ⎥  ⎢             ⎥⎟\n",
       "⎝⎣a₃₁  a₃₂  a₃₃⎦  ⎣b₃₁  b₃₂  b₃₃⎦⎠"
      ]
     },
     "execution_count": 172,
     "metadata": {},
     "output_type": "execute_result"
    }
   ],
   "source": [
    "n = 3\n",
    "a = sp.symbols(f'a_1:{n+1}(1:{n+1})', real=True)\n",
    "b = sp.symbols(f'b_1:{n+1}(1:{n+1})', real=True)\n",
    "A, B = sp.Matrix(n, n, a), sp.Matrix(n, n, b)\n",
    "A, B\n"
   ]
  },
  {
   "cell_type": "code",
   "execution_count": 173,
   "metadata": {
    "collapsed": true,
    "jupyter": {
     "outputs_hidden": true
    }
   },
   "outputs": [
    {
     "data": {
      "text/latex": [
       "$\\displaystyle \\left( \\left[\\begin{matrix}1 & 0 & 0\\\\0 & 1 & 0\\\\0 & 0 & 1\\end{matrix}\\right], \\  \\left[\\begin{matrix}0 & 0 & 0\\end{matrix}\\right], \\  \\left[\\begin{matrix}1 & 1\\\\1 & 1\\end{matrix}\\right]\\right)$"
      ],
      "text/plain": [
       "⎛⎡1  0  0⎤                   ⎞\n",
       "⎜⎢       ⎥             ⎡1  1⎤⎟\n",
       "⎜⎢0  1  0⎥, [0  0  0], ⎢    ⎥⎟\n",
       "⎜⎢       ⎥             ⎣1  1⎦⎟\n",
       "⎝⎣0  0  1⎦                   ⎠"
      ]
     },
     "execution_count": 173,
     "metadata": {},
     "output_type": "execute_result"
    }
   ],
   "source": [
    "sp.eye(3), sp.zeros(1, 3), sp.ones(2)\n"
   ]
  },
  {
   "cell_type": "code",
   "execution_count": 174,
   "metadata": {
    "collapsed": true,
    "jupyter": {
     "outputs_hidden": true
    }
   },
   "outputs": [
    {
     "data": {
      "text/latex": [
       "$\\displaystyle \\left[\\begin{matrix}0 & 1 & 0\\\\0 & 0 & 1\\end{matrix}\\right]$"
      ],
      "text/plain": [
       "⎡0  1  0⎤\n",
       "⎢       ⎥\n",
       "⎣0  0  1⎦"
      ]
     },
     "execution_count": 174,
     "metadata": {},
     "output_type": "execute_result"
    }
   ],
   "source": [
    "M = sp.eye(3)\n",
    "M.row_del(0)\n",
    "M\n"
   ]
  },
  {
   "cell_type": "code",
   "execution_count": 175,
   "metadata": {},
   "outputs": [
    {
     "data": {
      "text/latex": [
       "$\\displaystyle \\left( \\left[\\begin{matrix}1 & 0 & 0\\\\2 & 1 & 0\\\\0 & 0 & 1\\end{matrix}\\right], \\  \\left[\\begin{matrix}a_{11} & a_{12} & a_{13}\\\\a_{21} & a_{22} & a_{23}\\\\a_{31} & a_{32} & a_{33}\\end{matrix}\\right], \\  \\left[\\begin{matrix}a_{11} & a_{12} & a_{13}\\\\2 a_{11} + a_{21} & 2 a_{12} + a_{22} & 2 a_{13} + a_{23}\\\\a_{31} & a_{32} & a_{33}\\end{matrix}\\right]\\right)$"
      ],
      "text/plain": [
       "⎛⎡1  0  0⎤  ⎡a₁₁  a₁₂  a₁₃⎤  ⎡    a₁₁          a₁₂          a₁₃    ⎤⎞\n",
       "⎜⎢       ⎥  ⎢             ⎥  ⎢                                     ⎥⎟\n",
       "⎜⎢2  1  0⎥, ⎢a₂₁  a₂₂  a₂₃⎥, ⎢2⋅a₁₁ + a₂₁  2⋅a₁₂ + a₂₂  2⋅a₁₃ + a₂₃⎥⎟\n",
       "⎜⎢       ⎥  ⎢             ⎥  ⎢                                     ⎥⎟\n",
       "⎝⎣0  0  1⎦  ⎣a₃₁  a₃₂  a₃₃⎦  ⎣    a₃₁          a₃₂          a₃₃    ⎦⎠"
      ]
     },
     "execution_count": 175,
     "metadata": {},
     "output_type": "execute_result"
    }
   ],
   "source": [
    "M1 = sp.eye(n, n)\n",
    "M1[1, 0] = 2\n",
    "M1, A, M1*A\n"
   ]
  },
  {
   "cell_type": "code",
   "execution_count": 176,
   "metadata": {
    "collapsed": true,
    "jupyter": {
     "outputs_hidden": true
    }
   },
   "outputs": [
    {
     "data": {
      "text/latex": [
       "$\\displaystyle \\left( \\left[\\begin{matrix}0 & 0 & 0 & 0 & 0 & 0 & 0 & 0 & 0\\end{matrix}\\right], \\  \\left[\\begin{matrix}0 & 0 & 0 & 0\\end{matrix}\\right]\\right)$"
      ],
      "text/plain": [
       "([0  0  0  0  0  0  0  0  0], [0  0  0  0])"
      ]
     },
     "execution_count": 176,
     "metadata": {},
     "output_type": "execute_result"
    }
   ],
   "source": [
    "M, N = sp.zeros(1, 4), sp.zeros(1, 5)\n",
    "M.row_join(N), M\n"
   ]
  },
  {
   "cell_type": "code",
   "execution_count": 177,
   "metadata": {
    "collapsed": true,
    "jupyter": {
     "outputs_hidden": true
    }
   },
   "outputs": [
    {
     "data": {
      "image/png": "[encoded data removed]",
      "text/latex": [
       "$\\displaystyle 4$"
      ],
      "text/plain": [
       "4"
      ]
     },
     "execution_count": 177,
     "metadata": {},
     "output_type": "execute_result"
    }
   ],
   "source": [
    "M.cols\n"
   ]
  },
  {
   "cell_type": "markdown",
   "metadata": {},
   "source": [
    "## Reshape"
   ]
  },
  {
   "cell_type": "code",
   "execution_count": 178,
   "metadata": {},
   "outputs": [
    {
     "data": {
      "text/latex": [
       "$\\displaystyle \\left[\\begin{matrix}-1 & 2\\\\4 & -8\\end{matrix}\\right]$"
      ],
      "text/plain": [
       "⎡-1  2 ⎤\n",
       "⎢      ⎥\n",
       "⎣4   -8⎦"
      ]
     },
     "execution_count": 178,
     "metadata": {},
     "output_type": "execute_result"
    }
   ],
   "source": [
    "A = sp.Matrix(2, 2, [-1, 2, 4, -8])\n",
    "A\n"
   ]
  },
  {
   "cell_type": "code",
   "execution_count": 179,
   "metadata": {},
   "outputs": [
    {
     "data": {
      "text/latex": [
       "$\\displaystyle \\left[\\begin{matrix}b_{0} & b_{1}\\\\b_{2} & b_{3}\\end{matrix}\\right]$"
      ],
      "text/plain": [
       "⎡b₀  b₁⎤\n",
       "⎢      ⎥\n",
       "⎣b₂  b₃⎦"
      ]
     },
     "execution_count": 179,
     "metadata": {},
     "output_type": "execute_result"
    }
   ],
   "source": [
    "b = sp.symbols('b_0:4', real=True)\n",
    "B = sp.Matrix(2, 2, b)\n",
    "B\n"
   ]
  },
  {
   "attachments": {},
   "cell_type": "markdown",
   "metadata": {},
   "source": [
    "## Diagonal"
   ]
  },
  {
   "cell_type": "code",
   "execution_count": 180,
   "metadata": {},
   "outputs": [
    {
     "data": {
      "text/latex": [
       "$\\displaystyle \\left( \\left[\\begin{matrix}a_{0} & 0\\\\0 & a_{1}\\end{matrix}\\right], \\  \\left[\\begin{matrix}b_{0} & 0\\\\0 & b_{1}\\end{matrix}\\right], \\  \\left[\\begin{matrix}a_{0} b_{0} & 0\\\\0 & a_{1} b_{1}\\end{matrix}\\right]\\right)$"
      ],
      "text/plain": [
       "⎛⎡a₀  0 ⎤  ⎡b₀  0 ⎤  ⎡a₀⋅b₀    0  ⎤⎞\n",
       "⎜⎢      ⎥, ⎢      ⎥, ⎢            ⎥⎟\n",
       "⎝⎣0   a₁⎦  ⎣0   b₁⎦  ⎣  0    a₁⋅b₁⎦⎠"
      ]
     },
     "execution_count": 180,
     "metadata": {},
     "output_type": "execute_result"
    }
   ],
   "source": [
    "a = sp.symbols('a_0:2', real=True)\n",
    "b = sp.symbols('b_0:2', real=True)\n",
    "A, B = sp.diag(*a), sp.diag(*b)\n",
    "A, B, A*B\n"
   ]
  },
  {
   "attachments": {},
   "cell_type": "markdown",
   "metadata": {},
   "source": [
    "## Transpose"
   ]
  },
  {
   "cell_type": "code",
   "execution_count": 181,
   "metadata": {},
   "outputs": [
    {
     "data": {
      "text/latex": [
       "$\\displaystyle \\left( \\left[\\begin{matrix}6 & 2 & 7 & 3\\\\2 & 7 & 6 & 6\\\\9 & 3 & 8 & 3\\\\5 & 5 & 2 & 1\\\\2 & 6 & 6 & 9\\end{matrix}\\right], \\  \\left[\\begin{matrix}6 & 2 & 9 & 5 & 2\\\\2 & 7 & 3 & 5 & 6\\\\7 & 6 & 8 & 2 & 6\\\\3 & 6 & 3 & 1 & 9\\end{matrix}\\right]\\right)$"
      ],
      "text/plain": [
       "⎛⎡6  2  7  3⎤                 ⎞\n",
       "⎜⎢          ⎥  ⎡6  2  9  5  2⎤⎟\n",
       "⎜⎢2  7  6  6⎥  ⎢             ⎥⎟\n",
       "⎜⎢          ⎥  ⎢2  7  3  5  6⎥⎟\n",
       "⎜⎢9  3  8  3⎥, ⎢             ⎥⎟\n",
       "⎜⎢          ⎥  ⎢7  6  8  2  6⎥⎟\n",
       "⎜⎢5  5  2  1⎥  ⎢             ⎥⎟\n",
       "⎜⎢          ⎥  ⎣3  6  3  1  9⎦⎟\n",
       "⎝⎣2  6  6  9⎦                 ⎠"
      ]
     },
     "execution_count": 181,
     "metadata": {},
     "output_type": "execute_result"
    }
   ],
   "source": [
    "rng = np.random.default_rng(12345)\n",
    "A = sp.Matrix(rng.integers(low=0, high=10, size=(5, 4)))\n",
    "A, A.T\n"
   ]
  },
  {
   "attachments": {},
   "cell_type": "markdown",
   "metadata": {},
   "source": [
    "## Reduced Row Echelon Form"
   ]
  },
  {
   "cell_type": "code",
   "execution_count": 182,
   "metadata": {},
   "outputs": [
    {
     "data": {
      "text/latex": [
       "$\\displaystyle \\left( \\left[\\begin{matrix}1 & 2 & 3 & 4\\\\4 & 5 & 6 & 7\\\\6 & 7 & 8 & 9\\end{matrix}\\right], \\  \\left( \\left[\\begin{matrix}1 & 0 & -1 & -2\\\\0 & 1 & 2 & 3\\\\0 & 0 & 0 & 0\\end{matrix}\\right], \\  \\left( 0, \\  1\\right)\\right)\\right)$"
      ],
      "text/plain": [
       "⎛⎡1  2  3  4⎤  ⎛⎡1  0  -1  -2⎤        ⎞⎞\n",
       "⎜⎢          ⎥  ⎜⎢            ⎥        ⎟⎟\n",
       "⎜⎢4  5  6  7⎥, ⎜⎢0  1  2   3 ⎥, (0, 1)⎟⎟\n",
       "⎜⎢          ⎥  ⎜⎢            ⎥        ⎟⎟\n",
       "⎝⎣6  7  8  9⎦  ⎝⎣0  0  0   0 ⎦        ⎠⎠"
      ]
     },
     "execution_count": 182,
     "metadata": {},
     "output_type": "execute_result"
    }
   ],
   "source": [
    "A = sp.Matrix(3, 4, [\n",
    "    1, 2, 3, 4,\n",
    "    4, 5, 6, 7,\n",
    "    6, 7, 8, 9\n",
    "])\n",
    "A, A.rref()\n"
   ]
  },
  {
   "cell_type": "markdown",
   "metadata": {},
   "source": [
    "## LU Decomposition"
   ]
  },
  {
   "cell_type": "code",
   "execution_count": 183,
   "metadata": {},
   "outputs": [
    {
     "data": {
      "text/latex": [
       "$\\displaystyle \\left( \\left[\\begin{matrix}-3 & 2 & -1\\\\6 & -6 & 7\\\\3 & -4 & 4\\end{matrix}\\right], \\  \\left( \\left[\\begin{matrix}1 & 0 & 0\\\\-2 & 1 & 0\\\\-1 & 1 & 1\\end{matrix}\\right], \\  \\left[\\begin{matrix}-3 & 2 & -1\\\\0 & -2 & 5\\\\0 & 0 & -2\\end{matrix}\\right], \\  \\left[ \\right]\\right), \\  \\left[\\begin{matrix}-3 & 2 & -1\\\\6 & -6 & 7\\\\3 & -4 & 4\\end{matrix}\\right]\\right)$"
      ],
      "text/plain": [
       "⎛⎡-3  2   -1⎤  ⎛⎡1   0  0⎤  ⎡-3  2   -1⎤    ⎞  ⎡-3  2   -1⎤⎞\n",
       "⎜⎢          ⎥  ⎜⎢        ⎥  ⎢          ⎥    ⎟  ⎢          ⎥⎟\n",
       "⎜⎢6   -6  7 ⎥, ⎜⎢-2  1  0⎥, ⎢0   -2  5 ⎥, []⎟, ⎢6   -6  7 ⎥⎟\n",
       "⎜⎢          ⎥  ⎜⎢        ⎥  ⎢          ⎥    ⎟  ⎢          ⎥⎟\n",
       "⎝⎣3   -4  4 ⎦  ⎝⎣-1  1  1⎦  ⎣0   0   -2⎦    ⎠  ⎣3   -4  4 ⎦⎠"
      ]
     },
     "execution_count": 183,
     "metadata": {},
     "output_type": "execute_result"
    }
   ],
   "source": [
    "A = sp.Matrix(3, 3, [-3, 2, -1, 6, -6, 7, 3, -4, 4])\n",
    "R = A.LUdecomposition()\n",
    "A, R, R[0]*R[1]\n"
   ]
  },
  {
   "attachments": {},
   "cell_type": "markdown",
   "metadata": {},
   "source": [
    "## Gram Schmidt"
   ]
  },
  {
   "cell_type": "code",
   "execution_count": 184,
   "metadata": {},
   "outputs": [
    {
     "data": {
      "text/latex": [
       "$\\displaystyle \\left( \\left[\\begin{matrix}1\\\\1\\\\1\\end{matrix}\\right], \\  \\left[\\begin{matrix}0\\\\1\\\\1\\end{matrix}\\right], \\  \\left[ \\left[\\begin{matrix}\\frac{\\sqrt{3}}{3}\\\\\\frac{\\sqrt{3}}{3}\\\\\\frac{\\sqrt{3}}{3}\\end{matrix}\\right], \\  \\left[\\begin{matrix}- \\frac{\\sqrt{6}}{3}\\\\\\frac{\\sqrt{6}}{6}\\\\\\frac{\\sqrt{6}}{6}\\end{matrix}\\right]\\right]\\right)$"
      ],
      "text/plain": [
       "⎛          ⎡⎡√3⎤  ⎡-√6 ⎤⎤⎞\n",
       "⎜          ⎢⎢──⎥  ⎢────⎥⎥⎟\n",
       "⎜          ⎢⎢3 ⎥  ⎢ 3  ⎥⎥⎟\n",
       "⎜⎡1⎤  ⎡0⎤  ⎢⎢  ⎥  ⎢    ⎥⎥⎟\n",
       "⎜⎢ ⎥  ⎢ ⎥  ⎢⎢√3⎥  ⎢ √6 ⎥⎥⎟\n",
       "⎜⎢1⎥, ⎢1⎥, ⎢⎢──⎥, ⎢ ── ⎥⎥⎟\n",
       "⎜⎢ ⎥  ⎢ ⎥  ⎢⎢3 ⎥  ⎢ 6  ⎥⎥⎟\n",
       "⎜⎣1⎦  ⎣1⎦  ⎢⎢  ⎥  ⎢    ⎥⎥⎟\n",
       "⎜          ⎢⎢√3⎥  ⎢ √6 ⎥⎥⎟\n",
       "⎜          ⎢⎢──⎥  ⎢ ── ⎥⎥⎟\n",
       "⎝          ⎣⎣3 ⎦  ⎣ 6  ⎦⎦⎠"
      ]
     },
     "execution_count": 184,
     "metadata": {},
     "output_type": "execute_result"
    }
   ],
   "source": [
    "v1, v2 = sp.Matrix(3, 1, [1, 1, 1]), sp.Matrix(3, 1, [0, 1, 1])\n",
    "v1, v2, sp.matrices.GramSchmidt([v1, v2], orthonormal=True)\n"
   ]
  },
  {
   "cell_type": "markdown",
   "metadata": {},
   "source": [
    "# Plotting"
   ]
  },
  {
   "cell_type": "code",
   "execution_count": 185,
   "metadata": {},
   "outputs": [
    {
     "name": "stdout",
     "output_type": "stream",
     "text": [
      "Solarize_Light2      grayscale             seaborn-paper       \n",
      "_classic_test_patch  seaborn               seaborn-pastel      \n",
      "_mpl-gallery         seaborn-bright        seaborn-poster      \n",
      "_mpl-gallery-nogrid  seaborn-colorblind    seaborn-talk        \n",
      "bmh                  seaborn-dark          seaborn-ticks       \n",
      "classic              seaborn-dark-palette  seaborn-white       \n",
      "dark_background      seaborn-darkgrid      seaborn-whitegrid   \n",
      "fast                 seaborn-deep          tableau-colorblind10\n",
      "fivethirtyeight      seaborn-muted       \n",
      "ggplot               seaborn-notebook    \n",
      "\n"
     ]
    }
   ],
   "source": [
    "print(IPython.utils.text.columnize(plt.style.available))\n"
   ]
  },
  {
   "cell_type": "code",
   "execution_count": 186,
   "metadata": {},
   "outputs": [],
   "source": [
    "plt.style.use('fivethirtyeight')\n",
    "plt.style.use('seaborn')\n"
   ]
  },
  {
   "cell_type": "code",
   "execution_count": 187,
   "metadata": {},
   "outputs": [
    {
     "data": {
      "image/png": "[encoded data removed]",
      "text/plain": [
       "<Figure size 800x550 with 1 Axes>"
      ]
     },
     "metadata": {},
     "output_type": "display_data"
    }
   ],
   "source": [
    "x = sp.symbols(\"x\", real=True)\n",
    "a = splt.plot(1, (x, 0, 2), show=False)\n",
    "a.title = \"Shear along beam\"\n",
    "a.legend = True\n",
    "a[0].label = \"Shear section AB\"\n",
    "a[0].line_color = 'red'\n",
    "a.xlabel = 'length'\n",
    "a.ylabel = 'shear'\n",
    "a.show()\n"
   ]
  },
  {
   "cell_type": "code",
   "execution_count": 188,
   "metadata": {},
   "outputs": [
    {
     "data": {
      "image/png": "[encoded data removed]",
      "text/latex": [
       "$\\displaystyle - \\frac{2000 x^{2}}{3} + \\frac{16000 x}{3} + \\frac{1000}{3}$"
      ],
      "text/plain": [
       "        2                 \n",
       "  2000⋅x    16000⋅x   1000\n",
       "- ─────── + ─────── + ────\n",
       "     3         3       3  "
      ]
     },
     "execution_count": 188,
     "metadata": {},
     "output_type": "execute_result"
    }
   ],
   "source": [
    "W0, M0, w0, w1 = 10000, 10000, 4000, 4000\n",
    "ell = [2, 2, 3, 3, 4]\n",
    "exprACx = (1000 + 16000*x - 2000*x*x)/3\n",
    "exprACx\n"
   ]
  },
  {
   "cell_type": "code",
   "execution_count": 189,
   "metadata": {},
   "outputs": [
    {
     "data": {
      "image/png": "[encoded data removed]",
      "text/plain": [
       "<Figure size 800x550 with 1 Axes>"
      ]
     },
     "metadata": {},
     "output_type": "display_data"
    }
   ],
   "source": [
    "x = sp.symbols(\"x\", real=True)\n",
    "y = sp.symbols(\"y\", real=True)\n",
    "\n",
    "a = splt.plot(-W0, (x, 0, sum(ell[:2])), show=False)\n",
    "b = splt.plot(exprACx, (x, sum(ell[:2]), sum(ell[:3])), show=False)\n",
    "a.append(b[0])\n",
    "# a.append(c[0])\n",
    "a.title = \"Shear along beam\"\n",
    "a.legend = True\n",
    "a[0].label = \"Shear section AB\"\n",
    "a[1].label = \"Shear section CD\"\n",
    "a.xlabel = 'length'\n",
    "a.ylabel = 'shear'\n",
    "a.show()\n"
   ]
  },
  {
   "cell_type": "code",
   "execution_count": 190,
   "metadata": {},
   "outputs": [
    {
     "data": {
      "image/png": "[encoded data removed]",
      "text/plain": [
       "<Figure size 800x550 with 1 Axes>"
      ]
     },
     "metadata": {},
     "output_type": "display_data"
    }
   ],
   "source": [
    "x = sp.symbols(\"x\", real=True)\n",
    "y = sp.symbols(\"y\", real=True)\n",
    "\n",
    "a = splt.plot(-W0, (x, 0, sum(ell[:2])), show=False)\n",
    "b = splt.plot(exprACx, (x, sum(ell[:2]), sum(ell[:3])), show=False)\n",
    "c = splt.plot_parametric((4, y), (y, -10000, 11000), show=False)\n",
    "a.append(b[0])\n",
    "a.append(c[0])\n",
    "a.title = \"Shear along beam\"\n",
    "a.legend = True\n",
    "a[0].label = \"Shear section AB\"\n",
    "a[1].label = \"Shear section CD\"\n",
    "a[2].label = \"Shear section at C\"\n",
    "a.xlabel = 'length'\n",
    "a.ylabel = 'shear'\n",
    "a.show()\n"
   ]
  },
  {
   "cell_type": "code",
   "execution_count": 191,
   "metadata": {},
   "outputs": [
    {
     "data": {
      "image/png": "[encoded data removed]",
      "text/plain": [
       "<Figure size 800x550 with 1 Axes>"
      ]
     },
     "metadata": {},
     "output_type": "display_data"
    }
   ],
   "source": [
    "p = sp.Piecewise(\n",
    "    (-W0, sp.Interval(0, 4).contains(x)),\n",
    "    (exprACx, sp.Interval(4, 7).contains(x))\n",
    ")\n",
    "\n",
    "x = sp.symbols(\"x\", real=True)\n",
    "\n",
    "a = splt.plot(p, (x, 0, sum(ell[:3])), show=False)\n",
    "a.title = \"Shear along beam\"\n",
    "a.legend = True\n",
    "a[0].label = \"Shear section AB\"\n",
    "a.xlabel = 'length'\n",
    "a.ylabel = 'shear'\n",
    "a.show()\n"
   ]
  }
 ],
 "metadata": {
  "anaconda-cloud": {},
  "kernelspec": {
   "display_name": "Python 3.9.13 ('3.9')",
   "language": "python",
   "name": "python3"
  },
  "language_info": {
   "codemirror_mode": {
    "name": "ipython",
    "version": 3
   },
   "file_extension": ".py",
   "mimetype": "text/x-python",
   "name": "python",
   "nbconvert_exporter": "python",
   "pygments_lexer": "ipython3",
   "version": "3.9.13"
  },
  "toc-autonumbering": true,
  "toc-showcode": false,
  "toc-showmarkdowntxt": false,
  "vscode": {
   "interpreter": {
    "hash": "439944bd8008f2f069e15c63249790d203ae4a03debaae97ad3c7d6c011f8ad2"
   }
  }
 },
 "nbformat": 4,
 "nbformat_minor": 4
}
