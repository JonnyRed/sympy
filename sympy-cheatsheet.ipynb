{
 "cells": [
  {
   "cell_type": "code",
   "execution_count": 1,
   "metadata": {
    "collapsed": true,
    "jupyter": {
     "outputs_hidden": true
    }
   },
   "outputs": [],
   "source": [
    "import sys\n",
    "import math\n",
    "import random\n",
    "import collections\n",
    "import datetime\n",
    "import itertools\n",
    "\n",
    "import numpy as np\n",
    "import pandas as pd\n",
    "\n",
    "import matplotlib\n",
    "import matplotlib.dates as mdates\n",
    "import matplotlib.colors as mcolors\n",
    "import matplotlib.pyplot as plt\n",
    "import seaborn as sns\n",
    "\n",
    "import IPython\n",
    "import sympy as sp\n",
    "import sympy.physics.vector as spv\n",
    "import sympy.physics.mechanics as spm\n",
    "import scipy.constants as spc\n",
    "\n",
    "import IPython.display as ipd\n",
    "#init_printing()\n",
    "spv.init_vprinting()\n",
    "%matplotlib inline"
   ]
  },
  {
   "cell_type": "code",
   "execution_count": 2,
   "metadata": {
    "collapsed": true,
    "jupyter": {
     "outputs_hidden": true
    }
   },
   "outputs": [
    {
     "name": "stdout",
     "output_type": "stream",
     "text": [
      "\n",
      "    Python version 3.9.7 (default, Sep 16 2021, 16:59:28) [MSC v.1916 64 bit (AMD64)]\n",
      "    IPython version 7.27.0\n",
      "    Numpy version 1.21.2\n",
      "    mathplotlib version 3.4.3\n",
      "    Pandas version 1.3.3\n",
      "    Seaborn version 0.11.2\n",
      "    \n"
     ]
    }
   ],
   "source": [
    "print( f\"\"\"\n",
    "    Python version {sys.version}\n",
    "    IPython version {IPython.__version__}\n",
    "    Numpy version {np.__version__}\n",
    "    mathplotlib version {matplotlib.__version__}\n",
    "    Pandas version {pd.__version__}\n",
    "    Seaborn version {sns.__version__}\n",
    "    \"\"\"\n",
    ")"
   ]
  },
  {
   "cell_type": "code",
   "execution_count": 3,
   "metadata": {},
   "outputs": [],
   "source": [
    "import warnings\n",
    "warnings.filterwarnings(\"ignore\", category=UserWarning)"
   ]
  },
  {
   "cell_type": "code",
   "execution_count": 4,
   "metadata": {
    "collapsed": true,
    "jupyter": {
     "outputs_hidden": true
    }
   },
   "outputs": [],
   "source": [
    "def directory(obj):\n",
    "    return [ \n",
    "        str for str in dir(obj) \n",
    "        if callable(getattr(obj, str)) & ~str.startswith('_')           \n",
    "    ]"
   ]
  },
  {
   "cell_type": "code",
   "execution_count": 5,
   "metadata": {
    "collapsed": true,
    "jupyter": {
     "outputs_hidden": true
    }
   },
   "outputs": [
    {
     "name": "stdout",
     "output_type": "stream",
     "text": [
      "Audio          JSON               Video               display_markdown      \n",
      "Code           Javascript         VimeoVideo          display_pdf           \n",
      "DisplayHandle  Latex              YouTubeVideo        display_png           \n",
      "DisplayObject  Markdown           clear_output        display_pretty        \n",
      "FileLink       Math               display             display_svg           \n",
      "FileLinks      Pretty             display_html        publish_display_data  \n",
      "GeoJSON        ProgressBar        display_javascript  set_matplotlib_close  \n",
      "HTML           SVG                display_jpeg        set_matplotlib_formats\n",
      "IFrame         ScribdDocument     display_json        update_display        \n",
      "Image          TextDisplayObject  display_latex     \n",
      "\n"
     ]
    }
   ],
   "source": [
    "print(IPython.utils.text.columnize(directory(ipd)))"
   ]
  },
  {
   "cell_type": "code",
   "execution_count": 6,
   "metadata": {
    "collapsed": true,
    "jupyter": {
     "outputs_hidden": true
    }
   },
   "outputs": [
    {
     "name": "stdout",
     "output_type": "stream",
     "text": [
      "Catalan           Naturals            __dir__            __ne__             \n",
      "ComplexInfinity   Naturals0           __doc__            __new__            \n",
      "Complexes         NegativeInfinity    __eq__             __reduce__         \n",
      "EmptySequence     NegativeOne         __format__         __reduce_ex__      \n",
      "EmptySet          One                 __ge__             __repr__           \n",
      "EulerGamma        Pi                  __getattr__        __setattr__        \n",
      "Exp1              Rationals           __getattribute__   __sizeof__         \n",
      "GoldenRatio       Reals               __gt__             __slots__          \n",
      "Half              TribonacciConstant  __hash__           __str__            \n",
      "IdentityFunction  UniversalSet        __init__           __subclasshook__   \n",
      "ImaginaryUnit     Zero                __init_subclass__  _classes_to_install\n",
      "Infinity          __call__            __le__             false              \n",
      "Integers          __class__           __lt__             register           \n",
      "NaN               __delattr__         __module__         true               \n",
      "\n"
     ]
    }
   ],
   "source": [
    "print(IPython.utils.text.columnize(dir(sp.S)))"
   ]
  },
  {
   "cell_type": "markdown",
   "metadata": {},
   "source": [
    "# Sympy "
   ]
  },
  {
   "cell_type": "markdown",
   "metadata": {},
   "source": [
    "1. [SymPy Documentation][]\n",
    "1. [SymPy Modules Reference][]\n",
    "1. [Sympy Live][]\n",
    "1. [Scipy Lecture Notes][]\n",
    "1. [Sympy Tutorial Main Site][]\n",
    "1. [Sympy Tutorial - Russia][]\n",
    "1. [Sympy examples 1][]\n",
    "1. [SymPy: symbolic computing in Python](https://peerj.com/articles/cs-103/) looks cool\n",
    "1. Good [sympy tutorial](http://www.cfm.brown.edu/people/dobrush/am33/SymPy/index.html) and [plotting](http://www.cfm.brown.edu/people/dobrush/am33/SymPy/part1.html) by Vladimir Dobrushkin\n",
    "[SymPy Documentation]: http://docs.sympy.org/latest/index.html#welcome-to-sympy-s-documentation\n",
    "\n",
    "[SymPy Modules Reference]: http://docs.sympy.org/latest/modules/index.html#sympy-modules-reference\n",
    "\n",
    "[Sympy Live]: http://live.sympy.org/\n",
    "\n",
    "[Scipy Lecture Notes]: http://www.scipy-lectures.org/\n",
    "\n",
    "[Sympy Tutorial Main Site]: http://docs.sympy.org/latest/tutorial/index.html#sympy-tutorial\n",
    "\n",
    "[Sympy Tutorial - Russia]: http://www.inp.nsk.su/~grozin/python/sympy.html\n",
    "\n",
    "[Sympy examples 1]: https://github.com/sbu-python-class/python-science/blob/master/lectures/06-sympy/sympy-examples.ipynb\n",
    "\n"
   ]
  },
  {
   "cell_type": "markdown",
   "metadata": {},
   "source": [
    "# Symbols"
   ]
  },
  {
   "cell_type": "markdown",
   "metadata": {},
   "source": [
    "1. [symbols][]\n",
    "1. [assumptions][]\n",
    "\n",
    "[symbols]: http://docs.sympy.org/latest/modules/core.html?highlight=match#sympy.core.symbol.symbols\n",
    "[assumptions]:http://docs.sympy.org/latest/modules/core.html?highlight=match#module-sympy.core.assumptions"
   ]
  },
  {
   "cell_type": "code",
   "execution_count": 7,
   "metadata": {
    "collapsed": true,
    "jupyter": {
     "outputs_hidden": true
    }
   },
   "outputs": [
    {
     "data": {
      "image/png": "[encoded data removed]",
      "text/latex": [
       "$\\displaystyle \\left( x, \\  h, \\  n, \\  k\\right)$"
      ],
      "text/plain": [
       "(x, h, n, k)"
      ]
     },
     "execution_count": 7,
     "metadata": {},
     "output_type": "execute_result"
    }
   ],
   "source": [
    "x, h = sp.symbols('x, h')\n",
    "n, k = sp.symbols('n, k', positive=True, integer=True )\n",
    "x, h, n, k"
   ]
  },
  {
   "cell_type": "code",
   "execution_count": 8,
   "metadata": {
    "collapsed": true,
    "jupyter": {
     "outputs_hidden": true
    }
   },
   "outputs": [
    {
     "data": {
      "image/png": "[encoded data removed]",
      "text/latex": [
       "$\\displaystyle \\left( a_{4}, \\  a_{5}\\right)$"
      ],
      "text/plain": [
       "(a₄, a₅)"
      ]
     },
     "execution_count": 8,
     "metadata": {},
     "output_type": "execute_result"
    }
   ],
   "source": [
    "a4,a5 = sp.symbols('a4:6')\n",
    "a4, a5"
   ]
  },
  {
   "cell_type": "code",
   "execution_count": 9,
   "metadata": {
    "collapsed": true,
    "jupyter": {
     "outputs_hidden": true
    }
   },
   "outputs": [
    {
     "data": {
      "text/plain": [
       "(sympy.series.order.Order,\n",
       " S,\n",
       " I,\n",
       " <function sympy.core.evalf.N(x, n=15, **options)>,\n",
       " E,\n",
       " <sympy.assumptions.ask.AssumptionKeys at 0x28151dff730>)"
      ]
     },
     "execution_count": 9,
     "metadata": {},
     "output_type": "execute_result"
    }
   ],
   "source": [
    "sp.O, sp.S, sp.I, sp.N, sp.E, sp.Q "
   ]
  },
  {
   "cell_type": "code",
   "execution_count": 10,
   "metadata": {
    "collapsed": true,
    "jupyter": {
     "outputs_hidden": true
    }
   },
   "outputs": [
    {
     "data": {
      "image/png": "[encoded data removed]",
      "text/latex": [
       "$\\displaystyle \\left( 1, \\  \\frac{1}{2}, \\  -1, \\  -\\infty, \\  \\infty, \\  \\infty, \\  \\pi, \\  e, \\  e, \\  \\phi, \\  \\phi, \\  \\gamma, \\  \\gamma, \\  i\\right)$"
      ],
      "text/plain": [
       "(1, 1/2, -1, -∞, ∞, ∞, π, ℯ, ℯ, φ, φ, γ, γ, ⅈ)"
      ]
     },
     "execution_count": 10,
     "metadata": {},
     "output_type": "execute_result"
    }
   ],
   "source": [
    "(\n",
    "    sp.S.One, \n",
    "    sp.S.Half, \n",
    "    sp.S.NegativeOne, \n",
    "    sp.S.NegativeInfinity, \n",
    "    sp.oo, \n",
    "    sp.S.Infinity, \n",
    "    sp.pi, \n",
    "    sp.E, \n",
    "    sp.S.Exp1, \n",
    "    sp.S.GoldenRatio, \n",
    "    sp.GoldenRatio, \n",
    "    sp.S.EulerGamma, \n",
    "    sp.EulerGamma,\n",
    "    sp.I\n",
    ")"
   ]
  },
  {
   "cell_type": "markdown",
   "metadata": {
    "toc-hr-collapsed": true,
    "toc-nb-collapsed": true
   },
   "source": [
    "# Printing"
   ]
  },
  {
   "cell_type": "code",
   "execution_count": 11,
   "metadata": {
    "collapsed": true,
    "jupyter": {
     "outputs_hidden": true
    }
   },
   "outputs": [],
   "source": [
    "G, M, d = sp.symbols('G, M, d', real=True, positive=True)\n",
    "N = spm.ReferenceFrame( 'N', latexs=(r'\\hat{\\imath}', r'\\hat{\\jmath}', r'\\hat{k}') )"
   ]
  },
  {
   "cell_type": "code",
   "execution_count": 12,
   "metadata": {
    "collapsed": true,
    "jupyter": {
     "outputs_hidden": true
    }
   },
   "outputs": [
    {
     "data": {
      "image/png": "[encoded data removed]",
      "text/latex": [
       "$\\displaystyle 4 d\\hat{\\imath}$"
      ],
      "text/plain": [
       "4⋅d n_x"
      ]
     },
     "metadata": {},
     "output_type": "display_data"
    },
    {
     "data": {
      "image/png": "[encoded data removed]",
      "text/latex": [
       "$\\displaystyle 6 d\\hat{\\imath}$"
      ],
      "text/plain": [
       "6⋅d n_x"
      ]
     },
     "metadata": {},
     "output_type": "display_data"
    }
   ],
   "source": [
    "r12 = 4*d*N.x\n",
    "r13 = 6*d*N.x\n",
    "ipd.display(r12), ipd.display(r13);"
   ]
  },
  {
   "cell_type": "code",
   "execution_count": 13,
   "metadata": {
    "collapsed": true,
    "jupyter": {
     "outputs_hidden": true
    },
    "tags": []
   },
   "outputs": [
    {
     "name": "stdout",
     "output_type": "stream",
     "text": [
      "Abs                             discriminant                 symbols            \n",
      "AccumBounds                     div                          symmetric_poly     \n",
      "Add                             divisor_count                symmetrize         \n",
      "Adjoint                         divisor_sigma                sympify            \n",
      "AlgebraicField                  divisors                     take               \n",
      "AlgebraicNumber                 doctest                      tan                \n",
      "And                             dotprint                     tanh               \n",
      "AppliedPredicate                dsolve                       tensor             \n",
      "Array                           egyptian_fraction            tensorcontraction  \n",
      "AssumptionsContext              elliptic_e                   tensordiagonal     \n",
      "Atom                            elliptic_f                   tensorproduct      \n",
      "AtomicExpr                      elliptic_k                   terms_gcd          \n",
      "BasePolynomialError             elliptic_pi                  test               \n",
      "Basic                           epath                        testing            \n",
      "BlockDiagMatrix                 erf                          textplot           \n",
      "BlockMatrix                     erf2                         threaded           \n",
      "CC                              erf2inv                      timed              \n",
      "CRootOf                         erfc                         to_cnf             \n",
      "Catalan                         erfcinv                      to_dnf             \n",
      "Chi                             erfi                         to_nnf             \n",
      "Ci                              erfinv                       to_number_field    \n",
      "Circle                          euler                        together           \n",
      "CoercionFailed                  euler_equations              topological_sort   \n",
      "Complement                      evalf                        total_degree       \n",
      "ComplexField                    evaluate                     totient            \n",
      "ComplexRegion                   exp                          trace              \n",
      "ComplexRootOf                   exp_polar                    trailing           \n",
      "Complexes                       expand                       transpose          \n",
      "ComputationFailed               expand_complex               tribonacci         \n",
      "ConditionSet                    expand_func                  trigamma           \n",
      "Contains                        expand_log                   trigsimp           \n",
      "CosineTransform                 expand_mul                   true               \n",
      "Curve                           expand_multinomial           trunc              \n",
      "DeferredVector                  expand_power_base            unbranched_argument\n",
      "DenseNDimArray                  expand_power_exp             unflatten          \n",
      "Derivative                      expand_trig                  unpolarify         \n",
      "Determinant                     expint                       uppergamma         \n",
      "DiagMatrix                      exptrigsimp                  use                \n",
      "DiagonalMatrix                  exquo                        utilities          \n",
      "DiagonalOf                      external                     var                \n",
      "Dict                            eye                          variations         \n",
      "DiracDelta                      factor                       vectorize          \n",
      "DisjointUnion                   factor_list                  vfield             \n",
      "Domain                          factor_nc                    viete              \n",
      "DomainError                     factor_terms                 vring              \n",
      "DotProduct                      factorial                    wronskian          \n",
      "Dummy                           factorial2                   xfield             \n",
      "E                               factorint                    xring              \n",
      "E1                              factorrat                    xthreaded          \n",
      "EPath                           failing_assumptions          yn                 \n",
      "EX                              false                        zeros              \n",
      "Ei                              farthest_points              zeta               \n",
      "Eijk                            fcode                        zoo                \n",
      "Ellipse                         ff                         \n",
      "EmptySequence                   fft                        \n",
      "EmptySet                        fibonacci                  \n",
      "Eq                              field                      \n",
      "Equality                        field_isomorphism          \n",
      "Equivalent                      filldedent                 \n",
      "EulerGamma                      finite_diff_weights        \n",
      "EvaluationFailed                flatten                    \n",
      "ExactQuotientFailed             floor                      \n",
      "Expr                            fourier_series             \n",
      "ExpressionDomain                fourier_transform          \n",
      "ExtraneousFactors               fps                        \n",
      "FF                              frac                       \n",
      "FF_gmpy                         fraction                   \n",
      "FF_python                       fresnelc                   \n",
      "FU                              fresnels                   \n",
      "FallingFactorial                fu                         \n",
      "FiniteField                     functions                  \n",
      "FiniteSet                       fwht                       \n",
      "FlagError                       gamma                      \n",
      "Float                           gammasimp                  \n",
      "FourierTransform                gcd                        \n",
      "FractionField                   gcd_list                   \n",
      "Function                        gcd_terms                  \n",
      "FunctionClass                   gcdex                      \n",
      "FunctionMatrix                  gegenbauer                 \n",
      "GF                              genocchi                   \n",
      "GMPYFiniteField                 geometry                   \n",
      "GMPYIntegerRing                 get_contraction_structure  \n",
      "GMPYRationalField               get_indices                \n",
      "Ge                              gff                        \n",
      "GeneratorsError                 gff_list                   \n",
      "GeneratorsNeeded                glsl_code                  \n",
      "GeometryError                   grevlex                    \n",
      "GoldenRatio                     grlex                      \n",
      "GramSchmidt                     groebner                   \n",
      "GreaterThan                     ground_roots               \n",
      "GroebnerBasis                   group                      \n",
      "Gt                              gruntz                     \n",
      "HadamardPower                   hadamard_product           \n",
      "HadamardProduct                 half_gcdex                 \n",
      "HankelTransform                 hankel1                    \n",
      "Heaviside                       hankel2                    \n",
      "HeuristicGCDFailed              hankel_transform           \n",
      "HomomorphismFailed              harmonic                   \n",
      "I                               has_dups                   \n",
      "ITE                             has_variety                \n",
      "Id                              hermite                    \n",
      "Identity                        hermite_poly               \n",
      "Idx                             hessian                    \n",
      "ImageSet                        hn1                        \n",
      "ImmutableDenseMatrix            hn2                        \n",
      "ImmutableDenseNDimArray         homogeneous_order          \n",
      "ImmutableMatrix                 horner                     \n",
      "ImmutableSparseMatrix           hyper                      \n",
      "ImmutableSparseNDimArray        hyperexpand                \n",
      "Implies                         hypersimilar               \n",
      "Indexed                         hypersimp                  \n",
      "IndexedBase                     idiff                      \n",
      "Integer                         ifft                       \n",
      "IntegerRing                     ifwht                      \n",
      "Integers                        igcd                       \n",
      "Integral                        igrevlex                   \n",
      "Intersection                    igrlex                     \n",
      "Interval                        ilcm                       \n",
      "Inverse                         ilex                       \n",
      "InverseCosineTransform          im                         \n",
      "InverseFourierTransform         imageset                   \n",
      "InverseHankelTransform          init_printing              \n",
      "InverseLaplaceTransform         init_session               \n",
      "InverseMellinTransform          integer_log                \n",
      "InverseSineTransform            integer_nthroot            \n",
      "IsomorphismFailed               integrals                  \n",
      "KroneckerDelta                  integrate                  \n",
      "KroneckerProduct                interactive                \n",
      "LC                              interactive_traversal      \n",
      "LM                              interpolate                \n",
      "LT                              interpolating_poly         \n",
      "Lambda                          interpolating_spline       \n",
      "LambertW                        intersecting_product       \n",
      "LaplaceTransform                intersection               \n",
      "Le                              intervals                  \n",
      "LessThan                        intt                       \n",
      "LeviCivita                      inv_quick                  \n",
      "Li                              inverse_cosine_transform   \n",
      "Limit                           inverse_fourier_transform  \n",
      "Line                            inverse_hankel_transform   \n",
      "Line2D                          inverse_laplace_transform  \n",
      "Line3D                          inverse_mellin_transform   \n",
      "Lt                              inverse_mobius_transform   \n",
      "MatAdd                          inverse_sine_transform     \n",
      "MatMul                          invert                     \n",
      "MatPow                          is_abundant                \n",
      "Matrix                          is_amicable                \n",
      "MatrixBase                      is_convex                  \n",
      "MatrixExpr                      is_decreasing              \n",
      "MatrixPermute                   is_deficient               \n",
      "MatrixSlice                     is_increasing              \n",
      "MatrixSymbol                    is_mersenne_prime          \n",
      "Max                             is_monotonic               \n",
      "MellinTransform                 is_nthpow_residue          \n",
      "Min                             is_perfect                 \n",
      "Mod                             is_primitive_root          \n",
      "Monomial                        is_quad_residue            \n",
      "Mul                             is_strictly_decreasing     \n",
      "MultivariatePolynomialError     is_strictly_increasing     \n",
      "MutableDenseMatrix              is_zero_dimensional        \n",
      "MutableDenseNDimArray           isolate                    \n",
      "MutableMatrix                   isprime                    \n",
      "MutableSparseMatrix             itermonomials              \n",
      "MutableSparseNDimArray          jacobi                     \n",
      "N                               jacobi_normalized          \n",
      "NDimArray                       jacobi_poly                \n",
      "Nand                            jacobi_symbol              \n",
      "Naturals                        jn                         \n",
      "Naturals0                       jn_zeros                   \n",
      "Ne                              jordan_cell                \n",
      "NonSquareMatrixError            jscode                     \n",
      "Nor                             julia_code                 \n",
      "Not                             kronecker_product          \n",
      "NotAlgebraic                    kroneckersimp              \n",
      "NotInvertible                   laguerre                   \n",
      "NotReversible                   laguerre_poly              \n",
      "Number                          lambdify                   \n",
      "NumberSymbol                    laplace_transform          \n",
      "O                               latex                      \n",
      "OmegaPower                      lcm                        \n",
      "OneMatrix                       lcm_list                   \n",
      "OperationNotSupported           legendre                   \n",
      "OptionError                     legendre_poly              \n",
      "Options                         legendre_symbol            \n",
      "Or                              lerchphi                   \n",
      "Order                           lex                        \n",
      "Ordinal                         li                         \n",
      "POSform                         limit                      \n",
      "Parabola                        limit_seq                  \n",
      "Permanent                       line_integrate             \n",
      "PermutationMatrix               linear_eq_to_matrix        \n",
      "Piecewise                       linsolve                   \n",
      "Plane                           list2numpy                 \n",
      "Point                           ln                         \n",
      "Point2D                         log                        \n",
      "Point3D                         logcombine                 \n",
      "PoleError                       loggamma                   \n",
      "PolificationFailed              logic                      \n",
      "Poly                            lowergamma                 \n",
      "Polygon                         lucas                      \n",
      "PolynomialDivisionFailed        maple_code                 \n",
      "PolynomialError                 marcumq                    \n",
      "PolynomialRing                  mathematica_code           \n",
      "Pow                             mathieuc                   \n",
      "PowerSet                        mathieucprime              \n",
      "PrecisionExhausted              mathieus                   \n",
      "Predicate                       mathieusprime              \n",
      "Product                         mathml                     \n",
      "ProductSet                      matrices                   \n",
      "PurePoly                        matrix2numpy               \n",
      "PythonFiniteField               matrix_multiply_elementwise\n",
      "PythonIntegerRing               matrix_symbols             \n",
      "PythonRational                  maximum                    \n",
      "Q                               meijerg                    \n",
      "QQ                              mellin_transform           \n",
      "QQ_I                            memoize_property           \n",
      "QQ_gmpy                         mersenne_prime_exponent    \n",
      "QQ_python                       minimal_polynomial         \n",
      "Quaternion                      minimum                    \n",
      "RR                              minpoly                    \n",
      "Range                           mobius                     \n",
      "Rational                        mobius_transform           \n",
      "RationalField                   mod_inverse                \n",
      "Rationals                       monic                      \n",
      "Ray                             motzkin                    \n",
      "Ray2D                           multigamma                 \n",
      "Ray3D                           multiline_latex            \n",
      "RealField                       multinomial_coefficients   \n",
      "RealNumber                      multipledispatch           \n",
      "Reals                           multiplicity               \n",
      "RefinementFailed                n_order                    \n",
      "RegularPolygon                  nan                        \n",
      "Rel                             nextprime                  \n",
      "RisingFactorial                 nfloat                     \n",
      "RootOf                          nonlinsolve                \n",
      "RootSum                         not_empty_in               \n",
      "S                               npartitions                \n",
      "SOPform                         nroots                     \n",
      "SYMPY_DEBUG                     nsimplify                  \n",
      "Segment                         nsolve                     \n",
      "Segment2D                       nth_power_roots_poly       \n",
      "Segment3D                       ntheory                    \n",
      "SeqAdd                          nthroot_mod                \n",
      "SeqFormula                      ntt                        \n",
      "SeqMul                          numbered_symbols           \n",
      "SeqPer                          numer                      \n",
      "Set                             octave_code                \n",
      "ShapeError                      ode_order                  \n",
      "Shi                             ones                       \n",
      "Si                              oo                         \n",
      "Sieve                           ord0                       \n",
      "SineTransform                   ordered                    \n",
      "SingularityFunction             pager_print                \n",
      "SparseMatrix                    parallel_poly_from_expr    \n",
      "SparseNDimArray                 parse_expr                 \n",
      "StrPrinter                      parsing                    \n",
      "StrictGreaterThan               partition                  \n",
      "StrictLessThan                  pde_separate               \n",
      "Subs                            pde_separate_add           \n",
      "Sum                             pde_separate_mul           \n",
      "Symbol                          pdiv                       \n",
      "SymmetricDifference             pdsolve                    \n",
      "SympifyError                    per                        \n",
      "TableForm                       perfect_power              \n",
      "Trace                           periodic_argument          \n",
      "Transpose                       periodicity                \n",
      "Triangle                        permutedims                \n",
      "TribonacciConstant              pexquo                     \n",
      "Tuple                           physics                    \n",
      "Unequality                      pi                         \n",
      "UnevaluatedExpr                 piecewise_fold             \n",
      "UnificationFailed               plot                       \n",
      "Union                           plot_backends              \n",
      "UnivariatePolynomialError       plot_implicit              \n",
      "UniversalSet                    plot_parametric            \n",
      "Wild                            plotting                   \n",
      "WildFunction                    polar_lift                 \n",
      "Xor                             polarify                   \n",
      "Ynm                             pollard_pm1                \n",
      "Ynm_c                           pollard_rho                \n",
      "ZZ                              poly                       \n",
      "ZZ_I                            poly_from_expr             \n",
      "ZZ_gmpy                         polygamma                  \n",
      "ZZ_python                       polylog                    \n",
      "ZeroMatrix                      polys                      \n",
      "Znm                             posify                     \n",
      "__all__                         postfixes                  \n",
      "__builtins__                    postorder_traversal        \n",
      "__cached__                      powdenest                  \n",
      "__doc__                         powsimp                    \n",
      "__file__                        pprint                     \n",
      "__loader__                      pprint_try_use_unicode     \n",
      "__name__                        pprint_use_unicode         \n",
      "__package__                     pquo                       \n",
      "__path__                        prefixes                   \n",
      "__spec__                        prem                       \n",
      "__sympy_debug                   preorder_traversal         \n",
      "__version__                     pretty                     \n",
      "abundance                       pretty_print               \n",
      "acos                            preview                    \n",
      "acosh                           prevprime                  \n",
      "acot                            prime                      \n",
      "acoth                           primefactors               \n",
      "acsc                            primenu                    \n",
      "acsch                           primeomega                 \n",
      "adjoint                         primepi                    \n",
      "airyai                          primerange                 \n",
      "airyaiprime                     primitive                  \n",
      "airybi                          primitive_element          \n",
      "airybiprime                     primitive_root             \n",
      "algebras                        primorial                  \n",
      "apart                           principal_branch           \n",
      "apart_list                      print_ccode                \n",
      "appellf1                        print_fcode                \n",
      "apply_finite_diff               print_glsl                 \n",
      "approximants                    print_gtk                  \n",
      "are_similar                     print_jscode               \n",
      "arg                             print_latex                \n",
      "arity                           print_maple_code           \n",
      "as_finite_diff                  print_mathml               \n",
      "asec                            print_python               \n",
      "asech                           print_rcode                \n",
      "asin                            print_tree                 \n",
      "asinh                           printing                   \n",
      "ask                             prod                       \n",
      "assemble_partfrac_list          product                    \n",
      "assoc_laguerre                  proper_divisor_count       \n",
      "assoc_legendre                  proper_divisors            \n",
      "assuming                        public                     \n",
      "assumptions                     pycode                     \n",
      "atan                            python                     \n",
      "atan2                           quadratic_congruence       \n",
      "atanh                           quadratic_residues         \n",
      "banded                          quo                        \n",
      "bell                            rad                        \n",
      "bernoulli                       radsimp                    \n",
      "besseli                         randMatrix                 \n",
      "besselj                         random_poly                \n",
      "besselk                         randprime                  \n",
      "besselsimp                      rational_interpolate       \n",
      "bessely                         ratsimp                    \n",
      "beta                            ratsimpmodprime            \n",
      "betainc                         rcode                      \n",
      "betainc_regularized             rcollect                   \n",
      "binomial                        re                         \n",
      "binomial_coefficients           real_root                  \n",
      "binomial_coefficients_list      real_roots                 \n",
      "block_collapse                  reduce_abs_inequalities    \n",
      "blockcut                        reduce_abs_inequality      \n",
      "bool_map                        reduce_inequalities        \n",
      "bottom_up                       reduced                    \n",
      "bspline_basis                   reduced_totient            \n",
      "bspline_basis_set               refine                     \n",
      "cacheit                         refine_root                \n",
      "calculus                        register_handler           \n",
      "cancel                          release                    \n",
      "capture                         rem                        \n",
      "carmichael                      remove_handler             \n",
      "cartes                          reshape                    \n",
      "casoratian                      residue                    \n",
      "catalan                         resultant                  \n",
      "cbrt                            rf                         \n",
      "ccode                           riemann_xi                 \n",
      "ceiling                         ring                       \n",
      "centroid                        root                       \n",
      "chebyshevt                      rootof                     \n",
      "chebyshevt_poly                 roots                      \n",
      "chebyshevt_root                 rot_axis1                  \n",
      "chebyshevu                      rot_axis2                  \n",
      "chebyshevu_poly                 rot_axis3                  \n",
      "chebyshevu_root                 rotations                  \n",
      "check_assumptions               rsolve                     \n",
      "checkodesol                     rsolve_hyper               \n",
      "checkpdesol                     rsolve_poly                \n",
      "checksol                        rsolve_ratio               \n",
      "classify_ode                    rust_code                  \n",
      "classify_pde                    satisfiable                \n",
      "closest_points                  sec                        \n",
      "cofactors                       sech                       \n",
      "collect                         separatevars               \n",
      "collect_const                   sequence                   \n",
      "combinatorics                   series                     \n",
      "combsimp                        seterr                     \n",
      "comp                            sets                       \n",
      "compose                         sfield                     \n",
      "composite                       shape                      \n",
      "compositepi                     sieve                      \n",
      "concrete                        sift                       \n",
      "conjugate                       sign                       \n",
      "construct_domain                signsimp                   \n",
      "content                         simplify                   \n",
      "continued_fraction              simplify_logic             \n",
      "continued_fraction_convergents  sin                        \n",
      "continued_fraction_iterator     sinc                       \n",
      "continued_fraction_periodic     sine_transform             \n",
      "continued_fraction_reduce       singularities              \n",
      "convex_hull                     singularityintegrate       \n",
      "convolution                     sinh                       \n",
      "core                            solve                      \n",
      "cos                             solve_linear               \n",
      "cosh                            solve_linear_system        \n",
      "cosine_transform                solve_linear_system_LU     \n",
      "cot                             solve_poly_inequality      \n",
      "coth                            solve_poly_system          \n",
      "count_ops                       solve_rational_inequalities\n",
      "count_roots                     solve_triangulated         \n",
      "covering_product                solve_undetermined_coeffs  \n",
      "csc                             solve_univariate_inequality\n",
      "csch                            solvers                    \n",
      "cse                             solveset                   \n",
      "cxxcode                         source                     \n",
      "cycle_length                    sqf                        \n",
      "cyclotomic_poly                 sqf_list                   \n",
      "decompogen                      sqf_norm                   \n",
      "decompose                       sqf_part                   \n",
      "default_sort_key                sqrt                       \n",
      "deg                             sqrt_mod                   \n",
      "degree                          sqrt_mod_iter              \n",
      "degree_list                     sqrtdenest                 \n",
      "denom                           srepr                      \n",
      "derive_by_array                 sring                      \n",
      "det                             sstr                       \n",
      "det_quick                       sstrrepr                   \n",
      "diag                            stationary_points          \n",
      "diagonalize_vector              stieltjes                  \n",
      "dict_merge                      strategies                 \n",
      "diff                            sturm                      \n",
      "difference_delta                subfactorial               \n",
      "differentiate_finite            subresultants              \n",
      "digamma                         subsets                    \n",
      "diophantine                     substitution               \n",
      "dirichlet_eta                   summation                  \n",
      "discrete                        swinnerton_dyer_poly       \n",
      "discrete_log                    symarray                   \n",
      "\n"
     ]
    }
   ],
   "source": [
    "print(IPython.utils.text.columnize(dir(sp)))"
   ]
  },
  {
   "cell_type": "code",
   "execution_count": 14,
   "metadata": {
    "collapsed": true,
    "jupyter": {
     "outputs_hidden": true
    }
   },
   "outputs": [
    {
     "data": {
      "text/latex": [
       "$r_{21}=-  \\frac{5 G M^{2}}{8 d^{2}}\\hat{\\imath}$"
      ],
      "text/plain": [
       "<IPython.core.display.Latex object>"
      ]
     },
     "metadata": {},
     "output_type": "display_data"
    },
    {
     "data": {
      "text/latex": [
       "$r_{23}=\\frac{G M^{2}}{2 d^{2}}\\hat{\\imath}$"
      ],
      "text/plain": [
       "<IPython.core.display.Latex object>"
      ]
     },
     "metadata": {},
     "output_type": "display_data"
    },
    {
     "data": {
      "text/latex": [
       "$r_{21} + r_{23} =-  \\frac{G M^{2}}{8 d^{2}}\\hat{\\imath}$"
      ],
      "text/plain": [
       "<IPython.core.display.Latex object>"
      ]
     },
     "metadata": {},
     "output_type": "display_data"
    }
   ],
   "source": [
    "f21 = -G*5*M*2*M/r12.magnitude()**2*r12.normalize()\n",
    "f23 = G*2*M*M/(r13 - r12).magnitude()**2*(r13 - r12).normalize()\n",
    "\n",
    "ipd.display(\n",
    "    ipd.Latex(rf'$r_{{21}}={sp.latex(f21)}$'),\n",
    "    ipd.Latex(rf'$r_{{23}}={sp.latex(f23)}$'), \n",
    "    ipd.Latex(rf'$r_{{21}} + r_{{23}} ={sp.latex(f23+f21)}$')\n",
    ")"
   ]
  },
  {
   "cell_type": "markdown",
   "metadata": {},
   "source": [
    "# Function"
   ]
  },
  {
   "cell_type": "markdown",
   "metadata": {},
   "source": [
    "* [Function][]\n",
    "* [Expand][]\n",
    "* [Subs][]\n",
    "* [Assumptions][]\n",
    "* [Elementary Functions, Piecewise](https://docs.sympy.org/latest/modules/functions/elementary.html)\n",
    "\n",
    "\n",
    "\n",
    "[Function]: http://docs.sympy.org/latest/modules/core.html?highlight=match#sympy.core.function.Function\n",
    "\n",
    "[Subs]: http://docs.sympy.org/latest/modules/core.html?highlight=match#sympy.core.function.Subs\n",
    "\n",
    "[Expand]: http://docs.sympy.org/latest/modules/core.html?highlight=match#sympy.core.function.expand\n",
    "\n",
    "[Assumptions]: http://docs.sympy.org/latest/modules/core.html#module-sympy.core.assumptions"
   ]
  },
  {
   "cell_type": "code",
   "execution_count": 15,
   "metadata": {
    "collapsed": true,
    "jupyter": {
     "outputs_hidden": true
    }
   },
   "outputs": [
    {
     "data": {
      "text/plain": [
       "['real',\n",
       " 'extended_real',\n",
       " 'complex',\n",
       " 'imaginary',\n",
       " 'integer',\n",
       " 'irrational',\n",
       " 'rational',\n",
       " 'negative',\n",
       " 'positive']"
      ]
     },
     "execution_count": 15,
     "metadata": {},
     "output_type": "execute_result"
    }
   ],
   "source": [
    "assumptions = [\n",
    "    'real', \n",
    "    'extended_real', \n",
    "    'complex', \n",
    "    'imaginary', \n",
    "    'integer', \n",
    "    'irrational', \n",
    "    'rational', \n",
    "    'negative', \n",
    "    'positive'\n",
    "]\n",
    "assumptions"
   ]
  },
  {
   "cell_type": "code",
   "execution_count": 16,
   "metadata": {
    "collapsed": true,
    "jupyter": {
     "outputs_hidden": true
    }
   },
   "outputs": [
    {
     "data": {
      "text/plain": [
       "['mul',\n",
       " 'modulus',\n",
       " 'power_base',\n",
       " 'power_exp',\n",
       " 'mul',\n",
       " 'log',\n",
       " 'multinomial',\n",
       " 'basic',\n",
       " 'complex',\n",
       " 'func',\n",
       " 'trig']"
      ]
     },
     "execution_count": 16,
     "metadata": {},
     "output_type": "execute_result"
    }
   ],
   "source": [
    "hints_expand = [\n",
    "    'mul', \n",
    "    'modulus', \n",
    "    'power_base', \n",
    "    'power_exp', \n",
    "    'mul', \n",
    "    'log', \n",
    "    'multinomial', \n",
    "    'basic', \n",
    "    'complex', \n",
    "    'func', \n",
    "    'trig' \n",
    "]\n",
    "hints_expand"
   ]
  },
  {
   "cell_type": "code",
   "execution_count": 17,
   "metadata": {
    "collapsed": true,
    "jupyter": {
     "outputs_hidden": true
    }
   },
   "outputs": [
    {
     "data": {
      "image/png": "[encoded data removed]",
      "text/latex": [
       "$\\displaystyle \\left( 2 \\pi, \\  \\frac{1}{3}, \\  \\frac{3 \\sqrt{10}}{10}\\right)$"
      ],
      "text/plain": [
       "⎛          3⋅√10⎞\n",
       "⎜2⋅π, 1/3, ─────⎟\n",
       "⎝            10 ⎠"
      ]
     },
     "execution_count": 17,
     "metadata": {},
     "output_type": "execute_result"
    }
   ],
   "source": [
    "(\n",
    "    sp.nsimplify(6.28, [sp.pi], tolerance=0.01), \n",
    "    sp.nsimplify(0.33333, tolerance=0.001), \n",
    "    sp.nsimplify(sp.cos(sp.atan(1./3)))\n",
    ")"
   ]
  },
  {
   "cell_type": "markdown",
   "metadata": {},
   "source": [
    "* [simplify][], inverse operation of expand\n",
    "* [apart][], partial fraction decomposition\n",
    "* [together][], merge to one common division\n",
    "* [collect][], collect terms with same power\n",
    "* [collect sqrt][], collect terms with same power\n",
    "* [radsimp][], rationalize the denominator\n",
    "* trigsimp, use trig. identities to simplify\n",
    "* powsimp, combine bases and exponents\n",
    "* [factor][], Compute the factorization of expression, f, into irreducibles.\n",
    "* [cancel][] ,Cancel common factors in a rational function f/g.\n",
    "* [Split into numerator, demoninator](http://docs.sympy.org/latest/modules/core.html?highlight=as_numer_denom#sympy.core.expr.Expr.as_numer_denom)\n",
    "\n",
    "[simplify]: http://docs.sympy.org/latest/modules/simplify/simplify.html?highlight=collect_sqrt#sympy.simplify.simplify.simplify\n",
    "\n",
    "[apart]: http://docs.sympy.org/latest/modules/polys/reference.html?highlight=sympy.polys%20together#sympy.polys.partfrac.apart\n",
    "\n",
    "[together]: http://docs.sympy.org/latest/modules/polys/reference.html?highlight=sympy.polys%20together#sympy.polys.rationaltools.together\n",
    "\n",
    "[collect]: http://docs.sympy.org/latest/modules/simplify/simplify.html?highlight=collect_sqrt#sympy.simplify.radsimp.collect\n",
    "[collect sqrt]: http://docs.sympy.org/latest/modules/simplify/simplify.html?highlight=collect_sqrt#collect-sqrt\n",
    "\n",
    "[radsimp]: http://docs.sympy.org/latest/modules/simplify/simplify.html?highlight=collect_sqrt#sympy.simplify.radsimp.radsimp\n",
    "\n",
    "[factor]: http://docs.sympy.org/latest/modules/polys/reference.html?highlight=sympy.polys%20factor#sympy.polys.polytools.factor\n",
    "\n",
    "[cancel]: http://docs.sympy.org/latest/modules/polys/reference.html?highlight=sympy.polys%20cancel#sympy.polys.polytools.Poly.cancel"
   ]
  },
  {
   "cell_type": "markdown",
   "metadata": {},
   "source": [
    "if ratio=1, simplify output can’t be longer than input\n",
    "If ratio=oo, simplify will be applied anyway:"
   ]
  },
  {
   "cell_type": "code",
   "execution_count": 18,
   "metadata": {
    "collapsed": true,
    "jupyter": {
     "outputs_hidden": true
    }
   },
   "outputs": [
    {
     "data": {
      "image/png": "[encoded data removed]",
      "text/latex": [
       "$\\displaystyle 1$"
      ],
      "text/plain": [
       "1"
      ]
     },
     "execution_count": 18,
     "metadata": {},
     "output_type": "execute_result"
    }
   ],
   "source": [
    "sp.simplify(sp.cos(x)**2 + sp.sin(x)**2)"
   ]
  },
  {
   "cell_type": "code",
   "execution_count": 19,
   "metadata": {
    "collapsed": true,
    "jupyter": {
     "outputs_hidden": true
    }
   },
   "outputs": [
    {
     "data": {
      "text/plain": [
       "[<function sympy.core.function.expand_log(expr, deep=True, force=False, factor=False)>,\n",
       " <function sympy.core.function.expand_mul(expr, deep=True)>,\n",
       " <function sympy.core.function.expand_multinomial(expr, deep=True)>,\n",
       " <function sympy.core.function.expand_complex(expr, deep=True)>,\n",
       " <function sympy.core.function.expand_trig(expr, deep=True)>,\n",
       " <function sympy.core.function.expand_power_base(expr, deep=True, force=False)>,\n",
       " <function sympy.core.function.expand_power_exp(expr, deep=True)>,\n",
       " <function sympy.core.function.expand_func(expr, deep=True)>,\n",
       " <function sympy.simplify.hyperexpand.hyperexpand(f, allow_hyper=False, rewrite='default', place=None)>]"
      ]
     },
     "execution_count": 19,
     "metadata": {},
     "output_type": "execute_result"
    }
   ],
   "source": [
    "funcs_expand = [ \n",
    "    sp.expand_log, \n",
    "    sp.expand_mul, \n",
    "    sp.expand_multinomial, \n",
    "    sp.expand_complex, \n",
    "    sp.expand_trig, \n",
    "    sp.expand_power_base, \n",
    "    sp.expand_power_exp, \n",
    "    sp.expand_func, \n",
    "    sp.hyperexpand\n",
    "]\n",
    "funcs_expand"
   ]
  },
  {
   "cell_type": "markdown",
   "metadata": {},
   "source": [
    "diff(tan(x), x)"
   ]
  },
  {
   "cell_type": "code",
   "execution_count": 20,
   "metadata": {
    "collapsed": true,
    "jupyter": {
     "outputs_hidden": true
    }
   },
   "outputs": [
    {
     "data": {
      "image/png": "[encoded data removed]",
      "text/latex": [
       "$\\displaystyle \\tan^{2}{\\left(x \\right)} + 1$"
      ],
      "text/plain": [
       "   2       \n",
       "tan (x) + 1"
      ]
     },
     "execution_count": 20,
     "metadata": {},
     "output_type": "execute_result"
    }
   ],
   "source": [
    "sp.limit( (sp.tan(x+h) - sp.tan(x))/h, h, 0 )"
   ]
  },
  {
   "cell_type": "code",
   "execution_count": 21,
   "metadata": {
    "collapsed": true,
    "jupyter": {
     "outputs_hidden": true
    }
   },
   "outputs": [
    {
     "data": {
      "image/png": "[encoded data removed]",
      "text/latex": [
       "$\\displaystyle x \\log{\\left(x \\right)} - x$"
      ],
      "text/plain": [
       "x⋅log(x) - x"
      ]
     },
     "execution_count": 21,
     "metadata": {},
     "output_type": "execute_result"
    }
   ],
   "source": [
    "sp.integrate(sp.log(x), x)"
   ]
  },
  {
   "cell_type": "code",
   "execution_count": 22,
   "metadata": {
    "collapsed": true,
    "jupyter": {
     "outputs_hidden": true
    }
   },
   "outputs": [
    {
     "data": {
      "image/png": "[encoded data removed]",
      "text/latex": [
       "$\\displaystyle \\sqrt{\\pi}$"
      ],
      "text/plain": [
       "√π"
      ]
     },
     "execution_count": 22,
     "metadata": {},
     "output_type": "execute_result"
    }
   ],
   "source": [
    "sp.integrate(\n",
    "    sp.exp(-x**2), \n",
    "    (x, sp.S.NegativeInfinity, sp.S.Infinity)\n",
    ")"
   ]
  },
  {
   "cell_type": "code",
   "execution_count": 23,
   "metadata": {
    "collapsed": true,
    "jupyter": {
     "outputs_hidden": true
    }
   },
   "outputs": [
    {
     "data": {
      "image/png": "[encoded data removed]",
      "text/latex": [
       "$\\displaystyle \\left( 1 - \\frac{x^{2}}{2} + \\frac{x^{4}}{24} - \\frac{x^{6}}{720} + \\frac{x^{8}}{40320} + O\\left(x^{10}\\right), \\  \\frac{x^{8}}{40320} - \\frac{x^{6}}{720} + \\frac{x^{4}}{24} - \\frac{x^{2}}{2} + 1\\right)$"
      ],
      "text/plain": [
       "⎛     2    4     6      8               8      6    4    2    ⎞\n",
       "⎜    x    x     x      x      ⎛ 10⎞    x      x    x    x     ⎟\n",
       "⎜1 - ── + ── - ─── + ───── + O⎝x  ⎠, ───── - ─── + ── - ── + 1⎟\n",
       "⎝    2    24   720   40320           40320   720   24   2     ⎠"
      ]
     },
     "execution_count": 23,
     "metadata": {},
     "output_type": "execute_result"
    }
   ],
   "source": [
    "sp.cos(x).series(x, 0, 10), sp.cos(x).series(x, 0, 10).removeO()"
   ]
  },
  {
   "cell_type": "markdown",
   "metadata": {},
   "source": [
    "# Basic"
   ]
  },
  {
   "cell_type": "markdown",
   "metadata": {},
   "source": [
    "* [Basic][1]\n",
    "* [Rewrite function][2]\n",
    "\n",
    "[1]: http://docs.sympy.org/latest/modules/core.html?highlight=rewrite#sympy.core.basic.Basic\n",
    "[2]: http://docs.sympy.org/latest/modules/core.html?highlight=rewrite#sympy.core.basic.Basic.rewrite"
   ]
  },
  {
   "cell_type": "markdown",
   "metadata": {},
   "source": [
    "# Pattern Matching"
   ]
  },
  {
   "cell_type": "markdown",
   "metadata": {},
   "source": [
    "* [match][] in [Basic][]\n",
    "* [Wild][]\n",
    "* [WildFunction][]\n",
    "\n",
    "[Basic]: http://docs.sympy.org/latest/modules/core.html?highlight=match#id15\n",
    "\n",
    "[Wild]: http://docs.sympy.org/latest/modules/core.html?highlight=match#sympy.core.symbol.Wild\n",
    "\n",
    "[WildFunction]: http://docs.sympy.org/latest/modules/core.html?highlight=match#sympy.core.function.WildFunction\n",
    "\n",
    "[match]: http://docs.sympy.org/latest/modules/core.html?highlight=match#sympy.core.basic.Basic.match "
   ]
  },
  {
   "cell_type": "code",
   "execution_count": 24,
   "metadata": {
    "collapsed": true,
    "jupyter": {
     "outputs_hidden": true
    }
   },
   "outputs": [
    {
     "data": {
      "image/png": "[encoded data removed]",
      "text/latex": [
       "$\\displaystyle \\left( \\left\\{ p : 5, \\  q : 3\\right\\}, \\  \\left\\{ p : 1, \\  q : 2\\right\\}\\right)$"
      ],
      "text/plain": [
       "({p: 5, q: 3}, {p: 1, q: 2})"
      ]
     },
     "execution_count": 24,
     "metadata": {},
     "output_type": "execute_result"
    }
   ],
   "source": [
    " p = sp.Wild('p', exclude=[x])\n",
    " q = sp.Wild('q', exclude=[x])\n",
    "(5*x**2 + 3*x).match(p*x**2 + q*x), (x**2).match(p*x**q)"
   ]
  },
  {
   "cell_type": "code",
   "execution_count": 25,
   "metadata": {
    "collapsed": true,
    "jupyter": {
     "outputs_hidden": true
    }
   },
   "outputs": [
    {
     "data": {
      "image/png": "[encoded data removed]",
      "text/latex": [
       "$\\displaystyle \\left( \\left\\{ p : 5, \\  \\operatorname{WildFunction}{\\left(f \\right)} : \\cos{\\left(x \\right)}\\right\\}, \\  \\left\\{ \\operatorname{WildFunction}{\\left(f \\right)} : \\cos{\\left(3 x \\right)}\\right\\}\\right)$"
      ],
      "text/plain": [
       "({p: 5, WildFunction(f): cos(x)}, {WildFunction(f): cos(3⋅x)})"
      ]
     },
     "execution_count": 25,
     "metadata": {},
     "output_type": "execute_result"
    }
   ],
   "source": [
    " f = sp.WildFunction('f', nargs=1)\n",
    "(5*sp.cos(x)).match(p*f), (sp.cos(3*x)).match(f)"
   ]
  },
  {
   "cell_type": "markdown",
   "metadata": {},
   "source": [
    "# Replacement"
   ]
  },
  {
   "cell_type": "markdown",
   "metadata": {},
   "source": [
    "* [replace][1] replace an expression. An example is found in [Young and Freedman][2] solutions in sympy\n",
    "\n",
    "[1]: http://docs.sympy.org/latest/modules/core.html?highlight=match#sympy.core.basic.Basic.replace\n",
    "[2]:../physics/YoungAndFreedman13/Chapter05-Applying-Newtons-Laws/Chapter05P110-Rotating-System.ipynb"
   ]
  },
  {
   "cell_type": "markdown",
   "metadata": {},
   "source": [
    "# Calculus"
   ]
  },
  {
   "cell_type": "markdown",
   "metadata": {},
   "source": [
    "* [Calculus][2]\n",
    "* [Integrals][1]\n",
    "* [Solving differential equations][3]\n",
    "* [classify ODE][4]\n",
    "\n",
    "[4]: http://docs.sympy.org/latest/modules/solvers/ode.html?highlight=dsolve#classify-ode\n",
    "[3]: http://docs.sympy.org/latest/tutorial/solvers.html#solving-differential-equations\n",
    "[2]: http://docs.sympy.org/latest/tutorial/calculus.html?highlight=dsolve#calculus\n",
    "[1]: http://docs.sympy.org/latest/modules/integrals/integrals.html?highlight=sympy.integrals#module-sympy.integrals"
   ]
  },
  {
   "cell_type": "markdown",
   "metadata": {},
   "source": [
    "# Series and Summations"
   ]
  },
  {
   "cell_type": "markdown",
   "metadata": {},
   "source": [
    "Some examples of series and summations may be found in mathematical problems for physics.\n",
    "  * [Summation][1]\n",
    "  * [Series][2]\n",
    "\n",
    "[1]: ../../Physics/Physics-Problems-To-Solve/physics-mechanics/physics-mechanics-SMR-P001-binomial-expansion-Summation.ipynb\n",
    "[2]: ../../Physics/Physics-Problems-To-Solve/physics-mechanics/physics-mechanics-SMR-P001-binomial-expansion-Series.ipynb"
   ]
  },
  {
   "cell_type": "markdown",
   "metadata": {},
   "source": [
    "# Matrices"
   ]
  },
  {
   "cell_type": "markdown",
   "metadata": {},
   "source": [
    "1 [Matrices][]\n",
    "\n",
    "[Matrices]: http://docs.sympy.org/latest/modules/matrices/matrices.html#module-sympy.matrices.matrices"
   ]
  },
  {
   "cell_type": "code",
   "execution_count": 26,
   "metadata": {
    "collapsed": true,
    "jupyter": {
     "outputs_hidden": true
    }
   },
   "outputs": [
    {
     "data": {
      "text/latex": [
       "$\\displaystyle \\left( \\left[\\begin{matrix}1 & 0 & 0\\\\0 & 1 & 0\\\\0 & 0 & 1\\end{matrix}\\right], \\  \\left[\\begin{matrix}0 & 0 & 0\\end{matrix}\\right], \\  \\left[\\begin{matrix}1 & 1\\\\1 & 1\\end{matrix}\\right]\\right)$"
      ],
      "text/plain": [
       "⎛⎡1  0  0⎤                   ⎞\n",
       "⎜⎢       ⎥             ⎡1  1⎤⎟\n",
       "⎜⎢0  1  0⎥, [0  0  0], ⎢    ⎥⎟\n",
       "⎜⎢       ⎥             ⎣1  1⎦⎟\n",
       "⎝⎣0  0  1⎦                   ⎠"
      ]
     },
     "execution_count": 26,
     "metadata": {},
     "output_type": "execute_result"
    }
   ],
   "source": [
    "sp.eye(3), sp.zeros(1,3), sp.ones(2)"
   ]
  },
  {
   "cell_type": "code",
   "execution_count": 27,
   "metadata": {
    "collapsed": true,
    "jupyter": {
     "outputs_hidden": true
    }
   },
   "outputs": [
    {
     "data": {
      "text/latex": [
       "$\\displaystyle \\left[\\begin{matrix}0 & 1 & 0\\\\0 & 0 & 1\\end{matrix}\\right]$"
      ],
      "text/plain": [
       "⎡0  1  0⎤\n",
       "⎢       ⎥\n",
       "⎣0  0  1⎦"
      ]
     },
     "execution_count": 27,
     "metadata": {},
     "output_type": "execute_result"
    }
   ],
   "source": [
    "M = sp.eye(3)\n",
    "M.row_del(0)\n",
    "M"
   ]
  },
  {
   "cell_type": "code",
   "execution_count": 28,
   "metadata": {
    "collapsed": true,
    "jupyter": {
     "outputs_hidden": true
    }
   },
   "outputs": [
    {
     "data": {
      "text/latex": [
       "$\\displaystyle \\left( \\left[\\begin{matrix}0 & 0 & 0 & 0 & 0 & 0 & 0 & 0 & 0\\end{matrix}\\right], \\  \\left[\\begin{matrix}0 & 0 & 0 & 0\\end{matrix}\\right]\\right)$"
      ],
      "text/plain": [
       "([0  0  0  0  0  0  0  0  0], [0  0  0  0])"
      ]
     },
     "execution_count": 28,
     "metadata": {},
     "output_type": "execute_result"
    }
   ],
   "source": [
    "M, N = sp.zeros(1,4), sp.zeros(1,5)\n",
    "M.row_join(N), M"
   ]
  },
  {
   "cell_type": "code",
   "execution_count": 29,
   "metadata": {
    "collapsed": true,
    "jupyter": {
     "outputs_hidden": true
    }
   },
   "outputs": [
    {
     "data": {
      "image/png": "[encoded data removed]",
      "text/latex": [
       "$\\displaystyle 4$"
      ],
      "text/plain": [
       "4"
      ]
     },
     "execution_count": 29,
     "metadata": {},
     "output_type": "execute_result"
    }
   ],
   "source": [
    "M.cols"
   ]
  },
  {
   "cell_type": "markdown",
   "metadata": {},
   "source": [
    "# mpmath"
   ]
  },
  {
   "cell_type": "markdown",
   "metadata": {},
   "source": [
    "[mpmath][]\n",
    "\n",
    "\n",
    "1. [Documentation][]\n",
    "1. [Trignometric Functions][]\n",
    "\n",
    "\n",
    "[Documentation]: http://mpmath.org/doc/current/index.html#welcome-to-mpmath-s-documentation\n",
    "\n",
    "[mpmath]: http://mpmath.org/\n",
    "\n",
    "[Trignometric Functions]: http://mpmath.org/doc/current/functions/trigonometric.html#trigonometric-functions"
   ]
  }
 ],
 "metadata": {
  "anaconda-cloud": {},
  "kernelspec": {
   "display_name": "Python 3",
   "language": "python",
   "name": "python3"
  },
  "language_info": {
   "codemirror_mode": {
    "name": "ipython",
    "version": 3
   },
   "file_extension": ".py",
   "mimetype": "text/x-python",
   "name": "python",
   "nbconvert_exporter": "python",
   "pygments_lexer": "ipython3",
   "version": "3.9.7"
  },
  "toc-autonumbering": true,
  "toc-showcode": false,
  "toc-showmarkdowntxt": false
 },
 "nbformat": 4,
 "nbformat_minor": 4
}
