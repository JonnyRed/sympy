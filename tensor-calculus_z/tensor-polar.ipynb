{
 "cells": [
  {
   "cell_type": "code",
   "execution_count": 1,
   "metadata": {},
   "outputs": [],
   "source": [
    "import IPython.display as ipd\n",
    "from IPython.display import display, Math\n",
    "from sympy import symbols, simplify\n",
    "from sympy import sqrt, cos, sin, acos, atan2, Matrix\n",
    "from sympy import latex\n",
    "from sympy import init_printing\n",
    "\n",
    "init_printing()"
   ]
  },
  {
   "cell_type": "markdown",
   "metadata": {},
   "source": [
    "# Tensor Polar examples "
   ]
  },
  {
   "cell_type": "markdown",
   "metadata": {},
   "source": [
    "## Coordinate Transform\n",
    "\n",
    "\\begin{align*} \n",
    "    Z^{1^\\prime} &= x \\\\\n",
    "    Z^{1^\\prime} = Z^{1^\\prime}(Z) &\\rightarrow x = x(r,\\theta) \\\\\n",
    "    x(r,\\theta) &= r \\cos \\theta \\\\ \\\\\n",
    "\n",
    "    Z^{2^\\prime} &= y \\\\\n",
    "    Z^{2^\\prime} = Z^{2^\\prime}(Z) &\\rightarrow y = y(r,\\theta) \\\\\n",
    "    y(r,\\theta) &= r \\sin \\theta \\\\ \\\\    \n",
    "\\end{align*}"
   ]
  }
 ],
 "metadata": {
  "kernelspec": {
   "display_name": "sympy",
   "language": "python",
   "name": "python3"
  },
  "language_info": {
   "codemirror_mode": {
    "name": "ipython",
    "version": 3
   },
   "file_extension": ".py",
   "mimetype": "text/x-python",
   "name": "python",
   "nbconvert_exporter": "python",
   "pygments_lexer": "ipython3",
   "version": "3.10.10"
  }
 },
 "nbformat": 4,
 "nbformat_minor": 2
}
