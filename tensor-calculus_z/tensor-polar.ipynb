{
 "cells": [
  {
   "cell_type": "code",
   "execution_count": 1,
   "metadata": {},
   "outputs": [],
   "source": [
    "import IPython.display as ipd\n",
    "import spb\n",
    "from IPython.display import Math, display\n",
    "from sympy import (\n",
    "    Eq,\n",
    "    Matrix,\n",
    "    Rational,\n",
    "    S,\n",
    "    Symbol,\n",
    "    acos,\n",
    "    asinh,\n",
    "    atan2,\n",
    "    cos,\n",
    "    diff,\n",
    "    init_printing,\n",
    "    integrate,\n",
    "    latex,\n",
    "    log,\n",
    "    simplify,\n",
    "    sin,\n",
    "    solve,\n",
    "    sqrt,\n",
    "    symbols,\n",
    ")\n",
    "\n",
    "init_printing()"
   ]
  },
  {
   "cell_type": "code",
   "execution_count": 2,
   "metadata": {},
   "outputs": [],
   "source": [
    "def print_aligned_latex_equations(*args: str) -> None:\n",
    "    \"\"\"\n",
    "    Print a series of LaTeX equations aligned at the &= sign.\n",
    "\n",
    "    This function takes a variable number of LaTeX equation strings as input,\n",
    "    and displays them in a single output cell, aligned at the &= sign.\n",
    "\n",
    "    Args:\n",
    "        *args (str): LaTeX equation strings to be aligned and displayed.\n",
    "\n",
    "    Returns:\n",
    "        None\n",
    "\n",
    "    Examples:\n",
    "        print_aligned_latex_equations(\n",
    "            r\"x &= 2 + 3\",\n",
    "            r\"y &= 4 - 5\",\n",
    "            r\"z &= 6 * 7\"\n",
    "        )\n",
    "\n",
    "    \"\"\"\n",
    "\n",
    "    result = r\"\\\\\".join(\n",
    "        [\n",
    "            r\"\\begin{equation}\",\n",
    "            r\"\\begin{split}\",\n",
    "            *args,\n",
    "            r\"\\nonumber\" r\"\\end{split}\",\n",
    "            r\"\\end{equation}\",\n",
    "        ]\n",
    "    )\n",
    "\n",
    "    ipd.display(ipd.Math(rf\"{result}\"))  # type: ignore"
   ]
  },
  {
   "cell_type": "markdown",
   "metadata": {},
   "source": [
    "# Tensor Polar examples "
   ]
  },
  {
   "cell_type": "markdown",
   "metadata": {},
   "source": [
    "## Coordinate Transform\n",
    "\n",
    "\\begin{align*} \n",
    "    Z^{1^\\prime} &= x \\\\\n",
    "    Z^{1^\\prime} = Z^{1^\\prime}(Z) &\\rightarrow x = x(r,\\theta) \\\\\n",
    "    x(r,\\theta) &= r \\cos \\theta \\\\ \\\\\n",
    "\n",
    "    Z^{2^\\prime} &= y \\\\\n",
    "    Z^{2^\\prime} = Z^{2^\\prime}(Z) &\\rightarrow y = y(r,\\theta) \\\\\n",
    "    y(r,\\theta) &= r \\sin \\theta \\\\ \\\\    \n",
    "\\end{align*}\n",
    "\n",
    "\n",
    "\n",
    "$\n",
    "s = \\displaystyle \\int_{\\theta_1}^{\\theta_2} \n",
    "        \\sqrt{ \n",
    "            r(\\theta)^2 + \\left( \\frac{dr}{d\\theta} \\right)^2 \n",
    "        } \n",
    "    \\, d\\theta\n",
    "$\n",
    "\n"
   ]
  },
  {
   "cell_type": "markdown",
   "metadata": {},
   "source": [
    "## Polar arc length\n",
    "\n",
    "To determine the arc length of a curve given in polar coordinates, we \n",
    "use a specific formula. Let's say a curve is given by a polar equation:\n",
    "\n",
    "$$\n",
    "r = f(\\theta)\n",
    "$$\n",
    "\n",
    "where $ r $ is the radius as a function of the polar angle $ \\theta $.\n",
    "\n",
    "### Arc Length Formula for Polar Coordinates\n",
    "\n",
    "The formula for the arc length $ L $ of a curve in polar coordinates between \n",
    "angles $ \\theta = \\alpha $ and $ \\theta = \\beta $ is:\n",
    "\n",
    "$$\n",
    "s = \\int_{\\alpha}^{\\beta} \\sqrt{r^2 + \\left(\\frac{dr}{d\\theta}\\right)^2} \\, d\\theta\n",
    "$$\n",
    "\n"
   ]
  },
  {
   "cell_type": "markdown",
   "metadata": {},
   "source": [
    "## Polar equation examples \n",
    "\n",
    "### 1. **Line Through the Origin**\n",
    "\n",
    "##### _Polar Form_:  A line through the origin in polar coordinates is given by:\n",
    "$$\n",
    "\\theta = \\theta_0\n",
    "$$\n",
    "Here, $ \\theta_0 $ is the constant angle of the line relative to the positive $ x $-axis.\n",
    "\n",
    "##### _Cartesian Form_: Using the relationships $ x = r \\cos(\\theta) $ and $ y = r \\sin(\\theta) $, we can convert this to Cartesian coordinates. For a line passing through the origin with a slope $ m = \\tan(\\theta_0) $, the equation of the line in Cartesian form is:\n",
    "\n",
    "$$\n",
    "y = x \\tan(\\theta_0)\n",
    "$$\n",
    "\n",
    "### 2. **Lemniscate (Infinity Symbol)**\n",
    "\n",
    "##### _Polar Form_:  The equation of a lemniscate (figure-eight or infinity symbol) in polar coordinates is:\n",
    "$$\n",
    "r^2 = a^2 \\cos(2\\theta)\n",
    "$$\n",
    "where $ a $ is a constant that controls the size of the lemniscate.\n",
    "\n",
    "##### _Cartesian Form_: To convert this to Cartesian form, use the identities $ r^2 = x^2 + y^2 $, $ \\cos(2\\theta) = \\frac{x^2 - y^2}{x^2 + y^2} $. Substituting these into the polar equation, we get the _Cartesian form_: \n",
    "\n",
    "$$\n",
    "(x^2 + y^2)^2 = a^2 (x^2 - y^2)\n",
    "$$\n",
    "This is the equation of the lemniscate in Cartesian coordinates.\n",
    "\n",
    "### 3. **Cardioid**\n",
    "\n",
    "##### _Polar Form_:  A cardioid is a heart-shaped curve, and its equation in polar coordinates is:\n",
    "$$\n",
    "r = a(1 + \\cos(\\theta))\n",
    "$$\n",
    "where $ a $ controls the size of the cardioid.\n",
    "\n",
    "##### _Cartesian Form_: \n",
    "Using the polar-to-Cartesian relationships, $ r = \\sqrt{x^2 + y^2} $ and $ \\cos(\\theta) = \\frac{x}{\\sqrt{x^2 + y^2}} $, we substitute into the polar equation to get:\n",
    "$$\n",
    "\\sqrt{x^2 + y^2} = a \\left( 1 + \\frac{x}{\\sqrt{x^2 + y^2}} \\right)\n",
    "$$\n",
    "Squaring both sides and simplifying, the Cartesian form is a bit more complex but can be written as:\n",
    "$$\n",
    "(x^2 + y^2 - ax)^2 = a^2(x^2 + y^2)\n",
    "$$\n",
    "\n",
    "### 4. **Spiral of Archimedes**\n",
    "\n",
    "##### _Polar Form_:  The equation of the **Spiral of Archimedes** is:\n",
    "$$\n",
    "r = a\\theta\n",
    "$$\n",
    "where $ a $ is a constant and $ \\theta $ is the angle.\n",
    "\n",
    "##### _Cartesian Form_: Using $ r = \\sqrt{x^2 + y^2} $, $ \\theta = \\tan^{-1}(y/x) $, we substitute into the polar equation to get the Cartesian form, though it’s typically expressed parametrically:\n",
    "$$\n",
    "x = r \\cos(\\theta) = a\\theta \\cos(\\theta)\n",
    "$$\n",
    "$$\n",
    "y = r \\sin(\\theta) = a\\theta \\sin(\\theta)\n",
    "$$\n",
    "This describes the spiral as $ \\theta $ increases, tracing out the curve.\n",
    "\n",
    "### Conclusion:\n",
    "- **Line through origin**: $ \\theta = \\theta_0 $ → $ y = x \\tan(\\theta_0) $\n",
    "- **Lemniscate**: $ r^2 = a^2 \\cos(2\\theta) $ → $ (x^2 + y^2)^2 = a^2 (x^2 - y^2) $\n",
    "- **Cardioid**: $ r = a(1 + \\cos(\\theta)) $ → Complex Cartesian form\n",
    "- **Spiral of Archimedes**: $ r = a\\theta $ → Parametric Cartesian form\n",
    "\n",
    "These examples show that many familiar curves, like spirals, lemniscates, and cardioids, can be represented both in polar and Cartesian coordinates."
   ]
  },
  {
   "cell_type": "markdown",
   "metadata": {},
   "source": [
    "# Spiral\n",
    "\n",
    "\\begin{align*} \n",
    "    r &= a \\theta^2 \\\\\n",
    "    s &= \\frac{(\\theta^2+4)^{\\frac{3}{2}}}{3}\n",
    "\\end{align*}\n",
    "\n",
    "The above Spiral is chosen  since there is a simple algebraic solution to \n",
    "find its arc length. Most Polar equations have an  arc length that is \n",
    "determined by numerical solutions."
   ]
  },
  {
   "cell_type": "code",
   "execution_count": 3,
   "metadata": {},
   "outputs": [
    {
     "data": {
      "text/latex": [
       "$\\displaystyle \\begin{equation}\\\\\\begin{split}\\\\r &= \\theta^{2}\\\\\\frac{d r}{d \\theta} &= 2 \\theta\\\\\\frac{d s}{d \\theta} &= \\sqrt{\\theta^{4} + 4 \\theta^{2}}\\\\s(\\theta) &= \\frac{\\left(\\theta^{2} + 4\\right)^{\\frac{3}{2}}}{3}\\\\\\theta(s) &= \\sqrt{3^{\\frac{2}{3}} s^{\\frac{2}{3}} - 4}\\\\r(s) &= 3^{\\frac{2}{3}} s^{\\frac{2}{3}} - 4\\\\\\nonumber\\end{split}\\\\\\end{equation}$"
      ],
      "text/plain": [
       "<IPython.core.display.Math object>"
      ]
     },
     "metadata": {},
     "output_type": "display_data"
    }
   ],
   "source": [
    "alpha, theta = symbols(\"alpha, theta\", positive=True, real=True)\n",
    "s, a, b, c = symbols(\"s, a, b, c\", real=True, positive=True)\n",
    "a = 1\n",
    "r_theta = a * theta**2\n",
    "\n",
    "latex_text = [\n",
    "    rf\"r &= {latex(r_theta)}\",\n",
    "]\n",
    "\n",
    "# Step 1: Compute the arc length differential (ds/dtheta)\n",
    "dr_dtheta = diff(r_theta, theta)\n",
    "ds_dtheta = sqrt(r_theta**2 + dr_dtheta**2)\n",
    "\n",
    "latex_text += [\n",
    "    r\"\\frac{d r}{d \\theta} &= \" rf\"{latex(dr_dtheta)}\",\n",
    "]\n",
    "latex_text += [\n",
    "    r\"\\frac{d s}{d \\theta} &= \" rf\"{latex(ds_dtheta)}\",\n",
    "]\n",
    "\n",
    "# Step 2: Integrate ds to get arc length as a function of theta\n",
    "s_theta = integrate(ds_dtheta, theta).simplify()\n",
    "latex_text += [\n",
    "    r\"s(\\theta) &= \" rf\"{latex(s_theta)}\",\n",
    "]\n",
    "\n",
    "theta_s = solve(Eq(s_theta, s), theta, dict=True)[0][theta]\n",
    "latex_text += [\n",
    "    r\"\\theta(s) &= \" rf\"{latex(theta_s)}\",\n",
    "]\n",
    "\n",
    "r_s = r_theta.subs(theta, theta_s).simplify()\n",
    "latex_text += [\n",
    "    r\"r(s) &= \" rf\"{latex(r_s)}\",\n",
    "]\n",
    "\n",
    "print_aligned_latex_equations(*latex_text)"
   ]
  },
  {
   "cell_type": "code",
   "execution_count": 4,
   "metadata": {},
   "outputs": [],
   "source": [
    "# Define the polar equations\n",
    "r_d = 3 ** Rational(2, 3) * s ** Rational(2, 3) - 4\n",
    "theta_d = sqrt(3 ** Rational(2, 3) * s ** Rational(2, 3) - 4)\n",
    "\n",
    "# Convert polar to Cartesian coordinates for plotting\n",
    "x = r_d * cos(theta_d)\n",
    "y = r_d * sin(theta_d)"
   ]
  },
  {
   "cell_type": "code",
   "execution_count": 5,
   "metadata": {},
   "outputs": [
    {
     "data": {
      "image/png": "[encoded data removed]",
      "text/plain": [
       "<Figure size 640x480 with 2 Axes>"
      ]
     },
     "metadata": {},
     "output_type": "display_data"
    },
    {
     "data": {
      "text/plain": [
       "<spb.backends.matplotlib.matplotlib.MatplotlibBackend at 0x252cf629fc0>"
      ]
     },
     "execution_count": 5,
     "metadata": {},
     "output_type": "execute_result"
    }
   ],
   "source": [
    "spb.graphics(\n",
    "    spb.line_parametric_2d(x, y, (s, 0, 10)),\n",
    "    aspect=\"equal\",\n",
    "    # backend=spb.KB\n",
    ")"
   ]
  },
  {
   "cell_type": "code",
   "execution_count": 6,
   "metadata": {},
   "outputs": [],
   "source": [
    "vec_R = Matrix(3, 1, [r_s * cos(theta_s), r_s * sin(theta_s), 0])\n",
    "vec_dRds = vec_R.diff(s)"
   ]
  },
  {
   "cell_type": "code",
   "execution_count": 7,
   "metadata": {},
   "outputs": [
    {
     "data": {
      "image/png": "[encoded data removed]",
      "text/plain": [
       "<Figure size 640x480 with 2 Axes>"
      ]
     },
     "metadata": {},
     "output_type": "display_data"
    },
    {
     "data": {
      "text/plain": [
       "<spb.backends.matplotlib.matplotlib.MatplotlibBackend at 0x252d047a350>"
      ]
     },
     "execution_count": 7,
     "metadata": {},
     "output_type": "execute_result"
    }
   ],
   "source": [
    "spb.graphics(\n",
    "    spb.line_parametric_2d(vec_dRds[0], vec_dRds[1], (s, 0.1, 10)), aspect=\"equal\"\n",
    ")"
   ]
  },
  {
   "cell_type": "code",
   "execution_count": 8,
   "metadata": {},
   "outputs": [
    {
     "data": {
      "text/latex": [
       "$\\displaystyle \\left[\\begin{matrix}\\frac{3^{\\frac{2}{3}} \\left(- \\sqrt{3^{\\frac{2}{3}} s^{\\frac{2}{3}} - 4} \\sin{\\left(\\sqrt{3^{\\frac{2}{3}} s^{\\frac{2}{3}} - 4} \\right)} + 2 \\cos{\\left(\\sqrt{3^{\\frac{2}{3}} s^{\\frac{2}{3}} - 4} \\right)}\\right)}{3 \\sqrt[3]{s}}\\\\\\frac{3^{\\frac{2}{3}} \\left(\\sqrt{3^{\\frac{2}{3}} s^{\\frac{2}{3}} - 4} \\cos{\\left(\\sqrt{3^{\\frac{2}{3}} s^{\\frac{2}{3}} - 4} \\right)} + 2 \\sin{\\left(\\sqrt{3^{\\frac{2}{3}} s^{\\frac{2}{3}} - 4} \\right)}\\right)}{3 \\sqrt[3]{s}}\\\\0\\end{matrix}\\right]$"
      ],
      "text/plain": [
       "⎡     ⎛     _______________    ⎛   _______________⎞        ⎛   _______________ ↪\n",
       "⎢ 2/3 ⎜    ╱  2/3  2/3         ⎜  ╱  2/3  2/3     ⎟        ⎜  ╱  2/3  2/3      ↪\n",
       "⎢3   ⋅⎝- ╲╱  3   ⋅s    - 4 ⋅sin⎝╲╱  3   ⋅s    - 4 ⎠ + 2⋅cos⎝╲╱  3   ⋅s    - 4  ↪\n",
       "⎢───────────────────────────────────────────────────────────────────────────── ↪\n",
       "⎢                                      3 ___                                   ↪\n",
       "⎢                                    3⋅╲╱ s                                    ↪\n",
       "⎢                                                                              ↪\n",
       "⎢      ⎛   _______________    ⎛   _______________⎞        ⎛   _______________⎞ ↪\n",
       "⎢  2/3 ⎜  ╱  2/3  2/3         ⎜  ╱  2/3  2/3     ⎟        ⎜  ╱  2/3  2/3     ⎟ ↪\n",
       "⎢ 3   ⋅⎝╲╱  3   ⋅s    - 4 ⋅cos⎝╲╱  3   ⋅s    - 4 ⎠ + 2⋅sin⎝╲╱  3   ⋅s    - 4 ⎠ ↪\n",
       "⎢ ──────────────────────────────────────────────────────────────────────────── ↪\n",
       "⎢                                      3 ___                                   ↪\n",
       "⎢                                    3⋅╲╱ s                                    ↪\n",
       "⎢                                                                              ↪\n",
       "⎣                                       0                                      ↪\n",
       "\n",
       "↪ ⎞⎞⎤\n",
       "↪ ⎟⎟⎥\n",
       "↪ ⎠⎠⎥\n",
       "↪ ──⎥\n",
       "↪   ⎥\n",
       "↪   ⎥\n",
       "↪   ⎥\n",
       "↪ ⎞ ⎥\n",
       "↪ ⎟ ⎥\n",
       "↪ ⎠ ⎥\n",
       "↪ ─ ⎥\n",
       "↪   ⎥\n",
       "↪   ⎥\n",
       "↪   ⎥\n",
       "↪   ⎦"
      ]
     },
     "execution_count": 8,
     "metadata": {},
     "output_type": "execute_result"
    }
   ],
   "source": [
    "Matrix(3, 1, [x, y, 0]).diff(s).applyfunc(simplify)"
   ]
  }
 ],
 "metadata": {
  "kernelspec": {
   "display_name": "sympy",
   "language": "python",
   "name": "python3"
  },
  "language_info": {
   "codemirror_mode": {
    "name": "ipython",
    "version": 3
   },
   "file_extension": ".py",
   "mimetype": "text/x-python",
   "name": "python",
   "nbconvert_exporter": "python",
   "pygments_lexer": "ipython3",
   "version": "3.10.10"
  }
 },
 "nbformat": 4,
 "nbformat_minor": 2
}
