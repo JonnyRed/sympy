{
 "cells": [
  {
   "cell_type": "code",
   "execution_count": 1,
   "metadata": {},
   "outputs": [],
   "source": [
    "from sympy import Eq, cos, sin, solve, symbols\n",
    "from sympy import init_printing\n",
    "init_printing()"
   ]
  },
  {
   "cell_type": "markdown",
   "metadata": {},
   "source": [
    "## Video 6 Coordinate transformation\n",
    "\n",
    "![Coordinate transformation](./images/Coord-Transform-01.jpg)\n",
    "![Coordinate transformation](./images/Coord-Transform-02.jpg)\n",
    "\n",
    "\n",
    "* A coordinate  system called $Z$.\n",
    "* A generic coordinate system with coordinates $Z^1,Z^1 \\dots Z^n$ \n",
    "for an $n$ dimensional coordinate system\n",
    "* Indexes are in superscript position\n",
    "* A alternative coordinate  system called $Z^\\prime$.\n",
    "* A alternative generic coordinate system with coordinates $Z^{1^\\prime},Z^{1^\\prime} \\dots Z^{n^\\prime}$ \n",
    "* $Z^{i^\\prime} = Z^{i^\\prime}(Z)$ represents the set of equations defined above.\n",
    "    * $Z^{i^\\prime}$ is a function understood by the arguments that follow.\n",
    "    * $Z$ is understood as an argument list because of the context of a function\n"
   ]
  },
  {
   "cell_type": "markdown",
   "metadata": {},
   "source": [
    "## Video 7 Transformation examples\n"
   ]
  },
  {
   "cell_type": "markdown",
   "metadata": {},
   "source": [
    "### Polar coordinates\n",
    "\n",
    "![Polar coordinates](./images/polar-transform.jpg)\n",
    "\n",
    "<iframe src=\"https://www.geogebra.org/calculator/wt2s5dbj?embed\" width=\"700\" height=\"600\" allowfullscreen style=\"border: 1px solid #e4e4e4;border-radius: 4px;\" frameborder=\"0\"></iframe>\n",
    "\n",
    "\\begin{align*} \n",
    "    Z^{1^\\prime} &= x \\quad Z^{2^\\prime} = y \\\\\n",
    "    Z^{i^\\prime} &= Z^{i^\\prime}(Z) \n",
    "    \\begin{cases}\n",
    "        x = x(r, \\theta), \\; x = r \\cos \\theta \\\\\n",
    "        y = y(r, \\theta), \\; y = r \\sin \\theta  \\\\ \n",
    "    \\end{cases}\n",
    "    \\\\ \\\\\n",
    "\n",
    "    Z^{1} &= r \\quad Z^{2} = \\theta \\\\\n",
    "    Z^{i} &= Z^{i}(Z^\\prime) \n",
    "    \\begin{cases}\n",
    "        r = r(x, y), \\; r = \\sqrt{x^2 + y^2} \\\\\n",
    "        \\theta = \\theta(x, y), \\; \\theta = \\tan^{-1} \\frac{y}{x}  \\\\ \n",
    "    \\end{cases}\n",
    "    \\\\ \\\\\n",
    "    \n",
    "\\end{align*}\n"
   ]
  },
  {
   "cell_type": "markdown",
   "metadata": {},
   "source": []
  },
  {
   "cell_type": "markdown",
   "metadata": {},
   "source": []
  },
  {
   "cell_type": "markdown",
   "metadata": {},
   "source": []
  },
  {
   "cell_type": "markdown",
   "metadata": {},
   "source": []
  },
  {
   "cell_type": "markdown",
   "metadata": {},
   "source": []
  },
  {
   "cell_type": "markdown",
   "metadata": {},
   "source": []
  },
  {
   "cell_type": "markdown",
   "metadata": {},
   "source": []
  },
  {
   "cell_type": "markdown",
   "metadata": {},
   "source": []
  },
  {
   "cell_type": "markdown",
   "metadata": {},
   "source": []
  },
  {
   "cell_type": "markdown",
   "metadata": {},
   "source": []
  },
  {
   "cell_type": "markdown",
   "metadata": {},
   "source": []
  },
  {
   "cell_type": "markdown",
   "metadata": {},
   "source": []
  },
  {
   "cell_type": "markdown",
   "metadata": {},
   "source": []
  },
  {
   "cell_type": "markdown",
   "metadata": {},
   "source": []
  },
  {
   "cell_type": "markdown",
   "metadata": {},
   "source": []
  },
  {
   "cell_type": "markdown",
   "metadata": {},
   "source": []
  },
  {
   "cell_type": "markdown",
   "metadata": {},
   "source": []
  },
  {
   "cell_type": "markdown",
   "metadata": {},
   "source": []
  },
  {
   "cell_type": "markdown",
   "metadata": {},
   "source": []
  },
  {
   "cell_type": "markdown",
   "metadata": {},
   "source": []
  },
  {
   "cell_type": "markdown",
   "metadata": {},
   "source": [
    "### Cylindrical coordinates\n",
    "\n",
    "![](./images/cylindrical-transform.jpg)"
   ]
  },
  {
   "cell_type": "markdown",
   "metadata": {},
   "source": [
    "### Cylindrical coordinates\n",
    "\n",
    "\\begin{align*} \n",
    "    Z^{i^\\prime} &= Z^{i^\\prime}(Z)\n",
    "    \\begin{cases}\n",
    "        x = x(r, \\theta) \\\\\n",
    "        y = y(r, \\theta) \\\\\n",
    "        z = y(r, \\theta) \n",
    "    \\end{cases} \\\\\n",
    "    x &= r \\cos \\theta \\\\\n",
    "    y &= r \\sin \\theta \\\\\n",
    "\\end{align*}\n",
    "\n",
    "\n",
    "![](./images/spherical-transform02.jpg)"
   ]
  }
 ],
 "metadata": {
  "kernelspec": {
   "display_name": "sympy",
   "language": "python",
   "name": "python3"
  },
  "language_info": {
   "codemirror_mode": {
    "name": "ipython",
    "version": 3
   },
   "file_extension": ".py",
   "mimetype": "text/x-python",
   "name": "python",
   "nbconvert_exporter": "python",
   "pygments_lexer": "ipython3",
   "version": "3.10.14"
  }
 },
 "nbformat": 4,
 "nbformat_minor": 2
}
