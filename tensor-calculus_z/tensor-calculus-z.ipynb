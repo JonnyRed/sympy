{
 "cells": [
  {
   "cell_type": "code",
   "execution_count": 1,
   "metadata": {},
   "outputs": [],
   "source": [
    "from sympy import Eq, cos, sin, solve, symbols\n",
    "from sympy import init_printing\n",
    "init_printing()"
   ]
  },
  {
   "cell_type": "markdown",
   "metadata": {},
   "source": [
    "## Video 6 Coordinate transformation\n",
    "\n",
    "![Coordinate transformation](./images/Coord-Transform-01.jpg)\n",
    "![Coordinate transformation](./images/Coord-Transform-02.jpg)\n",
    "\n",
    "\n",
    "* A coordinate  system called $Z$.\n",
    "* A generic coordinate system with coordinates $Z^1,Z^1 \\dots Z^n$ \n",
    "for an $n$ dimensional coordinate system\n",
    "* Indexes are in superscript position\n",
    "* A alternative coordinate  system called $Z^\\prime$.\n",
    "* A alternative generic coordinate system with coordinates $Z^{1^\\prime},Z^{1^\\prime} \\dots Z^{n^\\prime}$ \n",
    "* $Z^{i^\\prime} = Z^{i^\\prime}(Z)$ represents the set of equations defined above.\n",
    "    * $Z^{i^\\prime}$ is a function understood by the arguments that follow.\n",
    "    * $Z$ is understood as an argument list because of the context of a function\n"
   ]
  },
  {
   "cell_type": "markdown",
   "metadata": {},
   "source": [
    "## Video 7 Transformation examples\n"
   ]
  },
  {
   "cell_type": "markdown",
   "metadata": {},
   "source": [
    "### Polar coordinates\n",
    "\n",
    "![Polar coordinates](./images/polar-transform.jpg)\n",
    "\n",
    "<iframe src=\"https://www.geogebra.org/calculator/wt2s5dbj?embed\" width=\"700\" height=\"600\" allowfullscreen style=\"border: 1px solid #e4e4e4;border-radius: 4px;\" frameborder=\"0\"></iframe>\n",
    "\n",
    "\\begin{align*} \n",
    "    Z^{1^\\prime} &= x \\quad Z^{2^\\prime} = y \\\\\n",
    "    Z^{i^\\prime} &= Z^{i^\\prime}(Z) \n",
    "    \\begin{cases}\n",
    "        x = x(r, \\theta), \\; x = r \\cos \\theta \\\\\n",
    "        y = y(r, \\theta), \\; y = r \\sin \\theta  \\\\ \n",
    "    \\end{cases}\n",
    "    \\\\ \\\\\n",
    "\n",
    "    Z^{1} &= r \\quad Z^{2} = \\theta \\\\\n",
    "    Z^{i} &= Z^{i}(Z^\\prime) \n",
    "    \\begin{cases}\n",
    "        r = r(x, y), \\; r = \\sqrt{x^2 + y^2} \\\\\n",
    "        \\theta = \\theta(x, y), \\; \\theta = \\tan^{-1} \\frac{y}{x}  \\\\ \n",
    "    \\end{cases}\n",
    "    \\\\ \\\\\n",
    "    \n",
    "\\end{align*}\n"
   ]
  },
  {
   "cell_type": "markdown",
   "metadata": {},
   "source": [
    "### Cylindrical coordinates\n",
    "\n",
    "\\begin{align*} \n",
    "\n",
    "    Z^{1^\\prime} &= x \\quad Z^{2^\\prime} = y \\quad Z^{3^\\prime} = z\\\\\n",
    "    Z^{i^\\prime} &= Z^{i^\\prime}(Z) \n",
    "    \\begin{cases}\n",
    "        x = x(\\rho, \\theta, z), \\; x = \\rho \\cos \\theta \\\\\n",
    "        y = y(\\rho, \\theta, z), \\; y = \\rho \\sin \\theta  \\\\ \n",
    "        z = y(\\rho, \\theta, z), \\; z = z  \\\\ \n",
    "    \\end{cases}\n",
    "    \\\\ \\\\\n",
    "\n",
    "    Z^{1} &= r \\quad Z^{2} = \\theta \\quad Z^{3} = \\theta \\\\\n",
    "    Z^{i} &= Z^{i}(Z^\\prime) \n",
    "    \\begin{cases}\n",
    "        \\rho = r(x, y, z), \\; \\rho = \\sqrt{x^2 + y^2} \\\\\n",
    "        \\theta = \\theta(x, y, z), \\; \\theta = \\tan^{-1} \\frac{y}{x}  \\\\ \n",
    "        z = z(x, y, z), \\; z = z  \\\\ \n",
    "    \\end{cases}\n",
    "\\end{align*}\n",
    "\n",
    "<iframe src=\"https://www.geogebra.org/3d/wkfbqdbk?embed\" width=\"600\" height=\"300\" allowfullscreen style=\"border: 1px solid #e4e4e4;border-radius: 4px;\" frameborder=\"0\"></iframe>"
   ]
  },
  {
   "cell_type": "markdown",
   "metadata": {},
   "source": [
    "### Spherical Coordinate\n",
    "\n",
    "<iframe src=\"https://www.geogebra.org/3d/x6xcxmz8?embed\" width=\"700\" height=\"400\" allowfullscreen style=\"border: 1px solid #e4e4e4;border-radius: 4px;\" frameborder=\"0\"></iframe>\n",
    "\n",
    "\\begin{align*} \n",
    "\n",
    "    Z^{1^\\prime} &= x \\quad Z^{2^\\prime} = y \\quad Z^{3^\\prime} = z\\\\\n",
    "    Z^{i^\\prime} &= Z^{i^\\prime}(Z) \n",
    "    \\begin{cases}\n",
    "        x = x(r, \\theta, \\phi), \\; x = r \\sin \\theta \\cos \\phi \\\\\n",
    "        y = y(r, \\theta, \\phi), \\; y = r \\sin \\theta \\sin \\phi  \\\\ \n",
    "        z = y(r, \\theta, \\phi), \\; z = \\cos \\phi  \\\\ \n",
    "    \\end{cases}\n",
    "    \\\\ \\\\\n",
    "\n",
    "    Z^{1} &= r \\quad Z^{2} = \\theta \\quad Z^{3} = \\phi \\\\\n",
    "    Z^{i} &= Z^{i}(Z^\\prime) \n",
    "    \\begin{cases} \n",
    "        r = r(x, y, z), \\; r = \\sqrt{x^2 + y^2 + z^2} \\\\\n",
    "        \\theta = \\theta(x, y, z), \\; \\displaystyle {\\theta = \\cos^{-1} \\frac{z}{ \\sqrt{x^2 + y^2 + z^2} }}  \\\\ \n",
    "        z = z(x, y, z), \\; \\phi = \\displaystyle{\\tan^{-1} \\frac{y}{z}}  \\\\ \n",
    "    \\end{cases}\n",
    "\\end{align*}\n"
   ]
  },
  {
   "cell_type": "markdown",
   "metadata": {},
   "source": [
    "### Affine Coordinates\n",
    "\n",
    "<iframe src=\"https://www.geogebra.org/calculator/vtyyyacv?embed\" width=\"800\" height=\"600\" allowfullscreen style=\"border: 1px solid #e4e4e4;border-radius: 4px;\" frameborder=\"0\"></iframe>\n",
    "\n",
    "\\begin{align*} \n",
    "\n",
    "    Z^{1^\\prime} &= x \\quad Z^{2^\\prime} = y \\\\\n",
    "    Z^{i^\\prime} &= Z^{i^\\prime}(Z) \n",
    "    \\begin{cases}\n",
    "        x = x(u, v), \\; x = a u + b \\cos (\\alpha) v \\\\\n",
    "        y = y(u, v), \\; y = b \\sin (\\alpha) v  \\\\ \n",
    "    \\end{cases}\n",
    "    \\\\ \\\\\n",
    "\n",
    "    Z^{1} &= u \\textrm{ scale of a} \\quad Z^{2} = v \\textrm{ scale of b} \\\\\n",
    "    Z^{i} &= Z^{i}(Z^\\prime) \n",
    "    \\begin{cases} \n",
    "        \\displaystyle{u = r(x, y), \\; u = \\frac{1}{a} x - \\frac{\\cos(\\alpha)}{a \\sin(\\alpha)}} y\\\\\n",
    "        \\displaystyle{v = r(x, y), \\; v = \\frac{1}{b \\sin(\\alpha)} y  }\n",
    "    \\end{cases}\n",
    "\\end{align*}\n"
   ]
  },
  {
   "cell_type": "markdown",
   "metadata": {},
   "source": [
    "## Video 8 Vector Differentiation\n",
    "\n",
    "$s$ arc length along a curve from a fixed point $s_0$\n",
    "\n",
    "\\begin{align*} \n",
    "    \\frac{d \\mathbf{R}(s)}{ds} &= \\mathbf {\\hat s} \n",
    "    \\quad \\text{ tangent to the curve unit length} \\\\ \\\\\n",
    "\n",
    "    \\frac{d \\mathbf{R}(s(t))}{ds} &= \\frac{d s}{d t} \\mathbf {\\hat s} \n",
    "    \\quad  \\text{ tangent to the curve unit length } \\frac{d s}{d t}  \\\\ \\\\\n",
    "\n",
    "\\end{align*}\n"
   ]
  },
  {
   "cell_type": "markdown",
   "metadata": {},
   "source": [
    "## Video 9 Covariant Basis\n",
    "\n",
    "### No coordinate system\n",
    "\n",
    "<iframe src=\"https://www.geogebra.org/calculator/nny3eh8z?embed\" width=\"600\" height=\"400\" allowfullscreen style=\"border: 1px solid #e4e4e4;border-radius: 4px;\" frameborder=\"0\"></iframe>"
   ]
  }
 ],
 "metadata": {
  "kernelspec": {
   "display_name": "sympy",
   "language": "python",
   "name": "python3"
  },
  "language_info": {
   "codemirror_mode": {
    "name": "ipython",
    "version": 3
   },
   "file_extension": ".py",
   "mimetype": "text/x-python",
   "name": "python",
   "nbconvert_exporter": "python",
   "pygments_lexer": "ipython3",
   "version": "3.10.10"
  }
 },
 "nbformat": 4,
 "nbformat_minor": 2
}
