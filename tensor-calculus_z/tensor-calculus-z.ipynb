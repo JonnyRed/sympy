{
 "cells": [
  {
   "cell_type": "code",
   "execution_count": 1,
   "metadata": {},
   "outputs": [],
   "source": [
    "import IPython.display as ipd\n",
    "from IPython.display import display, Math\n",
    "from sympy import symbols, simplify\n",
    "from sympy import sqrt, cos, sin, acos, atan2, Matrix\n",
    "from sympy import latex\n",
    "from sympy import init_printing\n",
    "\n",
    "init_printing()"
   ]
  },
  {
   "cell_type": "code",
   "execution_count": 2,
   "metadata": {},
   "outputs": [],
   "source": [
    "def print_aligned_latex_equations(*args: str) -> None:\n",
    "    \"\"\"\n",
    "    Print a series of LaTeX equations aligned at the &= sign.\n",
    "\n",
    "    This function takes a variable number of LaTeX equation strings as input,\n",
    "    and displays them in a single output cell, aligned at the &= sign.\n",
    "\n",
    "    Args:\n",
    "        *args (str): LaTeX equation strings to be aligned and displayed.\n",
    "\n",
    "    Returns:\n",
    "        None\n",
    "\n",
    "    Examples:\n",
    "        print_aligned_latex_equations(\n",
    "            r\"x &= 2 + 3\",\n",
    "            r\"y &= 4 - 5\",\n",
    "            r\"z &= 6 * 7\"\n",
    "        )\n",
    "\n",
    "    \"\"\"\n",
    "\n",
    "    result = r\"\\\\\".join(\n",
    "        [\n",
    "            r\"\\begin{equation}\",\n",
    "            r\"\\begin{split}\",\n",
    "            *args,\n",
    "            r\"\\nonumber\" r\"\\end{split}\",\n",
    "            r\"\\end{equation}\",\n",
    "        ]\n",
    "    )\n",
    "\n",
    "    ipd.display(ipd.Math(rf\"{result}\"))  # type: ignore\n",
    "\n",
    "\n",
    "def jacobian(coords_from: dict, coords_to: dict) -> Matrix:\n",
    "    \"\"\"\n",
    "    Computes the Jacobian matrix of a coordinate transformation.\n",
    "\n",
    "    This function calculates the Jacobian matrix for a transformation\n",
    "    between two coordinate systems. It expresses how the base vectors of\n",
    "    the \"from\" coordinate system (specified by `coords_from`) are\n",
    "    represented in terms of the \"to\" coordinate system (specified\n",
    "    by `coords_to`).\n",
    "\n",
    "    Args:\n",
    "        coords_from (dict): A dictionary representing the variables of\n",
    "                            the original coordinate system and their\n",
    "                            expressions in the target coordinate system\n",
    "                            (e.g., {x: r*cos(theta), y: r*sin(theta)}).\n",
    "        coords_to (dict): A dictionary representing the variables of the\n",
    "                          target coordinate system and their expressions\n",
    "                          in terms of the original system\n",
    "                          (e.g., {r: sqrt(x**2 + y**2), theta: atan2(y, x)}).\n",
    "\n",
    "    Returns:\n",
    "        Matrix: A SymPy Matrix representing the Jacobian matrix of the\n",
    "                transformation, which contains the partial derivatives of\n",
    "                the \"to\" coordinates with respect to the \"from\" coordinates.\n",
    "    Examples:\n",
    "    >>> r, theta = symbols(\"r, theta\", real=True)\n",
    "    >>> x, y = symbols(\"x, y\", real=True)\n",
    "    >>> print(jacobian(\n",
    "    ...    coords_from = {x:r*cos(theta), y:sin(theta)},\n",
    "    ...    coords_to = {r: sqrt(x**2 + y**2), theta:atan2(y,x)}\n",
    "    ... )) # doctest: +NORMALIZE_WHITESPACE\n",
    "    Matrix([[x/sqrt(x**2 + y**2), y/sqrt(x**2 + y**2)], [-y/(x**2 + y**2), x/(x**2 + y**2)]])\n",
    "\n",
    "    >>> print(jacobian(\n",
    "    ...    coords_from = {r: sqrt(x**2 + y**2), theta:atan2(y,x)},\n",
    "    ...    coords_to = {x: r*cos(theta), y:r*sin(theta)}\n",
    "    ... )) # doctest: +NORMALIZE_WHITESPACE\n",
    "    Matrix([[cos(theta), -r*sin(theta)], [sin(theta), r*cos(theta)]])\n",
    "\n",
    "\n",
    "    \"\"\"\n",
    "    result = [\n",
    "        z_expr.diff(coord_prime)\n",
    "        for z_expr in coords_to.values()\n",
    "        for coord_prime in coords_from.keys()\n",
    "    ]\n",
    "    return Matrix(len(coords_to), len(coords_to), result)"
   ]
  },
  {
   "cell_type": "markdown",
   "metadata": {},
   "source": [
    "## Video 6 Coordinate transformation\n",
    "\n",
    "![Coordinate transformation](./images/Coord-Transform-01.jpg)\n"
   ]
  },
  {
   "cell_type": "markdown",
   "metadata": {},
   "source": [
    "\n",
    "![Coordinate transformation](./images/Coord-Transform-02.jpg)\n",
    "\n",
    "\n",
    "* A coordinate  system called $Z$.\n",
    "* A generic coordinate system with coordinates $Z^1,Z^2 \\dots Z^n$ \n",
    "for an $n$ dimensional coordinate system\n",
    "* Indexes are in superscript position\n",
    "* A alternative coordinate  system called $Z^\\prime$.\n",
    "* A alternative generic coordinate system with coordinates $Z^{1^\\prime},Z^{2^\\prime} \\dots Z^{n^\\prime}$ \n",
    "* $Z^{i^\\prime} = Z^{i^\\prime}(Z)$ represents the set of equations defined above.\n",
    "    * $Z^{i^\\prime}$ is a function understood by the arguments that follow.\n",
    "    * $Z$ is understood as an argument list because of the context of a function\n",
    "\n",
    "![Video 6 notes](./images/video6_notes.jpg)\n"
   ]
  },
  {
   "cell_type": "markdown",
   "metadata": {},
   "source": [
    "## Video 7 Transformation examples\n"
   ]
  },
  {
   "cell_type": "markdown",
   "metadata": {},
   "source": [
    "### Polar coordinates\n",
    "\n",
    "![Polar coordinates](./images/polar-transform.jpg)\n",
    "\n",
    "<iframe src=\"https://www.geogebra.org/calculator/wt2s5dbj?embed\" width=\"700\" height=\"600\" allowfullscreen style=\"border: 1px solid #e4e4e4;border-radius: 4px;\" frameborder=\"0\"></iframe>\n",
    "\n",
    "\\begin{align*} \n",
    "    Z^{1^\\prime} &= x \\quad Z^{2^\\prime} = y \\\\\n",
    "    Z^{i^\\prime} &= Z^{i^\\prime}(Z) \n",
    "    \\begin{cases}\n",
    "        x = x(r, \\theta), \\; x = r \\cos \\theta \\\\\n",
    "        y = y(r, \\theta), \\; y = r \\sin \\theta  \\\\ \n",
    "    \\end{cases}\n",
    "    \\\\ \\\\\n",
    "\n",
    "    Z^{1} &= r \\quad Z^{2} = \\theta \\\\\n",
    "    Z^{i} &= Z^{i}(Z^\\prime) \n",
    "    \\begin{cases}\n",
    "        r = r(x, y), \\; r = \\sqrt{x^2 + y^2} \\\\\n",
    "        \\theta = \\theta(x, y), \\; \\theta = \\tan^{-1} \\frac{y}{x}  \\\\ \n",
    "    \\end{cases}\n",
    "    \\\\ \\\\\n",
    "    \n",
    "\\end{align*}\n"
   ]
  },
  {
   "cell_type": "markdown",
   "metadata": {},
   "source": [
    "### Cylindrical coordinates\n",
    "\n",
    "\\begin{align*} \n",
    "\n",
    "    Z^{1^\\prime} &= x \\quad Z^{2^\\prime} = y \\quad Z^{3^\\prime} = z\\\\\n",
    "    Z^{i^\\prime} &= Z^{i^\\prime}(Z) \n",
    "    \\begin{cases}\n",
    "        x = x(\\rho, \\theta, z), \\; x = \\rho \\cos \\theta \\\\\n",
    "        y = y(\\rho, \\theta, z), \\; y = \\rho \\sin \\theta  \\\\ \n",
    "        z = y(\\rho, \\theta, z), \\; z = z  \\\\ \n",
    "    \\end{cases}\n",
    "    \\\\ \\\\\n",
    "\n",
    "    Z^{1} &= r \\quad Z^{2} = \\theta \\quad Z^{3} = z \\\\\n",
    "    Z^{i} &= Z^{i}(Z^\\prime) \n",
    "    \\begin{cases}\n",
    "        \\rho = r(x, y, z), \\; \\rho = \\sqrt{x^2 + y^2} \\\\\n",
    "        \\theta = \\theta(x, y, z), \\; \\theta = \\tan^{-1} \\frac{y}{x}  \\\\ \n",
    "        z = z(x, y, z), \\; z = z  \\\\ \n",
    "    \\end{cases}\n",
    "\\end{align*}\n",
    "\n",
    "<iframe src=\"https://www.geogebra.org/3d/wkfbqdbk?embed\" \n",
    "width=\"850\" height=\"300\" allowfullscreen \n",
    "style=\"border: 1px solid #e4e4e4;border-radius: 4px;\" frameborder=\"0\">\n",
    "</iframe>"
   ]
  },
  {
   "cell_type": "markdown",
   "metadata": {},
   "source": [
    "### Spherical Coordinate\n",
    "\n",
    "<iframe src=\"https://www.geogebra.org/3d/x6xcxmz8?embed\" width=\"700\" height=\"400\" allowfullscreen style=\"border: 1px solid #e4e4e4;border-radius: 4px;\" frameborder=\"0\"></iframe>\n",
    "\n",
    "\\begin{align*} \n",
    "\n",
    "    Z^{1^\\prime} &= x \\quad Z^{2^\\prime} = y \\quad Z^{3^\\prime} = z\\\\\n",
    "    Z^{i^\\prime} &= Z^{i^\\prime}(Z) \n",
    "    \\begin{cases}\n",
    "        x = x(r, \\theta, \\phi), \\; x = r \\sin \\theta \\cos \\phi \\\\\n",
    "        y = y(r, \\theta, \\phi), \\; y = r \\sin \\theta \\sin \\phi  \\\\ \n",
    "        z = y(r, \\theta, \\phi), \\; z = \\cos \\phi  \\\\ \n",
    "    \\end{cases}\n",
    "    \\\\ \\\\\n",
    "\n",
    "    Z^{1} &= r \\quad Z^{2} = \\theta \\quad Z^{3} = \\phi \\\\\n",
    "    Z^{i} &= Z^{i}(Z^\\prime) \n",
    "    \\begin{cases} \n",
    "        r = r(x, y, z), \\; r = \\sqrt{x^2 + y^2 + z^2} \\\\\n",
    "        \\theta = \\theta(x, y, z), \\; \\displaystyle {\\theta = \\cos^{-1} \\frac{z}{ \\sqrt{x^2 + y^2 + z^2} }}  \\\\ \n",
    "        z = z(x, y, z), \\; \\phi = \\displaystyle{\\tan^{-1} \\frac{y}{z}}  \\\\ \n",
    "    \\end{cases}\n",
    "\\end{align*}\n"
   ]
  },
  {
   "cell_type": "markdown",
   "metadata": {},
   "source": [
    "### Affine Coordinates\n",
    "\n",
    "<iframe src=\"https://www.geogebra.org/calculator/vtyyyacv?embed\" width=\"800\" height=\"600\" allowfullscreen style=\"border: 1px solid #e4e4e4;border-radius: 4px;\" frameborder=\"0\"></iframe>\n",
    "\n",
    "\\begin{align*} \n",
    "\n",
    "    Z^{1^\\prime} &= x \\quad Z^{2^\\prime} = y \\\\\n",
    "    Z^{i^\\prime} &= Z^{i^\\prime}(Z) \n",
    "    \\begin{cases}\n",
    "        x = x(u, v), \\; x = a u + b \\cos (\\alpha) v \\\\\n",
    "        y = y(u, v), \\; y = b \\sin (\\alpha) v  \\\\ \n",
    "    \\end{cases}\n",
    "    \\\\ \\\\\n",
    "\n",
    "    Z^{1} &= u \\textrm{ scale of a} \\quad Z^{2} = v \\textrm{ scale of b} \\\\\n",
    "    Z^{i} &= Z^{i}(Z^\\prime) \n",
    "    \\begin{cases} \n",
    "        \\displaystyle{u = r(x, y), \\; u = \\frac{1}{a} x - \\frac{\\cos(\\alpha)}{a \\sin(\\alpha)}} y\\\\\n",
    "        \\displaystyle{v = r(x, y), \\; v = \\frac{1}{b \\sin(\\alpha)} y  }\n",
    "    \\end{cases}\n",
    "\\end{align*}\n"
   ]
  },
  {
   "cell_type": "markdown",
   "metadata": {},
   "source": [
    "## Video 8 Vector Differentiation\n",
    "\n",
    "* $s$ arc length along a curve from a fixed point $s_0$\n",
    "* $\\mathbf R(s)$ a vector function of $s$\n",
    "\n",
    "\\begin{align*} \n",
    "    \\frac{d \\mathbf{R}(s)}{ds} &= \\mathbf {\\hat s} \n",
    "    \\quad \\text{ tangent to the curve unit length} \\\\ \\\\\n",
    "\n",
    "    \\frac{d \\mathbf{R}(s(t))}{ds} &= \\frac{d s}{d t} \\mathbf {\\hat s} \n",
    "    \\quad  \\text{ tangent to the curve unit length } \\frac{d s}{d t}  \\\\ \\\\\n",
    "\n",
    "\\end{align*}\n"
   ]
  },
  {
   "cell_type": "markdown",
   "metadata": {},
   "source": [
    "## Video 9 Covariant Basis\n",
    "\n",
    "### No coordinate system\n",
    "\n",
    "![](./images/Tensor-Z-vidio9-tangent-curve.jpg)\n",
    "\n",
    "### Coordinates in $Z$\n",
    "\n",
    "* $Z$ the coordinate system\n",
    "* $Z^1$ is a component of point some point $s$  \n",
    "$Z^1$ is computed by evaluating the expression $Z^1(s)$ at a point along the arc \n",
    "* Similarly for $Z^2, Z^3$\n",
    "* Three functions with the arc length as a parameter\n",
    "* Derive the point in coordinate system $Z$ by the three functions\n",
    "\n",
    "\\begin{align*} \n",
    "    \\left.\n",
    "      \\begin{matrix}\n",
    "        Z^{1} = Z^{1}(s) \\\\\n",
    "        Z^{2} = Z^{2}(s) \\\\\n",
    "        Z^{3} = Z^{3}(s) \\\\    \n",
    "      \\end{matrix}\n",
    "    \\; \\right \\} Z^{i} = Z^{i}(s) \\quad \\text{tensor convention}\n",
    "\\end{align*}\n",
    "  \n",
    "* Use the above three functions to compute the coordinates of a point at\n",
    "a distance $s$ along the arc.\n",
    "* $ \\mathbf  R(s)$ is a vectorial function of $s$\n",
    "* From above it follows that  \n",
    "\\begin{align*} \n",
    "    s = (Z^{1}, Z^{2}, Z^{3}) \\rightarrow \\mathbf R(s) \n",
    "    &= \\underbrace{\\mathbf R(Z^{1}(s), Z^{2}(s), Z^{3}(s))}_{\\displaystyle{\\mathbf R(Z(s)) }} \\quad \n",
    "    \\raisebox{-1em}{\\text{tensor convention}}\n",
    "\\end{align*}\n",
    "  * Arguments inside a function with the superscript index suppressed implies an argument list\n",
    "* Differentiating $\\mathbf R(s)$ wrt $s$  \n",
    "\\begin{align*} \n",
    "        \\frac{d \\mathbf R}{d s} &= \n",
    "        \\underbrace{\\frac{\\partial \\mathbf R}{\\partial Z^1}\\frac{\\partial Z^1}{\\partial s} \n",
    "        + \\frac{\\partial \\mathbf R}{\\partial Z^2}\\frac{\\partial Z^2}{\\partial s} \n",
    "        + \\frac{\\partial \\mathbf R}{\\partial Z^3}\\frac{\\partial Z^3}{\\partial s}\n",
    "        }_{\\displaystyle{\\frac{\\partial \\mathbf R}{\\partial Z^i}\\frac{\\partial Z^i}{\\partial s}} }  \n",
    "        \\quad \\raisebox{-1em}{\\text{Einstein Summation Convention}}\\\\\n",
    "\\end{align*}\n",
    "*  Finally  \n",
    "\\begin{align*} \n",
    "  \\hat {\\mathbf s} = \\frac{d \\mathbf R}{d s} \n",
    "  =  \\frac{\\partial \\mathbf R}{\\partial Z^i}\\frac{\\partial Z^i}{\\partial s}\n",
    "\\end{align*}\n",
    "\n",
    "### Linear Combination\n",
    "\n",
    "\\begin{align*} \n",
    "   \\mathbf Z_i = \\underbrace{\\frac{\\partial \\mathbf  R}{\\partial Z^i}}_\n",
    "   {\\displaystyle \\text{ covariant basis vectors}} \\quad \\text{covariant basis}\n",
    "\\end{align*}\n",
    "\n",
    "Any vector can be expressed as a linear combination of covariant basis \n",
    "vectors. $$\\mathbf  V = V^i \\mathbf  Z_i$$\n",
    "\n",
    "![Video 9 Notes](./images/video9_notes.jpg)\n"
   ]
  },
  {
   "cell_type": "markdown",
   "metadata": {},
   "source": [
    "## Video 10 Covariant Basis Examples\n",
    "\n",
    "| Tangent | Length | Diagram |\n",
    "|:-------:|:-------:|:------:|\n",
    "| $\\frac{d \\mathbf  R}{d t}$ | Tangent's length $\\frac{d s}{d t}$ | ![](./images/Tensor-Z-vidio9-tangent-curve_A.jpg) |\n",
    "\n",
    "![](./images/Tensor-Z-vidio9-tangent-curve_B.jpg)\n",
    "\n",
    "* The coordinate basis line can be treated a a line as above $Z^1$, if all\n",
    "other coordinates are left constant.\n",
    "* So the  function $\\mathbf  R$ is a function of $Z^1$\n",
    "    * $\\mathbf R(Z^1)$\n",
    "\n",
    "\\begin{align*} \n",
    "    \\mathbf  Z_i = \\frac{\\partial \\mathbf  R}{\\partial Z_i}\n",
    "    \\begin{cases}\n",
    "        \\text{covariant basis vectors} \\\\\n",
    "        \\text{tangent to each coordinate line} \\\\\n",
    "        \\text{length of } \\frac{d s}{d t} \\\\\n",
    "    \\end{cases}\n",
    "\\end{align*}\n",
    "\n",
    "Coordinate basis vectors nearly always fall into two categories\n",
    "* Straight line \n",
    "* Circle\n",
    "\n",
    "\n",
    "### Straight Line\n",
    "\n",
    "\\begin{align*} \n",
    "    \\mathbf  Z_i = \\frac{\\partial \\mathbf  R}{\\partial Z_i}\n",
    "    \\begin{cases}\n",
    "        \\text{covariant basis vectors} \\\\\n",
    "        \\text{tangent to each coordinate line} \\\\\n",
    "        \\text{length of } \\frac{d s}{d t} \\\\\n",
    "    \\end{cases}\n",
    "\\end{align*}\n",
    "\n",
    "![](./images/Tensor-Z-vidio10-straightline1.jpg)\n",
    "\n",
    "For a coordinate line that is a straight line and the coordinate variable \n",
    "is $u$ The coordinate tangent vector must be tangent to the line then it \n",
    "must be along the line.\n",
    "\n",
    "For an affine system the distance $s$ along the axis must be $a u$ where\n",
    "$a$ is the scaling factor and the tangent length is $\\frac{d s }{d u} = a$. "
   ]
  },
  {
   "cell_type": "markdown",
   "metadata": {},
   "source": [
    "### Affine coordinates\n",
    "\n",
    "<iframe src=\"https://www.geogebra.org/calculator/egw3t9dh?embed\" width=\"800\" height=\"600\" allowfullscreen style=\"border: 1px solid #e4e4e4;border-radius: 4px;\" frameborder=\"0\"></iframe>\n",
    "\n",
    "![](./images/Tensor-Z-vidio10-affine1.jpg)"
   ]
  },
  {
   "cell_type": "markdown",
   "metadata": {},
   "source": [
    "### Polar Coordinates\n",
    "\n",
    "<iframe src=\"https://www.geogebra.org/calculator/vrjrjfg2?embed\" \n",
    "width=\"800\" height=\"600\" allowfullscreen \n",
    "style=\"border: 1px solid #e4e4e4;border-radius: 4px;\" \n",
    "frameborder=\"0\">\n",
    "</iframe>\n",
    "\n",
    "\n",
    "![](./images/Tensor-Z-vidio10-polar.jpg)"
   ]
  },
  {
   "cell_type": "markdown",
   "metadata": {},
   "source": [
    "### Cylindrical Coordinates\n",
    "\n",
    "<iframe src=\"https://www.geogebra.org/calculator/hekf64wq?embed\" \n",
    "width=\"800\" height=\"600\" allowfullscreen \n",
    "style=\"border: 1px solid #e4e4e4;border-radius: 4px;\" \n",
    "frameborder=\"0\">\n",
    "</iframe>\n",
    "\n",
    "\n",
    "![](./images/Tensor-Z-vidio10-cylindrical.jpg)"
   ]
  },
  {
   "cell_type": "markdown",
   "metadata": {},
   "source": [
    "## Video 11 - Vector Transformations\n",
    "\n",
    "\\begin{align*} \n",
    "   \\mathbf Z_i &= \\frac{\\partial \\mathbf  R}{\\partial Z^i} \\quad \\text{covariant basis} \\\\\n",
    "   Z &= Z^\\prime(Z) \\\\\\\\\n",
    "\n",
    "   \\mathbf  R(Z) &= \\mathbf  R(Z^\\prime(Z)) \\\\\n",
    "   \\frac {\\partial \\mathbf R} {\\partial Z^i} = \n",
    "      \\frac {\\partial \\mathbf R} {\\partial Z^{i^\\prime}}\n",
    "      \\frac {\\partial Z^{i^\\prime}} {\\partial Z^i} &\\rightarrow \n",
    "      \\mathbf Z_i = \\mathbf Z_{i^\\prime} \n",
    "         \\frac{\\partial Z_{i^\\prime} }{ \\partial Z^i} \\\\\\\\\n",
    "\n",
    "   J^{i^\\prime}_i &\\equiv \\frac{\\partial Z^{i^\\prime} }{ \\partial Z^i}\n",
    "      \\quad \\textrm{ Jacobian} \\\\\n",
    "   \\mathbf Z_i &= J^{i^\\prime}_i \\mathbf Z_{i^\\prime} \\\\\n",
    "   A_i &= J^{i^\\prime}_i A_{i^\\prime}\n",
    "\\end{align*}\n",
    "\n",
    "\n",
    "__Any__ object that translates according to the rule\n",
    "$ A_i = J^{i^\\prime}_i A_{i^\\prime} $  is called a \n",
    "__covariant transformation__. Covariant transformations are recognised\n",
    "by a lower subscript\n",
    "\n",
    "__The stand out result is__ $$\\mathbf Z_i = J^{i^\\prime}_i \\mathbf Z_{i^\\prime} $$\n",
    "\n",
    "\\begin{align*} \\\\\n",
    "   J^i_{i^\\prime} &= \\frac{ \\partial Z^i}{\\partial  Z^{i^\\prime}}\n",
    "      \\quad \\textrm{ Jacobian inverse} \\\\\\\\\n",
    "   A_{i^\\prime}  &= J^i_{i^\\prime} A_i \n",
    "      \\quad \\textrm{ Covariant transformation} \\\\\\\\\n",
    "\\end{align*}\n",
    "\n",
    "\\begin{align*} \n",
    "   \\mathbf V &= V^i \\mathbf Z_i = V^{i^\\prime} \\mathbf Z_{i^\\prime} = V^\n",
    "      {i^\\prime} (J^i_{i^\\prime} \\mathbf Z_i) \\\\\n",
    "      &\\rightarrow V^i = J^i_{i^\\prime} V^{i^\\prime} \\\\\\\\\n",
    "      A^i &= J_{i^\\prime}^i A^{i^\\prime} \n",
    "         \\quad \\textrm{ Contravariant transformation}\n",
    "\\end{align*}\n",
    "\n",
    "\n",
    "![](./images/tensor-Z-video-11-Transformations.jpg)"
   ]
  },
  {
   "cell_type": "markdown",
   "metadata": {},
   "source": [
    "## Video 12 - Vector Transformations Examples\n"
   ]
  },
  {
   "cell_type": "markdown",
   "metadata": {},
   "source": [
    "### Affine Transformation"
   ]
  },
  {
   "cell_type": "markdown",
   "metadata": {},
   "source": [
    "#### Cartesian\n",
    "\n",
    "\\begin{align*} \n",
    "\n",
    "    Z^{1^\\prime} &= x \\quad Z^{2^\\prime} = y \\\\\n",
    "    Z^{i^\\prime} &= Z^{i^\\prime}(Z) \n",
    "    \\begin{cases}\n",
    "        x = x(u, v), \\; x = a u + b \\cos (\\alpha) v \\\\\n",
    "        y = y(u, v), \\; y = b \\sin (\\alpha) v  \\\\ \n",
    "    \\end{cases}\n",
    "    \\\\ \\\\\n",
    "\n",
    "    J^{i^\\prime}_i &\\equiv \\frac{\\partial Z^{i^\\prime} }{ \\partial Z^i}\n",
    "      \\\\ \n",
    "    J^{i^\\prime}_i &= \n",
    "        \\begin{bmatrix}\n",
    "            \\frac{\\partial  Z^{1^\\prime}}{ \\partial Z^1} & \\frac{\\partial  Z^{1^\\prime}}{ \\partial Z^2} \\\\\n",
    "            \\frac{\\partial  Z^{2^\\prime}}{ \\partial Z^1} & \\frac{\\partial  Z^{2^\\prime}}{ \\partial Z^2}\n",
    "        \\end{bmatrix} \\\\\\\\\n",
    "    \n",
    "    \\mathbf Z_i &= J^{i^\\prime}_i \\mathbf Z_{i^\\prime}\n",
    "\\end{align*}\n"
   ]
  },
  {
   "cell_type": "code",
   "execution_count": 3,
   "metadata": {},
   "outputs": [
    {
     "data": {
      "text/latex": [
       "$\\displaystyle \\begin{equation}\\\\\\begin{split}\\\\J^\\prime(Z) &=\\left[\\begin{matrix}a & b \\cos{\\left(\\alpha \\right)}\\\\0 & b \\sin{\\left(\\alpha \\right)}\\end{matrix}\\right]\\\\ \\mathbf{\\hat{u}} &= \\mathbf{\\hat{x}} a, \\quad \\mathbf{\\hat{v}} = \\mathbf{\\hat{x}} b \\cos{\\left(\\alpha \\right)} + \\mathbf{\\hat{y}} b \\sin{\\left(\\alpha \\right)}\\\\\\nonumber\\end{split}\\\\\\end{equation}$"
      ],
      "text/plain": [
       "<IPython.core.display.Math object>"
      ]
     },
     "metadata": {},
     "output_type": "display_data"
    }
   ],
   "source": [
    "u, v = symbols(\"u, v\", real=True)\n",
    "a, b, alpha = symbols(\"a, b, alpha\", real=True)\n",
    "u_hat, v_hat = symbols(r\"\\mathbf{\\hat{u}}, \\mathbf{\\hat{v}}\")\n",
    "\n",
    "\n",
    "x, y = symbols(\"x, y\", real=True)\n",
    "x_hat, y_hat = symbols(r\"\\mathbf{\\hat{x}}, \\mathbf{\\hat{y}}\")\n",
    "\n",
    "j_upper_prime = jacobian(\n",
    "    coords_from={u: x/a - cos(alpha)/a*sin(alpha)*y, v: 1/(b*sin(alpha))*y},\n",
    "    coords_to={x: a*u + b*cos(alpha)*v , y: b*sin(alpha)*v},\n",
    ")\n",
    "\n",
    "base_vectors = Matrix([[x_hat, y_hat]]) * j_upper_prime\n",
    "\n",
    "affine_covariant_basis = [\n",
    "    r\"J^\\prime(Z) &=\" rf\"{latex(j_upper_prime)}\",\n",
    "    rf\"\"\" {latex(u_hat)} &= {latex(base_vectors[0])}, \\quad {latex(v_hat)} = {latex(base_vectors[1])}\"\"\",\n",
    "]\n",
    "\n",
    "print_aligned_latex_equations(*affine_covariant_basis)\n"
   ]
  },
  {
   "cell_type": "code",
   "execution_count": 4,
   "metadata": {},
   "outputs": [
    {
     "data": {
      "text/latex": [
       "$\\displaystyle \\begin{equation}\\\\\\begin{split}\\\\ J^\\prime(Z) &=\\left[\\begin{matrix}\\frac{1}{a} & - \\frac{\\sin{\\left(\\alpha \\right)} \\cos{\\left(\\alpha \\right)}}{a}\\\\0 & \\frac{1}{b \\sin{\\left(\\alpha \\right)}}\\end{matrix}\\right]\\\\ \\mathbf{\\hat{x}} &= \\frac{\\mathbf{\\hat{u}}}{a}, \\quad \n",
       "          \\mathbf{\\hat{y}} = - \\frac{\\mathbf{\\hat{u}} \\sin{\\left(\\alpha \\right)} \\cos{\\left(\\alpha \\right)}}{a} + \\frac{\\mathbf{\\hat{v}}}{b \\sin{\\left(\\alpha \\right)}}\\\\\\nonumber\\end{split}\\\\\\end{equation}$"
      ],
      "text/plain": [
       "<IPython.core.display.Math object>"
      ]
     },
     "metadata": {},
     "output_type": "display_data"
    }
   ],
   "source": [
    "u, v = symbols(\"u, v\", real=True)\n",
    "a, b, alpha = symbols(\"a, b, alpha\", real=True)\n",
    "u_hat, v_hat = symbols(r\"\\mathbf{\\hat{u}}, \\mathbf{\\hat{v}}\")\n",
    "\n",
    "x, y = symbols(\"x, y\", real=True)\n",
    "x_hat, y_hat = symbols(r\"\\mathbf{\\hat{x}}, \\mathbf{\\hat{y}}\")\n",
    "\n",
    "j = jacobian(\n",
    "    coords_to={u: x/a - cos(alpha)/a*sin(alpha)*y, v: 1/(b*sin(alpha))*y},\n",
    "    coords_from={x: a*u + b*cos(alpha)*v , y: b*sin(alpha)*v},\n",
    ")\n",
    "\n",
    "base_vectors = Matrix([[u_hat, v_hat]]) * j\n",
    "\n",
    "affine_covariant_basis = [\n",
    "    r\" J^\\prime(Z) &=\" rf\"{latex(j)}\",\n",
    "    rf\"\"\" {latex(x_hat)} &= {latex(base_vectors[0])}, \\quad \n",
    "          {latex(y_hat)} = {latex(base_vectors[1])}\"\"\",\n",
    "]\n",
    "\n",
    "print_aligned_latex_equations(*affine_covariant_basis)\n"
   ]
  },
  {
   "cell_type": "code",
   "execution_count": null,
   "metadata": {},
   "outputs": [],
   "source": []
  },
  {
   "cell_type": "markdown",
   "metadata": {},
   "source": [
    "### Polar Transformation\n",
    "\n",
    "#### Polar covariant basis\n",
    "\n",
    "\\begin{align*} \n",
    "    Z^{1^\\prime} &= x \\quad Z^{2^\\prime} = y \\\\\n",
    "    Z^{i^\\prime} &= Z^{i^\\prime}(Z) \n",
    "    \\begin{cases}\n",
    "        x = x(r, \\theta), \\; x = r \\cos \\theta \\\\\n",
    "        y = y(r, \\theta), \\; y = r \\sin \\theta  \\\\ \n",
    "    \\end{cases}\n",
    "    \\\\ \\\\\n",
    "\n",
    "    Z^{1} &= r \\quad Z^{2} = \\theta \\\\\n",
    "    Z^{i} &= Z^{i}(Z^\\prime) \n",
    "    \\begin{cases}\n",
    "        r = r(x, y), \\; r = \\sqrt{x^2 + y^2} \\\\\n",
    "        \\theta = \\theta(x, y), \\; \\theta = \\tan^{-1} \\frac{y}{x}  \\\\ \n",
    "    \\end{cases}\n",
    "    \\\\ \\\\\n",
    "    \n",
    "\\end{align*}\n",
    "\n",
    "\\begin{align*} \n",
    "    J^{i^\\prime}_i &\\equiv \\frac{ \\partial Z^{i^\\prime}}{\\partial Z^i }\n",
    "      \\\\ \n",
    "    J^{i^\\prime}_i  &= \n",
    "        \\begin{bmatrix}\n",
    "            \\frac{\\partial  Z^{1^\\prime}}{ \\partial Z^1} \n",
    "                & \\frac{\\partial  Z^{1^\\prime}}{ \\partial Z^2} \\\\\n",
    "            \\frac{\\partial  Z^{2^\\prime}}{ \\partial Z^1} \n",
    "               & \\frac{\\partial  Z^{2^\\prime}}{ \\partial Z^2}    \n",
    "        \\end{bmatrix}\\\\\\\\\n",
    "    \n",
    "    \\mathbf Z_i &= J^{i^\\prime}_i \\mathbf Z_{i^\\prime}\n",
    "\\end{align*} \n"
   ]
  },
  {
   "cell_type": "code",
   "execution_count": 5,
   "metadata": {},
   "outputs": [
    {
     "data": {
      "text/latex": [
       "$\\displaystyle \\begin{equation}\\\\\\begin{split}\\\\J^\\prime(Z) &=\\left[\\begin{matrix}\\cos{\\left(\\theta \\right)} & - r \\sin{\\left(\\theta \\right)}\\\\\\sin{\\left(\\theta \\right)} & r \\cos{\\left(\\theta \\right)}\\end{matrix}\\right]\\\\ \\mathbf Z_1 &= \\hat{x} \\cos{\\left(\\theta \\right)} + \\hat{y} \\sin{\\left(\\theta \\right)}, \\quad \n",
       "          \\mathbf Z_2 = - \\hat{x} r \\sin{\\left(\\theta \\right)} + \\hat{y} r \\cos{\\left(\\theta \\right)}\\\\\\nonumber\\end{split}\\\\\\end{equation}$"
      ],
      "text/plain": [
       "<IPython.core.display.Math object>"
      ]
     },
     "metadata": {},
     "output_type": "display_data"
    }
   ],
   "source": [
    "r, theta = symbols(\"r, theta\", real=True)\n",
    "x, y = symbols(\"x, y\", real=True)\n",
    "x_hat, y_hat = symbols(r\"\\hat{x}, \\hat{y}\")\n",
    "\n",
    "j_upper_prime = jacobian(\n",
    "    coords_from={r: x * cos(theta), theta: atan2(y, x)},\n",
    "    coords_to={x: r * cos(theta), y: r * sin(theta)},\n",
    ")\n",
    "\n",
    "base_vectors = Matrix([[x_hat, y_hat]]) * j_upper_prime\n",
    "\n",
    "polar_covariant_basis = [\n",
    "    r\"J^\\prime(Z) &=\" rf\"{latex(j_upper_prime)}\",\n",
    "    rf\"\"\" \\mathbf Z_1 &= {latex(base_vectors[0])}, \\quad \n",
    "          \\mathbf Z_2 = {latex(base_vectors[1])}\"\"\",\n",
    "]\n",
    "\n",
    "print_aligned_latex_equations(*polar_covariant_basis)\n"
   ]
  },
  {
   "cell_type": "markdown",
   "metadata": {},
   "source": [
    "#### Cartesian covariant basis\n",
    "\n",
    "\\begin{align*} \n",
    "    Z^{1^\\prime} &= x \\quad Z^{2^\\prime} = y \\\\\n",
    "    Z^{1} &= r \\quad Z^{2} = \\theta \\\\\n",
    "    Z^{i} &= Z^{i}(Z^\\prime) \n",
    "    \\begin{cases}\n",
    "        r = r(x, y), \\; r = \\sqrt{x^2 + y^2} \\\\\n",
    "        \\theta = \\theta(x, y), \\; \\theta = \\tan^{-1} \\frac{y}{x}  \\\\ \n",
    "    \\end{cases}\n",
    "    \\\\ \\\\\n",
    "    \n",
    "\\end{align*}\n",
    "\n",
    "\\begin{align*} \n",
    "    J_{i^\\prime}^i &\\equiv \\frac{\\partial Z^i }{ \\partial Z^{i^\\prime}}\n",
    "      \\\\ \n",
    "    J^i_{i^\\prime}  &= \n",
    "        \\begin{bmatrix}\n",
    "            \\frac{\\partial  Z^1}{ \\partial Z^{1^\\prime} } \n",
    "                & \\frac{\\partial  Z^1}{ \\partial Z^{2^\\prime}} \\\\\n",
    "            \\frac{\\partial  Z^{2}}{ \\partial Z^{1^\\prime}} \n",
    "               & \\frac{\\partial  Z^{2}}{ \\partial Z^{2^\\prime}}    \n",
    "        \\end{bmatrix}\\\\\\\\\n",
    "    \n",
    "    \\mathbf Z_{i^\\prime}  &= J_{i^\\prime}^i \\mathbf Z_i \n",
    "\\end{align*} \n"
   ]
  },
  {
   "cell_type": "code",
   "execution_count": 6,
   "metadata": {},
   "outputs": [
    {
     "data": {
      "text/latex": [
       "$\\displaystyle \\begin{equation}\\\\\\begin{split}\\\\J(Z^\\prime) &=\\left[\\begin{matrix}\\frac{x}{\\sqrt{x^{2} + y^{2}}} & \\frac{y}{\\sqrt{x^{2} + y^{2}}}\\\\- \\frac{y}{x^{2} + y^{2}} & \\frac{x}{x^{2} + y^{2}}\\end{matrix}\\right]\\\\ \\mathbf {\\hat x} &= - \\frac{\\hat{\\theta} y}{x^{2} + y^{2}} + \\frac{\\hat{r} x}{\\sqrt{x^{2} + y^{2}}}, \\quad\\mathbf {\\hat y} =\\frac{\\hat{\\theta} x}{x^{2} + y^{2}} + \\frac{\\hat{r} y}{\\sqrt{x^{2} + y^{2}}}\\\\\\nonumber\\end{split}\\\\\\end{equation}$"
      ],
      "text/plain": [
       "<IPython.core.display.Math object>"
      ]
     },
     "metadata": {},
     "output_type": "display_data"
    }
   ],
   "source": [
    "r, theta = symbols(\"r, theta\", real=True)\n",
    "x, y = symbols(\"x, y\", real=True)\n",
    "r_hat, theta_hat = symbols(r\"\\hat{r}, \\hat{\\theta}\")\n",
    "\n",
    "j = jacobian(\n",
    "    coords_from={x: r * cos(theta), y: r * sin(theta)},\n",
    "    coords_to={r: sqrt(x**2 + y**2), theta: atan2(y, x)},\n",
    ")\n",
    "\n",
    "base_vectors = Matrix([[r_hat, theta_hat]]) * j\n",
    "\n",
    "cartesian_polar_covariant_basis = [\n",
    "    r\"J(Z^\\prime) &=\" rf\"{latex(j)}\",\n",
    "    r\" \\mathbf {\\hat x} &= \"\n",
    "    rf\"{latex(base_vectors[0])}, \\quad\"\n",
    "    r\"\\mathbf {\\hat y} =\"\n",
    "    rf\"{latex(base_vectors[1])}\",\n",
    "]\n",
    "\n",
    "print_aligned_latex_equations(*cartesian_polar_covariant_basis)\n"
   ]
  },
  {
   "cell_type": "markdown",
   "metadata": {},
   "source": [
    "### Cylindrical Transformation\n",
    "\n",
    "\\begin{align*} \n",
    "\n",
    "    Z^{1^\\prime} &= x \\quad Z^{2^\\prime} = y \\quad Z^{3^\\prime} = z\\\\\n",
    "    Z^{i^\\prime} &= Z^{i^\\prime}(Z) \n",
    "    \\begin{cases}\n",
    "        x = x(\\rho, \\theta, z), \\; x = \\rho \\cos \\theta \\\\\n",
    "        y = y(\\rho, \\theta, z), \\; y = \\rho \\sin \\theta  \\\\ \n",
    "        z = y(\\rho, \\theta, z), \\; z = z  \\\\ \n",
    "    \\end{cases}\n",
    "    \\\\ \\\\\n",
    "\n",
    "    Z^{1} &= r \\quad Z^{2} = \\theta \\quad Z^{3} = z \\\\\n",
    "    Z^{i} &= Z^{i}(Z^\\prime) \n",
    "    \\begin{cases}\n",
    "        \\rho = r(x, y, z), \\; \\rho = \\sqrt{x^2 + y^2} \\\\\n",
    "        \\theta = \\theta(x, y, z), \\; \\theta = \\tan^{-1} \\frac{y}{x}  \\\\ \n",
    "        z = z(x, y, z), \\; z = z  \\\\ \n",
    "    \\end{cases}\n",
    "\\end{align*}\n",
    "\n",
    "\n",
    "\\begin{align*} \n",
    "    J^{i^\\prime}_i &\\equiv \\frac{ \\partial Z^{i^\\prime}}{\\partial Z^i }\n",
    "      \\\\ \n",
    "    J_i^{i^\\prime}  &= \n",
    "        \\begin{bmatrix}\n",
    "            \\frac{\\partial  Z^{1^\\prime}}{ \\partial Z^1} \n",
    "                & \\frac{\\partial  Z^{1^\\prime}}{ \\partial Z^3} \n",
    "                & \\frac{\\partial  Z^{1^\\prime}}{ \\partial Z^2} \\\\\n",
    "            \\frac{\\partial  Z^{2^\\prime}}{ \\partial Z^1} \n",
    "               & \\frac{\\partial  Z^{2^\\prime}}{ \\partial Z^2} \n",
    "                & \\frac{\\partial  Z^{2^\\prime}}{ \\partial Z^3} \\\\\n",
    "            \\frac{\\partial  Z^{3^\\prime}}{ \\partial Z^1} \n",
    "                & \\frac{\\partial  Z^{3^\\prime}}{ \\partial Z^2} \n",
    "                & \\frac{\\partial  Z^{3^\\prime}}{ \\partial Z^3} \\\\\n",
    "   \n",
    "        \\end{bmatrix}\\\\\\\\\n",
    "    \n",
    "    \\mathbf Z_i &= J^{i^\\prime}_i \\mathbf Z_{i^\\prime}\n",
    "\\end{align*} \n"
   ]
  },
  {
   "cell_type": "code",
   "execution_count": 7,
   "metadata": {},
   "outputs": [
    {
     "data": {
      "text/latex": [
       "$\\displaystyle \\begin{equation}\\\\\\begin{split}\\\\J^\\prime(Z) &=\\left[\\begin{matrix}\\cos{\\left(\\psi \\right)} & - \\rho \\sin{\\left(\\psi \\right)} & 0\\\\\\sin{\\left(\\psi \\right)} & \\rho \\cos{\\left(\\psi \\right)} & 0\\\\0 & 0 & 1\\end{matrix}\\right]\\\\ \\hat{\\rho} &= \\hat{x} \\cos{\\left(\\psi \\right)} + \\hat{y} \\sin{\\left(\\psi \\right)}, \\quad \n",
       "          \\hat{\\psi}= - \\hat{x} \\rho \\sin{\\left(\\psi \\right)} + \\hat{y} \\rho \\cos{\\left(\\psi \\right)}, \\quad\n",
       "          \\hat{z}= \\hat{z}\\\\\\nonumber\\end{split}\\\\\\end{equation}$"
      ],
      "text/plain": [
       "<IPython.core.display.Math object>"
      ]
     },
     "metadata": {},
     "output_type": "display_data"
    }
   ],
   "source": [
    "rho, psi = symbols(\"rho, psi\", real=True)\n",
    "x, y, z = symbols(\"x, y, z\", real=True)\n",
    "x_hat, y_hat, z_hat = symbols(r\"\\hat{x}, \\hat{y}, \\hat{z}\")\n",
    "rho_hat, psi_hat = symbols(r\"\\hat{\\rho}, \\hat{\\psi}\")\n",
    "\n",
    "j_upper_prime = jacobian(\n",
    "    coords_from={rho: sqrt(x**2+y**2), psi: atan2(y, x), z:z},\n",
    "    coords_to={x: rho * cos(psi), y: rho*sin(psi), z: z},\n",
    ")\n",
    "\n",
    "base_vectors = Matrix([[x_hat, y_hat, z_hat]]) * j_upper_prime\n",
    "\n",
    "cylindrical_covariant_basis = [\n",
    "    r\"J^\\prime(Z) &=\" rf\"{latex(j_upper_prime)}\",\n",
    "    rf\"\"\" {latex(rho_hat)} &= {latex(base_vectors[0])}, \\quad \n",
    "          {latex(psi_hat)}= {latex(base_vectors[1])}, \\quad\n",
    "          {latex(z_hat)}= {latex(base_vectors[2])}\"\"\"\n",
    "]\n",
    "\n",
    "print_aligned_latex_equations(*cylindrical_covariant_basis)\n"
   ]
  },
  {
   "cell_type": "code",
   "execution_count": 8,
   "metadata": {},
   "outputs": [
    {
     "data": {
      "text/latex": [
       "$\\displaystyle \\begin{equation}\\\\\\begin{split}\\\\J(Z^\\prime) &=\\left[\\begin{matrix}\\frac{x}{\\sqrt{x^{2} + y^{2}}} & \\frac{y}{\\sqrt{x^{2} + y^{2}}} & 0\\\\- \\frac{y}{x^{2} + y^{2}} & \\frac{x}{x^{2} + y^{2}} & 0\\\\0 & 0 & 1\\end{matrix}\\right]\\\\ \\hat{x} &= - \\frac{\\hat{\\psi} y}{x^{2} + y^{2}} + \\frac{\\hat{\\rho} x}{\\sqrt{x^{2} + y^{2}}}, \\quad \n",
       "          \\hat{y}= \\frac{\\hat{\\psi} x}{x^{2} + y^{2}} + \\frac{\\hat{\\rho} y}{\\sqrt{x^{2} + y^{2}}}, \\quad\n",
       "          \\hat{z}= \\hat{z}\\\\\\nonumber\\end{split}\\\\\\end{equation}$"
      ],
      "text/plain": [
       "<IPython.core.display.Math object>"
      ]
     },
     "metadata": {},
     "output_type": "display_data"
    }
   ],
   "source": [
    "rho, psi = symbols(\"rho, psi\", real=True)\n",
    "x, y, z = symbols(\"x, y, z\", real=True)\n",
    "x_hat, y_hat, z_hat = symbols(r\"\\hat{x}, \\hat{y}, \\hat{z}\")\n",
    "rho_hat, psi_hat = symbols(r\"\\hat{\\rho}, \\hat{\\psi}\")\n",
    "\n",
    "j_upper_prime = jacobian(\n",
    "    coords_to={rho: sqrt(x**2+y**2), psi: atan2(y, x), z:z},\n",
    "    coords_from={x: rho * cos(psi), y: rho*sin(psi), z: z},\n",
    ")\n",
    "\n",
    "base_vectors = Matrix([[rho_hat, psi_hat, z_hat]]) * j_upper_prime\n",
    "\n",
    "cylindrical_covariant_basis = [\n",
    "    r\"J(Z^\\prime) &=\" rf\"{latex(j_upper_prime)}\",\n",
    "    rf\"\"\" {latex(x_hat)} &= {latex(base_vectors[0])}, \\quad \n",
    "          {latex(y_hat)}= {latex(base_vectors[1])}, \\quad\n",
    "          {latex(z_hat)}= {latex(base_vectors[2])}\"\"\"\n",
    "]\n",
    "\n",
    "print_aligned_latex_equations(*cylindrical_covariant_basis)\n"
   ]
  },
  {
   "cell_type": "markdown",
   "metadata": {},
   "source": [
    "### Spherical Transformation\n",
    "\n",
    "\\begin{align*} \n",
    "\n",
    "    Z^{1^\\prime} &= x \\quad Z^{2^\\prime} = y \\quad Z^{3^\\prime} = z\\\\\n",
    "    Z^{i^\\prime} &= Z^{i^\\prime}(Z) \n",
    "    \\begin{cases}\n",
    "        x = x(r, \\theta, \\phi), \\; x = r \\sin \\theta \\cos \\phi \\\\\n",
    "        y = y(r, \\theta, \\phi), \\; y = r \\sin \\theta \\sin \\phi  \\\\ \n",
    "        z = y(r, \\theta, \\phi), \\; z = \\cos \\phi  \\\\ \n",
    "    \\end{cases}\n",
    "    \\\\ \\\\\n",
    "\n",
    "    Z^{1} &= r \\quad Z^{2} = \\theta \\quad Z^{3} = \\phi \\\\\n",
    "    Z^{i} &= Z^{i}(Z^\\prime) \n",
    "    \\begin{cases} \n",
    "        r = r(x, y, z), \\; r = \\sqrt{x^2 + y^2 + z^2} \\\\\n",
    "        \\theta = \\theta(x, y, z), \\; \\displaystyle {\\theta = \\cos^{-1} \\frac{z}{ \\sqrt{x^2 + y^2 + z^2} }}  \\\\ \n",
    "        z = z(x, y, z), \\; \\phi = \\displaystyle{\\tan^{-1} \\frac{y}{z}}  \\\\ \n",
    "    \\end{cases}\n",
    "\\end{align*}\n",
    "\n",
    "\\begin{align*} \n",
    "    J^{i^\\prime}_i &\\equiv \\frac{ \\partial Z^{i^\\prime}}{\\partial Z^i }\n",
    "      \\\\ \n",
    "    J_i^{i^\\prime}  &= \n",
    "        \\begin{bmatrix}\n",
    "            \\frac{\\partial  Z^{1^\\prime}}{ \\partial Z^1} \n",
    "                & \\frac{\\partial  Z^{1^\\prime}}{ \\partial Z^2} \n",
    "                & \\frac{\\partial  Z^{1^\\prime}}{ \\partial Z^3} \\\\\n",
    "            \\frac{\\partial  Z^{2^\\prime}}{ \\partial Z^1} \n",
    "               & \\frac{\\partial  Z^{2^\\prime}}{ \\partial Z^2} \n",
    "                & \\frac{\\partial  Z^{2^\\prime}}{ \\partial Z^3} \\\\\n",
    "            \\frac{\\partial  Z^{3^\\prime}}{ \\partial Z^1} \n",
    "                & \\frac{\\partial  Z^{3^\\prime}}{ \\partial Z^2} \n",
    "                & \\frac{\\partial  Z^{3^\\prime}}{ \\partial Z^3} \\\\\n",
    "   \n",
    "        \\end{bmatrix}\\\\\\\\\n",
    "    \n",
    "    \\mathbf Z_i &= J^{i^\\prime}_i \\mathbf Z_{i^\\prime}\n",
    "\\end{align*} \n",
    "\n"
   ]
  },
  {
   "cell_type": "code",
   "execution_count": 9,
   "metadata": {},
   "outputs": [
    {
     "data": {
      "text/latex": [
       "$\\displaystyle \\begin{equation}\\\\\\begin{split}\\\\J^\\prime(Z) &=\\left[\\begin{matrix}\\sin{\\left(\\theta \\right)} \\cos{\\left(\\psi \\right)} & r \\cos{\\left(\\psi \\right)} \\cos{\\left(\\theta \\right)} & - r \\sin{\\left(\\psi \\right)} \\sin{\\left(\\theta \\right)}\\\\\\sin{\\left(\\psi \\right)} \\sin{\\left(\\theta \\right)} & r \\sin{\\left(\\psi \\right)} \\cos{\\left(\\theta \\right)} & r \\sin{\\left(\\theta \\right)} \\cos{\\left(\\psi \\right)}\\\\\\cos{\\left(\\theta \\right)} & - r \\sin{\\left(\\theta \\right)} & 0\\end{matrix}\\right]\\\\\\hat{r} &= \\hat{x} \\sin{\\left(\\theta \\right)} \\cos{\\left(\\psi \\right)} + \\hat{y} \\sin{\\left(\\psi \\right)} \\sin{\\left(\\theta \\right)} + \\hat{z} \\cos{\\left(\\theta \\right)}, \\quad\\hat{\\theta}= \\hat{x} r \\cos{\\left(\\psi \\right)} \\cos{\\left(\\theta \\right)} + \\hat{y} r \\sin{\\left(\\psi \\right)} \\cos{\\left(\\theta \\right)} - \\hat{z} r \\sin{\\left(\\theta \\right)}, \\quad\\hat{\\psi}= - \\hat{x} r \\sin{\\left(\\psi \\right)} \\sin{\\left(\\theta \\right)} + \\hat{y} r \\sin{\\left(\\theta \\right)} \\cos{\\left(\\psi \\right)}\\\\\\nonumber\\end{split}\\\\\\end{equation}$"
      ],
      "text/plain": [
       "<IPython.core.display.Math object>"
      ]
     },
     "metadata": {},
     "output_type": "display_data"
    }
   ],
   "source": [
    "rho, theta, psi = symbols(\"r, theta, psi\", real=True)\n",
    "x, y, z = symbols(\"x, y, z\", real=True)\n",
    "x_hat, y_hat, z_hat = symbols(r\"\\hat{x}, \\hat{y}, \\hat{z}\")\n",
    "r_hat, theta_hat, psi_hat = symbols(r\"\\hat{r}, \\hat{\\theta}, \\hat{\\psi}\")\n",
    "\n",
    "j_upper_prime = jacobian(\n",
    "    coords_from={\n",
    "        r: sqrt(x**2+y**2+z**2), \n",
    "        theta:acos(z/sqrt(x**2+y**2+z**2)), \n",
    "        psi: atan2(y, x)},\n",
    "    coords_to={\n",
    "        x: r*sin(theta)*cos(psi), \n",
    "        y: r*sin(theta)*sin(psi), \n",
    "        z: r*cos(theta)}\n",
    ")\n",
    "\n",
    "base_vectors = Matrix([[x_hat, y_hat, z_hat]]) * j_upper_prime\n",
    "\n",
    "spherical_coordinate_basis = [\n",
    "    r\"J^\\prime(Z) &=\" rf\"{latex(j_upper_prime)}\",\n",
    "    rf\"{latex(r_hat)} &= {latex(base_vectors[0])}, \\quad\" \n",
    "    rf\"{latex(theta_hat)}= {latex(base_vectors[1])}, \\quad\"\n",
    "    rf\"{latex(psi_hat)}= {latex(base_vectors[2])}\"\n",
    "]\n",
    "\n",
    "print_aligned_latex_equations(*spherical_coordinate_basis)\n"
   ]
  },
  {
   "cell_type": "code",
   "execution_count": 10,
   "metadata": {},
   "outputs": [
    {
     "data": {
      "text/latex": [
       "$\\displaystyle \\begin{equation}\\\\\\begin{split}\\\\J(Z^\\prime) &=\\left[\\begin{matrix}\\frac{x}{\\sqrt{x^{2} + y^{2} + z^{2}}} & \\frac{y}{\\sqrt{x^{2} + y^{2} + z^{2}}} & \\frac{z}{\\sqrt{x^{2} + y^{2} + z^{2}}}\\\\\\frac{x z}{\\sqrt{x^{2} + y^{2}} \\left(x^{2} + y^{2} + z^{2}\\right)} & \\frac{y z}{\\sqrt{x^{2} + y^{2}} \\left(x^{2} + y^{2} + z^{2}\\right)} & - \\frac{\\sqrt{x^{2} + y^{2}}}{x^{2} + y^{2} + z^{2}}\\\\- \\frac{y}{x^{2} + y^{2}} & \\frac{x}{x^{2} + y^{2}} & 0\\end{matrix}\\right]\\\\\\hat{r} &= - \\frac{\\hat{\\psi} y}{x^{2} + y^{2}} + \\frac{\\hat{\\theta} x z}{\\sqrt{x^{2} + y^{2}} \\left(x^{2} + y^{2} + z^{2}\\right)} + \\frac{\\hat{r} x}{\\sqrt{x^{2} + y^{2} + z^{2}}}, \\quad\\hat{\\theta}= \\frac{\\hat{\\psi} x}{x^{2} + y^{2}} + \\frac{\\hat{\\theta} y z}{\\sqrt{x^{2} + y^{2}} \\left(x^{2} + y^{2} + z^{2}\\right)} + \\frac{\\hat{r} y}{\\sqrt{x^{2} + y^{2} + z^{2}}}, \\quad\\hat{\\psi}= - \\frac{\\hat{\\theta} \\sqrt{x^{2} + y^{2}}}{x^{2} + y^{2} + z^{2}} + \\frac{\\hat{r} z}{\\sqrt{x^{2} + y^{2} + z^{2}}}\\\\\\nonumber\\end{split}\\\\\\end{equation}$"
      ],
      "text/plain": [
       "<IPython.core.display.Math object>"
      ]
     },
     "metadata": {},
     "output_type": "display_data"
    }
   ],
   "source": [
    "rho, theta, psi = symbols(\"r, theta, psi\", real=True)\n",
    "x, y, z = symbols(\"x, y, z\", real=True)\n",
    "x_hat, y_hat, z_hat = symbols(r\"\\hat{x}, \\hat{y}, \\hat{z}\")\n",
    "r_hat, theta_hat, psi_hat = symbols(r\"\\hat{r}, \\hat{\\theta}, \\hat{\\psi}\")\n",
    "\n",
    "j = jacobian(\n",
    "    coords_to={\n",
    "        r: sqrt(x**2+y**2+z**2), \n",
    "        theta:acos(z/sqrt(x**2+y**2+z**2)), \n",
    "        psi: atan2(y, x)},\n",
    "    coords_from={\n",
    "        x: r*sin(theta)*cos(psi), \n",
    "        y: r*sin(theta)*sin(psi), \n",
    "        z: r*cos(theta)}\n",
    ").applyfunc(simplify)\n",
    "\n",
    "base_vectors = Matrix([[r_hat, theta_hat, psi_hat]]) * j\n",
    "\n",
    "cartesian_spherical_coordinate_basis = [\n",
    "    r\"J(Z^\\prime) &=\" rf\"{latex(j)}\",\n",
    "    rf\"{latex(r_hat)} &= {latex(base_vectors[0])}, \\quad\" \n",
    "    rf\"{latex(theta_hat)}= {latex(base_vectors[1])}, \\quad\"\n",
    "    rf\"{latex(psi_hat)}= {latex(base_vectors[2])}\"\n",
    "]\n",
    "\n",
    "print_aligned_latex_equations(*cartesian_spherical_coordinate_basis)\n"
   ]
  },
  {
   "cell_type": "code",
   "execution_count": 11,
   "metadata": {},
   "outputs": [
    {
     "data": {
      "text/latex": [
       "$\\displaystyle \\begin{equation}\\\\\\begin{split}\\\\J^\\prime(Z) &=\\left[\\begin{matrix}\\frac{x}{\\sqrt{x^{2} + y^{2} + z^{2}}} & \\frac{y}{\\sqrt{x^{2} + y^{2} + z^{2}}} & \\frac{z}{\\sqrt{x^{2} + y^{2} + z^{2}}}\\\\\\frac{x z}{\\sqrt{- \\frac{z^{2}}{x^{2} + y^{2} + z^{2}} + 1} \\left(x^{2} + y^{2} + z^{2}\\right)^{\\frac{3}{2}}} & \\frac{y z}{\\sqrt{- \\frac{z^{2}}{x^{2} + y^{2} + z^{2}} + 1} \\left(x^{2} + y^{2} + z^{2}\\right)^{\\frac{3}{2}}} & - \\frac{- \\frac{z^{2}}{\\left(x^{2} + y^{2} + z^{2}\\right)^{\\frac{3}{2}}} + \\frac{1}{\\sqrt{x^{2} + y^{2} + z^{2}}}}{\\sqrt{- \\frac{z^{2}}{x^{2} + y^{2} + z^{2}} + 1}}\\\\- \\frac{y}{x^{2} + y^{2}} & \\frac{x}{x^{2} + y^{2}} & 0\\end{matrix}\\right]\\\\\\hat{r} &= \\frac{\\hat{x} x}{\\sqrt{x^{2} + y^{2} + z^{2}}} + \\frac{\\hat{y} x z}{\\sqrt{- \\frac{z^{2}}{x^{2} + y^{2} + z^{2}} + 1} \\left(x^{2} + y^{2} + z^{2}\\right)^{\\frac{3}{2}}} - \\frac{\\hat{z} y}{x^{2} + y^{2}}, \\quad\\hat{\\theta}= \\frac{\\hat{x} y}{\\sqrt{x^{2} + y^{2} + z^{2}}} + \\frac{\\hat{y} y z}{\\sqrt{- \\frac{z^{2}}{x^{2} + y^{2} + z^{2}} + 1} \\left(x^{2} + y^{2} + z^{2}\\right)^{\\frac{3}{2}}} + \\frac{\\hat{z} x}{x^{2} + y^{2}}, \\quad\\hat{\\psi}= \\frac{\\hat{x} z}{\\sqrt{x^{2} + y^{2} + z^{2}}} - \\frac{\\hat{y} \\left(- \\frac{z^{2}}{\\left(x^{2} + y^{2} + z^{2}\\right)^{\\frac{3}{2}}} + \\frac{1}{\\sqrt{x^{2} + y^{2} + z^{2}}}\\right)}{\\sqrt{- \\frac{z^{2}}{x^{2} + y^{2} + z^{2}} + 1}}\\\\\\nonumber\\end{split}\\\\\\end{equation}$"
      ],
      "text/plain": [
       "<IPython.core.display.Math object>"
      ]
     },
     "metadata": {},
     "output_type": "display_data"
    }
   ],
   "source": [
    "rho, theta, psi = symbols(\"r, theta, psi\", real=True)\n",
    "x, y, z = symbols(\"x, y, z\", real=True)\n",
    "x_hat, y_hat, z_hat = symbols(r\"\\hat{x}, \\hat{y}, \\hat{z}\")\n",
    "r_hat, theta_hat, psi_hat = symbols(r\"\\hat{r}, \\hat{\\theta}, \\hat{\\psi}\")\n",
    "\n",
    "j_upper_prime = jacobian(\n",
    "    coords_to={\n",
    "        r: sqrt(x**2+y**2+z**2), \n",
    "        theta:acos(z/sqrt(x**2+y**2+z**2)), \n",
    "        psi: atan2(y, x)},\n",
    "    coords_from={\n",
    "        x: r*sin(theta)*cos(psi), \n",
    "        y: r*sin(theta)*sin(psi), \n",
    "        z: r*cos(theta)}\n",
    ")\n",
    "\n",
    "base_vectors = Matrix([[x_hat, y_hat, z_hat]]) * j_upper_prime\n",
    "\n",
    "spherical_coordinate_basis = [\n",
    "    r\"J^\\prime(Z) &=\" rf\"{latex(j_upper_prime)}\",\n",
    "    rf\"{latex(r_hat)} &= {latex(base_vectors[0])}, \\quad\" \n",
    "    rf\"{latex(theta_hat)}= {latex(base_vectors[1])}, \\quad\"\n",
    "    rf\"{latex(psi_hat)}= {latex(base_vectors[2])}\"\n",
    "]\n",
    "\n",
    "print_aligned_latex_equations(*spherical_coordinate_basis)\n"
   ]
  },
  {
   "cell_type": "markdown",
   "metadata": {},
   "source": [
    "## Video 13 - Kronecker Delta"
   ]
  },
  {
   "cell_type": "code",
   "execution_count": 12,
   "metadata": {},
   "outputs": [
    {
     "data": {
      "text/plain": [
       "TestResults(failed=0, attempted=4)"
      ]
     },
     "execution_count": 12,
     "metadata": {},
     "output_type": "execute_result"
    }
   ],
   "source": [
    "import doctest\n",
    "\n",
    "doctest.testmod(verbose=False)\n"
   ]
  }
 ],
 "metadata": {
  "kernelspec": {
   "display_name": "sympy",
   "language": "python",
   "name": "python3"
  },
  "language_info": {
   "codemirror_mode": {
    "name": "ipython",
    "version": 3
   },
   "file_extension": ".py",
   "mimetype": "text/x-python",
   "name": "python",
   "nbconvert_exporter": "python",
   "pygments_lexer": "ipython3",
   "version": "3.10.10"
  }
 },
 "nbformat": 4,
 "nbformat_minor": 2
}
