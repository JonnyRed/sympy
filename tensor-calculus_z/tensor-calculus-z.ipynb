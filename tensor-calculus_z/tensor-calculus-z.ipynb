{
 "cells": [
  {
   "cell_type": "markdown",
   "metadata": {},
   "source": [
    "## Video 6 Coordinate transformation\n",
    "\n",
    "![Coordinate transformation](./images/Coord-Transform-01.jpg)\n",
    "![Coordinate transformation](./images/Coord-Transform-02.jpg)\n",
    "\n",
    "\n",
    "* A coordinate  system called $Z$.\n",
    "* A generic coordinate system with coordinates $Z^1,Z^1 \\dots Z^n$ \n",
    "for an $n$ dimensional coordinate system\n",
    "* Indexes are in superscript position\n",
    "* A alternative coordinate  system called $Z^\\prime$.\n",
    "* A alternative generic coordinate system with coordinates $Z^{1^\\prime},Z^{1^\\prime} \\dots Z^{n^\\prime}$ \n",
    "* $Z^{i^\\prime} = Z^{i^\\prime}(Z)$ represents the set of equations defined above.\n",
    "    * $Z^{i^\\prime}$ is a function understood by the arguments that follow.\n",
    "    * $Z$ is understood as an argument list because of the context of a function\n"
   ]
  },
  {
   "cell_type": "markdown",
   "metadata": {},
   "source": [
    "## Video 7 Transformation examples"
   ]
  }
 ],
 "metadata": {
  "language_info": {
   "name": "python"
  }
 },
 "nbformat": 4,
 "nbformat_minor": 2
}
